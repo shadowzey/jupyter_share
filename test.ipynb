{
 "cells": [
  {
   "cell_type": "code",
   "execution_count": 4,
   "metadata": {
    "machine_learning_studio": "true",
    "ml_studio_json": "{\"description\":\"实验创建于2022/7/5\",\"graph\":{\"edges\":[{\"to_node_id\":\"-20:input_1\",\"from_node_id\":\"-8:data_1\"},{\"to_node_id\":\"-20:input_2\",\"from_node_id\":\"-8:data_2\"}],\"nodes\":[{\"node_id\":\"-8\",\"module_id\":\"BigQuantSpace.cached.cached-v3\",\"parameters\":[{\"name\":\"run\",\"value\":\"# Python 代码入口函数，input_1/2/3 对应三个输入端，data_1/2/3 对应三个输出端\\ndef bigquant_run(input_1, input_2, input_3):\\n    # 示例代码如下。在这里编写您的代码\\n    df = DataSource('47bbe07ecb7d470dbe75eeb8ba74c1a1T').read()\\n    df_2 = DataSource('88a1c0bf042e4a7f841063f2c64c2b54T').read()\\n    data_1 = DataSource.write_pickle(df)\\n    data_2 = DataSource.write_pickle(df_2)\\n    return Outputs(data_1=data_1, data_2=data_2, data_3=None)\\n\",\"type\":\"Literal\",\"bound_global_parameter\":null},{\"name\":\"post_run\",\"value\":\"# 后处理函数，可选。输入是主函数的输出，可以在这里对数据做处理，或者返回更友好的outputs数据格式。此函数输出不会被缓存。\\ndef bigquant_run(outputs):\\n    return outputs\\n\",\"type\":\"Literal\",\"bound_global_parameter\":null},{\"name\":\"input_ports\",\"value\":\"\",\"type\":\"Literal\",\"bound_global_parameter\":null},{\"name\":\"params\",\"value\":\"{}\",\"type\":\"Literal\",\"bound_global_parameter\":null},{\"name\":\"output_ports\",\"value\":\"\",\"type\":\"Literal\",\"bound_global_parameter\":null}],\"input_ports\":[{\"name\":\"input_1\",\"node_id\":\"-8\"},{\"name\":\"input_2\",\"node_id\":\"-8\"},{\"name\":\"input_3\",\"node_id\":\"-8\"}],\"output_ports\":[{\"name\":\"data_1\",\"node_id\":\"-8\"},{\"name\":\"data_2\",\"node_id\":\"-8\"},{\"name\":\"data_3\",\"node_id\":\"-8\"}],\"cacheable\":true,\"seq_num\":1,\"comment\":\"\",\"comment_collapsed\":true},{\"node_id\":\"-20\",\"module_id\":\"BigQuantSpace.cached.cached-v3\",\"parameters\":[{\"name\":\"run\",\"value\":\"# 自定义Python模块\\n# 函数bigquant_run、bigquant_postrun命名不可修改\\n# 测试“自定义Python模块”时，如果依赖输入，点击按钮“在上方插入代码单元”，构建数据。\\nimport os\\nimport sys\\nimport time\\nimport datetime\\nimport empyrical\\nimport pandas as pd\\nimport numpy as np\\nimport ipywidgets as widgets\\nfrom IPython.display import display\\n# 读取数据\\n# from bigdatasource import DataSource\\n# import biglearning.api.tools as T\\n# DIR_ROOT = os.path.dirname(sys._getframe().f_back.f_code.co_filename)\\nDIR_ROOT = os.getcwd()\\n\\n\\nclass interactModule(object):\\n    '''\\n        data_source: 数据字典\\n                dict_keys([ret, chaoe_df, total, cost, holdcap, target_w, hold_w, tradeprice, hold_num, sell_num, buy_num, next_weights_data, res_style])\\n        benchmark_instruments: 基准标的代码\\n                默认\\\"000905.SH\\\"\\n    '''\\n    def __init__(self, data_source, data_source_2, benchmark_instruments=\\\"000905.SH\\\"):\\n        # 获取数据\\n        ret, chaoe_df, total, cost, holdcap, target_w, hold_w, tradeprice, hold_num, sell_num, buy_num, next_weights_data, res_style = data_source[\\\"ret\\\"], data_source[\\\"chaoe_df\\\"], \\\\\\n        data_source[\\\"total\\\"], data_source[\\\"cost\\\"], data_source[\\\"holdcap\\\"], data_source[\\\"target_w\\\"], data_source[\\\"hold_w\\\"], data_source[\\\"tradeprice\\\"], data_source[\\\"hold_num\\\"], \\\\\\n        data_source[\\\"sell_num\\\"], data_source[\\\"buy_num\\\"], data_source[\\\"next_weights_data\\\"], data_source[\\\"res_style\\\"]\\n        benchmark_return, details, statistics, orders, positions, transactions = data_source_2['benchmark_return'], data_source_2['details'], data_source_2['statistics'],\\\\\\n        data_source_2['orders'], data_source_2['positions'], data_source_2['transactions']\\n\\n        # 全局参数\\n        self.page_margin = 20\\n        self.positions_page_num = max(0, len(positions) - 1) // self.page_margin + 1\\n        self.transactions_page_num = max(0, len(transactions) - 1) // self.page_margin + 1\\n        self.orders_page_num = max(0, len(orders) - 1) // self.page_margin + 1\\n\\n        # 数据\\n        self.base = benchmark_return.cumsum()\\n        self.dates = chaoe_df.index\\n        self.chaoe = chaoe_df.chaoe.fillna(0).cumsum()\\n        self.strategy = self.base + self.chaoe\\n        self.hold = holdcap.sum(1) / total\\n        self.returns = pd.concat([self.strategy, self.base, self.chaoe, self.hold], axis=1, ignore_index=False)\\n        self.returns.rename(columns={\\n                        0:\\\"策略收益率\\\",\\n                        \\\"s_dq_close\\\":\\\"基准收益率\\\",\\n                        \\\"chaoe\\\":\\\"相对收益率\\\",\\n                        1:\\\"持仓占比\\\"}, inplace=True)\\n        self.positions = positions.reindex(positions.index.union(range(len(positions), self.page_margin * self.positions_page_num))\\n                                           )[[\\\"date\\\", \\\"sid\\\", \\\"name\\\", \\\"amount_after_adjust\\\", \\\"value\\\", \\\"changew\\\"]]\\n        self.positions.rename(columns={\\n                        \\\"date\\\": \\\"日期时间\\\",\\n                        \\\"sid\\\": \\\"股票代码\\\",\\n                        \\\"name\\\": \\\"股票名称\\\",\\n                        \\\"amount_after_adjust\\\": \\\"持仓数量\\\",\\n                        \\\"value\\\": \\\"资金仓位\\\",\\n                        \\\"changew\\\": \\\"持仓权重\\\"}, inplace=True)\\n        self.transactions = transactions.reindex(transactions.index.union(range(len(transactions), self.page_margin * self.transactions_page_num))\\n                                                 )[[\\\"date\\\", \\\"sid\\\", \\\"name\\\", \\\"direction\\\", \\\"amount\\\", \\\"price_after_adjust\\\", \\\"value\\\", \\\"cost\\\"]]\\n        self.transactions.rename(columns={\\n                        \\\"date\\\": \\\"日期时间\\\",\\n                        \\\"sid\\\": \\\"股票代码\\\",\\n                        \\\"name\\\": \\\"股票名称\\\",\\n                        \\\"direction\\\": \\\"操作\\\",\\n                        \\\"amount\\\": \\\"成交量\\\",\\n                        \\\"price_after_adjust\\\": \\\"成交价格\\\",\\n                        \\\"value\\\": \\\"成交额\\\",\\n                        \\\"cost\\\": \\\"手续费\\\"}, inplace=True)\\n        self.orders = orders.reindex(orders.index.union(range(len(orders), self.page_margin * self.orders_page_num))\\n                                     )[[\\\"date\\\", \\\"sid\\\", \\\"name\\\", \\\"direction\\\", \\\"amount\\\", \\\"price\\\", \\\"targetw\\\", \\\"lastw\\\"]]\\n        self.orders.rename(columns={\\n                        \\\"date\\\": \\\"日期时间\\\",\\n                        \\\"sid\\\": \\\"股票代码\\\",\\n                        \\\"name\\\": \\\"股票名称\\\",\\n                        \\\"direction\\\": \\\"操作\\\",\\n                        \\\"amount\\\": \\\"委托数量\\\",\\n                        \\\"price\\\": \\\"价格\\\",\\n                        \\\"targetw\\\": \\\"计划权重\\\",\\n                        \\\"lastw\\\": \\\"上一日权重\\\"}, inplace=True)\\n        self.details = details\\n        self.statistics = statistics\\n        self.res_style = res_style\\n        self.date_map = {self.date_format_transfer(date): i for i, date in enumerate(self.dates)}\\n\\n\\n        ###### 日期模块 ######\\n        # 持仓详情查询日期\\n        positions_date = widgets.DatePicker(description='', disabled=False,\\n                                                 layout=widgets.Layout(width=\\\"125px\\\"))\\n        # 交易详情查询日期\\n        transactions_date = widgets.DatePicker(description='', disabled=False,\\n                                               layout=widgets.Layout(width=\\\"125px\\\"))\\n\\n        ###### 文本模块 ######\\n        # 策略\\n        strategy_label = widgets.HTML(value=\\\"<span style='font-size:20px;'> <b>策略名称</b> </span>\\\")\\n        cum_return_label = widgets.HTML(\\n            value=\\\"<span style='font-size:30px;color:{}'> <b>{:.2f}%</b> </span>\\\".format(\\n                \\\"red\\\" if self.details[\\\"累计收益率\\\"].sum() > 0 else \\\"green\\\", self.details[\\\"累计收益率\\\"].sum() * 100))\\n        cum_text_label = widgets.HTML(value=\\\"累计收益\\\")\\n        relative_cum_return_label = widgets.HTML(\\n            value=\\\"<span style='font-size:30px;color:{}'> <b>{:.2f}%</b> </span>\\\".format(\\n                \\\"red\\\" if self.details[\\\"超额累计收益率\\\"].sum() > 0 else \\\"green\\\", self.details[\\\"超额累计收益率\\\"].sum() * 100))\\n        relative_cum_text_label = widgets.HTML(value=\\\"超额累计收益\\\")\\n        today_return_label = widgets.HTML(\\n            value=\\\"今日收益<span style='color:{}'> &nbsp;&nbsp;&nbsp;&nbsp;&nbsp;&nbsp;<b>{:.2f}%</b> </span>\\\".format(\\n                \\\"red\\\" if self.details[\\\"今日收益率\\\"].sum() > 0 else \\\"green\\\", self.details[\\\"今日收益率\\\"].sum() * 100))\\n        annual_return_label = widgets.HTML(\\n            value=\\\"年化收益<span style='color:{}'> &nbsp;&nbsp;&nbsp;&nbsp;&nbsp;&nbsp;<b>{:.2f}%</b> </span>\\\".format(\\n                \\\"red\\\" if self.details[\\\"年化收益率\\\"].sum() > 0 else \\\"green\\\", self.details[\\\"年化收益率\\\"].sum() * 100))\\n        max_draw_label = widgets.HTML(\\n            value=\\\"最大回撤&nbsp;&nbsp;&nbsp;&nbsp;&nbsp;&nbsp;&nbsp;<b>{:.2f}%</b>\\\".format(self.details[\\\"最大回撤\\\"].sum()))\\n        sharpe_ratio_label = widgets.HTML(\\n            value=\\\"夏普比率&nbsp;&nbsp;&nbsp;&nbsp;&nbsp;&nbsp;&nbsp;<b>{:.2f}</b>\\\".format(self.details[\\\"夏普比率\\\"].sum()))\\n        init_cash_label = widgets.HTML(\\n            value=\\\"初始资金&nbsp;&nbsp;&nbsp;&nbsp;&nbsp;&nbsp;<b>{:.0f}</b>\\\".format(self.details[\\\"初始资金\\\"].sum()))\\n        trade_start_label = widgets.HTML(\\n            value=\\\"开始时间&nbsp;&nbsp;&nbsp;&nbsp;&nbsp;&nbsp;<b>{}</b>\\\".format(self.details[\\\"开始时间\\\"].sum()))\\n\\n        # 收益率走势\\n        plot_label = widgets.HTML(value=\\\"<span style='font-size:20px;'> <b>收益率走势</b> </span>\\\")\\n        # 收益统计\\n        statistic_label = widgets.HTML(value=\\\"<span style='font-size:20px;'> <b>收益统计</b> </span>\\\")\\n        # 风格偏好\\n        styles_label = widgets.HTML(value=\\\"<span style='font-size:20px;'> <b>风格偏好</b> </span>\\\")\\n        # 计划交易\\n        orders_label = widgets.HTML(value=\\\"<span style='font-size:20px;'> <b>计划交易</b> </span>\\\")\\n        orders_page_label = widgets.HTML(value=\\\"/%s页\\\" % str(self.orders_page_num))\\n        # 持仓详情\\n        positions_label = widgets.HTML(value=\\\"<span style='font-size:20px;'> <b>持仓详情</b> </span>\\\")\\n        self.positions_page_label = widgets.HTML(value=\\\"/%s页\\\" % str(self.positions_page_num))\\n        # 交易详情\\n        transactions_label = widgets.HTML(value=\\\"<span style='font-size:20px;'> <b>交易详情</b> </span>\\\")\\n        self.transactions_page_label = widgets.HTML(value=\\\"/%s页\\\" % str(self.transactions_page_num))\\n        \\n\\n        ###### 按键模块 ######\\n        # 计划交易下载按键\\n        orders_download_button = widgets.Button(\\n            description='下载',\\n            disabled=False,\\n            button_style='',\\n            tooltip='下载计划交易表格',\\n            icon='download',\\n            layout=widgets.Layout(width=\\\"70px\\\")\\n        )\\n        # 计划交易翻页按键\\n        orders_previous_page_button = widgets.Button(\\n            description='',\\n            disabled=False,\\n            button_style='',\\n            tooltip='上一页',\\n            icon='angle-left',\\n            layout=widgets.Layout(width=\\\"30px\\\")\\n        )\\n        self.orders_cur_page = widgets.BoundedIntText(\\n            value=1,\\n            min=1,\\n            max=self.orders_page_num,\\n            step=1,\\n            description='',\\n            disabled=False,\\n            layout=widgets.Layout(width=\\\"60px\\\")\\n        )\\n        orders_next_page_button = widgets.Button(\\n            description='',\\n            disabled=False,\\n            button_style='',\\n            tooltip='下一页',\\n            icon='angle-right',\\n            layout=widgets.Layout(width=\\\"30px\\\")\\n        )\\n        # 持仓详情下载按键\\n        positions_download_button = widgets.Button(\\n            description='下载',\\n            disabled=False,\\n            button_style='',\\n            tooltip='下载持仓详情表格',\\n            icon='download',\\n            layout=widgets.Layout(width=\\\"70px\\\")\\n        )\\n        # 持仓详情翻页按键\\n        positions_previous_page_button = widgets.Button(\\n            description='',\\n            disabled=False,\\n            button_style='',\\n            tooltip='上一页',\\n            icon='angle-left',\\n            layout=widgets.Layout(width=\\\"30px\\\")\\n        )\\n        self.positions_cur_page = widgets.BoundedIntText(\\n            value=1,\\n            min=1,\\n            max=self.positions_page_num,\\n            step=1,\\n            description='',\\n            disabled=False,\\n            layout=widgets.Layout(width=\\\"60px\\\")\\n        )\\n        positions_next_page_button = widgets.Button(\\n            description='',\\n            disabled=False,\\n            button_style='',\\n            tooltip='下一页',\\n            icon='angle-right',\\n            layout=widgets.Layout(width=\\\"30px\\\")\\n        )\\n\\n        # 交易详情下载按键\\n        transactions_download_button = widgets.Button(\\n            description='下载',\\n            disabled=False,\\n            button_style='',\\n            tooltip='下载交易详情表格',\\n            icon='download',\\n            layout=widgets.Layout(width=\\\"70px\\\")\\n        )\\n        # 交易详情翻页按键\\n        transactions_previous_page_button = widgets.Button(\\n            description='',\\n            disabled=False,\\n            button_style='',\\n            tooltip='上一页',\\n            icon='angle-left',\\n            layout=widgets.Layout(width=\\\"30px\\\")\\n        )\\n        self.transactions_cur_page = widgets.BoundedIntText(\\n            value=1,\\n            min=1,\\n            max=self.transactions_page_num,\\n            step=1,\\n            description='',\\n            disabled=False,\\n            layout=widgets.Layout(width=\\\"60px\\\")\\n        )\\n        transactions_next_page_button = widgets.Button(\\n            description='',\\n            disabled=False,\\n            button_style='',\\n            tooltip='下一页',\\n            icon='angle-right',\\n            layout=widgets.Layout(width=\\\"30px\\\")\\n        )\\n\\n        # 翻页交互\\n        orders_previous_page_button.on_click(self.orders_previous_page_turn)\\n        orders_next_page_button.on_click(self.orders_next_page_turn)\\n        positions_previous_page_button.on_click(self.positions_previous_page_turn)\\n        positions_next_page_button.on_click(self.positions_next_page_turn)\\n        transactions_previous_page_button.on_click(self.transactions_previous_page_turn)\\n        transactions_next_page_button.on_click(self.transactions_next_page_turn)\\n\\n        # 交互更新\\n        positions_date.observe(self.update_positions_page_num, \\\"value\\\")\\n        transactions_date.observe(self.update_transactions_page_num, \\\"value\\\")\\n        \\n        # 绘图交互\\n        interactive_plot = widgets.interactive(self.display_figure)\\n        \\n        # 绘图布局\\n        self.plot_grid = widgets.GridspecLayout(2, 1)\\n        self.plot_grid[0, 0] = plot_label\\n        self.plot_grid[1, 0] = interactive_plot\\n        self.plot_grid.layout.grid_template_rows = \\\"60px auto\\\"\\n        self.plot_grid.layout.grid_template_columns = 'auto'\\n        self.plot_grid.layout.align_items = 'center'\\n        # self.plot_grid.layout.justify_content = \\\"space-between\\\"\\n        # self.plot_grid.layout.justify_items = 'center'\\n\\n        # 表格交互\\n        positions_download_button.on_click(self.save_positions)\\n        positions_interactive_table = widgets.interactive_output(self.output_positions_table, {\\n                                                                \\\"date\\\": positions_date,\\n                                                                \\\"page\\\": self.positions_cur_page\\n                                                            })\\n\\n        # 持仓详情翻页布局\\n        positions_page_grid = widgets.GridspecLayout(1, 5)\\n        positions_page_grid[0, 3] = self.positions_page_label\\n        positions_page_grid[0, 1] = positions_previous_page_button\\n        positions_page_grid[0, 2] = self.positions_cur_page\\n        positions_page_grid[0, 4] = positions_next_page_button\\n        positions_page_grid.layout.grid_template_rows = \\\"40px\\\"\\n        positions_page_grid.layout.grid_template_columns = \\\"auto 40px 70px 60px 40px\\\"\\n\\n        self.positions_grid = widgets.GridspecLayout(3, 4)\\n        self.positions_grid[0, 0] = positions_label\\n        self.positions_grid[0, 1] = positions_date\\n        self.positions_grid[0, 3] = positions_download_button\\n        self.positions_grid[1, :] = positions_interactive_table\\n        self.positions_grid[2, :] = positions_page_grid\\n        self.positions_grid.layout.grid_template_rows = \\\"60px auto 40px\\\"\\n        self.positions_grid.layout.grid_template_columns = \\\"100px 130px auto 80px\\\"\\n        self.positions_grid.layout.align_items = 'center'\\n        # self.positions_grid.layout.justify_content = \\\"space-between\\\"\\n        # self.positions_grid.layout.justify_items = 'center'\\n        \\n        # 表格交互\\n        transactions_download_button.on_click(self.save_transactions)\\n        transactions_interactive_table = widgets.interactive_output(self.output_transactions_table, {\\n                                                                \\\"date\\\": transactions_date,\\n                                                                \\\"page\\\": self.transactions_cur_page\\n                                                            })\\n        # 交易详情翻页布局\\n        transactions_page_grid = widgets.GridspecLayout(1, 5)\\n        transactions_page_grid[0, 3] = self.transactions_page_label\\n        transactions_page_grid[0, 1] = transactions_previous_page_button\\n        transactions_page_grid[0, 2] = self.transactions_cur_page\\n        transactions_page_grid[0, 4] = transactions_next_page_button\\n        transactions_page_grid.layout.grid_template_rows = \\\"40px\\\"\\n        transactions_page_grid.layout.grid_template_columns = \\\"auto 40px 70px 60px 40px\\\"\\n\\n        self.transactions_grid = widgets.GridspecLayout(3, 4)\\n        self.transactions_grid[0, 0] = transactions_label\\n        self.transactions_grid[0, 1] = transactions_date\\n        self.transactions_grid[0, 3] = transactions_download_button\\n        self.transactions_grid[1, :] = transactions_interactive_table\\n        self.transactions_grid[2, :] = transactions_page_grid\\n        self.transactions_grid.layout.grid_template_rows = \\\"60px auto 40px\\\"\\n        self.transactions_grid.layout.grid_template_columns = \\\"100px 130px auto 80px\\\"\\n        self.transactions_grid.layout.align_items = 'center'\\n        # self.transactions_grid.layout.justify_content = \\\"space-between\\\"\\n        # self.transactions_grid.layout.justify_items = 'center'\\n\\n        # 策略详情\\n        detail_grid = widgets.GridspecLayout(3, 4)\\n        detail_grid[0:2, 0] = cum_return_label\\n        detail_grid[2, 0] = cum_text_label\\n        detail_grid[0:2, 1] = relative_cum_return_label\\n        detail_grid[2, 1] = relative_cum_text_label\\n        detail_grid[0, 2] = today_return_label\\n        detail_grid[1, 2] = max_draw_label\\n        detail_grid[2, 2] = init_cash_label\\n        detail_grid[0, 3] = annual_return_label\\n        detail_grid[1, 3] = sharpe_ratio_label\\n        detail_grid[2, 3] = trade_start_label\\n        detail_grid.layout.grid_template_rows = \\\"auto auto auto\\\"\\n        detail_grid.layout.grid_template_columns = \\\"auto auto auto auto\\\"\\n        detail_grid.layout.align_items = 'center'\\n        detail_grid.layout.justify_items = 'center'\\n\\n        self.strategy_grid = widgets.GridspecLayout(2, 1)\\n        self.strategy_grid[0, 0] = strategy_label\\n        self.strategy_grid[1, 0] = detail_grid\\n        self.strategy_grid.layout.grid_template_rows = \\\"60px auto\\\"\\n        self.strategy_grid.layout.grid_template_columns = \\\"auto\\\"\\n        self.strategy_grid.layout.align_items = 'center'\\n        # self.strategy_grid.layout.justify_content = \\\"space-between\\\"\\n        # self.strategy_grid.layout.justify_items = 'center'\\n\\n        # 收益统计\\n        statistic_interactive_table = widgets.interactive(self.output_statistics_table)\\n        self.statistic_grid = widgets.GridspecLayout(2, 1)\\n        self.statistic_grid[0, 0] = statistic_label\\n        self.statistic_grid[1, 0] = statistic_interactive_table\\n        self.statistic_grid.layout.grid_template_rows = \\\"60px auto\\\"\\n        self.statistic_grid.layout.grid_template_columns = \\\"auto\\\"\\n        self.statistic_grid.layout.align_items = 'center'\\n        # self.statistic_grid.layout.justify_content = \\\"space-between\\\"\\n        # self.statistic_grid.layout.justify_items = 'center'\\n\\n        # 风格因子\\n        styles_interactive_table = widgets.interactive(self.output_styles_table)\\n        self.styles_grid = widgets.GridspecLayout(2, 1)\\n        self.styles_grid[0, 0] = styles_label\\n        self.styles_grid[1, 0] = styles_interactive_table\\n        self.styles_grid.layout.grid_template_rows = \\\"60px auto\\\"\\n        self.styles_grid.layout.grid_template_columns = \\\"auto\\\"\\n        self.styles_grid.layout.align_items = 'center'\\n        # self.styles_grid.layout.justify_content = \\\"space-between\\\"\\n        # self.styles_grid.layout.justify_items = 'center'\\n\\n        # 表格交互\\n        orders_download_button.on_click(self.save_orders)\\n        orders_interactive_table = widgets.interactive_output(self.output_orders_table, {\\\"page\\\": self.orders_cur_page})\\n\\n        # 计划交易翻页布局\\n        orders_page_grid = widgets.GridspecLayout(1, 5)\\n        orders_page_grid[0, 3] = orders_page_label\\n        orders_page_grid[0, 1] = orders_previous_page_button\\n        orders_page_grid[0, 2] = self.orders_cur_page\\n        orders_page_grid[0, 4] = orders_next_page_button\\n        orders_page_grid.layout.grid_template_rows = \\\"40px\\\"\\n        orders_page_grid.layout.grid_template_columns = \\\"auto 40px 70px 60px 40px\\\"\\n\\n        # 计划交易\\n        self.orders_grid = widgets.GridspecLayout(3, 4)\\n        self.orders_grid[0, 0] = orders_label\\n        self.orders_grid[0, 3] = orders_download_button\\n        self.orders_grid[1, :] = orders_interactive_table\\n        self.orders_grid[2, :] = orders_page_grid\\n        self.orders_grid.layout.grid_template_rows = \\\"60px auto 40px\\\"\\n        self.orders_grid.layout.grid_template_columns = \\\"100px 130px auto 80px\\\"\\n        self.orders_grid.layout.align_items = 'center'\\n        # self.orders_grid.layout.justify_content = \\\"space-between\\\"\\n        # self.orders_grid.layout.justify_items = 'center'\\n\\n        self.total_page_grid = widgets.GridspecLayout(7, 1)\\n        self.total_page_grid[0, 0] = self.strategy_grid\\n        self.total_page_grid[1, 0] = self.plot_grid\\n        self.total_page_grid[2, 0] = self.statistic_grid\\n        self.total_page_grid[3, 0] = self.styles_grid\\n        self.total_page_grid[4, 0] = self.orders_grid\\n        self.total_page_grid[5, 0] = self.positions_grid\\n        self.total_page_grid[6, 0] = self.transactions_grid\\n        self.total_page_grid.layout.grid_template_rows = \\\"auto\\\"\\n        self.total_page_grid.layout.grid_template_columns = \\\"auto\\\"\\n        self.total_page_grid.layout.align_items = 'center'\\n        # self.total_page_grid.layout.justify_content = \\\"space-between\\\"\\n        # self.total_page_grid.layout.justify_items = 'center'\\n#         display(self.total_page_grid)\\n    \\n    def date_format_transfer(self, date):\\n        time_tuple = time.strptime(date, '%Y%m%d')\\n        year, month, day = time_tuple[:3]\\n        return datetime.date(year, month, day)\\n    \\n\\n    def display_figure(self):\\n        self.returns[\\\"date\\\"] = pd.to_datetime(self.returns.index.map(lambda x:self.date_format_transfer(x)))\\n        self.returns.set_index(\\\"date\\\", inplace=True)\\n        self.returns.index.name = None\\n        options = {\\n            \\\"legend\\\": {\\n                \\\"enabled\\\": True,\\n                \\\"symbolHeight\\\": 8,\\n                \\\"symbolWidth\\\": 8,\\n                \\\"symbolPadding\\\": 8,\\n                \\\"symbolRadius\\\": 0,\\n            },\\n            \\\"plotOptions\\\": {\\n                \\\"series\\\": {\\n                    \\\"showInNavigator\\\": True,\\n                },\\n                \\\"area\\\": {\\n                    \\\"showInNavigator\\\": True,\\n                },\\n            },\\n            \\\"rangeSelector\\\": {\\n                \\\"enabled\\\": True,\\n            },\\n            \\\"navigator\\\": {\\n                \\\"enabled\\\": True,\\n            },\\n            \\\"series\\\": [\\n                {\\n                    \\\"name\\\": \\\"策略收益率\\\",\\n                    \\\"color\\\": \\\"#ff0000\\\",\\n                    \\\"tooltip\\\": {\\n                        \\\"valueDecimals\\\": 2,\\n                        \\\"valueSuffix\\\": \\\" %\\\",\\n                    },\\n                    \\\"type\\\": \\\"area\\\",\\n                    \\\"fillColor\\\": {\\n                        \\\"linearGradient\\\": [0, 0, 0, 1],\\n                        \\\"stops\\\": [\\n                            [0, \\\"rgba(238,149,148,0.5)\\\"],\\n                            [1, \\\"rgba(238,149,148,0.5)\\\"],\\n                        ],\\n                    },\\n                },\\n                {\\n                    \\\"name\\\": \\\"基准收益率\\\",\\n                    \\\"color\\\": \\\"#2776B6\\\",\\n                    \\\"tooltip\\\": {\\n                        \\\"valueDecimals\\\": 2,\\n                        \\\"valueSuffix\\\": \\\" %\\\",\\n                    },\\n                },\\n                {\\n                    \\\"name\\\": \\\"相对收益率\\\",\\n                    \\\"color\\\": \\\"#8f4e4f\\\",\\n                    \\\"tooltip\\\": {\\n                        \\\"valueDecimals\\\": 2,\\n                        \\\"valueSuffix\\\": \\\" %\\\",\\n                    },\\n                    \\\"visible\\\": False,\\n                },\\n                {\\n                    \\\"name\\\": \\\"持仓占比\\\",\\n                    \\\"color\\\": \\\"#66ff99\\\",\\n                    \\\"tooltip\\\": {\\n                        \\\"valueDecimals\\\": 2,\\n                        \\\"valueSuffix\\\": \\\" %\\\",\\n                    },\\n                },\\n            ],\\n            \\\"yAxis\\\": [\\n                {\\n                    \\\"title\\\": {\\n                        \\\"text\\\": \\\"净值曲线\\\",\\n                    },\\n                    \\\"labels\\\": {\\\"format\\\": \\\"{value}%\\\"},\\n                    \\\"gridLineColor\\\": \\\"#cfcfcf\\\",\\n                    \\\"gridLineWidth\\\": 1,\\n                },\\n                {\\n                    \\\"title\\\": {\\n                        \\\"text\\\": \\\"持仓占比\\\",\\n                    },\\n                    \\\"labels\\\": {\\\"format\\\": \\\"{value}%\\\"},\\n                    \\\"gridLineColor\\\": \\\"#cfcfcf\\\",\\n                    \\\"gridLineWidth\\\": 1,\\n                },\\n            ],\\n            \\\"chart\\\": {\\n                # 'height': 500,\\n            },\\n        }\\n        #T.plot(self.returns*100, panes=[[\\\"策略收益率\\\", \\\"基准收益率\\\", \\\"相对收益率\\\", \\\"80%\\\"], [\\\"持仓占比\\\", \\\"20%\\\"]], options=options)\\n        \\n\\n    ###### 按键响应函数 #####\\n    def save_figure(self, sender):\\n        file_name = '收益率曲线_' + datetime.datetime.now().strftime(\\\"%Y%m%d%H%M%S\\\") + '.png'\\n        self.fig.savefig(os.path.join(DIR_ROOT, file_name))\\n        print('%s!' % sender.tooltip)\\n\\n\\n    def save_orders(self, sender):\\n        file_name = '计划交易_' + datetime.datetime.now().strftime(\\\"%Y%m%d%H%M%S\\\") + '.csv'\\n        self.orders.to_csv(os.path.join(DIR_ROOT, file_name), encoding=\\\"utf-8\\\", header=True, index=False)\\n        print('%s!' % sender.tooltip)\\n\\n\\n    def save_positions(self, sender):\\n        file_name = '持仓详情_' + datetime.datetime.now().strftime(\\\"%Y%m%d%H%M%S\\\") + '.csv'\\n        self.positions.to_csv(os.path.join(DIR_ROOT, file_name), encoding=\\\"utf-8\\\", header=True, index=False)\\n        print('%s!' % sender.tooltip)\\n\\n    def save_transactions(self, sender):\\n        file_name = '交易详情_' + datetime.datetime.now().strftime(\\\"%Y%m%d%H%M%S\\\") + '.csv'\\n        self.transactions.to_csv(os.path.join(DIR_ROOT, file_name), encoding=\\\"utf-8\\\", header=True, index=False)\\n        print('%s!' % sender.tooltip)\\n\\n\\n    def orders_previous_page_turn(self, sender):\\n        self.orders_cur_page.value -= 1\\n        # print('%s!' % sender.tooltip)\\n\\n\\n    def orders_next_page_turn(self, sender):\\n        self.orders_cur_page.value += 1\\n        # print('%s!' % sender.tooltip)\\n\\n\\n    def positions_previous_page_turn(self, sender):\\n        self.positions_cur_page.value -= 1\\n        # print('%s!' % sender.tooltip)\\n\\n\\n    def positions_next_page_turn(self, sender):\\n        self.positions_cur_page.value += 1\\n        # print('%s!' % sender.tooltip)\\n\\n\\n    def transactions_previous_page_turn(self, sender):\\n        self.transactions_cur_page.value -= 1\\n        # print('%s!' % sender.tooltip)\\n\\n\\n    def transactions_next_page_turn(self, sender):\\n        self.transactions_cur_page.value += 1\\n        # print('%s!' % sender.tooltip)\\n\\n\\n    def output_positions_table(self, date, page):\\n        positions_style = {\\n            \\\"资金仓位\\\": \\\"{:.2f}\\\",\\n            \\\"持仓数量\\\": \\\"{:.0f}\\\"\\n        }\\n        if not date:\\n            display(self.positions[self.page_margin*(page-1):self.page_margin*page].style.format(None, na_rep=\\\"-\\\").format(positions_style, na_rep=\\\"-\\\").hide_index().set_properties(**{'width': '500px'}))\\n        elif date not in self.date_map:\\n            display(\\\"暂无数据\\\")\\n        else:\\n            chosen_date = date.strftime(\\\"%Y-%m-%d\\\")\\n            tmp = self.positions.query(\\\"日期时间 == @chosen_date\\\").reset_index(drop=True)\\n            tmp = tmp.reindex(tmp.index.union(range(len(tmp), self.page_margin * (max(0, tmp.shape[0] - 1) // self.page_margin + 1))))\\n            display(tmp[self.page_margin*(page-1):self.page_margin*page].style.format(None, na_rep=\\\"-\\\").format(positions_style, na_rep=\\\"-\\\").hide_index().set_properties(**{'width': '500px'}))\\n\\n\\n    def output_transactions_table(self, date, page):\\n        transactions_style = {\\n            \\\"成交量\\\": \\\"{:.0f}\\\",\\n            \\\"成交价格\\\": \\\"{:.2f}\\\",\\n            \\\"手续费\\\": \\\"{:.2f}\\\",\\n            \\\"成交额\\\": \\\"{:.2f}\\\"\\n        }\\n        if not date:\\n            display(self.transactions[self.page_margin*(page-1):self.page_margin*page].style.format(None, na_rep=\\\"-\\\").format(transactions_style, na_rep=\\\"-\\\").hide_index().\\n                    applymap(self.highlight_cols, subset=pd.IndexSlice[:, ['操作', '成交额']]).set_properties(**{'width': '500px'}))\\n        elif date not in self.date_map:\\n            display(\\\"暂无数据\\\")\\n        else:\\n            chosen_date = date.strftime(\\\"%Y-%m-%d\\\")\\n            tmp = self.transactions.query(\\\"日期时间 == @chosen_date\\\").reset_index(drop=True)\\n            tmp = tmp.reindex(tmp.index.union(range(len(tmp), self.page_margin * (max(0, tmp.shape[0] - 1) // self.page_margin + 1))))\\n            display(tmp[self.page_margin*(page-1):self.page_margin*page].style.format(None, na_rep=\\\"-\\\").format(transactions_style, na_rep=\\\"-\\\").hide_index().\\n                    applymap(self.highlight_cols, subset=pd.IndexSlice[:, ['操作', '成交额']]).set_properties(**{'width': '500px'}))\\n\\n\\n    def output_orders_table(self, page):\\n        orders_style = {\\n            \\\"价格\\\": \\\"{:.2f}\\\",\\n            \\\"委托数量\\\": \\\"{:.0f}\\\",\\n        }\\n        display(self.orders[self.page_margin*(page-1):self.page_margin*page].style.format(None, na_rep=\\\"-\\\").format(orders_style, na_rep=\\\"-\\\").hide_index().\\n                applymap(self.highlight_cols, subset=pd.IndexSlice[:, ['操作']]).set_properties(**{'width': '500px'}))\\n\\n\\n    def output_statistics_table(self):\\n        statistics_style = {\\n            \\\"累计收益率\\\": \\\"{:.2%}\\\",\\n            \\\"年化收益率\\\": \\\"{:.2%}\\\",\\n            \\\"最大回撤\\\": \\\"{:.2%}\\\",\\n            \\\"胜率\\\": \\\"{:.2%}\\\",\\n            \\\"夏普比率\\\": \\\"{:.2f}\\\",\\n            \\\"今日收益率\\\": \\\"{:.2%}\\\",\\n            \\\"近一周收益率\\\": \\\"{:.2%}\\\",\\n            \\\"近一月收益率\\\": \\\"{:.2%}\\\",\\n            \\\"近三月收益率\\\": \\\"{:.2%}\\\",\\n            \\\"近半年收益率\\\": \\\"{:.2%}\\\",\\n            \\\"近一年收益率\\\": \\\"{:.2%}\\\"\\n        }\\n        display(self.statistics.style.format(statistics_style, na_rep=\\\"-\\\").hide_index().\\n                applymap(self.highlight_cols, subset=pd.IndexSlice[:, [\\\"累计收益率\\\", \\\"年化收益率\\\", \\\"今日收益率\\\", \\\"近一周收益率\\\",\\n                \\\"近一月收益率\\\", \\\"近三月收益率\\\", \\\"近半年收益率\\\", \\\"近一年收益率\\\"]]).set_properties(**{'width': '500px'}))\\n\\n\\n    def output_styles_table(self):\\n        # 使用seaborn获取颜色\\n#         import seaborn as sns\\n#         cmap = sns.light_palette(\\\"red\\\", as_cmap=True)\\n        display(self.res_style.style.format(\\\"{:.2f}\\\", na_rep=\\\"-\\\").background_gradient(axis=1, cmap=\\\"coolwarm\\\").\\n                set_properties(**{'width': '500px'}))\\n\\n\\n    def highlight_cols(self, column):\\n        color = \\\"\\\"\\n        if isinstance(column, str):\\n            if column == \\\"卖\\\":\\n                color = 'green'\\n            elif column == \\\"买\\\":\\n                color = 'red'\\n        if isinstance(column, float):\\n            if column < 0:\\n                color = 'green'\\n            elif column > 0:\\n                color = 'red'\\n        return 'color: %s' % color\\n\\n\\n    def update_positions_page_num(self, change):\\n        if change.new:\\n            chosen_date = change.new.strftime(\\\"%Y-%m-%d\\\")\\n            tmp = self.positions.query(\\\"日期时间 == @chosen_date\\\")\\n            self.positions_page_label.value = \\\"/%s页\\\" % str(max(0, tmp.shape[0] - 1) // self.page_margin + 1)\\n            self.positions_cur_page.value = 1\\n            self.positions_cur_page.max = max(0, tmp.shape[0] - 1) // self.page_margin + 1\\n\\n\\n    def update_transactions_page_num(self, change):\\n        if change.new:\\n            chosen_date = change.new.strftime(\\\"%Y-%m-%d\\\")\\n            tmp = self.transactions.query(\\\"日期时间 == @chosen_date\\\")\\n            self.transactions_page_label.value = \\\"/%s页\\\" % str(max(0, tmp.shape[0] - 1) // self.page_margin + 1)\\n            self.transactions_cur_page.value = 1\\n            self.transactions_cur_page.max = max(0, tmp.shape[0] - 1) // self.page_margin + 1\\n\\n\\n# Python 代码入口函数，input_1/2/3 对应三个输入端，data_1/2/3 对应三个输出端\\ndef bigquant_run(input_1, input_2, benchmark_instruments):\\n    # 示例代码如下。在这里编写您的代码\\n    im = interactModule(input_1.read(), input_2.read(), benchmark_instruments[0])\\n    display(im.total_page_grid)\\n    return Outputs()\",\"type\":\"Literal\",\"bound_global_parameter\":null},{\"name\":\"post_run\",\"value\":\"# 后处理函数，可选。输入是主函数的输出，可以在这里对数据做处理，或者返回更友好的outputs数据格式。此函数输出不会被缓存。\\ndef bigquant_run(outputs):\\n    return outputs\\n\",\"type\":\"Literal\",\"bound_global_parameter\":null},{\"name\":\"input_ports\",\"value\":\"input_1, input_2\",\"type\":\"Literal\",\"bound_global_parameter\":null},{\"name\":\"params\",\"value\":\"{\\n    'benchmark_instruments': '000905.SH'\\n}\",\"type\":\"Literal\",\"bound_global_parameter\":null},{\"name\":\"output_ports\",\"value\":\"\",\"type\":\"Literal\",\"bound_global_parameter\":null}],\"input_ports\":[{\"name\":\"input_1\",\"node_id\":\"-20\"},{\"name\":\"input_2\",\"node_id\":\"-20\"},{\"name\":\"input_3\",\"node_id\":\"-20\"}],\"output_ports\":[{\"name\":\"data_1\",\"node_id\":\"-20\"},{\"name\":\"data_2\",\"node_id\":\"-20\"},{\"name\":\"data_3\",\"node_id\":\"-20\"}],\"cacheable\":false,\"seq_num\":2,\"comment\":\"\",\"comment_collapsed\":true}],\"node_layout\":\"<node_postions><node_position Node='-8' Position='157,126,200,200'/><node_position Node='-20' Position='162,273.6142272949219,200,200'/></node_postions>\"},\"nodes_readonly\":false,\"studio_version\":\"v2\"}"
   },
   "outputs": [
    {
     "data": {
      "text/plain": [
       "[2022-07-06 19:10:06.235740] INFO: moduleinvoker: cached.v3 开始运行.."
      ]
     },
     "metadata": {
      "is_log": true,
      "status": "INFO"
     },
     "output_type": "display_data"
    },
    {
     "data": {
      "text/plain": [
       "[2022-07-06 19:10:06.251952] INFO: moduleinvoker: 命中缓存"
      ]
     },
     "metadata": {
      "is_log": true,
      "status": "INFO"
     },
     "output_type": "display_data"
    },
    {
     "data": {
      "text/plain": [
       "[2022-07-06 19:10:06.254770] INFO: moduleinvoker: cached.v3 运行完成[0.019024s]."
      ]
     },
     "metadata": {
      "is_log": true,
      "status": "INFO"
     },
     "output_type": "display_data"
    },
    {
     "data": {
      "text/plain": [
       "[2022-07-06 19:10:06.280118] INFO: moduleinvoker: cached.v3 开始运行.."
      ]
     },
     "metadata": {
      "is_log": true,
      "status": "INFO"
     },
     "output_type": "display_data"
    },
    {
     "data": {
      "application/vnd.jupyter.widget-view+json": {
       "model_id": "e9d3dcdaf9af4bc39232a2581cb64edb",
       "version_major": 2,
       "version_minor": 0
      },
      "text/plain": [
       "GridspecLayout(children=(GridspecLayout(children=(HTML(value=\"<span style='font-size:20px;'> <b>策略名称</b> </spa…"
      ]
     },
     "metadata": {},
     "output_type": "display_data"
    },
    {
     "data": {
      "text/plain": [
       "[2022-07-06 19:10:08.823791] INFO: moduleinvoker: cached.v3 运行完成[2.543635s]."
      ]
     },
     "metadata": {
      "is_log": true,
      "status": "INFO"
     },
     "output_type": "display_data"
    }
   ],
   "source": [
    "# 本代码由可视化策略环境自动生成 2022年7月7日 10:17\n",
    "# 本代码单元只能在可视化模式下编辑。您也可以拷贝代码，粘贴到新建的代码单元或者策略，然后修改。\n",
    "\n",
    "\n",
    "# Python 代码入口函数，input_1/2/3 对应三个输入端，data_1/2/3 对应三个输出端\n",
    "def m1_run_bigquant_run(input_1, input_2, input_3):\n",
    "    # 示例代码如下。在这里编写您的代码\n",
    "    df = DataSource('47bbe07ecb7d470dbe75eeb8ba74c1a1T').read()\n",
    "    df_2 = DataSource('88a1c0bf042e4a7f841063f2c64c2b54T').read()\n",
    "    data_1 = DataSource.write_pickle(df)\n",
    "    data_2 = DataSource.write_pickle(df_2)\n",
    "    return Outputs(data_1=data_1, data_2=data_2, data_3=None)\n",
    "\n",
    "# 后处理函数，可选。输入是主函数的输出，可以在这里对数据做处理，或者返回更友好的outputs数据格式。此函数输出不会被缓存。\n",
    "def m1_post_run_bigquant_run(outputs):\n",
    "    return outputs\n",
    "\n",
    "# 自定义Python模块\n",
    "# 函数m2_run_bigquant_run、bigquant_postrun命名不可修改\n",
    "# 测试“自定义Python模块”时，如果依赖输入，点击按钮“在上方插入代码单元”，构建数据。\n",
    "import os\n",
    "import sys\n",
    "import time\n",
    "import datetime\n",
    "import empyrical\n",
    "import pandas as pd\n",
    "import numpy as np\n",
    "import ipywidgets as widgets\n",
    "from IPython.display import display\n",
    "# 读取数据\n",
    "# from bigdatasource import DataSource\n",
    "# import biglearning.api.tools as T\n",
    "# DIR_ROOT = os.path.dirname(sys._getframe().f_back.f_code.co_filename)\n",
    "DIR_ROOT = os.getcwd()\n",
    "\n",
    "\n",
    "class interactModule(object):\n",
    "    '''\n",
    "        data_source: 数据字典\n",
    "                dict_keys([ret, chaoe_df, total, cost, holdcap, target_w, hold_w, tradeprice, hold_num, sell_num, buy_num, next_weights_data, res_style])\n",
    "        benchmark_instruments: 基准标的代码\n",
    "                默认\"000905.SH\"\n",
    "    '''\n",
    "    def __init__(self, data_source, data_source_2, benchmark_instruments=\"000905.SH\"):\n",
    "        # 获取数据\n",
    "        ret, chaoe_df, total, cost, holdcap, target_w, hold_w, tradeprice, hold_num, sell_num, buy_num, next_weights_data, res_style = data_source[\"ret\"], data_source[\"chaoe_df\"], \\\n",
    "        data_source[\"total\"], data_source[\"cost\"], data_source[\"holdcap\"], data_source[\"target_w\"], data_source[\"hold_w\"], data_source[\"tradeprice\"], data_source[\"hold_num\"], \\\n",
    "        data_source[\"sell_num\"], data_source[\"buy_num\"], data_source[\"next_weights_data\"], data_source[\"res_style\"]\n",
    "        benchmark_return, details, statistics, orders, positions, transactions = data_source_2['benchmark_return'], data_source_2['details'], data_source_2['statistics'],\\\n",
    "        data_source_2['orders'], data_source_2['positions'], data_source_2['transactions']\n",
    "\n",
    "        # 全局参数\n",
    "        self.page_margin = 20\n",
    "        self.positions_page_num = max(0, len(positions) - 1) // self.page_margin + 1\n",
    "        self.transactions_page_num = max(0, len(transactions) - 1) // self.page_margin + 1\n",
    "        self.orders_page_num = max(0, len(orders) - 1) // self.page_margin + 1\n",
    "\n",
    "        # 数据\n",
    "        self.base = benchmark_return.cumsum()\n",
    "        self.dates = chaoe_df.index\n",
    "        self.chaoe = chaoe_df.chaoe.fillna(0).cumsum()\n",
    "        self.strategy = self.base + self.chaoe\n",
    "        self.hold = holdcap.sum(1) / total\n",
    "        self.returns = pd.concat([self.strategy, self.base, self.chaoe, self.hold], axis=1, ignore_index=False)\n",
    "        self.returns.rename(columns={\n",
    "                        0:\"策略收益率\",\n",
    "                        \"s_dq_close\":\"基准收益率\",\n",
    "                        \"chaoe\":\"相对收益率\",\n",
    "                        1:\"持仓占比\"}, inplace=True)\n",
    "        self.positions = positions.reindex(positions.index.union(range(len(positions), self.page_margin * self.positions_page_num))\n",
    "                                           )[[\"date\", \"sid\", \"name\", \"amount_after_adjust\", \"value\", \"changew\"]]\n",
    "        self.positions.rename(columns={\n",
    "                        \"date\": \"日期时间\",\n",
    "                        \"sid\": \"股票代码\",\n",
    "                        \"name\": \"股票名称\",\n",
    "                        \"amount_after_adjust\": \"持仓数量\",\n",
    "                        \"value\": \"资金仓位\",\n",
    "                        \"changew\": \"持仓权重\"}, inplace=True)\n",
    "        self.transactions = transactions.reindex(transactions.index.union(range(len(transactions), self.page_margin * self.transactions_page_num))\n",
    "                                                 )[[\"date\", \"sid\", \"name\", \"direction\", \"amount\", \"price_after_adjust\", \"value\", \"cost\"]]\n",
    "        self.transactions.rename(columns={\n",
    "                        \"date\": \"日期时间\",\n",
    "                        \"sid\": \"股票代码\",\n",
    "                        \"name\": \"股票名称\",\n",
    "                        \"direction\": \"操作\",\n",
    "                        \"amount\": \"成交量\",\n",
    "                        \"price_after_adjust\": \"成交价格\",\n",
    "                        \"value\": \"成交额\",\n",
    "                        \"cost\": \"手续费\"}, inplace=True)\n",
    "        self.orders = orders.reindex(orders.index.union(range(len(orders), self.page_margin * self.orders_page_num))\n",
    "                                     )[[\"date\", \"sid\", \"name\", \"direction\", \"amount\", \"price\", \"targetw\", \"lastw\"]]\n",
    "        self.orders.rename(columns={\n",
    "                        \"date\": \"日期时间\",\n",
    "                        \"sid\": \"股票代码\",\n",
    "                        \"name\": \"股票名称\",\n",
    "                        \"direction\": \"操作\",\n",
    "                        \"amount\": \"委托数量\",\n",
    "                        \"price\": \"价格\",\n",
    "                        \"targetw\": \"计划权重\",\n",
    "                        \"lastw\": \"上一日权重\"}, inplace=True)\n",
    "        self.details = details\n",
    "        self.statistics = statistics\n",
    "        self.res_style = res_style\n",
    "        self.date_map = {self.date_format_transfer(date): i for i, date in enumerate(self.dates)}\n",
    "\n",
    "\n",
    "        ###### 日期模块 ######\n",
    "        # 持仓详情查询日期\n",
    "        positions_date = widgets.DatePicker(description='', disabled=False,\n",
    "                                                 layout=widgets.Layout(width=\"125px\"))\n",
    "        # 交易详情查询日期\n",
    "        transactions_date = widgets.DatePicker(description='', disabled=False,\n",
    "                                               layout=widgets.Layout(width=\"125px\"))\n",
    "\n",
    "        ###### 文本模块 ######\n",
    "        # 策略\n",
    "        strategy_label = widgets.HTML(value=\"<span style='font-size:20px;'> <b>策略名称</b> </span>\")\n",
    "        cum_return_label = widgets.HTML(\n",
    "            value=\"<span style='font-size:30px;color:{}'> <b>{:.2f}%</b> </span>\".format(\n",
    "                \"red\" if self.details[\"累计收益率\"].sum() > 0 else \"green\", self.details[\"累计收益率\"].sum() * 100))\n",
    "        cum_text_label = widgets.HTML(value=\"累计收益\")\n",
    "        relative_cum_return_label = widgets.HTML(\n",
    "            value=\"<span style='font-size:30px;color:{}'> <b>{:.2f}%</b> </span>\".format(\n",
    "                \"red\" if self.details[\"超额累计收益率\"].sum() > 0 else \"green\", self.details[\"超额累计收益率\"].sum() * 100))\n",
    "        relative_cum_text_label = widgets.HTML(value=\"超额累计收益\")\n",
    "        today_return_label = widgets.HTML(\n",
    "            value=\"今日收益<span style='color:{}'> &nbsp;&nbsp;&nbsp;&nbsp;&nbsp;&nbsp;<b>{:.2f}%</b> </span>\".format(\n",
    "                \"red\" if self.details[\"今日收益率\"].sum() > 0 else \"green\", self.details[\"今日收益率\"].sum() * 100))\n",
    "        annual_return_label = widgets.HTML(\n",
    "            value=\"年化收益<span style='color:{}'> &nbsp;&nbsp;&nbsp;&nbsp;&nbsp;&nbsp;<b>{:.2f}%</b> </span>\".format(\n",
    "                \"red\" if self.details[\"年化收益率\"].sum() > 0 else \"green\", self.details[\"年化收益率\"].sum() * 100))\n",
    "        max_draw_label = widgets.HTML(\n",
    "            value=\"最大回撤&nbsp;&nbsp;&nbsp;&nbsp;&nbsp;&nbsp;&nbsp;<b>{:.2f}%</b>\".format(self.details[\"最大回撤\"].sum()))\n",
    "        sharpe_ratio_label = widgets.HTML(\n",
    "            value=\"夏普比率&nbsp;&nbsp;&nbsp;&nbsp;&nbsp;&nbsp;&nbsp;<b>{:.2f}</b>\".format(self.details[\"夏普比率\"].sum()))\n",
    "        init_cash_label = widgets.HTML(\n",
    "            value=\"初始资金&nbsp;&nbsp;&nbsp;&nbsp;&nbsp;&nbsp;<b>{:.0f}</b>\".format(self.details[\"初始资金\"].sum()))\n",
    "        trade_start_label = widgets.HTML(\n",
    "            value=\"开始时间&nbsp;&nbsp;&nbsp;&nbsp;&nbsp;&nbsp;<b>{}</b>\".format(self.details[\"开始时间\"].sum()))\n",
    "\n",
    "        # 收益率走势\n",
    "        plot_label = widgets.HTML(value=\"<span style='font-size:20px;'> <b>收益率走势</b> </span>\")\n",
    "        # 收益统计\n",
    "        statistic_label = widgets.HTML(value=\"<span style='font-size:20px;'> <b>收益统计</b> </span>\")\n",
    "        # 风格偏好\n",
    "        styles_label = widgets.HTML(value=\"<span style='font-size:20px;'> <b>风格偏好</b> </span>\")\n",
    "        # 计划交易\n",
    "        orders_label = widgets.HTML(value=\"<span style='font-size:20px;'> <b>计划交易</b> </span>\")\n",
    "        orders_page_label = widgets.HTML(value=\"/%s页\" % str(self.orders_page_num))\n",
    "        # 持仓详情\n",
    "        positions_label = widgets.HTML(value=\"<span style='font-size:20px;'> <b>持仓详情</b> </span>\")\n",
    "        self.positions_page_label = widgets.HTML(value=\"/%s页\" % str(self.positions_page_num))\n",
    "        # 交易详情\n",
    "        transactions_label = widgets.HTML(value=\"<span style='font-size:20px;'> <b>交易详情</b> </span>\")\n",
    "        self.transactions_page_label = widgets.HTML(value=\"/%s页\" % str(self.transactions_page_num))\n",
    "        \n",
    "\n",
    "        ###### 按键模块 ######\n",
    "        # 计划交易下载按键\n",
    "        orders_download_button = widgets.Button(\n",
    "            description='下载',\n",
    "            disabled=False,\n",
    "            button_style='',\n",
    "            tooltip='下载计划交易表格',\n",
    "            icon='download',\n",
    "            layout=widgets.Layout(width=\"70px\")\n",
    "        )\n",
    "        # 计划交易翻页按键\n",
    "        orders_previous_page_button = widgets.Button(\n",
    "            description='',\n",
    "            disabled=False,\n",
    "            button_style='',\n",
    "            tooltip='上一页',\n",
    "            icon='angle-left',\n",
    "            layout=widgets.Layout(width=\"30px\")\n",
    "        )\n",
    "        self.orders_cur_page = widgets.BoundedIntText(\n",
    "            value=1,\n",
    "            min=1,\n",
    "            max=self.orders_page_num,\n",
    "            step=1,\n",
    "            description='',\n",
    "            disabled=False,\n",
    "            layout=widgets.Layout(width=\"60px\")\n",
    "        )\n",
    "        orders_next_page_button = widgets.Button(\n",
    "            description='',\n",
    "            disabled=False,\n",
    "            button_style='',\n",
    "            tooltip='下一页',\n",
    "            icon='angle-right',\n",
    "            layout=widgets.Layout(width=\"30px\")\n",
    "        )\n",
    "        # 持仓详情下载按键\n",
    "        positions_download_button = widgets.Button(\n",
    "            description='下载',\n",
    "            disabled=False,\n",
    "            button_style='',\n",
    "            tooltip='下载持仓详情表格',\n",
    "            icon='download',\n",
    "            layout=widgets.Layout(width=\"70px\")\n",
    "        )\n",
    "        # 持仓详情翻页按键\n",
    "        positions_previous_page_button = widgets.Button(\n",
    "            description='',\n",
    "            disabled=False,\n",
    "            button_style='',\n",
    "            tooltip='上一页',\n",
    "            icon='angle-left',\n",
    "            layout=widgets.Layout(width=\"30px\")\n",
    "        )\n",
    "        self.positions_cur_page = widgets.BoundedIntText(\n",
    "            value=1,\n",
    "            min=1,\n",
    "            max=self.positions_page_num,\n",
    "            step=1,\n",
    "            description='',\n",
    "            disabled=False,\n",
    "            layout=widgets.Layout(width=\"60px\")\n",
    "        )\n",
    "        positions_next_page_button = widgets.Button(\n",
    "            description='',\n",
    "            disabled=False,\n",
    "            button_style='',\n",
    "            tooltip='下一页',\n",
    "            icon='angle-right',\n",
    "            layout=widgets.Layout(width=\"30px\")\n",
    "        )\n",
    "\n",
    "        # 交易详情下载按键\n",
    "        transactions_download_button = widgets.Button(\n",
    "            description='下载',\n",
    "            disabled=False,\n",
    "            button_style='',\n",
    "            tooltip='下载交易详情表格',\n",
    "            icon='download',\n",
    "            layout=widgets.Layout(width=\"70px\")\n",
    "        )\n",
    "        # 交易详情翻页按键\n",
    "        transactions_previous_page_button = widgets.Button(\n",
    "            description='',\n",
    "            disabled=False,\n",
    "            button_style='',\n",
    "            tooltip='上一页',\n",
    "            icon='angle-left',\n",
    "            layout=widgets.Layout(width=\"30px\")\n",
    "        )\n",
    "        self.transactions_cur_page = widgets.BoundedIntText(\n",
    "            value=1,\n",
    "            min=1,\n",
    "            max=self.transactions_page_num,\n",
    "            step=1,\n",
    "            description='',\n",
    "            disabled=False,\n",
    "            layout=widgets.Layout(width=\"60px\")\n",
    "        )\n",
    "        transactions_next_page_button = widgets.Button(\n",
    "            description='',\n",
    "            disabled=False,\n",
    "            button_style='',\n",
    "            tooltip='下一页',\n",
    "            icon='angle-right',\n",
    "            layout=widgets.Layout(width=\"30px\")\n",
    "        )\n",
    "\n",
    "        # 翻页交互\n",
    "        orders_previous_page_button.on_click(self.orders_previous_page_turn)\n",
    "        orders_next_page_button.on_click(self.orders_next_page_turn)\n",
    "        positions_previous_page_button.on_click(self.positions_previous_page_turn)\n",
    "        positions_next_page_button.on_click(self.positions_next_page_turn)\n",
    "        transactions_previous_page_button.on_click(self.transactions_previous_page_turn)\n",
    "        transactions_next_page_button.on_click(self.transactions_next_page_turn)\n",
    "\n",
    "        # 交互更新\n",
    "        positions_date.observe(self.update_positions_page_num, \"value\")\n",
    "        transactions_date.observe(self.update_transactions_page_num, \"value\")\n",
    "        \n",
    "        # 绘图交互\n",
    "        interactive_plot = widgets.interactive(self.display_figure)\n",
    "        \n",
    "        # 绘图布局\n",
    "        self.plot_grid = widgets.GridspecLayout(2, 1)\n",
    "        self.plot_grid[0, 0] = plot_label\n",
    "        self.plot_grid[1, 0] = interactive_plot\n",
    "        self.plot_grid.layout.grid_template_rows = \"60px auto\"\n",
    "        self.plot_grid.layout.grid_template_columns = 'auto'\n",
    "        self.plot_grid.layout.align_items = 'center'\n",
    "        # self.plot_grid.layout.justify_content = \"space-between\"\n",
    "        # self.plot_grid.layout.justify_items = 'center'\n",
    "\n",
    "        # 表格交互\n",
    "        positions_download_button.on_click(self.save_positions)\n",
    "        positions_interactive_table = widgets.interactive_output(self.output_positions_table, {\n",
    "                                                                \"date\": positions_date,\n",
    "                                                                \"page\": self.positions_cur_page\n",
    "                                                            })\n",
    "\n",
    "        # 持仓详情翻页布局\n",
    "        positions_page_grid = widgets.GridspecLayout(1, 5)\n",
    "        positions_page_grid[0, 3] = self.positions_page_label\n",
    "        positions_page_grid[0, 1] = positions_previous_page_button\n",
    "        positions_page_grid[0, 2] = self.positions_cur_page\n",
    "        positions_page_grid[0, 4] = positions_next_page_button\n",
    "        positions_page_grid.layout.grid_template_rows = \"40px\"\n",
    "        positions_page_grid.layout.grid_template_columns = \"auto 40px 70px 60px 40px\"\n",
    "\n",
    "        self.positions_grid = widgets.GridspecLayout(3, 4)\n",
    "        self.positions_grid[0, 0] = positions_label\n",
    "        self.positions_grid[0, 1] = positions_date\n",
    "        self.positions_grid[0, 3] = positions_download_button\n",
    "        self.positions_grid[1, :] = positions_interactive_table\n",
    "        self.positions_grid[2, :] = positions_page_grid\n",
    "        self.positions_grid.layout.grid_template_rows = \"60px auto 40px\"\n",
    "        self.positions_grid.layout.grid_template_columns = \"100px 130px auto 80px\"\n",
    "        self.positions_grid.layout.align_items = 'center'\n",
    "        # self.positions_grid.layout.justify_content = \"space-between\"\n",
    "        # self.positions_grid.layout.justify_items = 'center'\n",
    "        \n",
    "        # 表格交互\n",
    "        transactions_download_button.on_click(self.save_transactions)\n",
    "        transactions_interactive_table = widgets.interactive_output(self.output_transactions_table, {\n",
    "                                                                \"date\": transactions_date,\n",
    "                                                                \"page\": self.transactions_cur_page\n",
    "                                                            })\n",
    "        # 交易详情翻页布局\n",
    "        transactions_page_grid = widgets.GridspecLayout(1, 5)\n",
    "        transactions_page_grid[0, 3] = self.transactions_page_label\n",
    "        transactions_page_grid[0, 1] = transactions_previous_page_button\n",
    "        transactions_page_grid[0, 2] = self.transactions_cur_page\n",
    "        transactions_page_grid[0, 4] = transactions_next_page_button\n",
    "        transactions_page_grid.layout.grid_template_rows = \"40px\"\n",
    "        transactions_page_grid.layout.grid_template_columns = \"auto 40px 70px 60px 40px\"\n",
    "\n",
    "        self.transactions_grid = widgets.GridspecLayout(3, 4)\n",
    "        self.transactions_grid[0, 0] = transactions_label\n",
    "        self.transactions_grid[0, 1] = transactions_date\n",
    "        self.transactions_grid[0, 3] = transactions_download_button\n",
    "        self.transactions_grid[1, :] = transactions_interactive_table\n",
    "        self.transactions_grid[2, :] = transactions_page_grid\n",
    "        self.transactions_grid.layout.grid_template_rows = \"60px auto 40px\"\n",
    "        self.transactions_grid.layout.grid_template_columns = \"100px 130px auto 80px\"\n",
    "        self.transactions_grid.layout.align_items = 'center'\n",
    "        # self.transactions_grid.layout.justify_content = \"space-between\"\n",
    "        # self.transactions_grid.layout.justify_items = 'center'\n",
    "\n",
    "        # 策略详情\n",
    "        detail_grid = widgets.GridspecLayout(3, 4)\n",
    "        detail_grid[0:2, 0] = cum_return_label\n",
    "        detail_grid[2, 0] = cum_text_label\n",
    "        detail_grid[0:2, 1] = relative_cum_return_label\n",
    "        detail_grid[2, 1] = relative_cum_text_label\n",
    "        detail_grid[0, 2] = today_return_label\n",
    "        detail_grid[1, 2] = max_draw_label\n",
    "        detail_grid[2, 2] = init_cash_label\n",
    "        detail_grid[0, 3] = annual_return_label\n",
    "        detail_grid[1, 3] = sharpe_ratio_label\n",
    "        detail_grid[2, 3] = trade_start_label\n",
    "        detail_grid.layout.grid_template_rows = \"auto auto auto\"\n",
    "        detail_grid.layout.grid_template_columns = \"auto auto auto auto\"\n",
    "        detail_grid.layout.align_items = 'center'\n",
    "        detail_grid.layout.justify_items = 'center'\n",
    "\n",
    "        self.strategy_grid = widgets.GridspecLayout(2, 1)\n",
    "        self.strategy_grid[0, 0] = strategy_label\n",
    "        self.strategy_grid[1, 0] = detail_grid\n",
    "        self.strategy_grid.layout.grid_template_rows = \"60px auto\"\n",
    "        self.strategy_grid.layout.grid_template_columns = \"auto\"\n",
    "        self.strategy_grid.layout.align_items = 'center'\n",
    "        # self.strategy_grid.layout.justify_content = \"space-between\"\n",
    "        # self.strategy_grid.layout.justify_items = 'center'\n",
    "\n",
    "        # 收益统计\n",
    "        statistic_interactive_table = widgets.interactive(self.output_statistics_table)\n",
    "        self.statistic_grid = widgets.GridspecLayout(2, 1)\n",
    "        self.statistic_grid[0, 0] = statistic_label\n",
    "        self.statistic_grid[1, 0] = statistic_interactive_table\n",
    "        self.statistic_grid.layout.grid_template_rows = \"60px auto\"\n",
    "        self.statistic_grid.layout.grid_template_columns = \"auto\"\n",
    "        self.statistic_grid.layout.align_items = 'center'\n",
    "        # self.statistic_grid.layout.justify_content = \"space-between\"\n",
    "        # self.statistic_grid.layout.justify_items = 'center'\n",
    "\n",
    "        # 风格因子\n",
    "        styles_interactive_table = widgets.interactive(self.output_styles_table)\n",
    "        self.styles_grid = widgets.GridspecLayout(2, 1)\n",
    "        self.styles_grid[0, 0] = styles_label\n",
    "        self.styles_grid[1, 0] = styles_interactive_table\n",
    "        self.styles_grid.layout.grid_template_rows = \"60px auto\"\n",
    "        self.styles_grid.layout.grid_template_columns = \"auto\"\n",
    "        self.styles_grid.layout.align_items = 'center'\n",
    "        # self.styles_grid.layout.justify_content = \"space-between\"\n",
    "        # self.styles_grid.layout.justify_items = 'center'\n",
    "\n",
    "        # 表格交互\n",
    "        orders_download_button.on_click(self.save_orders)\n",
    "        orders_interactive_table = widgets.interactive_output(self.output_orders_table, {\"page\": self.orders_cur_page})\n",
    "\n",
    "        # 计划交易翻页布局\n",
    "        orders_page_grid = widgets.GridspecLayout(1, 5)\n",
    "        orders_page_grid[0, 3] = orders_page_label\n",
    "        orders_page_grid[0, 1] = orders_previous_page_button\n",
    "        orders_page_grid[0, 2] = self.orders_cur_page\n",
    "        orders_page_grid[0, 4] = orders_next_page_button\n",
    "        orders_page_grid.layout.grid_template_rows = \"40px\"\n",
    "        orders_page_grid.layout.grid_template_columns = \"auto 40px 70px 60px 40px\"\n",
    "\n",
    "        # 计划交易\n",
    "        self.orders_grid = widgets.GridspecLayout(3, 4)\n",
    "        self.orders_grid[0, 0] = orders_label\n",
    "        self.orders_grid[0, 3] = orders_download_button\n",
    "        self.orders_grid[1, :] = orders_interactive_table\n",
    "        self.orders_grid[2, :] = orders_page_grid\n",
    "        self.orders_grid.layout.grid_template_rows = \"60px auto 40px\"\n",
    "        self.orders_grid.layout.grid_template_columns = \"100px 130px auto 80px\"\n",
    "        self.orders_grid.layout.align_items = 'center'\n",
    "        # self.orders_grid.layout.justify_content = \"space-between\"\n",
    "        # self.orders_grid.layout.justify_items = 'center'\n",
    "\n",
    "        self.total_page_grid = widgets.GridspecLayout(7, 1)\n",
    "        self.total_page_grid[0, 0] = self.strategy_grid\n",
    "        self.total_page_grid[1, 0] = self.plot_grid\n",
    "        self.total_page_grid[2, 0] = self.statistic_grid\n",
    "        self.total_page_grid[3, 0] = self.styles_grid\n",
    "        self.total_page_grid[4, 0] = self.orders_grid\n",
    "        self.total_page_grid[5, 0] = self.positions_grid\n",
    "        self.total_page_grid[6, 0] = self.transactions_grid\n",
    "        self.total_page_grid.layout.grid_template_rows = \"auto\"\n",
    "        self.total_page_grid.layout.grid_template_columns = \"auto\"\n",
    "        self.total_page_grid.layout.align_items = 'center'\n",
    "        # self.total_page_grid.layout.justify_content = \"space-between\"\n",
    "        # self.total_page_grid.layout.justify_items = 'center'\n",
    "#         display(self.total_page_grid)\n",
    "    \n",
    "    def date_format_transfer(self, date):\n",
    "        time_tuple = time.strptime(date, '%Y%m%d')\n",
    "        year, month, day = time_tuple[:3]\n",
    "        return datetime.date(year, month, day)\n",
    "    \n",
    "\n",
    "    def display_figure(self):\n",
    "        self.returns[\"date\"] = pd.to_datetime(self.returns.index.map(lambda x:self.date_format_transfer(x)))\n",
    "        self.returns.set_index(\"date\", inplace=True)\n",
    "        self.returns.index.name = None\n",
    "        options = {\n",
    "            \"legend\": {\n",
    "                \"enabled\": True,\n",
    "                \"symbolHeight\": 8,\n",
    "                \"symbolWidth\": 8,\n",
    "                \"symbolPadding\": 8,\n",
    "                \"symbolRadius\": 0,\n",
    "            },\n",
    "            \"plotOptions\": {\n",
    "                \"series\": {\n",
    "                    \"showInNavigator\": True,\n",
    "                },\n",
    "                \"area\": {\n",
    "                    \"showInNavigator\": True,\n",
    "                },\n",
    "            },\n",
    "            \"rangeSelector\": {\n",
    "                \"enabled\": True,\n",
    "            },\n",
    "            \"navigator\": {\n",
    "                \"enabled\": True,\n",
    "            },\n",
    "            \"series\": [\n",
    "                {\n",
    "                    \"name\": \"策略收益率\",\n",
    "                    \"color\": \"#ff0000\",\n",
    "                    \"tooltip\": {\n",
    "                        \"valueDecimals\": 2,\n",
    "                        \"valueSuffix\": \" %\",\n",
    "                    },\n",
    "                    \"type\": \"area\",\n",
    "                    \"fillColor\": {\n",
    "                        \"linearGradient\": [0, 0, 0, 1],\n",
    "                        \"stops\": [\n",
    "                            [0, \"rgba(238,149,148,0.5)\"],\n",
    "                            [1, \"rgba(238,149,148,0.5)\"],\n",
    "                        ],\n",
    "                    },\n",
    "                },\n",
    "                {\n",
    "                    \"name\": \"基准收益率\",\n",
    "                    \"color\": \"#2776B6\",\n",
    "                    \"tooltip\": {\n",
    "                        \"valueDecimals\": 2,\n",
    "                        \"valueSuffix\": \" %\",\n",
    "                    },\n",
    "                },\n",
    "                {\n",
    "                    \"name\": \"相对收益率\",\n",
    "                    \"color\": \"#8f4e4f\",\n",
    "                    \"tooltip\": {\n",
    "                        \"valueDecimals\": 2,\n",
    "                        \"valueSuffix\": \" %\",\n",
    "                    },\n",
    "                    \"visible\": False,\n",
    "                },\n",
    "                {\n",
    "                    \"name\": \"持仓占比\",\n",
    "                    \"color\": \"#66ff99\",\n",
    "                    \"tooltip\": {\n",
    "                        \"valueDecimals\": 2,\n",
    "                        \"valueSuffix\": \" %\",\n",
    "                    },\n",
    "                },\n",
    "            ],\n",
    "            \"yAxis\": [\n",
    "                {\n",
    "                    \"title\": {\n",
    "                        \"text\": \"净值曲线\",\n",
    "                    },\n",
    "                    \"labels\": {\"format\": \"{value}%\"},\n",
    "                    \"gridLineColor\": \"#cfcfcf\",\n",
    "                    \"gridLineWidth\": 1,\n",
    "                },\n",
    "                {\n",
    "                    \"title\": {\n",
    "                        \"text\": \"持仓占比\",\n",
    "                    },\n",
    "                    \"labels\": {\"format\": \"{value}%\"},\n",
    "                    \"gridLineColor\": \"#cfcfcf\",\n",
    "                    \"gridLineWidth\": 1,\n",
    "                },\n",
    "            ],\n",
    "            \"chart\": {\n",
    "                # 'height': 500,\n",
    "            },\n",
    "        }\n",
    "        #T.plot(self.returns*100, panes=[[\"策略收益率\", \"基准收益率\", \"相对收益率\", \"80%\"], [\"持仓占比\", \"20%\"]], options=options)\n",
    "        \n",
    "\n",
    "    ###### 按键响应函数 #####\n",
    "    def save_figure(self, sender):\n",
    "        file_name = '收益率曲线_' + datetime.datetime.now().strftime(\"%Y%m%d%H%M%S\") + '.png'\n",
    "        self.fig.savefig(os.path.join(DIR_ROOT, file_name))\n",
    "        print('%s!' % sender.tooltip)\n",
    "\n",
    "\n",
    "    def save_orders(self, sender):\n",
    "        file_name = '计划交易_' + datetime.datetime.now().strftime(\"%Y%m%d%H%M%S\") + '.csv'\n",
    "        self.orders.to_csv(os.path.join(DIR_ROOT, file_name), encoding=\"utf-8\", header=True, index=False)\n",
    "        print('%s!' % sender.tooltip)\n",
    "\n",
    "\n",
    "    def save_positions(self, sender):\n",
    "        file_name = '持仓详情_' + datetime.datetime.now().strftime(\"%Y%m%d%H%M%S\") + '.csv'\n",
    "        self.positions.to_csv(os.path.join(DIR_ROOT, file_name), encoding=\"utf-8\", header=True, index=False)\n",
    "        print('%s!' % sender.tooltip)\n",
    "\n",
    "    def save_transactions(self, sender):\n",
    "        file_name = '交易详情_' + datetime.datetime.now().strftime(\"%Y%m%d%H%M%S\") + '.csv'\n",
    "        self.transactions.to_csv(os.path.join(DIR_ROOT, file_name), encoding=\"utf-8\", header=True, index=False)\n",
    "        print('%s!' % sender.tooltip)\n",
    "\n",
    "\n",
    "    def orders_previous_page_turn(self, sender):\n",
    "        self.orders_cur_page.value -= 1\n",
    "        # print('%s!' % sender.tooltip)\n",
    "\n",
    "\n",
    "    def orders_next_page_turn(self, sender):\n",
    "        self.orders_cur_page.value += 1\n",
    "        # print('%s!' % sender.tooltip)\n",
    "\n",
    "\n",
    "    def positions_previous_page_turn(self, sender):\n",
    "        self.positions_cur_page.value -= 1\n",
    "        # print('%s!' % sender.tooltip)\n",
    "\n",
    "\n",
    "    def positions_next_page_turn(self, sender):\n",
    "        self.positions_cur_page.value += 1\n",
    "        # print('%s!' % sender.tooltip)\n",
    "\n",
    "\n",
    "    def transactions_previous_page_turn(self, sender):\n",
    "        self.transactions_cur_page.value -= 1\n",
    "        # print('%s!' % sender.tooltip)\n",
    "\n",
    "\n",
    "    def transactions_next_page_turn(self, sender):\n",
    "        self.transactions_cur_page.value += 1\n",
    "        # print('%s!' % sender.tooltip)\n",
    "\n",
    "\n",
    "    def output_positions_table(self, date, page):\n",
    "        positions_style = {\n",
    "            \"资金仓位\": \"{:.2f}\",\n",
    "            \"持仓数量\": \"{:.0f}\"\n",
    "        }\n",
    "        if not date:\n",
    "            display(self.positions[self.page_margin*(page-1):self.page_margin*page].style.format(None, na_rep=\"-\").format(positions_style, na_rep=\"-\").hide_index().set_properties(**{'width': '500px'}))\n",
    "        elif date not in self.date_map:\n",
    "            display(\"暂无数据\")\n",
    "        else:\n",
    "            chosen_date = date.strftime(\"%Y-%m-%d\")\n",
    "            tmp = self.positions.query(\"日期时间 == @chosen_date\").reset_index(drop=True)\n",
    "            tmp = tmp.reindex(tmp.index.union(range(len(tmp), self.page_margin * (max(0, tmp.shape[0] - 1) // self.page_margin + 1))))\n",
    "            display(tmp[self.page_margin*(page-1):self.page_margin*page].style.format(None, na_rep=\"-\").format(positions_style, na_rep=\"-\").hide_index().set_properties(**{'width': '500px'}))\n",
    "\n",
    "\n",
    "    def output_transactions_table(self, date, page):\n",
    "        transactions_style = {\n",
    "            \"成交量\": \"{:.0f}\",\n",
    "            \"成交价格\": \"{:.2f}\",\n",
    "            \"手续费\": \"{:.2f}\",\n",
    "            \"成交额\": \"{:.2f}\"\n",
    "        }\n",
    "        if not date:\n",
    "            display(self.transactions[self.page_margin*(page-1):self.page_margin*page].style.format(None, na_rep=\"-\").format(transactions_style, na_rep=\"-\").hide_index().\n",
    "                    applymap(self.highlight_cols, subset=pd.IndexSlice[:, ['操作', '成交额']]).set_properties(**{'width': '500px'}))\n",
    "        elif date not in self.date_map:\n",
    "            display(\"暂无数据\")\n",
    "        else:\n",
    "            chosen_date = date.strftime(\"%Y-%m-%d\")\n",
    "            tmp = self.transactions.query(\"日期时间 == @chosen_date\").reset_index(drop=True)\n",
    "            tmp = tmp.reindex(tmp.index.union(range(len(tmp), self.page_margin * (max(0, tmp.shape[0] - 1) // self.page_margin + 1))))\n",
    "            display(tmp[self.page_margin*(page-1):self.page_margin*page].style.format(None, na_rep=\"-\").format(transactions_style, na_rep=\"-\").hide_index().\n",
    "                    applymap(self.highlight_cols, subset=pd.IndexSlice[:, ['操作', '成交额']]).set_properties(**{'width': '500px'}))\n",
    "\n",
    "\n",
    "    def output_orders_table(self, page):\n",
    "        orders_style = {\n",
    "            \"价格\": \"{:.2f}\",\n",
    "            \"委托数量\": \"{:.0f}\",\n",
    "        }\n",
    "        display(self.orders[self.page_margin*(page-1):self.page_margin*page].style.format(None, na_rep=\"-\").format(orders_style, na_rep=\"-\").hide_index().\n",
    "                applymap(self.highlight_cols, subset=pd.IndexSlice[:, ['操作']]).set_properties(**{'width': '500px'}))\n",
    "\n",
    "\n",
    "    def output_statistics_table(self):\n",
    "        statistics_style = {\n",
    "            \"累计收益率\": \"{:.2%}\",\n",
    "            \"年化收益率\": \"{:.2%}\",\n",
    "            \"最大回撤\": \"{:.2%}\",\n",
    "            \"胜率\": \"{:.2%}\",\n",
    "            \"夏普比率\": \"{:.2f}\",\n",
    "            \"今日收益率\": \"{:.2%}\",\n",
    "            \"近一周收益率\": \"{:.2%}\",\n",
    "            \"近一月收益率\": \"{:.2%}\",\n",
    "            \"近三月收益率\": \"{:.2%}\",\n",
    "            \"近半年收益率\": \"{:.2%}\",\n",
    "            \"近一年收益率\": \"{:.2%}\"\n",
    "        }\n",
    "        display(self.statistics.style.format(statistics_style, na_rep=\"-\").hide_index().\n",
    "                applymap(self.highlight_cols, subset=pd.IndexSlice[:, [\"累计收益率\", \"年化收益率\", \"今日收益率\", \"近一周收益率\",\n",
    "                \"近一月收益率\", \"近三月收益率\", \"近半年收益率\", \"近一年收益率\"]]).set_properties(**{'width': '500px'}))\n",
    "\n",
    "\n",
    "    def output_styles_table(self):\n",
    "        # 使用seaborn获取颜色\n",
    "#         import seaborn as sns\n",
    "#         cmap = sns.light_palette(\"red\", as_cmap=True)\n",
    "        display(self.res_style.style.format(\"{:.2f}\", na_rep=\"-\").background_gradient(axis=1, cmap=\"coolwarm\").\n",
    "                set_properties(**{'width': '500px'}))\n",
    "\n",
    "\n",
    "    def highlight_cols(self, column):\n",
    "        color = \"\"\n",
    "        if isinstance(column, str):\n",
    "            if column == \"卖\":\n",
    "                color = 'green'\n",
    "            elif column == \"买\":\n",
    "                color = 'red'\n",
    "        if isinstance(column, float):\n",
    "            if column < 0:\n",
    "                color = 'green'\n",
    "            elif column > 0:\n",
    "                color = 'red'\n",
    "        return 'color: %s' % color\n",
    "\n",
    "\n",
    "    def update_positions_page_num(self, change):\n",
    "        if change.new:\n",
    "            chosen_date = change.new.strftime(\"%Y-%m-%d\")\n",
    "            tmp = self.positions.query(\"日期时间 == @chosen_date\")\n",
    "            self.positions_page_label.value = \"/%s页\" % str(max(0, tmp.shape[0] - 1) // self.page_margin + 1)\n",
    "            self.positions_cur_page.value = 1\n",
    "            self.positions_cur_page.max = max(0, tmp.shape[0] - 1) // self.page_margin + 1\n",
    "\n",
    "\n",
    "    def update_transactions_page_num(self, change):\n",
    "        if change.new:\n",
    "            chosen_date = change.new.strftime(\"%Y-%m-%d\")\n",
    "            tmp = self.transactions.query(\"日期时间 == @chosen_date\")\n",
    "            self.transactions_page_label.value = \"/%s页\" % str(max(0, tmp.shape[0] - 1) // self.page_margin + 1)\n",
    "            self.transactions_cur_page.value = 1\n",
    "            self.transactions_cur_page.max = max(0, tmp.shape[0] - 1) // self.page_margin + 1\n",
    "\n",
    "\n",
    "# Python 代码入口函数，input_1/2/3 对应三个输入端，data_1/2/3 对应三个输出端\n",
    "def m2_run_bigquant_run(input_1, input_2, benchmark_instruments):\n",
    "    # 示例代码如下。在这里编写您的代码\n",
    "    im = interactModule(input_1.read(), input_2.read(), benchmark_instruments[0])\n",
    "    display(im.total_page_grid)\n",
    "    return Outputs()\n",
    "# 后处理函数，可选。输入是主函数的输出，可以在这里对数据做处理，或者返回更友好的outputs数据格式。此函数输出不会被缓存。\n",
    "def m2_post_run_bigquant_run(outputs):\n",
    "    return outputs\n",
    "\n",
    "\n",
    "m1 = M.cached.v3(\n",
    "    run=m1_run_bigquant_run,\n",
    "    post_run=m1_post_run_bigquant_run,\n",
    "    input_ports='',\n",
    "    params='{}',\n",
    "    output_ports=''\n",
    ")\n",
    "\n",
    "m2 = M.cached.v3(\n",
    "    input_1=m1.data_1,\n",
    "    input_2=m1.data_2,\n",
    "    run=m2_run_bigquant_run,\n",
    "    post_run=m2_post_run_bigquant_run,\n",
    "    input_ports='input_1, input_2',\n",
    "    params=\"\"\"{\n",
    "    'benchmark_instruments': '000905.SH'\n",
    "}\"\"\",\n",
    "    output_ports='',\n",
    "    m_cached=False\n",
    ")\n"
   ]
  }
 ],
 "metadata": {
  "is_mlstudio": "true",
  "kernelspec": {
   "display_name": "Python 3",
   "language": "python",
   "name": "python3"
  },
  "language_info": {
   "codemirror_mode": {
    "name": "ipython",
    "version": 3
   },
   "file_extension": ".py",
   "mimetype": "text/x-python",
   "name": "python",
   "nbconvert_exporter": "python",
   "pygments_lexer": "ipython3",
   "version": "3.8.12"
  },
  "widgets": {
   "application/vnd.jupyter.widget-state+json": {
    "state": {
     "0028a06c6ab547c0a1b73ac51d8333b4": {
      "model_module": "@jupyter-widgets/controls",
      "model_module_version": "1.5.0",
      "model_name": "HTMLModel",
      "state": {
       "layout": "IPY_MODEL_4fc9c48e19de4196a74ce65222c4549d",
       "style": "IPY_MODEL_e3638e37092748e18a9e488521d66597",
       "value": "<span style='font-size:20px;'> <b>风格偏好</b> </span>"
      }
     },
     "00584b066f3b47c4856201ab0d2c118b": {
      "model_module": "@jupyter-widgets/output",
      "model_module_version": "1.0.0",
      "model_name": "OutputModel",
      "state": {
       "layout": "IPY_MODEL_2eeb4a5cba8649b093c36ba83b05c9af"
      }
     },
     "006efd2bc8d84914b5908d795b23c698": {
      "model_module": "@jupyter-widgets/base",
      "model_module_version": "1.2.0",
      "model_name": "LayoutModel",
      "state": {
       "grid_area": "widget002",
       "width": "30px"
      }
     },
     "0146181f11794c88ae4bb0a8c222e1ce": {
      "model_module": "@jupyter-widgets/controls",
      "model_module_version": "1.5.0",
      "model_name": "DescriptionStyleModel",
      "state": {
       "description_width": ""
      }
     },
     "01d79a2c6a064ead8af44df444f7b4f8": {
      "model_module": "@jupyter-widgets/base",
      "model_module_version": "1.2.0",
      "model_name": "LayoutModel",
      "state": {
       "grid_area": "widget007"
      }
     },
     "01fa9a25f5764c8e9d9217d81a76cf6e": {
      "model_module": "@jupyter-widgets/base",
      "model_module_version": "1.2.0",
      "model_name": "LayoutModel",
      "state": {
       "grid_area": "widget002",
       "width": "70px"
      }
     },
     "024a078cd7e241c58caa60a1cfe8e3c2": {
      "model_module": "@jupyter-widgets/controls",
      "model_module_version": "1.5.0",
      "model_name": "HTMLModel",
      "state": {
       "layout": "IPY_MODEL_12b6a06df9104862879c5b31bc303c89",
       "style": "IPY_MODEL_92e39a3f1b08451f82501c858b223a80",
       "value": "<span style='font-size:20px;'> <b>收益统计</b> </span>"
      }
     },
     "02501cbd4f3e4f35b66bae6630248afc": {
      "model_module": "@jupyter-widgets/controls",
      "model_module_version": "1.5.0",
      "model_name": "ButtonStyleModel",
      "state": {}
     },
     "0279cb70f0394405a938b4da037b1ae0": {
      "model_module": "@jupyter-widgets/controls",
      "model_module_version": "1.5.0",
      "model_name": "HTMLModel",
      "state": {
       "layout": "IPY_MODEL_8e8a26d16c4c4a129faa6e457c8bbca7",
       "style": "IPY_MODEL_28dc42a0c22c4823b6c1f0e9a202054b",
       "value": "<span style='font-size:20px;'> <b>收益率走势</b> </span>"
      }
     },
     "029b538615c44ec1a903065ce9dcdbff": {
      "model_module": "@jupyter-widgets/base",
      "model_module_version": "1.2.0",
      "model_name": "LayoutModel",
      "state": {
       "align_items": "center",
       "grid_template_areas": "\"widget001\"\n\"widget002\"\n\"widget003\"\n\"widget004\"\n\"widget005\"\n\"widget006\"\n\"widget007\"",
       "grid_template_columns": "auto",
       "grid_template_rows": "auto"
      }
     },
     "02f20b26717042ff93bf897767c067b8": {
      "model_module": "@jupyter-widgets/controls",
      "model_module_version": "1.5.0",
      "model_name": "BoundedIntTextModel",
      "state": {
       "layout": "IPY_MODEL_22144e399cab4c22844eff08a06b8a0a",
       "max": 112,
       "min": 1,
       "style": "IPY_MODEL_93e81714d7a4412e95016f325c1ece8b",
       "value": 1
      }
     },
     "03213a920fd24b3599c7651271a3ce8f": {
      "model_module": "@jupyter-widgets/controls",
      "model_module_version": "1.5.0",
      "model_name": "DescriptionStyleModel",
      "state": {
       "description_width": ""
      }
     },
     "04df4e94139d467aa23ae7babae820ac": {
      "model_module": "@jupyter-widgets/controls",
      "model_module_version": "1.5.0",
      "model_name": "HTMLModel",
      "state": {
       "layout": "IPY_MODEL_3e862def18bd4bdfb5f67e46d89603c6",
       "style": "IPY_MODEL_62d6719ace294a1c88ece678b141910b",
       "value": "<span style='font-size:20px;'> <b>交易详情</b> </span>"
      }
     },
     "04f461a9c0974dd1be9c5070a9aaf852": {
      "model_module": "@jupyter-widgets/base",
      "model_module_version": "1.2.0",
      "model_name": "LayoutModel",
      "state": {
       "grid_area": "widget002",
       "width": "125px"
      }
     },
     "04f7a0fde69e4cdf8f665e36f350f48d": {
      "model_module": "@jupyter-widgets/base",
      "model_module_version": "1.2.0",
      "model_name": "LayoutModel",
      "state": {
       "grid_area": "widget002"
      }
     },
     "059c1877c8e54c63a90f83d398f66d13": {
      "model_module": "@jupyter-widgets/base",
      "model_module_version": "1.2.0",
      "model_name": "LayoutModel",
      "state": {
       "grid_area": "widget001"
      }
     },
     "0669266749b84e44abf74323875989b4": {
      "model_module": "@jupyter-widgets/controls",
      "model_module_version": "1.5.0",
      "model_name": "HTMLModel",
      "state": {
       "layout": "IPY_MODEL_3e7e8533956a42db91f4848f2307f4c9",
       "style": "IPY_MODEL_86d1594433624fc3a2a5f0441d25414a",
       "value": "/112页"
      }
     },
     "0710bca1c452425eb680231ae5f69ffe": {
      "model_module": "@jupyter-widgets/controls",
      "model_module_version": "1.5.0",
      "model_name": "ButtonModel",
      "state": {
       "description": "下载",
       "icon": "download",
       "layout": "IPY_MODEL_1815ba107ac744aaa6f4e0d503528ee8",
       "style": "IPY_MODEL_aa3e75a0c838484a9dca303a6db1bcaa",
       "tooltip": "下载持仓详情表格"
      }
     },
     "07ed80692c354be49bd1e8d3f3b55abd": {
      "model_module": "@jupyter-widgets/controls",
      "model_module_version": "1.5.0",
      "model_name": "DatePickerModel",
      "state": {
       "disabled": false,
       "layout": "IPY_MODEL_a33d24e6fe454474bae7d8ec24774bee",
       "style": "IPY_MODEL_2bc61eb56fd34b5c918d10fdb4534ccb"
      }
     },
     "09587512fdb347a099c6566cdc201335": {
      "model_module": "@jupyter-widgets/base",
      "model_module_version": "1.2.0",
      "model_name": "LayoutModel",
      "state": {
       "grid_area": "widget002"
      }
     },
     "098d001dae5c4df5857ab575f001237c": {
      "model_module": "@jupyter-widgets/controls",
      "model_module_version": "1.5.0",
      "model_name": "ButtonModel",
      "state": {
       "icon": "angle-right",
       "layout": "IPY_MODEL_7f2792ff6dc54fa6936707035147712e",
       "style": "IPY_MODEL_15cfe4180b6c40aa9ea802b00ea0486f",
       "tooltip": "下一页"
      }
     },
     "099cbcdf03664c20a1f1677aea12a8f1": {
      "model_module": "@jupyter-widgets/controls",
      "model_module_version": "1.5.0",
      "model_name": "HTMLModel",
      "state": {
       "layout": "IPY_MODEL_6e541dcb1ca9486ea2473b1f331c89d7",
       "style": "IPY_MODEL_37d864c7c8e149c283967dcbe0d84084",
       "value": "超额累计收益"
      }
     },
     "09e600fd703e4dc99828ba92f645b0a7": {
      "model_module": "@jupyter-widgets/controls",
      "model_module_version": "1.5.0",
      "model_name": "GridBoxModel",
      "state": {
       "children": [
        "IPY_MODEL_ec38aff1c2cd4d2f80c43085f4afef2a",
        "IPY_MODEL_bac47f5e3d0843ceb40dfcee4c145719",
        "IPY_MODEL_b3f64b193ff24a79928f60d9907b9c45",
        "IPY_MODEL_283601847f114182a1583953ead2f19a"
       ],
       "layout": "IPY_MODEL_3ee6dcc08b8e4138ab236e8551e4fbb8"
      }
     },
     "0b242e1bccf442178372f74cc262ee0c": {
      "model_module": "@jupyter-widgets/base",
      "model_module_version": "1.2.0",
      "model_name": "LayoutModel",
      "state": {
       "grid_area": "widget001"
      }
     },
     "0b2472cf03d4463da84f6e8f569a8efd": {
      "model_module": "@jupyter-widgets/controls",
      "model_module_version": "1.5.0",
      "model_name": "GridBoxModel",
      "state": {
       "children": [
        "IPY_MODEL_4a8411f8f57949d785da67021e0403a1",
        "IPY_MODEL_c072e7a5bfe547ec89be16966799c26b",
        "IPY_MODEL_541ec0835ca644ef9f46ee57061b1295",
        "IPY_MODEL_daeb10cd8d1c4dec9720817649c0adb8"
       ],
       "layout": "IPY_MODEL_ad99685bb7c44746b09945a0b5d73ca9"
      }
     },
     "0b4806df679c41f09cb726c589c85256": {
      "model_module": "@jupyter-widgets/controls",
      "model_module_version": "1.5.0",
      "model_name": "VBoxModel",
      "state": {
       "_dom_classes": [
        "widget-interact"
       ],
       "children": [
        "IPY_MODEL_d7a3077e82dc41a58aedc41e9d2cee3e"
       ],
       "layout": "IPY_MODEL_ed3e2e08298e41c7a175c9a2159d99a0"
      }
     },
     "0b8fff184ac745579b9f3b4ab4ee98d8": {
      "model_module": "@jupyter-widgets/controls",
      "model_module_version": "1.5.0",
      "model_name": "DescriptionStyleModel",
      "state": {
       "description_width": ""
      }
     },
     "0bf60611c6074e919c5294645d37c069": {
      "model_module": "@jupyter-widgets/controls",
      "model_module_version": "1.5.0",
      "model_name": "BoundedIntTextModel",
      "state": {
       "layout": "IPY_MODEL_f959802fa3b34107a94d2f97f439f992",
       "max": 836,
       "min": 1,
       "style": "IPY_MODEL_8f265c6754b949d4ae388bad667742ab",
       "value": 1
      }
     },
     "0bfe45b3a87e43c5ace0cafb605d578e": {
      "model_module": "@jupyter-widgets/base",
      "model_module_version": "1.2.0",
      "model_name": "LayoutModel",
      "state": {
       "grid_area": "widget003"
      }
     },
     "0c16169c6950450887de49828330d05c": {
      "model_module": "@jupyter-widgets/controls",
      "model_module_version": "1.5.0",
      "model_name": "BoundedIntTextModel",
      "state": {
       "layout": "IPY_MODEL_e46ca4e59a06467088b8b8a891705f7d",
       "max": 836,
       "min": 1,
       "style": "IPY_MODEL_27752de0d47745b7a0dbaf5405815205",
       "value": 1
      }
     },
     "0c2e807250ea455db93d570ead34eb5e": {
      "model_module": "@jupyter-widgets/controls",
      "model_module_version": "1.5.0",
      "model_name": "DescriptionStyleModel",
      "state": {
       "description_width": ""
      }
     },
     "0d07c77f3c6540f3b4db01b7cc69e179": {
      "model_module": "@jupyter-widgets/controls",
      "model_module_version": "1.5.0",
      "model_name": "ButtonModel",
      "state": {
       "description": "下载",
       "icon": "download",
       "layout": "IPY_MODEL_96bcf0ad371e4bc19bdc8f95a60f3039",
       "style": "IPY_MODEL_339a700e874b420bb7e5e9fa46c10611",
       "tooltip": "下载计划交易表格"
      }
     },
     "0d40481ffdb64f6097b6e9d2d7c5dc78": {
      "model_module": "@jupyter-widgets/base",
      "model_module_version": "1.2.0",
      "model_name": "LayoutModel",
      "state": {
       "align_items": "center",
       "grid_area": "widget003",
       "grid_template_areas": "\"widget001\"\n\"widget002\"",
       "grid_template_columns": "auto",
       "grid_template_rows": "60px auto"
      }
     },
     "0d8c6e31b4324e428a64f11fa2314cda": {
      "model_module": "@jupyter-widgets/controls",
      "model_module_version": "1.5.0",
      "model_name": "DescriptionStyleModel",
      "state": {
       "description_width": ""
      }
     },
     "0e6e0c1b742e4d96a18dbd7b37e13e15": {
      "model_module": "@jupyter-widgets/controls",
      "model_module_version": "1.5.0",
      "model_name": "GridBoxModel",
      "state": {
       "children": [
        "IPY_MODEL_0669266749b84e44abf74323875989b4",
        "IPY_MODEL_a33482a2de4f4a67afe50b63ce95ebfe",
        "IPY_MODEL_ba9735dd3c4e4a5591ac0241c5326f8d",
        "IPY_MODEL_098d001dae5c4df5857ab575f001237c"
       ],
       "layout": "IPY_MODEL_73ec6621519e49a7a82d12d2180c4e26"
      }
     },
     "0e87e68357c14c0987e322b2b9743412": {
      "model_module": "@jupyter-widgets/controls",
      "model_module_version": "1.5.0",
      "model_name": "ButtonStyleModel",
      "state": {}
     },
     "0eb4e526f92b4d76ae28164738f9d391": {
      "model_module": "@jupyter-widgets/controls",
      "model_module_version": "1.5.0",
      "model_name": "DescriptionStyleModel",
      "state": {
       "description_width": ""
      }
     },
     "0f4aeab2b1584e68b8196d95372d87a5": {
      "model_module": "@jupyter-widgets/base",
      "model_module_version": "1.2.0",
      "model_name": "LayoutModel",
      "state": {
       "grid_area": "widget001"
      }
     },
     "0f6f3d2f5cf448a697276d45d70660c1": {
      "model_module": "@jupyter-widgets/controls",
      "model_module_version": "1.5.0",
      "model_name": "ButtonStyleModel",
      "state": {}
     },
     "10595c70738b473ea78f3fd6ba540413": {
      "model_module": "@jupyter-widgets/output",
      "model_module_version": "1.0.0",
      "model_name": "OutputModel",
      "state": {
       "layout": "IPY_MODEL_f943a4ad6560462d99a48fc0e0b6c967",
       "outputs": [
        {
         "data": {
          "text/html": "<style  type=\"text/css\" >\n#T_ee29b_row0_col0,#T_ee29b_row0_col1,#T_ee29b_row0_col2,#T_ee29b_row0_col4,#T_ee29b_row0_col5,#T_ee29b_row0_col7,#T_ee29b_row1_col0,#T_ee29b_row1_col1,#T_ee29b_row1_col2,#T_ee29b_row1_col4,#T_ee29b_row1_col5,#T_ee29b_row1_col7,#T_ee29b_row2_col0,#T_ee29b_row2_col1,#T_ee29b_row2_col2,#T_ee29b_row2_col4,#T_ee29b_row2_col5,#T_ee29b_row2_col7,#T_ee29b_row3_col0,#T_ee29b_row3_col1,#T_ee29b_row3_col2,#T_ee29b_row3_col4,#T_ee29b_row3_col5,#T_ee29b_row3_col7,#T_ee29b_row4_col0,#T_ee29b_row4_col1,#T_ee29b_row4_col2,#T_ee29b_row4_col4,#T_ee29b_row4_col5,#T_ee29b_row4_col7,#T_ee29b_row5_col0,#T_ee29b_row5_col1,#T_ee29b_row5_col2,#T_ee29b_row5_col4,#T_ee29b_row5_col5,#T_ee29b_row5_col7,#T_ee29b_row6_col0,#T_ee29b_row6_col1,#T_ee29b_row6_col2,#T_ee29b_row6_col4,#T_ee29b_row6_col5,#T_ee29b_row6_col7,#T_ee29b_row7_col0,#T_ee29b_row7_col1,#T_ee29b_row7_col2,#T_ee29b_row7_col4,#T_ee29b_row7_col5,#T_ee29b_row7_col7,#T_ee29b_row8_col0,#T_ee29b_row8_col1,#T_ee29b_row8_col2,#T_ee29b_row8_col4,#T_ee29b_row8_col5,#T_ee29b_row8_col7,#T_ee29b_row9_col0,#T_ee29b_row9_col1,#T_ee29b_row9_col2,#T_ee29b_row9_col4,#T_ee29b_row9_col5,#T_ee29b_row9_col7,#T_ee29b_row10_col0,#T_ee29b_row10_col1,#T_ee29b_row10_col2,#T_ee29b_row10_col4,#T_ee29b_row10_col5,#T_ee29b_row10_col7,#T_ee29b_row11_col0,#T_ee29b_row11_col1,#T_ee29b_row11_col2,#T_ee29b_row11_col4,#T_ee29b_row11_col5,#T_ee29b_row11_col7,#T_ee29b_row12_col0,#T_ee29b_row12_col1,#T_ee29b_row12_col2,#T_ee29b_row12_col4,#T_ee29b_row12_col5,#T_ee29b_row12_col7,#T_ee29b_row13_col0,#T_ee29b_row13_col1,#T_ee29b_row13_col2,#T_ee29b_row13_col4,#T_ee29b_row13_col5,#T_ee29b_row13_col7,#T_ee29b_row14_col0,#T_ee29b_row14_col1,#T_ee29b_row14_col2,#T_ee29b_row14_col4,#T_ee29b_row14_col5,#T_ee29b_row14_col7,#T_ee29b_row15_col0,#T_ee29b_row15_col1,#T_ee29b_row15_col2,#T_ee29b_row15_col4,#T_ee29b_row15_col5,#T_ee29b_row15_col7,#T_ee29b_row16_col0,#T_ee29b_row16_col1,#T_ee29b_row16_col2,#T_ee29b_row16_col4,#T_ee29b_row16_col5,#T_ee29b_row16_col7,#T_ee29b_row17_col0,#T_ee29b_row17_col1,#T_ee29b_row17_col2,#T_ee29b_row17_col4,#T_ee29b_row17_col5,#T_ee29b_row17_col7,#T_ee29b_row18_col0,#T_ee29b_row18_col1,#T_ee29b_row18_col2,#T_ee29b_row18_col4,#T_ee29b_row18_col5,#T_ee29b_row18_col7,#T_ee29b_row19_col0,#T_ee29b_row19_col1,#T_ee29b_row19_col2,#T_ee29b_row19_col4,#T_ee29b_row19_col5,#T_ee29b_row19_col7{\n            width:  500px;\n        }#T_ee29b_row0_col3,#T_ee29b_row0_col6,#T_ee29b_row1_col3,#T_ee29b_row1_col6,#T_ee29b_row8_col3,#T_ee29b_row8_col6,#T_ee29b_row9_col3,#T_ee29b_row9_col6,#T_ee29b_row12_col3,#T_ee29b_row12_col6,#T_ee29b_row15_col3,#T_ee29b_row15_col6,#T_ee29b_row16_col3,#T_ee29b_row16_col6,#T_ee29b_row17_col3,#T_ee29b_row17_col6,#T_ee29b_row18_col3,#T_ee29b_row18_col6,#T_ee29b_row19_col3,#T_ee29b_row19_col6{\n            color:  red;\n            width:  500px;\n        }#T_ee29b_row2_col3,#T_ee29b_row2_col6,#T_ee29b_row3_col3,#T_ee29b_row3_col6,#T_ee29b_row4_col3,#T_ee29b_row4_col6,#T_ee29b_row5_col3,#T_ee29b_row5_col6,#T_ee29b_row6_col3,#T_ee29b_row6_col6,#T_ee29b_row7_col3,#T_ee29b_row7_col6,#T_ee29b_row10_col3,#T_ee29b_row10_col6,#T_ee29b_row11_col3,#T_ee29b_row11_col6,#T_ee29b_row13_col3,#T_ee29b_row13_col6,#T_ee29b_row14_col3,#T_ee29b_row14_col6{\n            color:  green;\n            width:  500px;\n        }</style><table id=\"T_ee29b_\" ><thead>    <tr>        <th class=\"col_heading level0 col0\" >日期时间</th>        <th class=\"col_heading level0 col1\" >股票代码</th>        <th class=\"col_heading level0 col2\" >股票名称</th>        <th class=\"col_heading level0 col3\" >操作</th>        <th class=\"col_heading level0 col4\" >成交量</th>        <th class=\"col_heading level0 col5\" >成交价格</th>        <th class=\"col_heading level0 col6\" >成交额</th>        <th class=\"col_heading level0 col7\" >手续费</th>    </tr></thead><tbody>\n                <tr>\n                                <td id=\"T_ee29b_row0_col0\" class=\"data row0 col0\" >2022-05-27</td>\n                        <td id=\"T_ee29b_row0_col1\" class=\"data row0 col1\" >600469.SH</td>\n                        <td id=\"T_ee29b_row0_col2\" class=\"data row0 col2\" >风神股份</td>\n                        <td id=\"T_ee29b_row0_col3\" class=\"data row0 col3\" >买</td>\n                        <td id=\"T_ee29b_row0_col4\" class=\"data row0 col4\" >1390200</td>\n                        <td id=\"T_ee29b_row0_col5\" class=\"data row0 col5\" >4.41</td>\n                        <td id=\"T_ee29b_row0_col6\" class=\"data row0 col6\" >6135925.74</td>\n                        <td id=\"T_ee29b_row0_col7\" class=\"data row0 col7\" >12271.85</td>\n            </tr>\n            <tr>\n                                <td id=\"T_ee29b_row1_col0\" class=\"data row1 col0\" >2022-05-27</td>\n                        <td id=\"T_ee29b_row1_col1\" class=\"data row1 col1\" >600971.SH</td>\n                        <td id=\"T_ee29b_row1_col2\" class=\"data row1 col2\" >恒源煤电</td>\n                        <td id=\"T_ee29b_row1_col3\" class=\"data row1 col3\" >买</td>\n                        <td id=\"T_ee29b_row1_col4\" class=\"data row1 col4\" >769900</td>\n                        <td id=\"T_ee29b_row1_col5\" class=\"data row1 col5\" >7.84</td>\n                        <td id=\"T_ee29b_row1_col6\" class=\"data row1 col6\" >6035785.03</td>\n                        <td id=\"T_ee29b_row1_col7\" class=\"data row1 col7\" >12071.57</td>\n            </tr>\n            <tr>\n                                <td id=\"T_ee29b_row2_col0\" class=\"data row2 col0\" >2022-05-27</td>\n                        <td id=\"T_ee29b_row2_col1\" class=\"data row2 col1\" >688365.SH</td>\n                        <td id=\"T_ee29b_row2_col2\" class=\"data row2 col2\" >光云科技</td>\n                        <td id=\"T_ee29b_row2_col3\" class=\"data row2 col3\" >卖</td>\n                        <td id=\"T_ee29b_row2_col4\" class=\"data row2 col4\" >-664200</td>\n                        <td id=\"T_ee29b_row2_col5\" class=\"data row2 col5\" >8.36</td>\n                        <td id=\"T_ee29b_row2_col6\" class=\"data row2 col6\" >-5555435.22</td>\n                        <td id=\"T_ee29b_row2_col7\" class=\"data row2 col7\" >11110.87</td>\n            </tr>\n            <tr>\n                                <td id=\"T_ee29b_row3_col0\" class=\"data row3 col0\" >2022-05-27</td>\n                        <td id=\"T_ee29b_row3_col1\" class=\"data row3 col1\" >300932.SZ</td>\n                        <td id=\"T_ee29b_row3_col2\" class=\"data row3 col2\" >三友联众</td>\n                        <td id=\"T_ee29b_row3_col3\" class=\"data row3 col3\" >卖</td>\n                        <td id=\"T_ee29b_row3_col4\" class=\"data row3 col4\" >-273700</td>\n                        <td id=\"T_ee29b_row3_col5\" class=\"data row3 col5\" >22.44</td>\n                        <td id=\"T_ee29b_row3_col6\" class=\"data row3 col6\" >-6141335.34</td>\n                        <td id=\"T_ee29b_row3_col7\" class=\"data row3 col7\" >12282.67</td>\n            </tr>\n            <tr>\n                                <td id=\"T_ee29b_row4_col0\" class=\"data row4 col0\" >2022-05-27</td>\n                        <td id=\"T_ee29b_row4_col1\" class=\"data row4 col1\" >300405.SZ</td>\n                        <td id=\"T_ee29b_row4_col2\" class=\"data row4 col2\" >科隆股份</td>\n                        <td id=\"T_ee29b_row4_col3\" class=\"data row4 col3\" >卖</td>\n                        <td id=\"T_ee29b_row4_col4\" class=\"data row4 col4\" >-208536</td>\n                        <td id=\"T_ee29b_row4_col5\" class=\"data row4 col5\" >5.39</td>\n                        <td id=\"T_ee29b_row4_col6\" class=\"data row4 col6\" >-1124488.44</td>\n                        <td id=\"T_ee29b_row4_col7\" class=\"data row4 col7\" >2248.98</td>\n            </tr>\n            <tr>\n                                <td id=\"T_ee29b_row5_col0\" class=\"data row5 col0\" >2022-05-27</td>\n                        <td id=\"T_ee29b_row5_col1\" class=\"data row5 col1\" >300816.SZ</td>\n                        <td id=\"T_ee29b_row5_col2\" class=\"data row5 col2\" >艾可蓝</td>\n                        <td id=\"T_ee29b_row5_col3\" class=\"data row5 col3\" >卖</td>\n                        <td id=\"T_ee29b_row5_col4\" class=\"data row5 col4\" >-168100</td>\n                        <td id=\"T_ee29b_row5_col5\" class=\"data row5 col5\" >27.61</td>\n                        <td id=\"T_ee29b_row5_col6\" class=\"data row5 col6\" >-4641812.54</td>\n                        <td id=\"T_ee29b_row5_col7\" class=\"data row5 col7\" >9283.63</td>\n            </tr>\n            <tr>\n                                <td id=\"T_ee29b_row6_col0\" class=\"data row6 col0\" >2022-05-27</td>\n                        <td id=\"T_ee29b_row6_col1\" class=\"data row6 col1\" >300684.SZ</td>\n                        <td id=\"T_ee29b_row6_col2\" class=\"data row6 col2\" >中石科技</td>\n                        <td id=\"T_ee29b_row6_col3\" class=\"data row6 col3\" >卖</td>\n                        <td id=\"T_ee29b_row6_col4\" class=\"data row6 col4\" >-11670</td>\n                        <td id=\"T_ee29b_row6_col5\" class=\"data row6 col5\" >12.30</td>\n                        <td id=\"T_ee29b_row6_col6\" class=\"data row6 col6\" >-143516.34</td>\n                        <td id=\"T_ee29b_row6_col7\" class=\"data row6 col7\" >287.03</td>\n            </tr>\n            <tr>\n                                <td id=\"T_ee29b_row7_col0\" class=\"data row7 col0\" >2022-05-27</td>\n                        <td id=\"T_ee29b_row7_col1\" class=\"data row7 col1\" >300040.SZ</td>\n                        <td id=\"T_ee29b_row7_col2\" class=\"data row7 col2\" >九洲集团</td>\n                        <td id=\"T_ee29b_row7_col3\" class=\"data row7 col3\" >卖</td>\n                        <td id=\"T_ee29b_row7_col4\" class=\"data row7 col4\" >-4289</td>\n                        <td id=\"T_ee29b_row7_col5\" class=\"data row7 col5\" >6.78</td>\n                        <td id=\"T_ee29b_row7_col6\" class=\"data row7 col6\" >-29071.88</td>\n                        <td id=\"T_ee29b_row7_col7\" class=\"data row7 col7\" >58.14</td>\n            </tr>\n            <tr>\n                                <td id=\"T_ee29b_row8_col0\" class=\"data row8 col0\" >2022-05-26</td>\n                        <td id=\"T_ee29b_row8_col1\" class=\"data row8 col1\" >300097.SZ</td>\n                        <td id=\"T_ee29b_row8_col2\" class=\"data row8 col2\" >智云股份</td>\n                        <td id=\"T_ee29b_row8_col3\" class=\"data row8 col3\" >买</td>\n                        <td id=\"T_ee29b_row8_col4\" class=\"data row8 col4\" >854100</td>\n                        <td id=\"T_ee29b_row8_col5\" class=\"data row8 col5\" >5.10</td>\n                        <td id=\"T_ee29b_row8_col6\" class=\"data row8 col6\" >4359070.17</td>\n                        <td id=\"T_ee29b_row8_col7\" class=\"data row8 col7\" >8718.14</td>\n            </tr>\n            <tr>\n                                <td id=\"T_ee29b_row9_col0\" class=\"data row9 col0\" >2022-05-26</td>\n                        <td id=\"T_ee29b_row9_col1\" class=\"data row9 col1\" >002213.SZ</td>\n                        <td id=\"T_ee29b_row9_col2\" class=\"data row9 col2\" >大为股份</td>\n                        <td id=\"T_ee29b_row9_col3\" class=\"data row9 col3\" >买</td>\n                        <td id=\"T_ee29b_row9_col4\" class=\"data row9 col4\" >414500</td>\n                        <td id=\"T_ee29b_row9_col5\" class=\"data row9 col5\" >11.25</td>\n                        <td id=\"T_ee29b_row9_col6\" class=\"data row9 col6\" >4665156.05</td>\n                        <td id=\"T_ee29b_row9_col7\" class=\"data row9 col7\" >9330.31</td>\n            </tr>\n            <tr>\n                                <td id=\"T_ee29b_row10_col0\" class=\"data row10 col0\" >2022-05-26</td>\n                        <td id=\"T_ee29b_row10_col1\" class=\"data row10 col1\" >300830.SZ</td>\n                        <td id=\"T_ee29b_row10_col2\" class=\"data row10 col2\" >金现代</td>\n                        <td id=\"T_ee29b_row10_col3\" class=\"data row10 col3\" >卖</td>\n                        <td id=\"T_ee29b_row10_col4\" class=\"data row10 col4\" >-629300</td>\n                        <td id=\"T_ee29b_row10_col5\" class=\"data row10 col5\" >7.26</td>\n                        <td id=\"T_ee29b_row10_col6\" class=\"data row10 col6\" >-4568843.86</td>\n                        <td id=\"T_ee29b_row10_col7\" class=\"data row10 col7\" >9137.69</td>\n            </tr>\n            <tr>\n                                <td id=\"T_ee29b_row11_col0\" class=\"data row11 col0\" >2022-05-26</td>\n                        <td id=\"T_ee29b_row11_col1\" class=\"data row11 col1\" >300472.SZ</td>\n                        <td id=\"T_ee29b_row11_col2\" class=\"data row11 col2\" >新元科技</td>\n                        <td id=\"T_ee29b_row11_col3\" class=\"data row11 col3\" >卖</td>\n                        <td id=\"T_ee29b_row11_col4\" class=\"data row11 col4\" >-484500</td>\n                        <td id=\"T_ee29b_row11_col5\" class=\"data row11 col5\" >9.27</td>\n                        <td id=\"T_ee29b_row11_col6\" class=\"data row11 col6\" >-4490539.80</td>\n                        <td id=\"T_ee29b_row11_col7\" class=\"data row11 col7\" >8981.08</td>\n            </tr>\n            <tr>\n                                <td id=\"T_ee29b_row12_col0\" class=\"data row12 col0\" >2022-05-25</td>\n                        <td id=\"T_ee29b_row12_col1\" class=\"data row12 col1\" >300810.SZ</td>\n                        <td id=\"T_ee29b_row12_col2\" class=\"data row12 col2\" >中科海讯</td>\n                        <td id=\"T_ee29b_row12_col3\" class=\"data row12 col3\" >买</td>\n                        <td id=\"T_ee29b_row12_col4\" class=\"data row12 col4\" >308600</td>\n                        <td id=\"T_ee29b_row12_col5\" class=\"data row12 col5\" >17.54</td>\n                        <td id=\"T_ee29b_row12_col6\" class=\"data row12 col6\" >5412165.08</td>\n                        <td id=\"T_ee29b_row12_col7\" class=\"data row12 col7\" >10824.33</td>\n            </tr>\n            <tr>\n                                <td id=\"T_ee29b_row13_col0\" class=\"data row13 col0\" >2022-05-25</td>\n                        <td id=\"T_ee29b_row13_col1\" class=\"data row13 col1\" >300462.SZ</td>\n                        <td id=\"T_ee29b_row13_col2\" class=\"data row13 col2\" >华铭智能</td>\n                        <td id=\"T_ee29b_row13_col3\" class=\"data row13 col3\" >卖</td>\n                        <td id=\"T_ee29b_row13_col4\" class=\"data row13 col4\" >-534500</td>\n                        <td id=\"T_ee29b_row13_col5\" class=\"data row13 col5\" >8.89</td>\n                        <td id=\"T_ee29b_row13_col6\" class=\"data row13 col6\" >-4752774.00</td>\n                        <td id=\"T_ee29b_row13_col7\" class=\"data row13 col7\" >9505.55</td>\n            </tr>\n            <tr>\n                                <td id=\"T_ee29b_row14_col0\" class=\"data row14 col0\" >2022-05-25</td>\n                        <td id=\"T_ee29b_row14_col1\" class=\"data row14 col1\" >000058.SZ</td>\n                        <td id=\"T_ee29b_row14_col2\" class=\"data row14 col2\" >深赛格</td>\n                        <td id=\"T_ee29b_row14_col3\" class=\"data row14 col3\" >卖</td>\n                        <td id=\"T_ee29b_row14_col4\" class=\"data row14 col4\" >-1091</td>\n                        <td id=\"T_ee29b_row14_col5\" class=\"data row14 col5\" >5.17</td>\n                        <td id=\"T_ee29b_row14_col6\" class=\"data row14 col6\" >-5644.35</td>\n                        <td id=\"T_ee29b_row14_col7\" class=\"data row14 col7\" >11.29</td>\n            </tr>\n            <tr>\n                                <td id=\"T_ee29b_row15_col0\" class=\"data row15 col0\" >2022-05-24</td>\n                        <td id=\"T_ee29b_row15_col1\" class=\"data row15 col1\" >300304.SZ</td>\n                        <td id=\"T_ee29b_row15_col2\" class=\"data row15 col2\" >云意电气</td>\n                        <td id=\"T_ee29b_row15_col3\" class=\"data row15 col3\" >买</td>\n                        <td id=\"T_ee29b_row15_col4\" class=\"data row15 col4\" >1284600</td>\n                        <td id=\"T_ee29b_row15_col5\" class=\"data row15 col5\" >4.87</td>\n                        <td id=\"T_ee29b_row15_col6\" class=\"data row15 col6\" >6259727.34</td>\n                        <td id=\"T_ee29b_row15_col7\" class=\"data row15 col7\" >12519.45</td>\n            </tr>\n            <tr>\n                                <td id=\"T_ee29b_row16_col0\" class=\"data row16 col0\" >2022-05-24</td>\n                        <td id=\"T_ee29b_row16_col1\" class=\"data row16 col1\" >002553.SZ</td>\n                        <td id=\"T_ee29b_row16_col2\" class=\"data row16 col2\" >南方精工</td>\n                        <td id=\"T_ee29b_row16_col3\" class=\"data row16 col3\" >买</td>\n                        <td id=\"T_ee29b_row16_col4\" class=\"data row16 col4\" >736000</td>\n                        <td id=\"T_ee29b_row16_col5\" class=\"data row16 col5\" >8.56</td>\n                        <td id=\"T_ee29b_row16_col6\" class=\"data row16 col6\" >6299571.20</td>\n                        <td id=\"T_ee29b_row16_col7\" class=\"data row16 col7\" >12599.14</td>\n            </tr>\n            <tr>\n                                <td id=\"T_ee29b_row17_col0\" class=\"data row17 col0\" >2022-05-24</td>\n                        <td id=\"T_ee29b_row17_col1\" class=\"data row17 col1\" >605086.SH</td>\n                        <td id=\"T_ee29b_row17_col2\" class=\"data row17 col2\" >龙高股份</td>\n                        <td id=\"T_ee29b_row17_col3\" class=\"data row17 col3\" >买</td>\n                        <td id=\"T_ee29b_row17_col4\" class=\"data row17 col4\" >345000</td>\n                        <td id=\"T_ee29b_row17_col5\" class=\"data row17 col5\" >17.92</td>\n                        <td id=\"T_ee29b_row17_col6\" class=\"data row17 col6\" >6183918.00</td>\n                        <td id=\"T_ee29b_row17_col7\" class=\"data row17 col7\" >12367.84</td>\n            </tr>\n            <tr>\n                                <td id=\"T_ee29b_row18_col0\" class=\"data row18 col0\" >2022-05-24</td>\n                        <td id=\"T_ee29b_row18_col1\" class=\"data row18 col1\" >300932.SZ</td>\n                        <td id=\"T_ee29b_row18_col2\" class=\"data row18 col2\" >三友联众</td>\n                        <td id=\"T_ee29b_row18_col3\" class=\"data row18 col3\" >买</td>\n                        <td id=\"T_ee29b_row18_col4\" class=\"data row18 col4\" >273700</td>\n                        <td id=\"T_ee29b_row18_col5\" class=\"data row18 col5\" >22.57</td>\n                        <td id=\"T_ee29b_row18_col6\" class=\"data row18 col6\" >6177764.81</td>\n                        <td id=\"T_ee29b_row18_col7\" class=\"data row18 col7\" >12355.53</td>\n            </tr>\n            <tr>\n                                <td id=\"T_ee29b_row19_col0\" class=\"data row19 col0\" >2022-05-24</td>\n                        <td id=\"T_ee29b_row19_col1\" class=\"data row19 col1\" >688613.SH</td>\n                        <td id=\"T_ee29b_row19_col2\" class=\"data row19 col2\" >奥精医疗</td>\n                        <td id=\"T_ee29b_row19_col3\" class=\"data row19 col3\" >买</td>\n                        <td id=\"T_ee29b_row19_col4\" class=\"data row19 col4\" >207800</td>\n                        <td id=\"T_ee29b_row19_col5\" class=\"data row19 col5\" >28.30</td>\n                        <td id=\"T_ee29b_row19_col6\" class=\"data row19 col6\" >5880262.06</td>\n                        <td id=\"T_ee29b_row19_col7\" class=\"data row19 col7\" >11760.52</td>\n            </tr>\n    </tbody></table>",
          "text/plain": "<pandas.io.formats.style.Styler at 0x7f39d06ef790>"
         },
         "metadata": {},
         "output_type": "display_data"
        }
       ]
      }
     },
     "10a50aa5fb354794a39e3aa33cefe3c6": {
      "model_module": "@jupyter-widgets/controls",
      "model_module_version": "1.5.0",
      "model_name": "ButtonStyleModel",
      "state": {}
     },
     "113bd7dfcf2e4891808864be80372f64": {
      "model_module": "@jupyter-widgets/controls",
      "model_module_version": "1.5.0",
      "model_name": "DescriptionStyleModel",
      "state": {
       "description_width": ""
      }
     },
     "118550f812c2443b91cb6e868b80ac9a": {
      "model_module": "@jupyter-widgets/controls",
      "model_module_version": "1.5.0",
      "model_name": "HTMLModel",
      "state": {
       "layout": "IPY_MODEL_402074dd62734411b60397dd2687c11f",
       "style": "IPY_MODEL_36f730f16db441bfa44d5d6c534263de",
       "value": "<span style='font-size:20px;'> <b>收益率走势</b> </span>"
      }
     },
     "12922bf971e04e43b569d9ddaf9c1630": {
      "model_module": "@jupyter-widgets/controls",
      "model_module_version": "1.5.0",
      "model_name": "ButtonStyleModel",
      "state": {}
     },
     "12b6a06df9104862879c5b31bc303c89": {
      "model_module": "@jupyter-widgets/base",
      "model_module_version": "1.2.0",
      "model_name": "LayoutModel",
      "state": {
       "grid_area": "widget001"
      }
     },
     "133c110fa8294e07b57451999a3b1560": {
      "model_module": "@jupyter-widgets/base",
      "model_module_version": "1.2.0",
      "model_name": "LayoutModel",
      "state": {
       "align_items": "center",
       "grid_area": "widget007",
       "grid_template_areas": "\"widget001 widget002 . widget003\"\n\"widget004 widget004 widget004 widget004\"\n\"widget005 widget005 widget005 widget005\"",
       "grid_template_columns": "100px 130px auto 80px",
       "grid_template_rows": "60px auto 40px"
      }
     },
     "14dec2f5537344f69216f1546c59187a": {
      "model_module": "@jupyter-widgets/output",
      "model_module_version": "1.0.0",
      "model_name": "OutputModel",
      "state": {
       "layout": "IPY_MODEL_d8b10d23d27d4806b24535512d54b258"
      }
     },
     "1533104e7b70482e8a209dc798387473": {
      "model_module": "@jupyter-widgets/base",
      "model_module_version": "1.2.0",
      "model_name": "LayoutModel",
      "state": {}
     },
     "15cfe4180b6c40aa9ea802b00ea0486f": {
      "model_module": "@jupyter-widgets/controls",
      "model_module_version": "1.5.0",
      "model_name": "ButtonStyleModel",
      "state": {}
     },
     "15d0f4f0007a4d7aa7221d00badb5206": {
      "model_module": "@jupyter-widgets/base",
      "model_module_version": "1.2.0",
      "model_name": "LayoutModel",
      "state": {
       "grid_area": "widget002"
      }
     },
     "15e3e00df0a54e62b98d17d31656bc15": {
      "model_module": "@jupyter-widgets/controls",
      "model_module_version": "1.5.0",
      "model_name": "ButtonStyleModel",
      "state": {}
     },
     "177e57e8d15744aca9f8c32ee61d58cd": {
      "model_module": "@jupyter-widgets/controls",
      "model_module_version": "1.5.0",
      "model_name": "DatePickerModel",
      "state": {
       "disabled": false,
       "layout": "IPY_MODEL_a96659e744b44544831e5d2dd8a6c1c3",
       "style": "IPY_MODEL_fecc0ffb08924037b3ce9fe0c9ddeda5"
      }
     },
     "17d9597c978740929cc568fa06219bd5": {
      "model_module": "@jupyter-widgets/controls",
      "model_module_version": "1.5.0",
      "model_name": "GridBoxModel",
      "state": {
       "children": [
        "IPY_MODEL_b053e5da00844a9da1b1da02e1e2f8d5",
        "IPY_MODEL_35218f5f148c4aaab19a2fab182eb777",
        "IPY_MODEL_b52ac9b9884e45879ab8c57c4591696f",
        "IPY_MODEL_fe7e7b86ca4d492cabb5b08a96a3a71b",
        "IPY_MODEL_7a892e630017417ba7ea8a324a53bb68",
        "IPY_MODEL_f14701572e25447e89a6b4d39e414d6f",
        "IPY_MODEL_77e1587e436443c59a36a3a71b142e3d",
        "IPY_MODEL_cc30342757ff4a74916de9c10c8219d4",
        "IPY_MODEL_30080a44d76745c09263a01d702ebcdb",
        "IPY_MODEL_4514740d027f46449ddd8e07dbb9c47c"
       ],
       "layout": "IPY_MODEL_a5a4baffe9f3477f836786ba1c5782af"
      }
     },
     "1815ba107ac744aaa6f4e0d503528ee8": {
      "model_module": "@jupyter-widgets/base",
      "model_module_version": "1.2.0",
      "model_name": "LayoutModel",
      "state": {
       "grid_area": "widget003",
       "width": "70px"
      }
     },
     "182c4f6ebf064cc7905a265dcf0220e6": {
      "model_module": "@jupyter-widgets/controls",
      "model_module_version": "1.5.0",
      "model_name": "DescriptionStyleModel",
      "state": {
       "description_width": ""
      }
     },
     "1858c0a4d60f402dbde00855a0fe3bd5": {
      "model_module": "@jupyter-widgets/controls",
      "model_module_version": "1.5.0",
      "model_name": "DescriptionStyleModel",
      "state": {
       "description_width": ""
      }
     },
     "18acf081caa848b89ca4cacfe3268f55": {
      "model_module": "@jupyter-widgets/controls",
      "model_module_version": "1.5.0",
      "model_name": "HTMLModel",
      "state": {
       "layout": "IPY_MODEL_22de4b8a4ee54bf6b5a945dcbc0c9ad4",
       "style": "IPY_MODEL_d2250ee5362f4f2882a76e5c44affeb4",
       "value": "最大回撤&nbsp;&nbsp;&nbsp;&nbsp;&nbsp;&nbsp;&nbsp;<b>6.64%</b>"
      }
     },
     "1926a55b5d10461ead5a5a69cedbf990": {
      "model_module": "@jupyter-widgets/controls",
      "model_module_version": "1.5.0",
      "model_name": "DescriptionStyleModel",
      "state": {
       "description_width": ""
      }
     },
     "19709ced4a6a4298953707519f76a266": {
      "model_module": "@jupyter-widgets/controls",
      "model_module_version": "1.5.0",
      "model_name": "DescriptionStyleModel",
      "state": {
       "description_width": ""
      }
     },
     "1989617067b04248bfad7a95f95827ca": {
      "model_module": "@jupyter-widgets/base",
      "model_module_version": "1.2.0",
      "model_name": "LayoutModel",
      "state": {
       "grid_area": "widget002",
       "width": "30px"
      }
     },
     "19a6be7858fa4de9a1e24afb3a08df8e": {
      "model_module": "@jupyter-widgets/controls",
      "model_module_version": "1.5.0",
      "model_name": "ButtonStyleModel",
      "state": {}
     },
     "1a0eadb0f7c9490a899df8cbafc420f6": {
      "model_module": "@jupyter-widgets/base",
      "model_module_version": "1.2.0",
      "model_name": "LayoutModel",
      "state": {
       "align_items": "center",
       "grid_template_areas": "\"widget001\"\n\"widget002\"\n\"widget003\"\n\"widget004\"\n\"widget005\"\n\"widget006\"\n\"widget007\"",
       "grid_template_columns": "auto",
       "grid_template_rows": "auto"
      }
     },
     "1a7f3d33c9df430a876bd0416e35c61e": {
      "model_module": "@jupyter-widgets/controls",
      "model_module_version": "1.5.0",
      "model_name": "DescriptionStyleModel",
      "state": {
       "description_width": ""
      }
     },
     "1a968a26fc6a4502ab3d2b03070d03b8": {
      "model_module": "@jupyter-widgets/output",
      "model_module_version": "1.0.0",
      "model_name": "OutputModel",
      "state": {
       "layout": "IPY_MODEL_9f6cbbe79d7243c19bef518479e4a55f",
       "outputs": [
        {
         "data": {
          "text/html": "<style  type=\"text/css\" >\n#T_a7fc4_row0_col0,#T_a7fc4_row1_col0,#T_a7fc4_row2_col0{\n            background-color:  #b40426;\n            color:  #f1f1f1;\n            width:  500px;\n        }#T_a7fc4_row0_col1{\n            background-color:  #bbd1f8;\n            color:  #000000;\n            width:  500px;\n        }#T_a7fc4_row0_col2{\n            background-color:  #abc8fd;\n            color:  #000000;\n            width:  500px;\n        }#T_a7fc4_row0_col3{\n            background-color:  #dddcdc;\n            color:  #000000;\n            width:  500px;\n        }#T_a7fc4_row0_col4{\n            background-color:  #9fbfff;\n            color:  #000000;\n            width:  500px;\n        }#T_a7fc4_row0_col5{\n            background-color:  #dfdbd9;\n            color:  #000000;\n            width:  500px;\n        }#T_a7fc4_row0_col6{\n            background-color:  #f5c0a7;\n            color:  #000000;\n            width:  500px;\n        }#T_a7fc4_row0_col7{\n            background-color:  #b3cdfb;\n            color:  #000000;\n            width:  500px;\n        }#T_a7fc4_row0_col8,#T_a7fc4_row1_col9,#T_a7fc4_row2_col8{\n            background-color:  #3b4cc0;\n            color:  #f1f1f1;\n            width:  500px;\n        }#T_a7fc4_row0_col9{\n            background-color:  #5673e0;\n            color:  #000000;\n            width:  500px;\n        }#T_a7fc4_row1_col1{\n            background-color:  #aac7fd;\n            color:  #000000;\n            width:  500px;\n        }#T_a7fc4_row1_col2,#T_a7fc4_row1_col4{\n            background-color:  #a6c4fe;\n            color:  #000000;\n            width:  500px;\n        }#T_a7fc4_row1_col3{\n            background-color:  #e6d7cf;\n            color:  #000000;\n            width:  500px;\n        }#T_a7fc4_row1_col5{\n            background-color:  #ecd3c5;\n            color:  #000000;\n            width:  500px;\n        }#T_a7fc4_row1_col6{\n            background-color:  #e46e56;\n            color:  #000000;\n            width:  500px;\n        }#T_a7fc4_row1_col7{\n            background-color:  #aec9fc;\n            color:  #000000;\n            width:  500px;\n        }#T_a7fc4_row1_col8{\n            background-color:  #81a4fb;\n            color:  #000000;\n            width:  500px;\n        }#T_a7fc4_row2_col1{\n            background-color:  #f4c5ad;\n            color:  #000000;\n            width:  500px;\n        }#T_a7fc4_row2_col2{\n            background-color:  #e8d6cc;\n            color:  #000000;\n            width:  500px;\n        }#T_a7fc4_row2_col3{\n            background-color:  #f1ccb8;\n            color:  #000000;\n            width:  500px;\n        }#T_a7fc4_row2_col4,#T_a7fc4_row2_col6,#T_a7fc4_row2_col9{\n            background-color:  #d8dce2;\n            color:  #000000;\n            width:  500px;\n        }#T_a7fc4_row2_col5,#T_a7fc4_row2_col7{\n            background-color:  #edd1c2;\n            color:  #000000;\n            width:  500px;\n        }</style><table id=\"T_a7fc4_\" ><thead>    <tr>        <th class=\"blank level0\" ></th>        <th class=\"col_heading level0 col0\" >beta</th>        <th class=\"col_heading level0 col1\" >btop</th>        <th class=\"col_heading level0 col2\" >earnyild</th>        <th class=\"col_heading level0 col3\" >growth</th>        <th class=\"col_heading level0 col4\" >leverage</th>        <th class=\"col_heading level0 col5\" >liquidty</th>        <th class=\"col_heading level0 col6\" >momentum</th>        <th class=\"col_heading level0 col7\" >resvol</th>        <th class=\"col_heading level0 col8\" >size</th>        <th class=\"col_heading level0 col9\" >sizenl</th>    </tr></thead><tbody>\n                <tr>\n                        <th id=\"T_a7fc4_level0_row0\" class=\"row_heading level0 row0\" >mean</th>\n                        <td id=\"T_a7fc4_row0_col0\" class=\"data row0 col0\" >0.35</td>\n                        <td id=\"T_a7fc4_row0_col1\" class=\"data row0 col1\" >-0.18</td>\n                        <td id=\"T_a7fc4_row0_col2\" class=\"data row0 col2\" >-0.22</td>\n                        <td id=\"T_a7fc4_row0_col3\" class=\"data row0 col3\" >-0.08</td>\n                        <td id=\"T_a7fc4_row0_col4\" class=\"data row0 col4\" >-0.25</td>\n                        <td id=\"T_a7fc4_row0_col5\" class=\"data row0 col5\" >-0.07</td>\n                        <td id=\"T_a7fc4_row0_col6\" class=\"data row0 col6\" >0.04</td>\n                        <td id=\"T_a7fc4_row0_col7\" class=\"data row0 col7\" >-0.20</td>\n                        <td id=\"T_a7fc4_row0_col8\" class=\"data row0 col8\" >-0.51</td>\n                        <td id=\"T_a7fc4_row0_col9\" class=\"data row0 col9\" >-0.43</td>\n            </tr>\n            <tr>\n                        <th id=\"T_a7fc4_level0_row1\" class=\"row_heading level0 row1\" >2021</th>\n                        <td id=\"T_a7fc4_row1_col0\" class=\"data row1 col0\" >0.29</td>\n                        <td id=\"T_a7fc4_row1_col1\" class=\"data row1 col1\" >-0.23</td>\n                        <td id=\"T_a7fc4_row1_col2\" class=\"data row1 col2\" >-0.24</td>\n                        <td id=\"T_a7fc4_row1_col3\" class=\"data row1 col3\" >-0.07</td>\n                        <td id=\"T_a7fc4_row1_col4\" class=\"data row1 col4\" >-0.24</td>\n                        <td id=\"T_a7fc4_row1_col5\" class=\"data row1 col5\" >-0.05</td>\n                        <td id=\"T_a7fc4_row1_col6\" class=\"data row1 col6\" >0.17</td>\n                        <td id=\"T_a7fc4_row1_col7\" class=\"data row1 col7\" >-0.22</td>\n                        <td id=\"T_a7fc4_row1_col8\" class=\"data row1 col8\" >-0.32</td>\n                        <td id=\"T_a7fc4_row1_col9\" class=\"data row1 col9\" >-0.49</td>\n            </tr>\n            <tr>\n                        <th id=\"T_a7fc4_level0_row2\" class=\"row_heading level0 row2\" >2022</th>\n                        <td id=\"T_a7fc4_row2_col0\" class=\"data row2 col0\" >0.50</td>\n                        <td id=\"T_a7fc4_row2_col1\" class=\"data row2 col1\" >-0.06</td>\n                        <td id=\"T_a7fc4_row2_col2\" class=\"data row2 col2\" >-0.18</td>\n                        <td id=\"T_a7fc4_row2_col3\" class=\"data row2 col3\" >-0.10</td>\n                        <td id=\"T_a7fc4_row2_col4\" class=\"data row2 col4\" >-0.27</td>\n                        <td id=\"T_a7fc4_row2_col5\" class=\"data row2 col5\" >-0.14</td>\n                        <td id=\"T_a7fc4_row2_col6\" class=\"data row2 col6\" >-0.27</td>\n                        <td id=\"T_a7fc4_row2_col7\" class=\"data row2 col7\" >-0.14</td>\n                        <td id=\"T_a7fc4_row2_col8\" class=\"data row2 col8\" >-0.99</td>\n                        <td id=\"T_a7fc4_row2_col9\" class=\"data row2 col9\" >-0.27</td>\n            </tr>\n    </tbody></table>",
          "text/plain": "<pandas.io.formats.style.Styler at 0x7f39d4f7dbe0>"
         },
         "metadata": {},
         "output_type": "display_data"
        }
       ]
      }
     },
     "1af57ea9733c467180b552c14fa168e7": {
      "model_module": "@jupyter-widgets/base",
      "model_module_version": "1.2.0",
      "model_name": "LayoutModel",
      "state": {
       "grid_area": "widget003",
       "width": "60px"
      }
     },
     "1b3017d21f3b4ce8bebe8138942da816": {
      "model_module": "@jupyter-widgets/base",
      "model_module_version": "1.2.0",
      "model_name": "LayoutModel",
      "state": {
       "grid_area": "widget001"
      }
     },
     "1bbde893c69c4637b660dab3d9ffea6b": {
      "model_module": "@jupyter-widgets/controls",
      "model_module_version": "1.5.0",
      "model_name": "BoundedIntTextModel",
      "state": {
       "layout": "IPY_MODEL_a7a7dab19781452996df1179535255e8",
       "max": 836,
       "min": 1,
       "style": "IPY_MODEL_182c4f6ebf064cc7905a265dcf0220e6",
       "value": 1
      }
     },
     "1c9c2cf413cc44bfbc7c4808909647e1": {
      "model_module": "@jupyter-widgets/controls",
      "model_module_version": "1.5.0",
      "model_name": "VBoxModel",
      "state": {
       "_dom_classes": [
        "widget-interact"
       ],
       "children": [
        "IPY_MODEL_20488d91d35d4cfea8b875e59c3686d7"
       ],
       "layout": "IPY_MODEL_eafd09f569b9453ab787202f8cf20470"
      }
     },
     "1ccd349caea14790b6fa3e59864e9253": {
      "model_module": "@jupyter-widgets/base",
      "model_module_version": "1.2.0",
      "model_name": "LayoutModel",
      "state": {
       "grid_area": "widget005",
       "grid_template_areas": "\". widget002 widget003 widget001 widget004\"",
       "grid_template_columns": "auto 40px 70px 60px 40px",
       "grid_template_rows": "40px"
      }
     },
     "1d8520ffb0364300835626105a6c92b3": {
      "model_module": "@jupyter-widgets/base",
      "model_module_version": "1.2.0",
      "model_name": "LayoutModel",
      "state": {
       "grid_area": "widget001"
      }
     },
     "1d9a28ba3d04478ebc200b77a1f680ff": {
      "model_module": "@jupyter-widgets/controls",
      "model_module_version": "1.5.0",
      "model_name": "DescriptionStyleModel",
      "state": {
       "description_width": ""
      }
     },
     "1e77d990e9d04a5da41dd4eb0bd96a39": {
      "model_module": "@jupyter-widgets/controls",
      "model_module_version": "1.5.0",
      "model_name": "HTMLModel",
      "state": {
       "layout": "IPY_MODEL_a02a8b3da6f4402d9c20195b1c621860",
       "style": "IPY_MODEL_a67c69e83686427293e46dd816e5532a",
       "value": "<span style='font-size:30px;color:red'> <b>24.13%</b> </span>"
      }
     },
     "1e7a5bade00e4f609d05bdcf405fc6c9": {
      "model_module": "@jupyter-widgets/base",
      "model_module_version": "1.2.0",
      "model_name": "LayoutModel",
      "state": {
       "grid_area": "widget001"
      }
     },
     "1e83a2fa2a964fffb3607f6efcb73a9f": {
      "model_module": "@jupyter-widgets/controls",
      "model_module_version": "1.5.0",
      "model_name": "HTMLModel",
      "state": {
       "layout": "IPY_MODEL_2f9b83b1fb0e448a83c2b6a0ba4f9803",
       "style": "IPY_MODEL_9953bad0d26a44efb4edf659dc159722",
       "value": "/836页"
      }
     },
     "1eb6c78ec571413c8d3fc1251b018c7b": {
      "model_module": "@jupyter-widgets/controls",
      "model_module_version": "1.5.0",
      "model_name": "DescriptionStyleModel",
      "state": {
       "description_width": ""
      }
     },
     "1ed8a3dc34a44d92bdd517edba9c9c51": {
      "model_module": "@jupyter-widgets/base",
      "model_module_version": "1.2.0",
      "model_name": "LayoutModel",
      "state": {
       "align_items": "center",
       "grid_area": "widget002",
       "grid_template_areas": "\"widget001\"\n\"widget002\"",
       "grid_template_columns": "auto",
       "grid_template_rows": "60px auto"
      }
     },
     "20465aa10ce743079fe8d78664de3e56": {
      "model_module": "@jupyter-widgets/base",
      "model_module_version": "1.2.0",
      "model_name": "LayoutModel",
      "state": {
       "grid_area": "widget005"
      }
     },
     "20488d91d35d4cfea8b875e59c3686d7": {
      "model_module": "@jupyter-widgets/output",
      "model_module_version": "1.0.0",
      "model_name": "OutputModel",
      "state": {
       "layout": "IPY_MODEL_949173233ac64ea191697706ca9f2f66"
      }
     },
     "21050f163ffd426eb1aa711452899e1a": {
      "model_module": "@jupyter-widgets/base",
      "model_module_version": "1.2.0",
      "model_name": "LayoutModel",
      "state": {
       "align_items": "center",
       "grid_area": "widget007",
       "grid_template_areas": "\"widget001 widget002 . widget003\"\n\"widget004 widget004 widget004 widget004\"\n\"widget005 widget005 widget005 widget005\"",
       "grid_template_columns": "100px 130px auto 80px",
       "grid_template_rows": "60px auto 40px"
      }
     },
     "21149383ead2461195b37f6c4e65bccd": {
      "model_module": "@jupyter-widgets/controls",
      "model_module_version": "1.5.0",
      "model_name": "GridBoxModel",
      "state": {
       "children": [
        "IPY_MODEL_7c358ea241754a2cb0e2c7def51a97fe",
        "IPY_MODEL_177e57e8d15744aca9f8c32ee61d58cd",
        "IPY_MODEL_2dff5b396fc74adf993dc889d935119b",
        "IPY_MODEL_943a0f8478004b888042cd1a9f4a01f6",
        "IPY_MODEL_63e7a13ad66e4740a4941845cfb309db"
       ],
       "layout": "IPY_MODEL_8ad453306dd54309b8b25ac93983be77"
      }
     },
     "22144e399cab4c22844eff08a06b8a0a": {
      "model_module": "@jupyter-widgets/base",
      "model_module_version": "1.2.0",
      "model_name": "LayoutModel",
      "state": {
       "grid_area": "widget003",
       "width": "60px"
      }
     },
     "2263de2a75384a0c9ccc0178f93a5ab1": {
      "model_module": "@jupyter-widgets/controls",
      "model_module_version": "1.5.0",
      "model_name": "DescriptionStyleModel",
      "state": {
       "description_width": ""
      }
     },
     "2283a91ae9ea4ef3b870e431a2f9e0fd": {
      "model_module": "@jupyter-widgets/base",
      "model_module_version": "1.2.0",
      "model_name": "LayoutModel",
      "state": {
       "grid_area": "widget001"
      }
     },
     "22de4b8a4ee54bf6b5a945dcbc0c9ad4": {
      "model_module": "@jupyter-widgets/base",
      "model_module_version": "1.2.0",
      "model_name": "LayoutModel",
      "state": {
       "grid_area": "widget006"
      }
     },
     "23e4f2b9a47b43709bac873444e4e010": {
      "model_module": "@jupyter-widgets/controls",
      "model_module_version": "1.5.0",
      "model_name": "GridBoxModel",
      "state": {
       "children": [
        "IPY_MODEL_cfbbcc151c77453180b1a0fd4d276507",
        "IPY_MODEL_e7f0bb0522d944ff8ba9b05cd6a3bb54"
       ],
       "layout": "IPY_MODEL_7a949b98d8db48b2b22b578437057982"
      }
     },
     "2420b27d978d4e8d80a609fd5230797e": {
      "model_module": "@jupyter-widgets/controls",
      "model_module_version": "1.5.0",
      "model_name": "ButtonStyleModel",
      "state": {}
     },
     "243ae208ebc3408aa964162167b77f6d": {
      "model_module": "@jupyter-widgets/base",
      "model_module_version": "1.2.0",
      "model_name": "LayoutModel",
      "state": {
       "grid_area": "widget010"
      }
     },
     "245dea2e64c24b33a80e3efd87ddc3c7": {
      "model_module": "@jupyter-widgets/controls",
      "model_module_version": "1.5.0",
      "model_name": "GridBoxModel",
      "state": {
       "children": [
        "IPY_MODEL_ffdc18c078c44b169e9be7a3e956c442",
        "IPY_MODEL_c551be72b8e447778c5cd00b85125b01",
        "IPY_MODEL_76c17a5679a04960920f6ad79aaa28b2",
        "IPY_MODEL_3c524761597e4a2e910de5e6511a5bb6",
        "IPY_MODEL_ad06658810d442a89247a7ab9ebc4377"
       ],
       "layout": "IPY_MODEL_d786f55e149e43e49047a6c8c3df733e"
      }
     },
     "247486a434264651b28f3205f2d9d21a": {
      "model_module": "@jupyter-widgets/output",
      "model_module_version": "1.0.0",
      "model_name": "OutputModel",
      "state": {
       "layout": "IPY_MODEL_858b04b9dcea4a3b948ee5a5a1465f3b"
      }
     },
     "25f401fc84854c6e96134952bae7ce9e": {
      "model_module": "@jupyter-widgets/output",
      "model_module_version": "1.0.0",
      "model_name": "OutputModel",
      "state": {
       "layout": "IPY_MODEL_8f4877a3eef2413e9d93c18b0b79ba4b"
      }
     },
     "26036838602b427eb2ea347d8150123b": {
      "model_module": "@jupyter-widgets/controls",
      "model_module_version": "1.5.0",
      "model_name": "DescriptionStyleModel",
      "state": {
       "description_width": ""
      }
     },
     "2674d1e481b140969a595032735d57d5": {
      "model_module": "@jupyter-widgets/controls",
      "model_module_version": "1.5.0",
      "model_name": "HTMLModel",
      "state": {
       "layout": "IPY_MODEL_36986cc126154030839fd06d54c8234b",
       "style": "IPY_MODEL_ed50a1d2bd1f413f811c686741b07b6e",
       "value": "累计收益"
      }
     },
     "2708a4cf50df4e97b1d4ebe70cf38ff9": {
      "model_module": "@jupyter-widgets/controls",
      "model_module_version": "1.5.0",
      "model_name": "DatePickerModel",
      "state": {
       "disabled": false,
       "layout": "IPY_MODEL_80b5ad1e032947ba9b023cd039fbad5e",
       "style": "IPY_MODEL_6698a2e56ea3419a8e6890aa3afb2383"
      }
     },
     "2747adfeef6844eabeec02e48a099d6b": {
      "model_module": "@jupyter-widgets/controls",
      "model_module_version": "1.5.0",
      "model_name": "GridBoxModel",
      "state": {
       "children": [
        "IPY_MODEL_3bc95024f258458eb6959cca2a9c579a",
        "IPY_MODEL_51f312d4ed634b2989a87fe107eb2f8c"
       ],
       "layout": "IPY_MODEL_f21eda7ae7dc4db7b6f3fd444ec83d6a"
      }
     },
     "27752de0d47745b7a0dbaf5405815205": {
      "model_module": "@jupyter-widgets/controls",
      "model_module_version": "1.5.0",
      "model_name": "DescriptionStyleModel",
      "state": {
       "description_width": ""
      }
     },
     "277eaf74c1794c8abdd94c42b214d8c2": {
      "model_module": "@jupyter-widgets/controls",
      "model_module_version": "1.5.0",
      "model_name": "HTMLModel",
      "state": {
       "layout": "IPY_MODEL_5232f9d2fd3b4f249ccb3847fc074a24",
       "style": "IPY_MODEL_8f669b6b3f6e459f8ee38012ab46ce82",
       "value": "/836页"
      }
     },
     "283601847f114182a1583953ead2f19a": {
      "model_module": "@jupyter-widgets/controls",
      "model_module_version": "1.5.0",
      "model_name": "ButtonModel",
      "state": {
       "icon": "angle-right",
       "layout": "IPY_MODEL_b384f4f47b0a423383e541ebc815bf86",
       "style": "IPY_MODEL_2420b27d978d4e8d80a609fd5230797e",
       "tooltip": "下一页"
      }
     },
     "28dc42a0c22c4823b6c1f0e9a202054b": {
      "model_module": "@jupyter-widgets/controls",
      "model_module_version": "1.5.0",
      "model_name": "DescriptionStyleModel",
      "state": {
       "description_width": ""
      }
     },
     "2a2c168bebdc4100b89c687938ea21e1": {
      "model_module": "@jupyter-widgets/base",
      "model_module_version": "1.2.0",
      "model_name": "LayoutModel",
      "state": {
       "align_items": "center",
       "grid_area": "widget007",
       "grid_template_areas": "\"widget001 widget002 . widget003\"\n\"widget004 widget004 widget004 widget004\"\n\"widget005 widget005 widget005 widget005\"",
       "grid_template_columns": "100px 130px auto 80px",
       "grid_template_rows": "60px auto 40px"
      }
     },
     "2a79ebb06daf43e2b0894f0d46048e5a": {
      "model_module": "@jupyter-widgets/controls",
      "model_module_version": "1.5.0",
      "model_name": "GridBoxModel",
      "state": {
       "children": [
        "IPY_MODEL_7517e651d79541c8aff91adef5630447",
        "IPY_MODEL_a30fc491a4f04f5ba14e34ec580812cb",
        "IPY_MODEL_3c515e5ddb184b30bbb9cea3f991c4bd",
        "IPY_MODEL_4cf1ba2b7f81472e8ccbcd5085a9facf",
        "IPY_MODEL_9576aa372429475f83f403502e689d45"
       ],
       "layout": "IPY_MODEL_b89e987477c04e88a71a3d238e0dee12"
      }
     },
     "2b32b3196fda49a9b1d6ce5eae2e5731": {
      "model_module": "@jupyter-widgets/controls",
      "model_module_version": "1.5.0",
      "model_name": "HTMLModel",
      "state": {
       "layout": "IPY_MODEL_ca7b16ffc8ac452c95f63083072c73e2",
       "style": "IPY_MODEL_1d9a28ba3d04478ebc200b77a1f680ff",
       "value": "初始资金&nbsp;&nbsp;&nbsp;&nbsp;&nbsp;&nbsp;<b>200000000</b>"
      }
     },
     "2bc61eb56fd34b5c918d10fdb4534ccb": {
      "model_module": "@jupyter-widgets/controls",
      "model_module_version": "1.5.0",
      "model_name": "DescriptionStyleModel",
      "state": {
       "description_width": ""
      }
     },
     "2bfc4906621540979f8461406b7a6e64": {
      "model_module": "@jupyter-widgets/base",
      "model_module_version": "1.2.0",
      "model_name": "LayoutModel",
      "state": {
       "grid_area": "widget010"
      }
     },
     "2c0704cf04674028b75e7c1be68cbdd0": {
      "model_module": "@jupyter-widgets/controls",
      "model_module_version": "1.5.0",
      "model_name": "DescriptionStyleModel",
      "state": {
       "description_width": ""
      }
     },
     "2c9f8720d76f42e781d1e7b4ad553359": {
      "model_module": "@jupyter-widgets/base",
      "model_module_version": "1.2.0",
      "model_name": "LayoutModel",
      "state": {
       "grid_area": "widget004",
       "width": "30px"
      }
     },
     "2d08738919da4d9982a0988575fbfe73": {
      "model_module": "@jupyter-widgets/controls",
      "model_module_version": "1.5.0",
      "model_name": "DescriptionStyleModel",
      "state": {
       "description_width": ""
      }
     },
     "2defd7b44313491fb196c4b544e75286": {
      "model_module": "@jupyter-widgets/controls",
      "model_module_version": "1.5.0",
      "model_name": "DescriptionStyleModel",
      "state": {
       "description_width": ""
      }
     },
     "2dff5b396fc74adf993dc889d935119b": {
      "model_module": "@jupyter-widgets/controls",
      "model_module_version": "1.5.0",
      "model_name": "ButtonModel",
      "state": {
       "description": "下载",
       "icon": "download",
       "layout": "IPY_MODEL_8a9edc5db1dd4374a66ae9152078c5b2",
       "style": "IPY_MODEL_c3ec2fa924704a5abe7f9eb7f169785a",
       "tooltip": "下载持仓详情表格"
      }
     },
     "2e8570eaff794452870da2cb1a35fada": {
      "model_module": "@jupyter-widgets/base",
      "model_module_version": "1.2.0",
      "model_name": "LayoutModel",
      "state": {
       "align_items": "center",
       "grid_area": "widget005",
       "grid_template_areas": "\"widget001 . . widget002\"\n\"widget003 widget003 widget003 widget003\"\n\"widget004 widget004 widget004 widget004\"",
       "grid_template_columns": "100px 130px auto 80px",
       "grid_template_rows": "60px auto 40px"
      }
     },
     "2e873ead31ac47d785494108dbd2f7cb": {
      "model_module": "@jupyter-widgets/base",
      "model_module_version": "1.2.0",
      "model_name": "LayoutModel",
      "state": {
       "grid_area": "widget007"
      }
     },
     "2ea622a3099f4c338b0f1803bed373df": {
      "model_module": "@jupyter-widgets/output",
      "model_module_version": "1.0.0",
      "model_name": "OutputModel",
      "state": {
       "layout": "IPY_MODEL_6530e190225c49d283e5a11afdd720cf",
       "outputs": [
        {
         "data": {
          "text/html": "<style  type=\"text/css\" >\n#T_8eec6_row0_col0,#T_8eec6_row0_col1,#T_8eec6_row0_col2,#T_8eec6_row0_col4,#T_8eec6_row0_col5,#T_8eec6_row0_col6,#T_8eec6_row0_col7,#T_8eec6_row1_col0,#T_8eec6_row1_col1,#T_8eec6_row1_col2,#T_8eec6_row1_col4,#T_8eec6_row1_col5,#T_8eec6_row1_col6,#T_8eec6_row1_col7,#T_8eec6_row2_col0,#T_8eec6_row2_col1,#T_8eec6_row2_col2,#T_8eec6_row2_col4,#T_8eec6_row2_col5,#T_8eec6_row2_col6,#T_8eec6_row2_col7,#T_8eec6_row3_col0,#T_8eec6_row3_col1,#T_8eec6_row3_col2,#T_8eec6_row3_col4,#T_8eec6_row3_col5,#T_8eec6_row3_col6,#T_8eec6_row3_col7,#T_8eec6_row4_col0,#T_8eec6_row4_col1,#T_8eec6_row4_col2,#T_8eec6_row4_col4,#T_8eec6_row4_col5,#T_8eec6_row4_col6,#T_8eec6_row4_col7,#T_8eec6_row5_col0,#T_8eec6_row5_col1,#T_8eec6_row5_col2,#T_8eec6_row5_col4,#T_8eec6_row5_col5,#T_8eec6_row5_col6,#T_8eec6_row5_col7,#T_8eec6_row6_col0,#T_8eec6_row6_col1,#T_8eec6_row6_col2,#T_8eec6_row6_col4,#T_8eec6_row6_col5,#T_8eec6_row6_col6,#T_8eec6_row6_col7,#T_8eec6_row7_col0,#T_8eec6_row7_col1,#T_8eec6_row7_col2,#T_8eec6_row7_col4,#T_8eec6_row7_col5,#T_8eec6_row7_col6,#T_8eec6_row7_col7,#T_8eec6_row8_col0,#T_8eec6_row8_col1,#T_8eec6_row8_col2,#T_8eec6_row8_col4,#T_8eec6_row8_col5,#T_8eec6_row8_col6,#T_8eec6_row8_col7,#T_8eec6_row9_col0,#T_8eec6_row9_col1,#T_8eec6_row9_col2,#T_8eec6_row9_col4,#T_8eec6_row9_col5,#T_8eec6_row9_col6,#T_8eec6_row9_col7,#T_8eec6_row10_col0,#T_8eec6_row10_col1,#T_8eec6_row10_col2,#T_8eec6_row10_col4,#T_8eec6_row10_col5,#T_8eec6_row10_col6,#T_8eec6_row10_col7,#T_8eec6_row11_col0,#T_8eec6_row11_col1,#T_8eec6_row11_col2,#T_8eec6_row11_col4,#T_8eec6_row11_col5,#T_8eec6_row11_col6,#T_8eec6_row11_col7,#T_8eec6_row12_col0,#T_8eec6_row12_col1,#T_8eec6_row12_col2,#T_8eec6_row12_col4,#T_8eec6_row12_col5,#T_8eec6_row12_col6,#T_8eec6_row12_col7,#T_8eec6_row13_col0,#T_8eec6_row13_col1,#T_8eec6_row13_col2,#T_8eec6_row13_col4,#T_8eec6_row13_col5,#T_8eec6_row13_col6,#T_8eec6_row13_col7,#T_8eec6_row14_col0,#T_8eec6_row14_col1,#T_8eec6_row14_col2,#T_8eec6_row14_col4,#T_8eec6_row14_col5,#T_8eec6_row14_col6,#T_8eec6_row14_col7,#T_8eec6_row15_col0,#T_8eec6_row15_col1,#T_8eec6_row15_col2,#T_8eec6_row15_col4,#T_8eec6_row15_col5,#T_8eec6_row15_col6,#T_8eec6_row15_col7,#T_8eec6_row16_col0,#T_8eec6_row16_col1,#T_8eec6_row16_col2,#T_8eec6_row16_col4,#T_8eec6_row16_col5,#T_8eec6_row16_col6,#T_8eec6_row16_col7,#T_8eec6_row17_col0,#T_8eec6_row17_col1,#T_8eec6_row17_col2,#T_8eec6_row17_col4,#T_8eec6_row17_col5,#T_8eec6_row17_col6,#T_8eec6_row17_col7,#T_8eec6_row18_col0,#T_8eec6_row18_col1,#T_8eec6_row18_col2,#T_8eec6_row18_col4,#T_8eec6_row18_col5,#T_8eec6_row18_col6,#T_8eec6_row18_col7,#T_8eec6_row19_col0,#T_8eec6_row19_col1,#T_8eec6_row19_col2,#T_8eec6_row19_col4,#T_8eec6_row19_col5,#T_8eec6_row19_col6,#T_8eec6_row19_col7{\n            width:  500px;\n        }#T_8eec6_row0_col3,#T_8eec6_row1_col3,#T_8eec6_row2_col3,#T_8eec6_row3_col3,#T_8eec6_row4_col3,#T_8eec6_row5_col3,#T_8eec6_row6_col3,#T_8eec6_row7_col3,#T_8eec6_row8_col3,#T_8eec6_row9_col3,#T_8eec6_row10_col3,#T_8eec6_row11_col3,#T_8eec6_row12_col3,#T_8eec6_row13_col3,#T_8eec6_row14_col3,#T_8eec6_row15_col3,#T_8eec6_row16_col3,#T_8eec6_row17_col3,#T_8eec6_row18_col3,#T_8eec6_row19_col3{\n            color:  ;\n            width:  500px;\n        }</style><table id=\"T_8eec6_\" ><thead>    <tr>        <th class=\"col_heading level0 col0\" >日期时间</th>        <th class=\"col_heading level0 col1\" >股票代码</th>        <th class=\"col_heading level0 col2\" >股票名称</th>        <th class=\"col_heading level0 col3\" >操作</th>        <th class=\"col_heading level0 col4\" >委托数量</th>        <th class=\"col_heading level0 col5\" >价格</th>        <th class=\"col_heading level0 col6\" >计划权重</th>        <th class=\"col_heading level0 col7\" >上一日权重</th>    </tr></thead><tbody>\n                <tr>\n                                <td id=\"T_8eec6_row0_col0\" class=\"data row0 col0\" >-</td>\n                        <td id=\"T_8eec6_row0_col1\" class=\"data row0 col1\" >-</td>\n                        <td id=\"T_8eec6_row0_col2\" class=\"data row0 col2\" >-</td>\n                        <td id=\"T_8eec6_row0_col3\" class=\"data row0 col3\" >-</td>\n                        <td id=\"T_8eec6_row0_col4\" class=\"data row0 col4\" >-</td>\n                        <td id=\"T_8eec6_row0_col5\" class=\"data row0 col5\" >-</td>\n                        <td id=\"T_8eec6_row0_col6\" class=\"data row0 col6\" >-</td>\n                        <td id=\"T_8eec6_row0_col7\" class=\"data row0 col7\" >-</td>\n            </tr>\n            <tr>\n                                <td id=\"T_8eec6_row1_col0\" class=\"data row1 col0\" >-</td>\n                        <td id=\"T_8eec6_row1_col1\" class=\"data row1 col1\" >-</td>\n                        <td id=\"T_8eec6_row1_col2\" class=\"data row1 col2\" >-</td>\n                        <td id=\"T_8eec6_row1_col3\" class=\"data row1 col3\" >-</td>\n                        <td id=\"T_8eec6_row1_col4\" class=\"data row1 col4\" >-</td>\n                        <td id=\"T_8eec6_row1_col5\" class=\"data row1 col5\" >-</td>\n                        <td id=\"T_8eec6_row1_col6\" class=\"data row1 col6\" >-</td>\n                        <td id=\"T_8eec6_row1_col7\" class=\"data row1 col7\" >-</td>\n            </tr>\n            <tr>\n                                <td id=\"T_8eec6_row2_col0\" class=\"data row2 col0\" >-</td>\n                        <td id=\"T_8eec6_row2_col1\" class=\"data row2 col1\" >-</td>\n                        <td id=\"T_8eec6_row2_col2\" class=\"data row2 col2\" >-</td>\n                        <td id=\"T_8eec6_row2_col3\" class=\"data row2 col3\" >-</td>\n                        <td id=\"T_8eec6_row2_col4\" class=\"data row2 col4\" >-</td>\n                        <td id=\"T_8eec6_row2_col5\" class=\"data row2 col5\" >-</td>\n                        <td id=\"T_8eec6_row2_col6\" class=\"data row2 col6\" >-</td>\n                        <td id=\"T_8eec6_row2_col7\" class=\"data row2 col7\" >-</td>\n            </tr>\n            <tr>\n                                <td id=\"T_8eec6_row3_col0\" class=\"data row3 col0\" >-</td>\n                        <td id=\"T_8eec6_row3_col1\" class=\"data row3 col1\" >-</td>\n                        <td id=\"T_8eec6_row3_col2\" class=\"data row3 col2\" >-</td>\n                        <td id=\"T_8eec6_row3_col3\" class=\"data row3 col3\" >-</td>\n                        <td id=\"T_8eec6_row3_col4\" class=\"data row3 col4\" >-</td>\n                        <td id=\"T_8eec6_row3_col5\" class=\"data row3 col5\" >-</td>\n                        <td id=\"T_8eec6_row3_col6\" class=\"data row3 col6\" >-</td>\n                        <td id=\"T_8eec6_row3_col7\" class=\"data row3 col7\" >-</td>\n            </tr>\n            <tr>\n                                <td id=\"T_8eec6_row4_col0\" class=\"data row4 col0\" >-</td>\n                        <td id=\"T_8eec6_row4_col1\" class=\"data row4 col1\" >-</td>\n                        <td id=\"T_8eec6_row4_col2\" class=\"data row4 col2\" >-</td>\n                        <td id=\"T_8eec6_row4_col3\" class=\"data row4 col3\" >-</td>\n                        <td id=\"T_8eec6_row4_col4\" class=\"data row4 col4\" >-</td>\n                        <td id=\"T_8eec6_row4_col5\" class=\"data row4 col5\" >-</td>\n                        <td id=\"T_8eec6_row4_col6\" class=\"data row4 col6\" >-</td>\n                        <td id=\"T_8eec6_row4_col7\" class=\"data row4 col7\" >-</td>\n            </tr>\n            <tr>\n                                <td id=\"T_8eec6_row5_col0\" class=\"data row5 col0\" >-</td>\n                        <td id=\"T_8eec6_row5_col1\" class=\"data row5 col1\" >-</td>\n                        <td id=\"T_8eec6_row5_col2\" class=\"data row5 col2\" >-</td>\n                        <td id=\"T_8eec6_row5_col3\" class=\"data row5 col3\" >-</td>\n                        <td id=\"T_8eec6_row5_col4\" class=\"data row5 col4\" >-</td>\n                        <td id=\"T_8eec6_row5_col5\" class=\"data row5 col5\" >-</td>\n                        <td id=\"T_8eec6_row5_col6\" class=\"data row5 col6\" >-</td>\n                        <td id=\"T_8eec6_row5_col7\" class=\"data row5 col7\" >-</td>\n            </tr>\n            <tr>\n                                <td id=\"T_8eec6_row6_col0\" class=\"data row6 col0\" >-</td>\n                        <td id=\"T_8eec6_row6_col1\" class=\"data row6 col1\" >-</td>\n                        <td id=\"T_8eec6_row6_col2\" class=\"data row6 col2\" >-</td>\n                        <td id=\"T_8eec6_row6_col3\" class=\"data row6 col3\" >-</td>\n                        <td id=\"T_8eec6_row6_col4\" class=\"data row6 col4\" >-</td>\n                        <td id=\"T_8eec6_row6_col5\" class=\"data row6 col5\" >-</td>\n                        <td id=\"T_8eec6_row6_col6\" class=\"data row6 col6\" >-</td>\n                        <td id=\"T_8eec6_row6_col7\" class=\"data row6 col7\" >-</td>\n            </tr>\n            <tr>\n                                <td id=\"T_8eec6_row7_col0\" class=\"data row7 col0\" >-</td>\n                        <td id=\"T_8eec6_row7_col1\" class=\"data row7 col1\" >-</td>\n                        <td id=\"T_8eec6_row7_col2\" class=\"data row7 col2\" >-</td>\n                        <td id=\"T_8eec6_row7_col3\" class=\"data row7 col3\" >-</td>\n                        <td id=\"T_8eec6_row7_col4\" class=\"data row7 col4\" >-</td>\n                        <td id=\"T_8eec6_row7_col5\" class=\"data row7 col5\" >-</td>\n                        <td id=\"T_8eec6_row7_col6\" class=\"data row7 col6\" >-</td>\n                        <td id=\"T_8eec6_row7_col7\" class=\"data row7 col7\" >-</td>\n            </tr>\n            <tr>\n                                <td id=\"T_8eec6_row8_col0\" class=\"data row8 col0\" >-</td>\n                        <td id=\"T_8eec6_row8_col1\" class=\"data row8 col1\" >-</td>\n                        <td id=\"T_8eec6_row8_col2\" class=\"data row8 col2\" >-</td>\n                        <td id=\"T_8eec6_row8_col3\" class=\"data row8 col3\" >-</td>\n                        <td id=\"T_8eec6_row8_col4\" class=\"data row8 col4\" >-</td>\n                        <td id=\"T_8eec6_row8_col5\" class=\"data row8 col5\" >-</td>\n                        <td id=\"T_8eec6_row8_col6\" class=\"data row8 col6\" >-</td>\n                        <td id=\"T_8eec6_row8_col7\" class=\"data row8 col7\" >-</td>\n            </tr>\n            <tr>\n                                <td id=\"T_8eec6_row9_col0\" class=\"data row9 col0\" >-</td>\n                        <td id=\"T_8eec6_row9_col1\" class=\"data row9 col1\" >-</td>\n                        <td id=\"T_8eec6_row9_col2\" class=\"data row9 col2\" >-</td>\n                        <td id=\"T_8eec6_row9_col3\" class=\"data row9 col3\" >-</td>\n                        <td id=\"T_8eec6_row9_col4\" class=\"data row9 col4\" >-</td>\n                        <td id=\"T_8eec6_row9_col5\" class=\"data row9 col5\" >-</td>\n                        <td id=\"T_8eec6_row9_col6\" class=\"data row9 col6\" >-</td>\n                        <td id=\"T_8eec6_row9_col7\" class=\"data row9 col7\" >-</td>\n            </tr>\n            <tr>\n                                <td id=\"T_8eec6_row10_col0\" class=\"data row10 col0\" >-</td>\n                        <td id=\"T_8eec6_row10_col1\" class=\"data row10 col1\" >-</td>\n                        <td id=\"T_8eec6_row10_col2\" class=\"data row10 col2\" >-</td>\n                        <td id=\"T_8eec6_row10_col3\" class=\"data row10 col3\" >-</td>\n                        <td id=\"T_8eec6_row10_col4\" class=\"data row10 col4\" >-</td>\n                        <td id=\"T_8eec6_row10_col5\" class=\"data row10 col5\" >-</td>\n                        <td id=\"T_8eec6_row10_col6\" class=\"data row10 col6\" >-</td>\n                        <td id=\"T_8eec6_row10_col7\" class=\"data row10 col7\" >-</td>\n            </tr>\n            <tr>\n                                <td id=\"T_8eec6_row11_col0\" class=\"data row11 col0\" >-</td>\n                        <td id=\"T_8eec6_row11_col1\" class=\"data row11 col1\" >-</td>\n                        <td id=\"T_8eec6_row11_col2\" class=\"data row11 col2\" >-</td>\n                        <td id=\"T_8eec6_row11_col3\" class=\"data row11 col3\" >-</td>\n                        <td id=\"T_8eec6_row11_col4\" class=\"data row11 col4\" >-</td>\n                        <td id=\"T_8eec6_row11_col5\" class=\"data row11 col5\" >-</td>\n                        <td id=\"T_8eec6_row11_col6\" class=\"data row11 col6\" >-</td>\n                        <td id=\"T_8eec6_row11_col7\" class=\"data row11 col7\" >-</td>\n            </tr>\n            <tr>\n                                <td id=\"T_8eec6_row12_col0\" class=\"data row12 col0\" >-</td>\n                        <td id=\"T_8eec6_row12_col1\" class=\"data row12 col1\" >-</td>\n                        <td id=\"T_8eec6_row12_col2\" class=\"data row12 col2\" >-</td>\n                        <td id=\"T_8eec6_row12_col3\" class=\"data row12 col3\" >-</td>\n                        <td id=\"T_8eec6_row12_col4\" class=\"data row12 col4\" >-</td>\n                        <td id=\"T_8eec6_row12_col5\" class=\"data row12 col5\" >-</td>\n                        <td id=\"T_8eec6_row12_col6\" class=\"data row12 col6\" >-</td>\n                        <td id=\"T_8eec6_row12_col7\" class=\"data row12 col7\" >-</td>\n            </tr>\n            <tr>\n                                <td id=\"T_8eec6_row13_col0\" class=\"data row13 col0\" >-</td>\n                        <td id=\"T_8eec6_row13_col1\" class=\"data row13 col1\" >-</td>\n                        <td id=\"T_8eec6_row13_col2\" class=\"data row13 col2\" >-</td>\n                        <td id=\"T_8eec6_row13_col3\" class=\"data row13 col3\" >-</td>\n                        <td id=\"T_8eec6_row13_col4\" class=\"data row13 col4\" >-</td>\n                        <td id=\"T_8eec6_row13_col5\" class=\"data row13 col5\" >-</td>\n                        <td id=\"T_8eec6_row13_col6\" class=\"data row13 col6\" >-</td>\n                        <td id=\"T_8eec6_row13_col7\" class=\"data row13 col7\" >-</td>\n            </tr>\n            <tr>\n                                <td id=\"T_8eec6_row14_col0\" class=\"data row14 col0\" >-</td>\n                        <td id=\"T_8eec6_row14_col1\" class=\"data row14 col1\" >-</td>\n                        <td id=\"T_8eec6_row14_col2\" class=\"data row14 col2\" >-</td>\n                        <td id=\"T_8eec6_row14_col3\" class=\"data row14 col3\" >-</td>\n                        <td id=\"T_8eec6_row14_col4\" class=\"data row14 col4\" >-</td>\n                        <td id=\"T_8eec6_row14_col5\" class=\"data row14 col5\" >-</td>\n                        <td id=\"T_8eec6_row14_col6\" class=\"data row14 col6\" >-</td>\n                        <td id=\"T_8eec6_row14_col7\" class=\"data row14 col7\" >-</td>\n            </tr>\n            <tr>\n                                <td id=\"T_8eec6_row15_col0\" class=\"data row15 col0\" >-</td>\n                        <td id=\"T_8eec6_row15_col1\" class=\"data row15 col1\" >-</td>\n                        <td id=\"T_8eec6_row15_col2\" class=\"data row15 col2\" >-</td>\n                        <td id=\"T_8eec6_row15_col3\" class=\"data row15 col3\" >-</td>\n                        <td id=\"T_8eec6_row15_col4\" class=\"data row15 col4\" >-</td>\n                        <td id=\"T_8eec6_row15_col5\" class=\"data row15 col5\" >-</td>\n                        <td id=\"T_8eec6_row15_col6\" class=\"data row15 col6\" >-</td>\n                        <td id=\"T_8eec6_row15_col7\" class=\"data row15 col7\" >-</td>\n            </tr>\n            <tr>\n                                <td id=\"T_8eec6_row16_col0\" class=\"data row16 col0\" >-</td>\n                        <td id=\"T_8eec6_row16_col1\" class=\"data row16 col1\" >-</td>\n                        <td id=\"T_8eec6_row16_col2\" class=\"data row16 col2\" >-</td>\n                        <td id=\"T_8eec6_row16_col3\" class=\"data row16 col3\" >-</td>\n                        <td id=\"T_8eec6_row16_col4\" class=\"data row16 col4\" >-</td>\n                        <td id=\"T_8eec6_row16_col5\" class=\"data row16 col5\" >-</td>\n                        <td id=\"T_8eec6_row16_col6\" class=\"data row16 col6\" >-</td>\n                        <td id=\"T_8eec6_row16_col7\" class=\"data row16 col7\" >-</td>\n            </tr>\n            <tr>\n                                <td id=\"T_8eec6_row17_col0\" class=\"data row17 col0\" >-</td>\n                        <td id=\"T_8eec6_row17_col1\" class=\"data row17 col1\" >-</td>\n                        <td id=\"T_8eec6_row17_col2\" class=\"data row17 col2\" >-</td>\n                        <td id=\"T_8eec6_row17_col3\" class=\"data row17 col3\" >-</td>\n                        <td id=\"T_8eec6_row17_col4\" class=\"data row17 col4\" >-</td>\n                        <td id=\"T_8eec6_row17_col5\" class=\"data row17 col5\" >-</td>\n                        <td id=\"T_8eec6_row17_col6\" class=\"data row17 col6\" >-</td>\n                        <td id=\"T_8eec6_row17_col7\" class=\"data row17 col7\" >-</td>\n            </tr>\n            <tr>\n                                <td id=\"T_8eec6_row18_col0\" class=\"data row18 col0\" >-</td>\n                        <td id=\"T_8eec6_row18_col1\" class=\"data row18 col1\" >-</td>\n                        <td id=\"T_8eec6_row18_col2\" class=\"data row18 col2\" >-</td>\n                        <td id=\"T_8eec6_row18_col3\" class=\"data row18 col3\" >-</td>\n                        <td id=\"T_8eec6_row18_col4\" class=\"data row18 col4\" >-</td>\n                        <td id=\"T_8eec6_row18_col5\" class=\"data row18 col5\" >-</td>\n                        <td id=\"T_8eec6_row18_col6\" class=\"data row18 col6\" >-</td>\n                        <td id=\"T_8eec6_row18_col7\" class=\"data row18 col7\" >-</td>\n            </tr>\n            <tr>\n                                <td id=\"T_8eec6_row19_col0\" class=\"data row19 col0\" >-</td>\n                        <td id=\"T_8eec6_row19_col1\" class=\"data row19 col1\" >-</td>\n                        <td id=\"T_8eec6_row19_col2\" class=\"data row19 col2\" >-</td>\n                        <td id=\"T_8eec6_row19_col3\" class=\"data row19 col3\" >-</td>\n                        <td id=\"T_8eec6_row19_col4\" class=\"data row19 col4\" >-</td>\n                        <td id=\"T_8eec6_row19_col5\" class=\"data row19 col5\" >-</td>\n                        <td id=\"T_8eec6_row19_col6\" class=\"data row19 col6\" >-</td>\n                        <td id=\"T_8eec6_row19_col7\" class=\"data row19 col7\" >-</td>\n            </tr>\n    </tbody></table>",
          "text/plain": "<pandas.io.formats.style.Styler at 0x7f39d4eaee20>"
         },
         "metadata": {},
         "output_type": "display_data"
        }
       ]
      }
     },
     "2eeb4a5cba8649b093c36ba83b05c9af": {
      "model_module": "@jupyter-widgets/base",
      "model_module_version": "1.2.0",
      "model_name": "LayoutModel",
      "state": {}
     },
     "2f9b83b1fb0e448a83c2b6a0ba4f9803": {
      "model_module": "@jupyter-widgets/base",
      "model_module_version": "1.2.0",
      "model_name": "LayoutModel",
      "state": {
       "grid_area": "widget001"
      }
     },
     "2f9b85b85f0445bf98f260253446d432": {
      "model_module": "@jupyter-widgets/base",
      "model_module_version": "1.2.0",
      "model_name": "LayoutModel",
      "state": {
       "grid_area": "widget001"
      }
     },
     "30080a44d76745c09263a01d702ebcdb": {
      "model_module": "@jupyter-widgets/controls",
      "model_module_version": "1.5.0",
      "model_name": "HTMLModel",
      "state": {
       "layout": "IPY_MODEL_e1e1ba446c1c46e2869cf413824dec25",
       "style": "IPY_MODEL_3d2960e37e524123a04923e4f36d5cdb",
       "value": "夏普比率&nbsp;&nbsp;&nbsp;&nbsp;&nbsp;&nbsp;&nbsp;<b>0.58</b>"
      }
     },
     "307413c4f6d145b3bd8694a2d1f6654b": {
      "model_module": "@jupyter-widgets/controls",
      "model_module_version": "1.5.0",
      "model_name": "VBoxModel",
      "state": {
       "_dom_classes": [
        "widget-interact"
       ],
       "children": [
        "IPY_MODEL_d69a689c2e164c3db0eafd9917a5f63d"
       ],
       "layout": "IPY_MODEL_09587512fdb347a099c6566cdc201335"
      }
     },
     "30d449d356cc47a08770c555e3cc5477": {
      "model_module": "@jupyter-widgets/base",
      "model_module_version": "1.2.0",
      "model_name": "LayoutModel",
      "state": {
       "grid_area": "widget003"
      }
     },
     "31c86714144f4995a9d59f1accd69626": {
      "model_module": "@jupyter-widgets/base",
      "model_module_version": "1.2.0",
      "model_name": "LayoutModel",
      "state": {
       "grid_area": "widget009"
      }
     },
     "32da3fdd91fd451ba42c79be1fe5fb42": {
      "model_module": "@jupyter-widgets/base",
      "model_module_version": "1.2.0",
      "model_name": "LayoutModel",
      "state": {
       "grid_area": "widget003",
       "width": "60px"
      }
     },
     "32f94ef8c4e14353a7408b133730a9aa": {
      "model_module": "@jupyter-widgets/base",
      "model_module_version": "1.2.0",
      "model_name": "LayoutModel",
      "state": {
       "grid_area": "widget002",
       "width": "30px"
      }
     },
     "332163696e0c42e5bfd09970b7fbbbd1": {
      "model_module": "@jupyter-widgets/controls",
      "model_module_version": "1.5.0",
      "model_name": "ButtonStyleModel",
      "state": {}
     },
     "339a700e874b420bb7e5e9fa46c10611": {
      "model_module": "@jupyter-widgets/controls",
      "model_module_version": "1.5.0",
      "model_name": "ButtonStyleModel",
      "state": {}
     },
     "33cc4e9a6db84ba092c253a2f3fa35ff": {
      "model_module": "@jupyter-widgets/controls",
      "model_module_version": "1.5.0",
      "model_name": "DescriptionStyleModel",
      "state": {
       "description_width": ""
      }
     },
     "34eb4635af484e958e687496aeb3f2cb": {
      "model_module": "@jupyter-widgets/controls",
      "model_module_version": "1.5.0",
      "model_name": "BoundedIntTextModel",
      "state": {
       "layout": "IPY_MODEL_6b9bbda0d32b450387e3ef1ed6239852",
       "max": 1,
       "min": 1,
       "style": "IPY_MODEL_b022bcee0f444d99859f64fcd998edce",
       "value": 1
      }
     },
     "3501c77696e444b9b3039a33dfcf584d": {
      "model_module": "@jupyter-widgets/controls",
      "model_module_version": "1.5.0",
      "model_name": "GridBoxModel",
      "state": {
       "children": [
        "IPY_MODEL_1e83a2fa2a964fffb3607f6efcb73a9f",
        "IPY_MODEL_4a38ad55a54446aba53073ea0fcefdcb",
        "IPY_MODEL_0bf60611c6074e919c5294645d37c069",
        "IPY_MODEL_a451d6a691814aa7a2a5263587b953ab"
       ],
       "layout": "IPY_MODEL_1ccd349caea14790b6fa3e59864e9253"
      }
     },
     "35218f5f148c4aaab19a2fab182eb777": {
      "model_module": "@jupyter-widgets/controls",
      "model_module_version": "1.5.0",
      "model_name": "HTMLModel",
      "state": {
       "layout": "IPY_MODEL_04f7a0fde69e4cdf8f665e36f350f48d",
       "style": "IPY_MODEL_2defd7b44313491fb196c4b544e75286",
       "value": "累计收益"
      }
     },
     "354d0c414f074947a7886faf7ff323af": {
      "model_module": "@jupyter-widgets/controls",
      "model_module_version": "1.5.0",
      "model_name": "DescriptionStyleModel",
      "state": {
       "description_width": ""
      }
     },
     "35817b31654b4c8db95efdabd68dc062": {
      "model_module": "@jupyter-widgets/base",
      "model_module_version": "1.2.0",
      "model_name": "LayoutModel",
      "state": {
       "align_items": "center",
       "grid_area": "widget002",
       "grid_template_areas": "\"widget001\"\n\"widget002\"",
       "grid_template_columns": "auto",
       "grid_template_rows": "60px auto"
      }
     },
     "35d5dd96743745f98934c7afe25982a2": {
      "model_module": "@jupyter-widgets/base",
      "model_module_version": "1.2.0",
      "model_name": "LayoutModel",
      "state": {
       "grid_area": "widget001"
      }
     },
     "36365a5bcfe542abb3900c86baace7e2": {
      "model_module": "@jupyter-widgets/base",
      "model_module_version": "1.2.0",
      "model_name": "LayoutModel",
      "state": {
       "grid_area": "widget001"
      }
     },
     "365ee50733c94272b297d3fd089754a6": {
      "model_module": "@jupyter-widgets/base",
      "model_module_version": "1.2.0",
      "model_name": "LayoutModel",
      "state": {
       "grid_area": "widget004",
       "width": "30px"
      }
     },
     "36986cc126154030839fd06d54c8234b": {
      "model_module": "@jupyter-widgets/base",
      "model_module_version": "1.2.0",
      "model_name": "LayoutModel",
      "state": {
       "grid_area": "widget002"
      }
     },
     "36f730f16db441bfa44d5d6c534263de": {
      "model_module": "@jupyter-widgets/controls",
      "model_module_version": "1.5.0",
      "model_name": "DescriptionStyleModel",
      "state": {
       "description_width": ""
      }
     },
     "377f0d654bbd49e288c2d034e684f63e": {
      "model_module": "@jupyter-widgets/base",
      "model_module_version": "1.2.0",
      "model_name": "LayoutModel",
      "state": {
       "grid_area": "widget002",
       "width": "30px"
      }
     },
     "37d864c7c8e149c283967dcbe0d84084": {
      "model_module": "@jupyter-widgets/controls",
      "model_module_version": "1.5.0",
      "model_name": "DescriptionStyleModel",
      "state": {
       "description_width": ""
      }
     },
     "388a762e736f48899579aa43c1f01741": {
      "model_module": "@jupyter-widgets/controls",
      "model_module_version": "1.5.0",
      "model_name": "DescriptionStyleModel",
      "state": {
       "description_width": ""
      }
     },
     "39353f0119b643559cb57663439d5d54": {
      "model_module": "@jupyter-widgets/controls",
      "model_module_version": "1.5.0",
      "model_name": "BoundedIntTextModel",
      "state": {
       "layout": "IPY_MODEL_8b995fda307743df862dc1a378b92fd3",
       "max": 836,
       "min": 1,
       "style": "IPY_MODEL_1eb6c78ec571413c8d3fc1251b018c7b",
       "value": 1
      }
     },
     "39870365d5524e2f9d24dc871913e4df": {
      "model_module": "@jupyter-widgets/controls",
      "model_module_version": "1.5.0",
      "model_name": "DescriptionStyleModel",
      "state": {
       "description_width": ""
      }
     },
     "39d103d34e254ceca233699f38b12d5b": {
      "model_module": "@jupyter-widgets/base",
      "model_module_version": "1.2.0",
      "model_name": "LayoutModel",
      "state": {
       "grid_area": "widget004"
      }
     },
     "3a8ad9e3c8394a09be4f38d108927b03": {
      "model_module": "@jupyter-widgets/base",
      "model_module_version": "1.2.0",
      "model_name": "LayoutModel",
      "state": {
       "grid_area": "widget003"
      }
     },
     "3bc95024f258458eb6959cca2a9c579a": {
      "model_module": "@jupyter-widgets/controls",
      "model_module_version": "1.5.0",
      "model_name": "HTMLModel",
      "state": {
       "layout": "IPY_MODEL_613147b661c8443eb19e6b433e750cb1",
       "style": "IPY_MODEL_ea782440f35345829b279e8fc9cd85d0",
       "value": "<span style='font-size:20px;'> <b>收益统计</b> </span>"
      }
     },
     "3bd3852880804e2b848cccbe62836a11": {
      "model_module": "@jupyter-widgets/controls",
      "model_module_version": "1.5.0",
      "model_name": "VBoxModel",
      "state": {
       "_dom_classes": [
        "widget-interact"
       ],
       "children": [
        "IPY_MODEL_1a968a26fc6a4502ab3d2b03070d03b8"
       ],
       "layout": "IPY_MODEL_40de11b0301f49adb927abf60000aca8"
      }
     },
     "3c515e5ddb184b30bbb9cea3f991c4bd": {
      "model_module": "@jupyter-widgets/controls",
      "model_module_version": "1.5.0",
      "model_name": "ButtonModel",
      "state": {
       "description": "下载",
       "icon": "download",
       "layout": "IPY_MODEL_d81b7f242d3c4c2ebb976b2bee95c360",
       "style": "IPY_MODEL_ced96b3b359f4cc3b59e7e39b8da9c50",
       "tooltip": "下载持仓详情表格"
      }
     },
     "3c524761597e4a2e910de5e6511a5bb6": {
      "model_module": "@jupyter-widgets/output",
      "model_module_version": "1.0.0",
      "model_name": "OutputModel",
      "state": {
       "layout": "IPY_MODEL_39d103d34e254ceca233699f38b12d5b",
       "outputs": [
        {
         "data": {
          "text/html": "<style  type=\"text/css\" >\n#T_eeaad_row0_col0,#T_eeaad_row0_col1,#T_eeaad_row0_col2,#T_eeaad_row0_col4,#T_eeaad_row0_col5,#T_eeaad_row0_col7,#T_eeaad_row1_col0,#T_eeaad_row1_col1,#T_eeaad_row1_col2,#T_eeaad_row1_col4,#T_eeaad_row1_col5,#T_eeaad_row1_col7,#T_eeaad_row2_col0,#T_eeaad_row2_col1,#T_eeaad_row2_col2,#T_eeaad_row2_col4,#T_eeaad_row2_col5,#T_eeaad_row2_col7,#T_eeaad_row3_col0,#T_eeaad_row3_col1,#T_eeaad_row3_col2,#T_eeaad_row3_col4,#T_eeaad_row3_col5,#T_eeaad_row3_col7,#T_eeaad_row4_col0,#T_eeaad_row4_col1,#T_eeaad_row4_col2,#T_eeaad_row4_col4,#T_eeaad_row4_col5,#T_eeaad_row4_col7,#T_eeaad_row5_col0,#T_eeaad_row5_col1,#T_eeaad_row5_col2,#T_eeaad_row5_col4,#T_eeaad_row5_col5,#T_eeaad_row5_col7,#T_eeaad_row6_col0,#T_eeaad_row6_col1,#T_eeaad_row6_col2,#T_eeaad_row6_col4,#T_eeaad_row6_col5,#T_eeaad_row6_col7,#T_eeaad_row7_col0,#T_eeaad_row7_col1,#T_eeaad_row7_col2,#T_eeaad_row7_col4,#T_eeaad_row7_col5,#T_eeaad_row7_col7,#T_eeaad_row8_col0,#T_eeaad_row8_col1,#T_eeaad_row8_col2,#T_eeaad_row8_col4,#T_eeaad_row8_col5,#T_eeaad_row8_col7,#T_eeaad_row9_col0,#T_eeaad_row9_col1,#T_eeaad_row9_col2,#T_eeaad_row9_col4,#T_eeaad_row9_col5,#T_eeaad_row9_col7,#T_eeaad_row10_col0,#T_eeaad_row10_col1,#T_eeaad_row10_col2,#T_eeaad_row10_col4,#T_eeaad_row10_col5,#T_eeaad_row10_col7,#T_eeaad_row11_col0,#T_eeaad_row11_col1,#T_eeaad_row11_col2,#T_eeaad_row11_col4,#T_eeaad_row11_col5,#T_eeaad_row11_col7,#T_eeaad_row12_col0,#T_eeaad_row12_col1,#T_eeaad_row12_col2,#T_eeaad_row12_col4,#T_eeaad_row12_col5,#T_eeaad_row12_col7,#T_eeaad_row13_col0,#T_eeaad_row13_col1,#T_eeaad_row13_col2,#T_eeaad_row13_col4,#T_eeaad_row13_col5,#T_eeaad_row13_col7,#T_eeaad_row14_col0,#T_eeaad_row14_col1,#T_eeaad_row14_col2,#T_eeaad_row14_col4,#T_eeaad_row14_col5,#T_eeaad_row14_col7,#T_eeaad_row15_col0,#T_eeaad_row15_col1,#T_eeaad_row15_col2,#T_eeaad_row15_col4,#T_eeaad_row15_col5,#T_eeaad_row15_col7,#T_eeaad_row16_col0,#T_eeaad_row16_col1,#T_eeaad_row16_col2,#T_eeaad_row16_col4,#T_eeaad_row16_col5,#T_eeaad_row16_col7,#T_eeaad_row17_col0,#T_eeaad_row17_col1,#T_eeaad_row17_col2,#T_eeaad_row17_col4,#T_eeaad_row17_col5,#T_eeaad_row17_col7,#T_eeaad_row18_col0,#T_eeaad_row18_col1,#T_eeaad_row18_col2,#T_eeaad_row18_col4,#T_eeaad_row18_col5,#T_eeaad_row18_col7,#T_eeaad_row19_col0,#T_eeaad_row19_col1,#T_eeaad_row19_col2,#T_eeaad_row19_col4,#T_eeaad_row19_col5,#T_eeaad_row19_col7{\n            width:  500px;\n        }#T_eeaad_row0_col3,#T_eeaad_row0_col6,#T_eeaad_row1_col3,#T_eeaad_row1_col6,#T_eeaad_row8_col3,#T_eeaad_row8_col6,#T_eeaad_row9_col3,#T_eeaad_row9_col6,#T_eeaad_row12_col3,#T_eeaad_row12_col6,#T_eeaad_row15_col3,#T_eeaad_row15_col6,#T_eeaad_row16_col3,#T_eeaad_row16_col6,#T_eeaad_row17_col3,#T_eeaad_row17_col6,#T_eeaad_row18_col3,#T_eeaad_row18_col6,#T_eeaad_row19_col3,#T_eeaad_row19_col6{\n            color:  red;\n            width:  500px;\n        }#T_eeaad_row2_col3,#T_eeaad_row2_col6,#T_eeaad_row3_col3,#T_eeaad_row3_col6,#T_eeaad_row4_col3,#T_eeaad_row4_col6,#T_eeaad_row5_col3,#T_eeaad_row5_col6,#T_eeaad_row6_col3,#T_eeaad_row6_col6,#T_eeaad_row7_col3,#T_eeaad_row7_col6,#T_eeaad_row10_col3,#T_eeaad_row10_col6,#T_eeaad_row11_col3,#T_eeaad_row11_col6,#T_eeaad_row13_col3,#T_eeaad_row13_col6,#T_eeaad_row14_col3,#T_eeaad_row14_col6{\n            color:  green;\n            width:  500px;\n        }</style><table id=\"T_eeaad_\" ><thead>    <tr>        <th class=\"col_heading level0 col0\" >日期时间</th>        <th class=\"col_heading level0 col1\" >股票代码</th>        <th class=\"col_heading level0 col2\" >股票名称</th>        <th class=\"col_heading level0 col3\" >操作</th>        <th class=\"col_heading level0 col4\" >成交量</th>        <th class=\"col_heading level0 col5\" >成交价格</th>        <th class=\"col_heading level0 col6\" >成交额</th>        <th class=\"col_heading level0 col7\" >手续费</th>    </tr></thead><tbody>\n                <tr>\n                                <td id=\"T_eeaad_row0_col0\" class=\"data row0 col0\" >2022-05-27</td>\n                        <td id=\"T_eeaad_row0_col1\" class=\"data row0 col1\" >600469.SH</td>\n                        <td id=\"T_eeaad_row0_col2\" class=\"data row0 col2\" >风神股份</td>\n                        <td id=\"T_eeaad_row0_col3\" class=\"data row0 col3\" >买</td>\n                        <td id=\"T_eeaad_row0_col4\" class=\"data row0 col4\" >1390200</td>\n                        <td id=\"T_eeaad_row0_col5\" class=\"data row0 col5\" >4.41</td>\n                        <td id=\"T_eeaad_row0_col6\" class=\"data row0 col6\" >6135925.74</td>\n                        <td id=\"T_eeaad_row0_col7\" class=\"data row0 col7\" >12271.85</td>\n            </tr>\n            <tr>\n                                <td id=\"T_eeaad_row1_col0\" class=\"data row1 col0\" >2022-05-27</td>\n                        <td id=\"T_eeaad_row1_col1\" class=\"data row1 col1\" >600971.SH</td>\n                        <td id=\"T_eeaad_row1_col2\" class=\"data row1 col2\" >恒源煤电</td>\n                        <td id=\"T_eeaad_row1_col3\" class=\"data row1 col3\" >买</td>\n                        <td id=\"T_eeaad_row1_col4\" class=\"data row1 col4\" >769900</td>\n                        <td id=\"T_eeaad_row1_col5\" class=\"data row1 col5\" >7.84</td>\n                        <td id=\"T_eeaad_row1_col6\" class=\"data row1 col6\" >6035785.03</td>\n                        <td id=\"T_eeaad_row1_col7\" class=\"data row1 col7\" >12071.57</td>\n            </tr>\n            <tr>\n                                <td id=\"T_eeaad_row2_col0\" class=\"data row2 col0\" >2022-05-27</td>\n                        <td id=\"T_eeaad_row2_col1\" class=\"data row2 col1\" >688365.SH</td>\n                        <td id=\"T_eeaad_row2_col2\" class=\"data row2 col2\" >光云科技</td>\n                        <td id=\"T_eeaad_row2_col3\" class=\"data row2 col3\" >卖</td>\n                        <td id=\"T_eeaad_row2_col4\" class=\"data row2 col4\" >-664200</td>\n                        <td id=\"T_eeaad_row2_col5\" class=\"data row2 col5\" >8.36</td>\n                        <td id=\"T_eeaad_row2_col6\" class=\"data row2 col6\" >-5555435.22</td>\n                        <td id=\"T_eeaad_row2_col7\" class=\"data row2 col7\" >11110.87</td>\n            </tr>\n            <tr>\n                                <td id=\"T_eeaad_row3_col0\" class=\"data row3 col0\" >2022-05-27</td>\n                        <td id=\"T_eeaad_row3_col1\" class=\"data row3 col1\" >300932.SZ</td>\n                        <td id=\"T_eeaad_row3_col2\" class=\"data row3 col2\" >三友联众</td>\n                        <td id=\"T_eeaad_row3_col3\" class=\"data row3 col3\" >卖</td>\n                        <td id=\"T_eeaad_row3_col4\" class=\"data row3 col4\" >-273700</td>\n                        <td id=\"T_eeaad_row3_col5\" class=\"data row3 col5\" >22.44</td>\n                        <td id=\"T_eeaad_row3_col6\" class=\"data row3 col6\" >-6141335.34</td>\n                        <td id=\"T_eeaad_row3_col7\" class=\"data row3 col7\" >12282.67</td>\n            </tr>\n            <tr>\n                                <td id=\"T_eeaad_row4_col0\" class=\"data row4 col0\" >2022-05-27</td>\n                        <td id=\"T_eeaad_row4_col1\" class=\"data row4 col1\" >300405.SZ</td>\n                        <td id=\"T_eeaad_row4_col2\" class=\"data row4 col2\" >科隆股份</td>\n                        <td id=\"T_eeaad_row4_col3\" class=\"data row4 col3\" >卖</td>\n                        <td id=\"T_eeaad_row4_col4\" class=\"data row4 col4\" >-208536</td>\n                        <td id=\"T_eeaad_row4_col5\" class=\"data row4 col5\" >5.39</td>\n                        <td id=\"T_eeaad_row4_col6\" class=\"data row4 col6\" >-1124488.44</td>\n                        <td id=\"T_eeaad_row4_col7\" class=\"data row4 col7\" >2248.98</td>\n            </tr>\n            <tr>\n                                <td id=\"T_eeaad_row5_col0\" class=\"data row5 col0\" >2022-05-27</td>\n                        <td id=\"T_eeaad_row5_col1\" class=\"data row5 col1\" >300816.SZ</td>\n                        <td id=\"T_eeaad_row5_col2\" class=\"data row5 col2\" >艾可蓝</td>\n                        <td id=\"T_eeaad_row5_col3\" class=\"data row5 col3\" >卖</td>\n                        <td id=\"T_eeaad_row5_col4\" class=\"data row5 col4\" >-168100</td>\n                        <td id=\"T_eeaad_row5_col5\" class=\"data row5 col5\" >27.61</td>\n                        <td id=\"T_eeaad_row5_col6\" class=\"data row5 col6\" >-4641812.54</td>\n                        <td id=\"T_eeaad_row5_col7\" class=\"data row5 col7\" >9283.63</td>\n            </tr>\n            <tr>\n                                <td id=\"T_eeaad_row6_col0\" class=\"data row6 col0\" >2022-05-27</td>\n                        <td id=\"T_eeaad_row6_col1\" class=\"data row6 col1\" >300684.SZ</td>\n                        <td id=\"T_eeaad_row6_col2\" class=\"data row6 col2\" >中石科技</td>\n                        <td id=\"T_eeaad_row6_col3\" class=\"data row6 col3\" >卖</td>\n                        <td id=\"T_eeaad_row6_col4\" class=\"data row6 col4\" >-11670</td>\n                        <td id=\"T_eeaad_row6_col5\" class=\"data row6 col5\" >12.30</td>\n                        <td id=\"T_eeaad_row6_col6\" class=\"data row6 col6\" >-143516.34</td>\n                        <td id=\"T_eeaad_row6_col7\" class=\"data row6 col7\" >287.03</td>\n            </tr>\n            <tr>\n                                <td id=\"T_eeaad_row7_col0\" class=\"data row7 col0\" >2022-05-27</td>\n                        <td id=\"T_eeaad_row7_col1\" class=\"data row7 col1\" >300040.SZ</td>\n                        <td id=\"T_eeaad_row7_col2\" class=\"data row7 col2\" >九洲集团</td>\n                        <td id=\"T_eeaad_row7_col3\" class=\"data row7 col3\" >卖</td>\n                        <td id=\"T_eeaad_row7_col4\" class=\"data row7 col4\" >-4289</td>\n                        <td id=\"T_eeaad_row7_col5\" class=\"data row7 col5\" >6.78</td>\n                        <td id=\"T_eeaad_row7_col6\" class=\"data row7 col6\" >-29071.88</td>\n                        <td id=\"T_eeaad_row7_col7\" class=\"data row7 col7\" >58.14</td>\n            </tr>\n            <tr>\n                                <td id=\"T_eeaad_row8_col0\" class=\"data row8 col0\" >2022-05-26</td>\n                        <td id=\"T_eeaad_row8_col1\" class=\"data row8 col1\" >300097.SZ</td>\n                        <td id=\"T_eeaad_row8_col2\" class=\"data row8 col2\" >智云股份</td>\n                        <td id=\"T_eeaad_row8_col3\" class=\"data row8 col3\" >买</td>\n                        <td id=\"T_eeaad_row8_col4\" class=\"data row8 col4\" >854100</td>\n                        <td id=\"T_eeaad_row8_col5\" class=\"data row8 col5\" >5.10</td>\n                        <td id=\"T_eeaad_row8_col6\" class=\"data row8 col6\" >4359070.17</td>\n                        <td id=\"T_eeaad_row8_col7\" class=\"data row8 col7\" >8718.14</td>\n            </tr>\n            <tr>\n                                <td id=\"T_eeaad_row9_col0\" class=\"data row9 col0\" >2022-05-26</td>\n                        <td id=\"T_eeaad_row9_col1\" class=\"data row9 col1\" >002213.SZ</td>\n                        <td id=\"T_eeaad_row9_col2\" class=\"data row9 col2\" >大为股份</td>\n                        <td id=\"T_eeaad_row9_col3\" class=\"data row9 col3\" >买</td>\n                        <td id=\"T_eeaad_row9_col4\" class=\"data row9 col4\" >414500</td>\n                        <td id=\"T_eeaad_row9_col5\" class=\"data row9 col5\" >11.25</td>\n                        <td id=\"T_eeaad_row9_col6\" class=\"data row9 col6\" >4665156.05</td>\n                        <td id=\"T_eeaad_row9_col7\" class=\"data row9 col7\" >9330.31</td>\n            </tr>\n            <tr>\n                                <td id=\"T_eeaad_row10_col0\" class=\"data row10 col0\" >2022-05-26</td>\n                        <td id=\"T_eeaad_row10_col1\" class=\"data row10 col1\" >300830.SZ</td>\n                        <td id=\"T_eeaad_row10_col2\" class=\"data row10 col2\" >金现代</td>\n                        <td id=\"T_eeaad_row10_col3\" class=\"data row10 col3\" >卖</td>\n                        <td id=\"T_eeaad_row10_col4\" class=\"data row10 col4\" >-629300</td>\n                        <td id=\"T_eeaad_row10_col5\" class=\"data row10 col5\" >7.26</td>\n                        <td id=\"T_eeaad_row10_col6\" class=\"data row10 col6\" >-4568843.86</td>\n                        <td id=\"T_eeaad_row10_col7\" class=\"data row10 col7\" >9137.69</td>\n            </tr>\n            <tr>\n                                <td id=\"T_eeaad_row11_col0\" class=\"data row11 col0\" >2022-05-26</td>\n                        <td id=\"T_eeaad_row11_col1\" class=\"data row11 col1\" >300472.SZ</td>\n                        <td id=\"T_eeaad_row11_col2\" class=\"data row11 col2\" >新元科技</td>\n                        <td id=\"T_eeaad_row11_col3\" class=\"data row11 col3\" >卖</td>\n                        <td id=\"T_eeaad_row11_col4\" class=\"data row11 col4\" >-484500</td>\n                        <td id=\"T_eeaad_row11_col5\" class=\"data row11 col5\" >9.27</td>\n                        <td id=\"T_eeaad_row11_col6\" class=\"data row11 col6\" >-4490539.80</td>\n                        <td id=\"T_eeaad_row11_col7\" class=\"data row11 col7\" >8981.08</td>\n            </tr>\n            <tr>\n                                <td id=\"T_eeaad_row12_col0\" class=\"data row12 col0\" >2022-05-25</td>\n                        <td id=\"T_eeaad_row12_col1\" class=\"data row12 col1\" >300810.SZ</td>\n                        <td id=\"T_eeaad_row12_col2\" class=\"data row12 col2\" >中科海讯</td>\n                        <td id=\"T_eeaad_row12_col3\" class=\"data row12 col3\" >买</td>\n                        <td id=\"T_eeaad_row12_col4\" class=\"data row12 col4\" >308600</td>\n                        <td id=\"T_eeaad_row12_col5\" class=\"data row12 col5\" >17.54</td>\n                        <td id=\"T_eeaad_row12_col6\" class=\"data row12 col6\" >5412165.08</td>\n                        <td id=\"T_eeaad_row12_col7\" class=\"data row12 col7\" >10824.33</td>\n            </tr>\n            <tr>\n                                <td id=\"T_eeaad_row13_col0\" class=\"data row13 col0\" >2022-05-25</td>\n                        <td id=\"T_eeaad_row13_col1\" class=\"data row13 col1\" >300462.SZ</td>\n                        <td id=\"T_eeaad_row13_col2\" class=\"data row13 col2\" >华铭智能</td>\n                        <td id=\"T_eeaad_row13_col3\" class=\"data row13 col3\" >卖</td>\n                        <td id=\"T_eeaad_row13_col4\" class=\"data row13 col4\" >-534500</td>\n                        <td id=\"T_eeaad_row13_col5\" class=\"data row13 col5\" >8.89</td>\n                        <td id=\"T_eeaad_row13_col6\" class=\"data row13 col6\" >-4752774.00</td>\n                        <td id=\"T_eeaad_row13_col7\" class=\"data row13 col7\" >9505.55</td>\n            </tr>\n            <tr>\n                                <td id=\"T_eeaad_row14_col0\" class=\"data row14 col0\" >2022-05-25</td>\n                        <td id=\"T_eeaad_row14_col1\" class=\"data row14 col1\" >000058.SZ</td>\n                        <td id=\"T_eeaad_row14_col2\" class=\"data row14 col2\" >深赛格</td>\n                        <td id=\"T_eeaad_row14_col3\" class=\"data row14 col3\" >卖</td>\n                        <td id=\"T_eeaad_row14_col4\" class=\"data row14 col4\" >-1091</td>\n                        <td id=\"T_eeaad_row14_col5\" class=\"data row14 col5\" >5.17</td>\n                        <td id=\"T_eeaad_row14_col6\" class=\"data row14 col6\" >-5644.35</td>\n                        <td id=\"T_eeaad_row14_col7\" class=\"data row14 col7\" >11.29</td>\n            </tr>\n            <tr>\n                                <td id=\"T_eeaad_row15_col0\" class=\"data row15 col0\" >2022-05-24</td>\n                        <td id=\"T_eeaad_row15_col1\" class=\"data row15 col1\" >300304.SZ</td>\n                        <td id=\"T_eeaad_row15_col2\" class=\"data row15 col2\" >云意电气</td>\n                        <td id=\"T_eeaad_row15_col3\" class=\"data row15 col3\" >买</td>\n                        <td id=\"T_eeaad_row15_col4\" class=\"data row15 col4\" >1284600</td>\n                        <td id=\"T_eeaad_row15_col5\" class=\"data row15 col5\" >4.87</td>\n                        <td id=\"T_eeaad_row15_col6\" class=\"data row15 col6\" >6259727.34</td>\n                        <td id=\"T_eeaad_row15_col7\" class=\"data row15 col7\" >12519.45</td>\n            </tr>\n            <tr>\n                                <td id=\"T_eeaad_row16_col0\" class=\"data row16 col0\" >2022-05-24</td>\n                        <td id=\"T_eeaad_row16_col1\" class=\"data row16 col1\" >002553.SZ</td>\n                        <td id=\"T_eeaad_row16_col2\" class=\"data row16 col2\" >南方精工</td>\n                        <td id=\"T_eeaad_row16_col3\" class=\"data row16 col3\" >买</td>\n                        <td id=\"T_eeaad_row16_col4\" class=\"data row16 col4\" >736000</td>\n                        <td id=\"T_eeaad_row16_col5\" class=\"data row16 col5\" >8.56</td>\n                        <td id=\"T_eeaad_row16_col6\" class=\"data row16 col6\" >6299571.20</td>\n                        <td id=\"T_eeaad_row16_col7\" class=\"data row16 col7\" >12599.14</td>\n            </tr>\n            <tr>\n                                <td id=\"T_eeaad_row17_col0\" class=\"data row17 col0\" >2022-05-24</td>\n                        <td id=\"T_eeaad_row17_col1\" class=\"data row17 col1\" >605086.SH</td>\n                        <td id=\"T_eeaad_row17_col2\" class=\"data row17 col2\" >龙高股份</td>\n                        <td id=\"T_eeaad_row17_col3\" class=\"data row17 col3\" >买</td>\n                        <td id=\"T_eeaad_row17_col4\" class=\"data row17 col4\" >345000</td>\n                        <td id=\"T_eeaad_row17_col5\" class=\"data row17 col5\" >17.92</td>\n                        <td id=\"T_eeaad_row17_col6\" class=\"data row17 col6\" >6183918.00</td>\n                        <td id=\"T_eeaad_row17_col7\" class=\"data row17 col7\" >12367.84</td>\n            </tr>\n            <tr>\n                                <td id=\"T_eeaad_row18_col0\" class=\"data row18 col0\" >2022-05-24</td>\n                        <td id=\"T_eeaad_row18_col1\" class=\"data row18 col1\" >300932.SZ</td>\n                        <td id=\"T_eeaad_row18_col2\" class=\"data row18 col2\" >三友联众</td>\n                        <td id=\"T_eeaad_row18_col3\" class=\"data row18 col3\" >买</td>\n                        <td id=\"T_eeaad_row18_col4\" class=\"data row18 col4\" >273700</td>\n                        <td id=\"T_eeaad_row18_col5\" class=\"data row18 col5\" >22.57</td>\n                        <td id=\"T_eeaad_row18_col6\" class=\"data row18 col6\" >6177764.81</td>\n                        <td id=\"T_eeaad_row18_col7\" class=\"data row18 col7\" >12355.53</td>\n            </tr>\n            <tr>\n                                <td id=\"T_eeaad_row19_col0\" class=\"data row19 col0\" >2022-05-24</td>\n                        <td id=\"T_eeaad_row19_col1\" class=\"data row19 col1\" >688613.SH</td>\n                        <td id=\"T_eeaad_row19_col2\" class=\"data row19 col2\" >奥精医疗</td>\n                        <td id=\"T_eeaad_row19_col3\" class=\"data row19 col3\" >买</td>\n                        <td id=\"T_eeaad_row19_col4\" class=\"data row19 col4\" >207800</td>\n                        <td id=\"T_eeaad_row19_col5\" class=\"data row19 col5\" >28.30</td>\n                        <td id=\"T_eeaad_row19_col6\" class=\"data row19 col6\" >5880262.06</td>\n                        <td id=\"T_eeaad_row19_col7\" class=\"data row19 col7\" >11760.52</td>\n            </tr>\n    </tbody></table>",
          "text/plain": "<pandas.io.formats.style.Styler at 0x7f39d4ee3790>"
         },
         "metadata": {},
         "output_type": "display_data"
        }
       ]
      }
     },
     "3c85daaf5bec4f6382f1da9e22953857": {
      "model_module": "@jupyter-widgets/controls",
      "model_module_version": "1.5.0",
      "model_name": "DescriptionStyleModel",
      "state": {
       "description_width": ""
      }
     },
     "3d2960e37e524123a04923e4f36d5cdb": {
      "model_module": "@jupyter-widgets/controls",
      "model_module_version": "1.5.0",
      "model_name": "DescriptionStyleModel",
      "state": {
       "description_width": ""
      }
     },
     "3d2e60c5c0014b06a659252f3ad206b0": {
      "model_module": "@jupyter-widgets/controls",
      "model_module_version": "1.5.0",
      "model_name": "DescriptionStyleModel",
      "state": {
       "description_width": ""
      }
     },
     "3d60a21c98824e1587c7cd79fa55971e": {
      "model_module": "@jupyter-widgets/base",
      "model_module_version": "1.2.0",
      "model_name": "LayoutModel",
      "state": {
       "grid_area": "widget002",
       "width": "30px"
      }
     },
     "3dcf0d4062f14ae1bffc29481bff40d5": {
      "model_module": "@jupyter-widgets/base",
      "model_module_version": "1.2.0",
      "model_name": "LayoutModel",
      "state": {
       "grid_area": "widget001"
      }
     },
     "3e7e8533956a42db91f4848f2307f4c9": {
      "model_module": "@jupyter-widgets/base",
      "model_module_version": "1.2.0",
      "model_name": "LayoutModel",
      "state": {
       "grid_area": "widget001"
      }
     },
     "3e862def18bd4bdfb5f67e46d89603c6": {
      "model_module": "@jupyter-widgets/base",
      "model_module_version": "1.2.0",
      "model_name": "LayoutModel",
      "state": {
       "grid_area": "widget001"
      }
     },
     "3ee6dcc08b8e4138ab236e8551e4fbb8": {
      "model_module": "@jupyter-widgets/base",
      "model_module_version": "1.2.0",
      "model_name": "LayoutModel",
      "state": {
       "grid_area": "widget004",
       "grid_template_areas": "\". widget002 widget003 widget001 widget004\"",
       "grid_template_columns": "auto 40px 70px 60px 40px",
       "grid_template_rows": "40px"
      }
     },
     "3f6ed27d640a475a96632bc7012391a6": {
      "model_module": "@jupyter-widgets/base",
      "model_module_version": "1.2.0",
      "model_name": "LayoutModel",
      "state": {
       "grid_area": "widget004",
       "width": "30px"
      }
     },
     "3f75098f3b6f4866bc971cbb5db70bc4": {
      "model_module": "@jupyter-widgets/controls",
      "model_module_version": "1.5.0",
      "model_name": "HTMLModel",
      "state": {
       "layout": "IPY_MODEL_36365a5bcfe542abb3900c86baace7e2",
       "style": "IPY_MODEL_0b8fff184ac745579b9f3b4ab4ee98d8",
       "value": "/1页"
      }
     },
     "3fd9f536307f4da7b6b477bc938dda68": {
      "model_module": "@jupyter-widgets/base",
      "model_module_version": "1.2.0",
      "model_name": "LayoutModel",
      "state": {
       "grid_area": "widget001"
      }
     },
     "402074dd62734411b60397dd2687c11f": {
      "model_module": "@jupyter-widgets/base",
      "model_module_version": "1.2.0",
      "model_name": "LayoutModel",
      "state": {
       "grid_area": "widget001"
      }
     },
     "403c3ec80fb34ba187678458eda0d26f": {
      "model_module": "@jupyter-widgets/controls",
      "model_module_version": "1.5.0",
      "model_name": "DescriptionStyleModel",
      "state": {
       "description_width": ""
      }
     },
     "40b6b48ba99643758c0d0eb992392b9b": {
      "model_module": "@jupyter-widgets/controls",
      "model_module_version": "1.5.0",
      "model_name": "DescriptionStyleModel",
      "state": {
       "description_width": ""
      }
     },
     "40de11b0301f49adb927abf60000aca8": {
      "model_module": "@jupyter-widgets/base",
      "model_module_version": "1.2.0",
      "model_name": "LayoutModel",
      "state": {
       "grid_area": "widget002"
      }
     },
     "410ac68b143e4e34b24c929f27e1eed7": {
      "model_module": "@jupyter-widgets/controls",
      "model_module_version": "1.5.0",
      "model_name": "DescriptionStyleModel",
      "state": {
       "description_width": ""
      }
     },
     "41b309f9586f4dd1b0b1727431ed1b90": {
      "model_module": "@jupyter-widgets/base",
      "model_module_version": "1.2.0",
      "model_name": "LayoutModel",
      "state": {
       "grid_area": "widget004",
       "width": "30px"
      }
     },
     "41b5ccbc50b44e3ea2a67056f397fc5d": {
      "model_module": "@jupyter-widgets/output",
      "model_module_version": "1.0.0",
      "model_name": "OutputModel",
      "state": {
       "layout": "IPY_MODEL_738835c366d1469d823357e785f2805d",
       "outputs": [
        {
         "data": {
          "text/html": "<div id=\"bigchart-b8cc8f643d564b47b382c09246e38d1c\" class=\"bigchart\"></div><div class=\"bigchart-data\"><pre style=\"display:none\">bigcharts-data-start/{\"chart\":{\"height\":400,\"renderTo\":\"bigchart-b8cc8f643d564b47b382c09246e38d1c\"},\"legend\":{\"enabled\":true,\"symbolHeight\":8,\"symbolWidth\":8,\"symbolPadding\":8,\"symbolRadius\":0},\"stock\":true,\"series\":[{\"name\":\"\\u7b56\\u7565\\u6536\\u76ca\\u7387\",\"yAxis\":0,\"data\":[[1610064000000,0.0],[1610323200000,-1.6361],[1610409600000,1.5813],[1610496000000,-0.0296],[1610582400000,-2.8895],[1610668800000,-2.2289],[1610928000000,-0.1762],[1611014400000,-0.8695],[1611100800000,-0.7932],[1611187200000,0.3036],[1611273600000,-0.7439],[1611532800000,-1.2597],[1611619200000,-3.965],[1611705600000,-3.5788],[1611792000000,-4.6148],[1611878400000,-5.3887],[1612137600000,-4.3981],[1612224000000,-2.8543],[1612310400000,-3.8799],[1612396800000,-4.1759],[1612483200000,-5.561],[1612742400000,-3.3479],[1612828800000,-0.2975],[1612915200000,1.0229],[1613606400000,2.4982],[1613692800000,4.1992],[1613952000000,2.5648],[1614038400000,1.8886],[1614124800000,0.5286],[1614211200000,0.1257],[1614297600000,-2.0628],[1614556800000,0.2408],[1614643200000,-0.9431],[1614729600000,0.1237],[1614816000000,-2.2093],[1614902400000,-2.092],[1615161600000,-4.4671],[1615248000000,-7.5302],[1615334400000,-8.0719],[1615420800000,-4.8595],[1615507200000,-4.5153],[1615766400000,-5.3319],[1615852800000,-4.1576],[1615939200000,-3.3114],[1616025600000,-2.355],[1616112000000,-3.8854],[1616371200000,-2.4718],[1616457600000,-3.9157],[1616544000000,-6.1128],[1616630400000,-5.672],[1616716800000,-3.4951],[1616976000000,-2.8791],[1617062400000,-2.819],[1617148800000,-3.0976],[1617235200000,-2.4128],[1617321600000,-1.8604],[1617667200000,-0.8352],[1617753600000,-0.7889],[1617840000000,-0.1334],[1617926400000,-0.5468],[1618185600000,-2.7268],[1618272000000,-3.9134],[1618358400000,-2.9075],[1618444800000,-3.483],[1618531200000,-2.4354],[1618790400000,-1.3219],[1618876800000,-1.1747],[1618963200000,-1.3935],[1619049600000,-0.5932],[1619136000000,-0.4082],[1619395200000,-0.3939],[1619481600000,-0.9537],[1619568000000,0.3301],[1619654400000,-0.0499],[1619740800000,-0.5283],[1620259200000,0.2306],[1620345600000,-1.1539],[1620604800000,-0.1573],[1620691200000,-0.2422],[1620777600000,0.4647],[1620864000000,-1.0195],[1620950400000,1.2436],[1621209600000,1.4126],[1621296000000,1.3147],[1621382400000,1.5403],[1621468800000,0.6185],[1621555200000,-0.0351],[1621814400000,1.0609],[1621900800000,1.8322],[1621987200000,2.8787],[1622073600000,4.0715],[1622160000000,3.9837],[1622419200000,5.6701],[1622505600000,5.7582],[1622592000000,4.3604],[1622678400000,4.5772],[1622764800000,5.8255],[1623024000000,6.7163],[1623110400000,5.8283],[1623196800000,6.289],[1623283200000,7.309],[1623369600000,7.027],[1623715200000,7.0109],[1623801600000,4.007],[1623888000000,6.4927],[1623974400000,7.884],[1624233600000,9.6219],[1624320000000,10.2781],[1624406400000,10.8608],[1624492800000,10.6486],[1624579200000,11.4316],[1624838400000,13.3581],[1624924800000,12.0745],[1625011200000,14.0616],[1625097600000,11.5057],[1625184000000,11.3798],[1625443200000,13.6681],[1625529600000,12.8011],[1625616000000,14.6484],[1625702400000,13.8894],[1625788800000,14.5986],[1626048000000,17.5462],[1626134400000,17.8389],[1626220800000,16.6772],[1626307200000,18.205],[1626393600000,18.1622],[1626652800000,17.6377],[1626739200000,18.3726],[1626825600000,20.7383],[1626912000000,22.7713],[1626998400000,22.5081],[1627257600000,20.8709],[1627344000000,16.5322],[1627430400000,15.2269],[1627516800000,18.7286],[1627603200000,19.0205],[1627862400000,20.2028],[1627948800000,18.446],[1628035200000,21.6674],[1628121600000,20.8054],[1628208000000,21.0987],[1628467200000,21.0026],[1628553600000,22.0118],[1628640000000,22.8203],[1628726400000,23.041],[1628812800000,23.2466],[1629072000000,22.867],[1629158400000,20.1958],[1629244800000,21.774],[1629331200000,21.7876],[1629417600000,21.4575],[1629676800000,24.1325],[1629763200000,26.052],[1629849600000,27.3009],[1629936000000,26.0068],[1630022400000,26.1924],[1630281600000,26.047],[1630368000000,26.1693],[1630454400000,23.8528],[1630540800000,26.2671],[1630627200000,25.0388],[1630886400000,26.4611],[1630972800000,29.1578],[1631059200000,30.0336],[1631145600000,31.2221],[1631232000000,30.8396],[1631491200000,32.2505],[1631577600000,30.1962],[1631664000000,31.4169],[1631750400000,30.3598],[1631836800000,29.942],[1632268800000,30.9931],[1632355200000,32.3072],[1632441600000,29.6324],[1632700800000,25.2539],[1632787200000,26.87],[1632873600000,23.437],[1632960000000,25.7216],[1633651200000,26.9102],[1633910400000,26.6802],[1633996800000,24.5386],[1634083200000,25.2317],[1634169600000,25.3411],[1634256000000,24.6895],[1634515200000,25.8291],[1634601600000,26.5684],[1634688000000,26.3028],[1634774400000,26.4028],[1634860800000,25.6518],[1635120000000,25.761],[1635206400000,25.8803],[1635292800000,24.2073],[1635379200000,22.4831],[1635465600000,24.4626],[1635724800000,24.5505],[1635811200000,23.7482],[1635897600000,23.8807],[1635984000000,24.8322],[1636070400000,24.1927],[1636329600000,24.9519],[1636416000000,26.1971],[1636502400000,26.858],[1636588800000,27.4598],[1636675200000,28.8127],[1636934400000,28.0309],[1637020800000,26.7536],[1637107200000,28.1739],[1637193600000,27.1823],[1637280000000,28.3449],[1637539200000,30.0562],[1637625600000,30.7121],[1637712000000,30.6925],[1637798400000,29.8893],[1637884800000,29.3147],[1638144000000,30.1427],[1638230400000,31.6874],[1638316800000,33.314],[1638403200000,31.5308],[1638489600000,32.1921],[1638748800000,30.3218],[1638835200000,28.6978],[1638921600000,31.1362],[1639008000000,31.1448],[1639094400000,31.7814],[1639353600000,31.9406],[1639440000000,31.904],[1639526400000,31.4149],[1639612800000,32.4789],[1639699200000,30.343],[1639958400000,29.01],[1640044800000,30.7444],[1640131200000,31.5691],[1640217600000,31.773],[1640304000000,30.6707],[1640563200000,30.3194],[1640649600000,30.0595],[1640736000000,28.837],[1640822400000,31.0453],[1640908800000,31.9199],[1641254400000,32.2362],[1641340800000,29.1035],[1641427200000,29.4932],[1641513600000,27.395],[1641772800000,27.6657],[1641859200000,26.0197],[1641945600000,27.8995],[1642032000000,28.0644],[1642118400000,28.8863],[1642377600000,30.7116],[1642464000000,29.5976],[1642550400000,29.3349],[1642636800000,27.0916],[1642723200000,25.7609],[1642982400000,26.0631],[1643068800000,21.71],[1643155200000,22.4479],[1643241600000,19.4077],[1643328000000,19.6561],[1644192000000,22.0998],[1644278400000,23.0045],[1644364800000,24.6535],[1644451200000,24.9265],[1644537600000,23.3604],[1644796800000,22.5134],[1644883200000,22.7182],[1644969600000,23.3523],[1645056000000,23.6985],[1645142400000,25.1314],[1645401600000,25.4179],[1645488000000,24.9203],[1645574400000,25.4917],[1645660800000,23.5931],[1645747200000,23.3505],[1646006400000,24.1847],[1646092800000,25.4319],[1646179200000,26.0771],[1646265600000,26.7326],[1646352000000,24.9565],[1646611200000,24.4096],[1646697600000,21.5493],[1646784000000,19.9763],[1646870400000,20.7366],[1646956800000,20.9826],[1647216000000,18.3845],[1647302400000,11.9459],[1647388800000,14.3203],[1647475200000,17.3366],[1647561600000,18.3727],[1647820800000,20.1469],[1647907200000,19.2065],[1647993600000,19.5352],[1648080000000,19.6943],[1648166400000,19.7361],[1648425600000,19.7846],[1648512000000,19.0831],[1648598400000,21.5643],[1648684800000,21.6731],[1648771200000,22.9156],[1649203200000,24.8949],[1649289600000,21.8271],[1649376000000,22.0877],[1649635200000,18.8201],[1649721600000,19.4079],[1649808000000,18.0231],[1649894400000,19.7968],[1649980800000,19.5128],[1650240000000,20.0052],[1650326400000,20.9615],[1650412800000,18.3786],[1650499200000,13.6919],[1650585600000,13.2091],[1650844800000,4.6291],[1650931200000,-0.0723],[1651017600000,4.2832],[1651104000000,2.8459],[1651190400000,7.055],[1651708800000,8.5928],[1651795200000,7.5336],[1652054400000,9.1116],[1652140800000,11.7635],[1652227200000,13.2184],[1652313600000,15.0768],[1652400000000,15.649],[1652659200000,15.5689],[1652745600000,15.6594],[1652832000000,17.5722],[1652918400000,19.2814],[1653004800000,20.8299],[1653264000000,24.0183],[1653350400000,19.2491],[1653436800000,21.1427],[1653523200000,21.4851],[1653609600000,21.8515],[1653868800000,22.9848],[1653955200000,24.1253]],\"color\":\"#ff0000\",\"tooltip\":{\"valueDecimals\":2,\"valueSuffix\":\" %\"},\"type\":\"area\",\"fillColor\":{\"linearGradient\":[0,0,0,1],\"stops\":[[0,\"rgba(238,149,148,0.5)\"],[1,\"rgba(238,149,148,0.5)\"]]}},{\"name\":\"\\u57fa\\u51c6\\u6536\\u76ca\\u7387\",\"yAxis\":0,\"data\":[[1610064000000,0.0],[1610323200000,-1.5585],[1610409600000,-0.1979],[1610496000000,-0.9057],[1610582400000,-1.7835],[1610668800000,-2.1311],[1610928000000,-0.6202],[1611014400000,-1.2049],[1611100800000,-0.2932],[1611187200000,1.0392],[1611273600000,1.2704],[1611532800000,1.3835],[1611619200000,-0.3072],[1611705600000,0.0632],[1611792000000,-2.1142],[1611878400000,-3.1782],[1612137600000,-2.4353],[1612224000000,-1.4733],[1612310400000,-2.3324],[1612396800000,-3.4347],[1612483200000,-4.8397],[1612742400000,-3.5049],[1612828800000,-1.3743],[1612915200000,-0.3324],[1613606400000,1.0373],[1613692800000,2.3819],[1613952000000,1.6893],[1614038400000,1.3014],[1614124800000,-0.1319],[1614211200000,-0.6985],[1614297600000,-2.7726],[1614556800000,-0.8229],[1614643200000,-1.6723],[1614729600000,-0.2512],[1614816000000,-2.1326],[1614902400000,-2.1091],[1615161600000,-4.4061],[1615248000000,-6.7782],[1615334400000,-7.5271],[1615420800000,-5.0268],[1615507200000,-4.8892],[1615766400000,-5.6688],[1615852800000,-5.3226],[1615939200000,-4.8365],[1616025600000,-4.0575],[1616112000000,-5.1295],[1616371200000,-3.533],[1616457600000,-4.9051],[1616544000000,-6.1372],[1616630400000,-5.8952],[1616716800000,-4.3623],[1616976000000,-4.312],[1617062400000,-3.9056],[1617148800000,-4.3242],[1617235200000,-3.4033],[1617321600000,-3.1666],[1617667200000,-2.9059],[1617753600000,-2.8274],[1617840000000,-2.6907],[1617926400000,-3.0292],[1618185600000,-4.7469],[1618272000000,-5.0141],[1618358400000,-3.9282],[1618444800000,-3.9402],[1618531200000,-2.9343],[1618790400000,-1.583],[1618876800000,-1.5319],[1618963200000,-1.6608],[1619049600000,-1.2682],[1619136000000,-0.9999],[1619395200000,-1.3111],[1619481600000,-1.2546],[1619568000000,-0.5804],[1619654400000,-0.5468],[1619740800000,-0.6426],[1620259200000,-0.5864],[1620345600000,-1.2784],[1620604800000,-0.7888],[1620691200000,-1.097],[1620777600000,-0.2294],[1620864000000,-1.3508],[1620950400000,-0.0031],[1621209600000,0.7989],[1621296000000,1.1251],[1621382400000,0.8946],[1621468800000,0.3528],[1621555200000,0.0345],[1621814400000,0.2835],[1621900800000,1.438],[1621987200000,1.5669],[1622073600000,2.4299],[1622160000000,2.1721],[1622419200000,3.0842],[1622505600000,3.2442],[1622592000000,2.3787],[1622678400000,2.1737],[1622764800000,2.5536],[1623024000000,2.9785],[1623110400000,2.429],[1623196800000,2.5538],[1623283200000,3.6406],[1623369600000,3.0534],[1623715200000,2.1278],[1623801600000,0.6665],[1623888000000,1.4263],[1623974400000,2.0549],[1624233600000,2.797],[1624320000000,3.2834],[1624406400000,4.0275],[1624492800000,3.5108],[1624579200000,4.3776],[1624838400000,4.5992],[1624924800000,3.6752],[1625011200000,4.3073],[1625097600000,2.9631],[1625184000000,2.0903],[1625443200000,2.8859],[1625529600000,2.8633],[1625616000000,3.6776],[1625702400000,3.4487],[1625788800000,4.2768],[1626048000000,5.7441],[1626134400000,6.5764],[1626220800000,5.6701],[1626307200000,6.158],[1626393600000,6.0529],[1626652800000,5.5362],[1626739200000,5.7073],[1626825600000,6.916],[1626912000000,7.5174],[1626998400000,6.9368],[1627257600000,5.2542],[1627344000000,3.0855],[1627430400000,1.6378],[1627516800000,3.7052],[1627603200000,3.8299],[1627862400000,5.3768],[1627948800000,4.5621],[1628035200000,6.2541],[1628121600000,5.9726],[1628208000000,6.3638],[1628467200000,6.9498],[1628553600000,7.5186],[1628640000000,8.2921],[1628726400000,8.5986],[1628812800000,8.5096],[1629072000000,7.9961],[1629158400000,5.7546],[1629244800000,6.4306],[1629331200000,6.5177],[1629417600000,6.1286],[1629676800000,7.6393],[1629763200000,8.5819],[1629849600000,9.4594],[1629936000000,8.9819],[1630022400000,9.8425],[1630281600000,10.4939],[1630368000000,10.8877],[1630454400000,10.0298],[1630540800000,11.6134],[1630627200000,11.2257],[1630886400000,12.2798],[1630972800000,14.2311],[1631059200000,14.8327],[1631145600000,15.8058],[1631232000000,15.6774],[1631491200000,16.2173],[1631577600000,15.0128],[1631664000000,15.4851],[1631750400000,13.5704],[1631836800000,12.8806],[1632268800000,13.6656],[1632355200000,14.3259],[1632441600000,12.6938],[1632700800000,9.8512],[1632787200000,10.246],[1632873600000,7.625],[1632960000000,8.9572],[1633651200000,8.7844],[1633910400000,8.7722],[1633996800000,6.822],[1634083200000,7.245],[1634169600000,7.6279],[1634256000000,7.8538],[1634515200000,8.4794],[1634601600000,9.219],[1634688000000,9.1968],[1634774400000,8.9082],[1634860800000,7.8912],[1635120000000,9.0002],[1635206400000,8.9784],[1635292800000,8.2205],[1635379200000,6.8255],[1635465600000,7.8646],[1635724800000,8.4094],[1635811200000,7.3379],[1635897600000,7.8068],[1635984000000,8.6047],[1636070400000,7.4463],[1636329600000,7.9478],[1636416000000,8.7274],[1636502400000,8.4532],[1636588800000,9.2677],[1636675200000,9.7839],[1636934400000,8.9679],[1637020800000,8.2315],[1637107200000,9.0631],[1637193600000,8.7837],[1637280000000,9.9862],[1637539200000,11.1744],[1637625600000,11.2614],[1637712000000,11.1888],[1637798400000,10.8778],[1637884800000,10.6887],[1638144000000,10.7169],[1638230400000,11.1441],[1638316800000,11.421],[1638403200000,10.8318],[1638489600000,11.8267],[1638748800000,10.985],[1638835200000,10.5205],[1638921600000,11.8549],[1639008000000,12.0921],[1639094400000,11.9054],[1639353600000,12.5402],[1639440000000,12.1472],[1639526400000,12.0124],[1639612800000,12.9248],[1639699200000,12.0247],[1639958400000,10.4035],[1640044800000,11.5082],[1640131200000,11.8792],[1640217600000,12.3548],[1640304000000,11.5584],[1640563200000,11.4759],[1640649600000,11.6585],[1640736000000,11.1334],[1640822400000,12.0052],[1640908800000,12.6678],[1641254400000,12.6006],[1641340800000,10.8087],[1641427200000,10.9096],[1641513600000,10.1588],[1641772800000,10.3786],[1641859200000,9.5967],[1641945600000,10.4616],[1642032000000,9.0836],[1642118400000,8.8495],[1642377600000,9.9329],[1642464000000,10.0069],[1642550400000,9.3871],[1642636800000,8.5165],[1642723200000,7.3805],[1642982400000,7.4182],[1643068800000,4.0469],[1643155200000,4.6195],[1643241600000,2.0149],[1643328000000,1.6306],[1644192000000,3.0907],[1644278400000,4.073],[1644364800000,5.5686],[1644451200000,5.5314],[1644537600000,4.1359],[1644796800000,3.4045],[1644883200000,4.3691],[1644969600000,4.543],[1645056000000,4.4951],[1645142400000,5.4736],[1645401600000,5.9431],[1645488000000,4.7439],[1645574400000,6.257],[1645660800000,4.4777],[1645747200000,5.2841],[1646006400000,5.7809],[1646092800000,6.0835],[1646179200000,6.1009],[1646265600000,5.8727],[1646352000000,5.0604],[1646611200000,2.9374],[1646697600000,-0.5088],[1646784000000,-2.4417],[1646870400000,-0.7078],[1646956800000,0.2148],[1647216000000,-2.1106],[1647302400000,-7.7814],[1647388800000,-4.5745],[1647475200000,-2.7673],[1647561600000,-1.7351],[1647820800000,-1.3131],[1647907200000,-1.3262],[1647993600000,-0.6972],[1648080000000,-1.541],[1648166400000,-2.737],[1648425600000,-2.497],[1648512000000,-2.9778],[1648598400000,-0.9819],[1648684800000,-1.8116],[1648771200000,-1.1861],[1649203200000,-1.3054],[1649289600000,-3.4344],[1649376000000,-3.3938],[1649635200000,-6.5143],[1649721600000,-4.9054],[1649808000000,-6.2532],[1649894400000,-4.8939],[1649980800000,-5.8037],[1650240000000,-5.7501],[1650326400000,-5.4473],[1650412800000,-7.671],[1650499200000,-10.9801],[1650585600000,-11.3068],[1650844800000,-17.7737],[1650931200000,-20.3011],[1651017600000,-16.422],[1651104000000,-16.7581],[1651190400000,-12.8986],[1651708800000,-11.8538],[1651795200000,-14.0155],[1652054400000,-13.2113],[1652140800000,-11.7569],[1652227200000,-10.918],[1652313600000,-10.8259],[1652400000000,-9.8909],[1652659200000,-9.9896],[1652745600000,-9.5534],[1652832000000,-9.8775],[1652918400000,-9.1717],[1653004800000,-7.6117],[1653264000000,-7.0005],[1653350400000,-10.6891],[1653436800000,-8.9734],[1653523200000,-7.8218],[1653609600000,-8.0187],[1653868800000,-7.2913],[1653955200000,-5.8879]],\"color\":\"#2776B6\",\"tooltip\":{\"valueDecimals\":2,\"valueSuffix\":\" %\"}},{\"name\":\"\\u76f8\\u5bf9\\u6536\\u76ca\\u7387\",\"yAxis\":0,\"data\":[[1610064000000,0.0],[1610323200000,-0.0776],[1610409600000,1.7792],[1610496000000,0.8761],[1610582400000,-1.106],[1610668800000,-0.0978],[1610928000000,0.444],[1611014400000,0.3354],[1611100800000,-0.5],[1611187200000,-0.7356],[1611273600000,-2.0143],[1611532800000,-2.6432],[1611619200000,-3.6578],[1611705600000,-3.642],[1611792000000,-2.5006],[1611878400000,-2.2106],[1612137600000,-1.9628],[1612224000000,-1.381],[1612310400000,-1.5475],[1612396800000,-0.7411],[1612483200000,-0.7212],[1612742400000,0.1569],[1612828800000,1.0768],[1612915200000,1.3553],[1613606400000,1.4609],[1613692800000,1.8173],[1613952000000,0.8754],[1614038400000,0.5873],[1614124800000,0.6605],[1614211200000,0.8241],[1614297600000,0.7098],[1614556800000,1.0637],[1614643200000,0.7292],[1614729600000,0.3749],[1614816000000,-0.0767],[1614902400000,0.0171],[1615161600000,-0.061],[1615248000000,-0.7521],[1615334400000,-0.5448],[1615420800000,0.1673],[1615507200000,0.3739],[1615766400000,0.3369],[1615852800000,1.165],[1615939200000,1.5252],[1616025600000,1.7026],[1616112000000,1.2441],[1616371200000,1.0611],[1616457600000,0.9894],[1616544000000,0.0244],[1616630400000,0.2233],[1616716800000,0.8672],[1616976000000,1.4329],[1617062400000,1.0866],[1617148800000,1.2266],[1617235200000,0.9905],[1617321600000,1.3061],[1617667200000,2.0707],[1617753600000,2.0385],[1617840000000,2.5574],[1617926400000,2.4823],[1618185600000,2.0201],[1618272000000,1.1007],[1618358400000,1.0207],[1618444800000,0.4572],[1618531200000,0.499],[1618790400000,0.2611],[1618876800000,0.3573],[1618963200000,0.2672],[1619049600000,0.6749],[1619136000000,0.5917],[1619395200000,0.9172],[1619481600000,0.3009],[1619568000000,0.9105],[1619654400000,0.4968],[1619740800000,0.1143],[1620259200000,0.817],[1620345600000,0.1245],[1620604800000,0.6316],[1620691200000,0.8548],[1620777600000,0.6941],[1620864000000,0.3313],[1620950400000,1.2467],[1621209600000,0.6137],[1621296000000,0.1896],[1621382400000,0.6457],[1621468800000,0.2657],[1621555200000,-0.0696],[1621814400000,0.7774],[1621900800000,0.3942],[1621987200000,1.3118],[1622073600000,1.6417],[1622160000000,1.8116],[1622419200000,2.5859],[1622505600000,2.514],[1622592000000,1.9817],[1622678400000,2.4036],[1622764800000,3.272],[1623024000000,3.7378],[1623110400000,3.3993],[1623196800000,3.7352],[1623283200000,3.6684],[1623369600000,3.9736],[1623715200000,4.8831],[1623801600000,3.3405],[1623888000000,5.0664],[1623974400000,5.8292],[1624233600000,6.8249],[1624320000000,6.9948],[1624406400000,6.8333],[1624492800000,7.1378],[1624579200000,7.054],[1624838400000,8.7589],[1624924800000,8.3993],[1625011200000,9.7543],[1625097600000,8.5427],[1625184000000,9.2895],[1625443200000,10.7823],[1625529600000,9.9378],[1625616000000,10.9708],[1625702400000,10.4406],[1625788800000,10.3217],[1626048000000,11.8021],[1626134400000,11.2624],[1626220800000,11.0071],[1626307200000,12.047],[1626393600000,12.1093],[1626652800000,12.1015],[1626739200000,12.6653],[1626825600000,13.8224],[1626912000000,15.2539],[1626998400000,15.5713],[1627257600000,15.6168],[1627344000000,13.4468],[1627430400000,13.5891],[1627516800000,15.0234],[1627603200000,15.1906],[1627862400000,14.826],[1627948800000,13.8839],[1628035200000,15.4134],[1628121600000,14.8327],[1628208000000,14.7349],[1628467200000,14.0529],[1628553600000,14.4932],[1628640000000,14.5282],[1628726400000,14.4424],[1628812800000,14.737],[1629072000000,14.8709],[1629158400000,14.4412],[1629244800000,15.3435],[1629331200000,15.2699],[1629417600000,15.3289],[1629676800000,16.4932],[1629763200000,17.4701],[1629849600000,17.8415],[1629936000000,17.0249],[1630022400000,16.3499],[1630281600000,15.5531],[1630368000000,15.2816],[1630454400000,13.823],[1630540800000,14.6537],[1630627200000,13.813],[1630886400000,14.1813],[1630972800000,14.9268],[1631059200000,15.2009],[1631145600000,15.4163],[1631232000000,15.1622],[1631491200000,16.0331],[1631577600000,15.1834],[1631664000000,15.9318],[1631750400000,16.7894],[1631836800000,17.0615],[1632268800000,17.3275],[1632355200000,17.9813],[1632441600000,16.9386],[1632700800000,15.4027],[1632787200000,16.624],[1632873600000,15.8119],[1632960000000,16.7643],[1633651200000,18.1257],[1633910400000,17.908],[1633996800000,17.7166],[1634083200000,17.9867],[1634169600000,17.7131],[1634256000000,16.8357],[1634515200000,17.3497],[1634601600000,17.3494],[1634688000000,17.106],[1634774400000,17.4946],[1634860800000,17.7606],[1635120000000,16.7608],[1635206400000,16.902],[1635292800000,15.9868],[1635379200000,15.6576],[1635465600000,16.5979],[1635724800000,16.1411],[1635811200000,16.4103],[1635897600000,16.0738],[1635984000000,16.2275],[1636070400000,16.7464],[1636329600000,17.0041],[1636416000000,17.4697],[1636502400000,18.4049],[1636588800000,18.1921],[1636675200000,19.0288],[1636934400000,19.063],[1637020800000,18.5222],[1637107200000,19.1108],[1637193600000,18.3987],[1637280000000,18.3588],[1637539200000,18.8817],[1637625600000,19.4508],[1637712000000,19.5037],[1637798400000,19.0115],[1637884800000,18.6261],[1638144000000,19.4258],[1638230400000,20.5433],[1638316800000,21.893],[1638403200000,20.6989],[1638489600000,20.3654],[1638748800000,19.3367],[1638835200000,18.1773],[1638921600000,19.2813],[1639008000000,19.0526],[1639094400000,19.876],[1639353600000,19.4004],[1639440000000,19.7568],[1639526400000,19.4025],[1639612800000,19.554],[1639699200000,18.3183],[1639958400000,18.6066],[1640044800000,19.2362],[1640131200000,19.6899],[1640217600000,19.4182],[1640304000000,19.1123],[1640563200000,18.8435],[1640649600000,18.401],[1640736000000,17.7036],[1640822400000,19.0401],[1640908800000,19.2521],[1641254400000,19.6356],[1641340800000,18.2948],[1641427200000,18.5836],[1641513600000,17.2362],[1641772800000,17.2871],[1641859200000,16.4229],[1641945600000,17.4379],[1642032000000,18.9808],[1642118400000,20.0368],[1642377600000,20.7787],[1642464000000,19.5907],[1642550400000,19.9478],[1642636800000,18.575],[1642723200000,18.3804],[1642982400000,18.6449],[1643068800000,17.6631],[1643155200000,17.8283],[1643241600000,17.3928],[1643328000000,18.0254],[1644192000000,19.0091],[1644278400000,18.9316],[1644364800000,19.085],[1644451200000,19.3951],[1644537600000,19.2245],[1644796800000,19.1089],[1644883200000,18.3491],[1644969600000,18.8093],[1645056000000,19.2035],[1645142400000,19.6578],[1645401600000,19.4748],[1645488000000,20.1765],[1645574400000,19.2347],[1645660800000,19.1154],[1645747200000,18.0664],[1646006400000,18.4038],[1646092800000,19.3485],[1646179200000,19.9762],[1646265600000,20.8599],[1646352000000,19.8961],[1646611200000,21.4721],[1646697600000,22.0581],[1646784000000,22.418],[1646870400000,21.4444],[1646956800000,20.7677],[1647216000000,20.4951],[1647302400000,19.7273],[1647388800000,18.8948],[1647475200000,20.1039],[1647561600000,20.1078],[1647820800000,21.46],[1647907200000,20.5326],[1647993600000,20.2324],[1648080000000,21.2353],[1648166400000,22.4731],[1648425600000,22.2816],[1648512000000,22.0609],[1648598400000,22.5463],[1648684800000,23.4847],[1648771200000,24.1017],[1649203200000,26.2003],[1649289600000,25.2615],[1649376000000,25.4815],[1649635200000,25.3344],[1649721600000,24.3133],[1649808000000,24.2764],[1649894400000,24.6907],[1649980800000,25.3166],[1650240000000,25.7552],[1650326400000,26.4088],[1650412800000,26.0496],[1650499200000,24.672],[1650585600000,24.5158],[1650844800000,22.4028],[1650931200000,20.2288],[1651017600000,20.7052],[1651104000000,19.604],[1651190400000,19.9535],[1651708800000,20.4465],[1651795200000,21.5491],[1652054400000,22.3229],[1652140800000,23.5204],[1652227200000,24.1364],[1652313600000,25.9028],[1652400000000,25.5399],[1652659200000,25.5585],[1652745600000,25.2129],[1652832000000,27.4497],[1652918400000,28.4531],[1653004800000,28.4416],[1653264000000,31.0188],[1653350400000,29.9382],[1653436800000,30.1162],[1653523200000,29.3068],[1653609600000,29.8703],[1653868800000,30.2762],[1653955200000,30.0132]],\"color\":\"#8f4e4f\",\"tooltip\":{\"valueDecimals\":2,\"valueSuffix\":\" %\"},\"visible\":false},{\"name\":\"\\u6301\\u4ed3\\u5360\\u6bd4\",\"yAxis\":1,\"data\":[[1610064000000,0.0],[1610323200000,99.484],[1610409600000,99.5001],[1610496000000,99.9328],[1610582400000,99.9997],[1610668800000,99.9973],[1610928000000,99.9993],[1611014400000,99.9728],[1611100800000,99.9981],[1611187200000,99.987],[1611273600000,99.9868],[1611532800000,99.9996],[1611619200000,99.9215],[1611705600000,99.9653],[1611792000000,99.965],[1611878400000,99.9939],[1612137600000,99.977],[1612224000000,99.9905],[1612310400000,99.9498],[1612396800000,99.9881],[1612483200000,99.9908],[1612742400000,99.9443],[1612828800000,99.9851],[1612915200000,99.9997],[1613606400000,99.997],[1613692800000,99.9321],[1613952000000,99.9999],[1614038400000,99.9918],[1614124800000,99.9062],[1614211200000,99.9994],[1614297600000,99.9993],[1614556800000,99.9025],[1614643200000,99.9441],[1614729600000,99.9988],[1614816000000,100.0],[1614902400000,99.8269],[1615161600000,99.8577],[1615248000000,99.8632],[1615334400000,99.9779],[1615420800000,99.9977],[1615507200000,99.9977],[1615766400000,99.9618],[1615852800000,99.9926],[1615939200000,99.9132],[1616025600000,100.0],[1616112000000,99.9412],[1616371200000,99.942],[1616457600000,99.9196],[1616544000000,99.9955],[1616630400000,99.9955],[1616716800000,99.9939],[1616976000000,99.9988],[1617062400000,99.9912],[1617148800000,99.9989],[1617235200000,99.9884],[1617321600000,99.9969],[1617667200000,99.996],[1617753600000,99.9988],[1617840000000,99.9828],[1617926400000,99.9988],[1618185600000,99.7329],[1618272000000,99.9974],[1618358400000,99.9336],[1618444800000,99.9803],[1618531200000,99.998],[1618790400000,99.9988],[1618876800000,99.9755],[1618963200000,99.9839],[1619049600000,99.9999],[1619136000000,99.9763],[1619395200000,99.9985],[1619481600000,99.9391],[1619568000000,99.9399],[1619654400000,99.9981],[1619740800000,99.9991],[1620259200000,99.9958],[1620345600000,99.967],[1620604800000,99.9674],[1620691200000,99.9541],[1620777600000,99.9992],[1620864000000,99.9633],[1620950400000,99.9376],[1621209600000,99.9831],[1621296000000,99.9998],[1621382400000,99.9032],[1621468800000,99.9279],[1621555200000,99.4313],[1621814400000,99.9994],[1621900800000,99.9784],[1621987200000,99.998],[1622073600000,99.9975],[1622160000000,99.9154],[1622419200000,99.9982],[1622505600000,99.9949],[1622592000000,99.9695],[1622678400000,100.0],[1622764800000,99.997],[1623024000000,100.0],[1623110400000,99.7347],[1623196800000,99.9911],[1623283200000,99.9982],[1623369600000,99.9982],[1623715200000,99.9985],[1623801600000,99.9712],[1623888000000,99.9907],[1623974400000,99.9948],[1624233600000,99.9852],[1624320000000,99.9601],[1624406400000,99.9994],[1624492800000,99.9994],[1624579200000,99.9752],[1624838400000,99.9991],[1624924800000,99.9587],[1625011200000,99.9595],[1625097600000,99.9698],[1625184000000,100.0],[1625443200000,99.9995],[1625529600000,99.9649],[1625616000000,99.9907],[1625702400000,99.942],[1625788800000,99.9967],[1626048000000,99.9996],[1626134400000,99.9993],[1626220800000,99.9555],[1626307200000,99.9848],[1626393600000,99.999],[1626652800000,99.9565],[1626739200000,99.961],[1626825600000,99.9619],[1626912000000,99.9993],[1626998400000,99.9993],[1627257600000,99.9141],[1627344000000,99.9315],[1627430400000,99.9306],[1627516800000,99.9919],[1627603200000,99.9687],[1627862400000,99.9982],[1627948800000,99.9937],[1628035200000,99.9957],[1628121600000,99.9871],[1628208000000,99.9997],[1628467200000,99.982],[1628553600000,99.9998],[1628640000000,99.9996],[1628726400000,99.9968],[1628812800000,99.9995],[1629072000000,99.9265],[1629158400000,99.9454],[1629244800000,99.9974],[1629331200000,99.9991],[1629417600000,99.6655],[1629676800000,99.9973],[1629763200000,99.9985],[1629849600000,99.8834],[1629936000000,99.9999],[1630022400000,99.9992],[1630281600000,99.9992],[1630368000000,99.971],[1630454400000,99.7889],[1630540800000,99.9992],[1630627200000,99.9992],[1630886400000,99.9989],[1630972800000,99.9998],[1631059200000,99.9997],[1631145600000,99.999],[1631232000000,99.9997],[1631491200000,99.9998],[1631577600000,99.8321],[1631664000000,99.9969],[1631750400000,99.9972],[1631836800000,99.9997],[1632268800000,99.9803],[1632355200000,99.9993],[1632441600000,99.974],[1632700800000,99.6597],[1632787200000,99.9952],[1632873600000,99.9161],[1632960000000,99.9857],[1633651200000,99.9859],[1633910400000,99.9982],[1633996800000,99.921],[1634083200000,99.9904],[1634169600000,99.9999],[1634256000000,99.9617],[1634515200000,99.9592],[1634601600000,99.9998],[1634688000000,99.9973],[1634774400000,99.9999],[1634860800000,99.9891],[1635120000000,99.9763],[1635206400000,99.9828],[1635292800000,99.943],[1635379200000,99.9441],[1635465600000,99.999],[1635724800000,99.9981],[1635811200000,99.9096],[1635897600000,99.9997],[1635984000000,99.9821],[1636070400000,99.8993],[1636329600000,99.9994],[1636416000000,99.9994],[1636502400000,99.9992],[1636588800000,99.9979],[1636675200000,99.9978],[1636934400000,99.9972],[1637020800000,99.9285],[1637107200000,99.9989],[1637193600000,99.9998],[1637280000000,99.9996],[1637539200000,99.999],[1637625600000,99.9974],[1637712000000,99.998],[1637798400000,99.9984],[1637884800000,99.9975],[1638144000000,99.9992],[1638230400000,99.9996],[1638316800000,99.9334],[1638403200000,99.7623],[1638489600000,99.9984],[1638748800000,99.9983],[1638835200000,99.6835],[1638921600000,99.9829],[1639008000000,99.9803],[1639094400000,99.9999],[1639353600000,99.9963],[1639440000000,99.9959],[1639526400000,99.9999],[1639612800000,100.0],[1639699200000,99.9993],[1639958400000,99.9999],[1640044800000,99.9965],[1640131200000,99.9588],[1640217600000,99.9847],[1640304000000,99.9759],[1640563200000,99.9987],[1640649600000,99.9904],[1640736000000,99.9709],[1640822400000,99.9988],[1640908800000,99.9991],[1641254400000,99.9099],[1641340800000,99.8774],[1641427200000,99.9984],[1641513600000,99.9526],[1641772800000,99.9989],[1641859200000,99.9334],[1641945600000,99.9347],[1642032000000,99.9997],[1642118400000,99.8896],[1642377600000,99.999],[1642464000000,98.0491],[1642550400000,99.9767],[1642636800000,99.8334],[1642723200000,99.7868],[1642982400000,99.9979],[1643068800000,99.6806],[1643155200000,99.9959],[1643241600000,99.9126],[1643328000000,99.8448],[1644192000000,99.9962],[1644278400000,99.9999],[1644364800000,99.9987],[1644451200000,99.999],[1644537600000,99.921],[1644796800000,99.9086],[1644883200000,99.8945],[1644969600000,99.9998],[1645056000000,99.9815],[1645142400000,99.9996],[1645401600000,99.9996],[1645488000000,99.9602],[1645574400000,99.9564],[1645660800000,99.8401],[1645747200000,99.8398],[1646006400000,99.9814],[1646092800000,99.999],[1646179200000,99.9936],[1646265600000,99.954],[1646352000000,99.9614],[1646611200000,99.9994],[1646697600000,99.9994],[1646784000000,99.8629],[1646870400000,99.9986],[1646956800000,99.9086],[1647216000000,99.8703],[1647302400000,99.4757],[1647388800000,99.9869],[1647475200000,99.9983],[1647561600000,99.9575],[1647820800000,99.9996],[1647907200000,98.428],[1647993600000,99.9984],[1648080000000,99.9994],[1648166400000,99.9995],[1648425600000,99.9756],[1648512000000,99.9368],[1648598400000,99.9995],[1648684800000,99.9996],[1648771200000,99.9995],[1649203200000,99.9996],[1649289600000,99.9468],[1649376000000,99.9993],[1649635200000,99.8507],[1649721600000,99.8512],[1649808000000,99.9993],[1649894400000,99.9984],[1649980800000,99.9071],[1650240000000,99.9994],[1650326400000,98.0199],[1650412800000,99.9997],[1650499200000,99.8659],[1650585600000,99.7259],[1650844800000,98.5075],[1650931200000,99.8054],[1651017600000,99.9997],[1651104000000,99.9997],[1651190400000,99.9988],[1651708800000,99.9987],[1651795200000,99.9994],[1652054400000,99.9996],[1652140800000,99.9993],[1652227200000,99.9994],[1652313600000,99.9999],[1652400000000,99.9995],[1652659200000,99.999],[1652745600000,99.9347],[1652832000000,99.9991],[1652918400000,99.9991],[1653004800000,99.9985],[1653264000000,99.9967],[1653350400000,99.7082],[1653436800000,99.9994],[1653523200000,99.9999],[1653609600000,97.7246],[1653868800000,97.7501],[1653955200000,97.7755]],\"color\":\"#66ff99\",\"tooltip\":{\"valueDecimals\":2,\"valueSuffix\":\" %\"}}],\"xAxis\":{\"type\":\"datetime\"},\"yAxis\":[{\"labels\":{\"align\":\"right\",\"x\":-3,\"format\":\"{value}%\"},\"title\":{\"text\":\"\\u51c0\\u503c\\u66f2\\u7ebf\"},\"top\":\"0%\",\"height\":\"76%\",\"offset\":0,\"lineWidth\":2,\"gridLineColor\":\"#cfcfcf\",\"gridLineWidth\":1},{\"labels\":{\"align\":\"right\",\"x\":-3,\"format\":\"{value}%\"},\"title\":{\"text\":\"\\u6301\\u4ed3\\u5360\\u6bd4\"},\"top\":\"80%\",\"height\":\"19%\",\"offset\":0,\"lineWidth\":2,\"gridLineColor\":\"#cfcfcf\",\"gridLineWidth\":1}],\"plotOptions\":{\"series\":{\"showInNavigator\":true},\"area\":{\"showInNavigator\":true}},\"rangeSelector\":{\"enabled\":true},\"navigator\":{\"enabled\":true}}/bigcharts-data-end</pre></div>",
          "text/plain": "<IPython.core.display.HTML object>"
         },
         "metadata": {},
         "output_type": "display_data"
        }
       ]
      }
     },
     "42a99eb486bd4fecadccfc03798fa244": {
      "model_module": "@jupyter-widgets/controls",
      "model_module_version": "1.5.0",
      "model_name": "DatePickerModel",
      "state": {
       "disabled": false,
       "layout": "IPY_MODEL_04f461a9c0974dd1be9c5070a9aaf852",
       "style": "IPY_MODEL_cf6e7a08902345a2a7d5beb46f94d21b"
      }
     },
     "434433cc3e244c44a615cfb2c90804c5": {
      "model_module": "@jupyter-widgets/base",
      "model_module_version": "1.2.0",
      "model_name": "LayoutModel",
      "state": {
       "grid_area": "widget006"
      }
     },
     "434f2894fb344ef59301ce1f7e66ef74": {
      "model_module": "@jupyter-widgets/controls",
      "model_module_version": "1.5.0",
      "model_name": "DescriptionStyleModel",
      "state": {
       "description_width": ""
      }
     },
     "439cbfd1979f4f3289ed42467a99d16a": {
      "model_module": "@jupyter-widgets/output",
      "model_module_version": "1.0.0",
      "model_name": "OutputModel",
      "state": {
       "layout": "IPY_MODEL_50d4a11c3af3439dbaa14025de3162ea"
      }
     },
     "4514740d027f46449ddd8e07dbb9c47c": {
      "model_module": "@jupyter-widgets/controls",
      "model_module_version": "1.5.0",
      "model_name": "HTMLModel",
      "state": {
       "layout": "IPY_MODEL_e8d126ddc37847e2983f80670f5704b8",
       "style": "IPY_MODEL_d6c1fa1c851a428da72417cee798bb9f",
       "value": "开始时间&nbsp;&nbsp;&nbsp;&nbsp;&nbsp;&nbsp;<b>20210108</b>"
      }
     },
     "452d089a760243f68c0aebeb90668ae3": {
      "model_module": "@jupyter-widgets/controls",
      "model_module_version": "1.5.0",
      "model_name": "HTMLModel",
      "state": {
       "layout": "IPY_MODEL_73e770c9c90b490c880e6d655e336c61",
       "style": "IPY_MODEL_2263de2a75384a0c9ccc0178f93a5ab1",
       "value": "年化收益<span style='color:red'> &nbsp;&nbsp;&nbsp;&nbsp;&nbsp;&nbsp;<b>17.50%</b> </span>"
      }
     },
     "4554eb2fdd4d4253b6f483a7313ff699": {
      "model_module": "@jupyter-widgets/controls",
      "model_module_version": "1.5.0",
      "model_name": "DescriptionStyleModel",
      "state": {
       "description_width": ""
      }
     },
     "459313c562f04e878aad9ac3116e136d": {
      "model_module": "@jupyter-widgets/controls",
      "model_module_version": "1.5.0",
      "model_name": "DescriptionStyleModel",
      "state": {
       "description_width": ""
      }
     },
     "488ee9b2492742d6a9b8f22088f93b64": {
      "model_module": "@jupyter-widgets/controls",
      "model_module_version": "1.5.0",
      "model_name": "GridBoxModel",
      "state": {
       "children": [
        "IPY_MODEL_d7c63dfa8eb0442c89158ff4beb249d9",
        "IPY_MODEL_904dadea589e48f08aec842b9196821a",
        "IPY_MODEL_f755b9fe0a6d4f188302e8da64ebfe33",
        "IPY_MODEL_247486a434264651b28f3205f2d9d21a",
        "IPY_MODEL_f1ce4d37a9964ccdacb53f65f360b35b"
       ],
       "layout": "IPY_MODEL_2a2c168bebdc4100b89c687938ea21e1"
      }
     },
     "48b0476401a84934835c0d8de34fc155": {
      "model_module": "@jupyter-widgets/controls",
      "model_module_version": "1.5.0",
      "model_name": "HTMLModel",
      "state": {
       "layout": "IPY_MODEL_d0c85ac3af3446b88908c7ad7ec1a27b",
       "style": "IPY_MODEL_b6318b5502ab48f89de2a713d7222069",
       "value": "/1页"
      }
     },
     "49632b5cd03746288b67177c40f93110": {
      "model_module": "@jupyter-widgets/controls",
      "model_module_version": "1.5.0",
      "model_name": "DescriptionStyleModel",
      "state": {
       "description_width": ""
      }
     },
     "49b5bf3122ea4454b557212d84b2c399": {
      "model_module": "@jupyter-widgets/controls",
      "model_module_version": "1.5.0",
      "model_name": "HTMLModel",
      "state": {
       "layout": "IPY_MODEL_35d5dd96743745f98934c7afe25982a2",
       "style": "IPY_MODEL_434f2894fb344ef59301ce1f7e66ef74",
       "value": "<span style='font-size:20px;'> <b>收益率走势</b> </span>"
      }
     },
     "4a2b7b0a462e4014a878b2b8d32cfe88": {
      "model_module": "@jupyter-widgets/base",
      "model_module_version": "1.2.0",
      "model_name": "LayoutModel",
      "state": {
       "align_items": "center",
       "grid_area": "widget004",
       "grid_template_areas": "\"widget001\"\n\"widget002\"",
       "grid_template_columns": "auto",
       "grid_template_rows": "60px auto"
      }
     },
     "4a38ad55a54446aba53073ea0fcefdcb": {
      "model_module": "@jupyter-widgets/controls",
      "model_module_version": "1.5.0",
      "model_name": "ButtonModel",
      "state": {
       "icon": "angle-left",
       "layout": "IPY_MODEL_c4f2367d4c204c87bddd5a16928f31e8",
       "style": "IPY_MODEL_c904a1e7a8fa415cb14862cca6fc4839",
       "tooltip": "上一页"
      }
     },
     "4a5f488512c54217b9cdfd9e54cd2beb": {
      "model_module": "@jupyter-widgets/controls",
      "model_module_version": "1.5.0",
      "model_name": "GridBoxModel",
      "state": {
       "children": [
        "IPY_MODEL_7ada25cfb32c4226a0909c6e8f9b2e3c",
        "IPY_MODEL_ab5e4e5cb5f248278fb0c18f26a841d7",
        "IPY_MODEL_af62d4a9488b47f98dc3b2dd344d8d8b",
        "IPY_MODEL_eaf37433249c4dbe8e49dbf533254759"
       ],
       "layout": "IPY_MODEL_e39dea5c969840df88631df1e35285b7"
      }
     },
     "4a8411f8f57949d785da67021e0403a1": {
      "model_module": "@jupyter-widgets/controls",
      "model_module_version": "1.5.0",
      "model_name": "HTMLModel",
      "state": {
       "layout": "IPY_MODEL_e4ca3810aa0949f190f3316b99abf53c",
       "style": "IPY_MODEL_98f261034f2949d5b4b254991d35ad62",
       "value": "/112页"
      }
     },
     "4a90e2624e8848dab9787ec88ffa7feb": {
      "model_module": "@jupyter-widgets/controls",
      "model_module_version": "1.5.0",
      "model_name": "DescriptionStyleModel",
      "state": {
       "description_width": ""
      }
     },
     "4ae3711a4436489e8cae125d0bb3efdc": {
      "model_module": "@jupyter-widgets/controls",
      "model_module_version": "1.5.0",
      "model_name": "DescriptionStyleModel",
      "state": {
       "description_width": ""
      }
     },
     "4b1a513dba124a32b20886d6690000bb": {
      "model_module": "@jupyter-widgets/base",
      "model_module_version": "1.2.0",
      "model_name": "LayoutModel",
      "state": {
       "align_items": "center",
       "grid_area": "widget001",
       "grid_template_areas": "\"widget001\"\n\"widget002\"",
       "grid_template_columns": "auto",
       "grid_template_rows": "60px auto"
      }
     },
     "4c691f213e87488b8f81ad4df2f0e2e5": {
      "model_module": "@jupyter-widgets/controls",
      "model_module_version": "1.5.0",
      "model_name": "HTMLModel",
      "state": {
       "layout": "IPY_MODEL_f51e016afb5b4035b334bfd7c8ab1d7b",
       "style": "IPY_MODEL_73a99712d61a4466bffec984fde51dd0",
       "value": "<span style='font-size:20px;'> <b>收益统计</b> </span>"
      }
     },
     "4cf1ba2b7f81472e8ccbcd5085a9facf": {
      "model_module": "@jupyter-widgets/output",
      "model_module_version": "1.0.0",
      "model_name": "OutputModel",
      "state": {
       "layout": "IPY_MODEL_a4afec8da09f48d8afbeb8b4566675fd",
       "outputs": [
        {
         "data": {
          "text/html": "<style  type=\"text/css\" >\n#T_23a09_row0_col0,#T_23a09_row0_col1,#T_23a09_row0_col2,#T_23a09_row0_col3,#T_23a09_row0_col4,#T_23a09_row0_col5,#T_23a09_row1_col0,#T_23a09_row1_col1,#T_23a09_row1_col2,#T_23a09_row1_col3,#T_23a09_row1_col4,#T_23a09_row1_col5,#T_23a09_row2_col0,#T_23a09_row2_col1,#T_23a09_row2_col2,#T_23a09_row2_col3,#T_23a09_row2_col4,#T_23a09_row2_col5,#T_23a09_row3_col0,#T_23a09_row3_col1,#T_23a09_row3_col2,#T_23a09_row3_col3,#T_23a09_row3_col4,#T_23a09_row3_col5,#T_23a09_row4_col0,#T_23a09_row4_col1,#T_23a09_row4_col2,#T_23a09_row4_col3,#T_23a09_row4_col4,#T_23a09_row4_col5,#T_23a09_row5_col0,#T_23a09_row5_col1,#T_23a09_row5_col2,#T_23a09_row5_col3,#T_23a09_row5_col4,#T_23a09_row5_col5,#T_23a09_row6_col0,#T_23a09_row6_col1,#T_23a09_row6_col2,#T_23a09_row6_col3,#T_23a09_row6_col4,#T_23a09_row6_col5,#T_23a09_row7_col0,#T_23a09_row7_col1,#T_23a09_row7_col2,#T_23a09_row7_col3,#T_23a09_row7_col4,#T_23a09_row7_col5,#T_23a09_row8_col0,#T_23a09_row8_col1,#T_23a09_row8_col2,#T_23a09_row8_col3,#T_23a09_row8_col4,#T_23a09_row8_col5,#T_23a09_row9_col0,#T_23a09_row9_col1,#T_23a09_row9_col2,#T_23a09_row9_col3,#T_23a09_row9_col4,#T_23a09_row9_col5,#T_23a09_row10_col0,#T_23a09_row10_col1,#T_23a09_row10_col2,#T_23a09_row10_col3,#T_23a09_row10_col4,#T_23a09_row10_col5,#T_23a09_row11_col0,#T_23a09_row11_col1,#T_23a09_row11_col2,#T_23a09_row11_col3,#T_23a09_row11_col4,#T_23a09_row11_col5,#T_23a09_row12_col0,#T_23a09_row12_col1,#T_23a09_row12_col2,#T_23a09_row12_col3,#T_23a09_row12_col4,#T_23a09_row12_col5,#T_23a09_row13_col0,#T_23a09_row13_col1,#T_23a09_row13_col2,#T_23a09_row13_col3,#T_23a09_row13_col4,#T_23a09_row13_col5,#T_23a09_row14_col0,#T_23a09_row14_col1,#T_23a09_row14_col2,#T_23a09_row14_col3,#T_23a09_row14_col4,#T_23a09_row14_col5,#T_23a09_row15_col0,#T_23a09_row15_col1,#T_23a09_row15_col2,#T_23a09_row15_col3,#T_23a09_row15_col4,#T_23a09_row15_col5,#T_23a09_row16_col0,#T_23a09_row16_col1,#T_23a09_row16_col2,#T_23a09_row16_col3,#T_23a09_row16_col4,#T_23a09_row16_col5,#T_23a09_row17_col0,#T_23a09_row17_col1,#T_23a09_row17_col2,#T_23a09_row17_col3,#T_23a09_row17_col4,#T_23a09_row17_col5,#T_23a09_row18_col0,#T_23a09_row18_col1,#T_23a09_row18_col2,#T_23a09_row18_col3,#T_23a09_row18_col4,#T_23a09_row18_col5,#T_23a09_row19_col0,#T_23a09_row19_col1,#T_23a09_row19_col2,#T_23a09_row19_col3,#T_23a09_row19_col4,#T_23a09_row19_col5{\n            width:  500px;\n        }</style><table id=\"T_23a09_\" ><thead>    <tr>        <th class=\"col_heading level0 col0\" >日期时间</th>        <th class=\"col_heading level0 col1\" >股票代码</th>        <th class=\"col_heading level0 col2\" >股票名称</th>        <th class=\"col_heading level0 col3\" >持仓数量</th>        <th class=\"col_heading level0 col4\" >资金仓位</th>        <th class=\"col_heading level0 col5\" >持仓权重</th>    </tr></thead><tbody>\n                <tr>\n                                <td id=\"T_23a09_row0_col0\" class=\"data row0 col0\" >2022-05-31</td>\n                        <td id=\"T_23a09_row0_col1\" class=\"data row0 col1\" >688613.SH</td>\n                        <td id=\"T_23a09_row0_col2\" class=\"data row0 col2\" >奥精医疗</td>\n                        <td id=\"T_23a09_row0_col3\" class=\"data row0 col3\" >207800</td>\n                        <td id=\"T_23a09_row0_col4\" class=\"data row0 col4\" >5689564.00</td>\n                        <td id=\"T_23a09_row0_col5\" class=\"data row0 col5\" >0.023418</td>\n            </tr>\n            <tr>\n                                <td id=\"T_23a09_row1_col0\" class=\"data row1 col0\" >2022-05-31</td>\n                        <td id=\"T_23a09_row1_col1\" class=\"data row1 col1\" >300141.SZ</td>\n                        <td id=\"T_23a09_row1_col2\" class=\"data row1 col2\" >和顺电气</td>\n                        <td id=\"T_23a09_row1_col3\" class=\"data row1 col3\" >521100</td>\n                        <td id=\"T_23a09_row1_col4\" class=\"data row1 col4\" >4502304.00</td>\n                        <td id=\"T_23a09_row1_col5\" class=\"data row1 col5\" >0.018531</td>\n            </tr>\n            <tr>\n                                <td id=\"T_23a09_row2_col0\" class=\"data row2 col0\" >2022-05-31</td>\n                        <td id=\"T_23a09_row2_col1\" class=\"data row2 col1\" >300538.SZ</td>\n                        <td id=\"T_23a09_row2_col2\" class=\"data row2 col2\" >同益股份</td>\n                        <td id=\"T_23a09_row2_col3\" class=\"data row2 col3\" >391600</td>\n                        <td id=\"T_23a09_row2_col4\" class=\"data row2 col4\" >4801016.00</td>\n                        <td id=\"T_23a09_row2_col5\" class=\"data row2 col5\" >0.019761</td>\n            </tr>\n            <tr>\n                                <td id=\"T_23a09_row3_col0\" class=\"data row3 col0\" >2022-05-31</td>\n                        <td id=\"T_23a09_row3_col1\" class=\"data row3 col1\" >300510.SZ</td>\n                        <td id=\"T_23a09_row3_col2\" class=\"data row3 col2\" >金冠股份</td>\n                        <td id=\"T_23a09_row3_col3\" class=\"data row3 col3\" >1111800</td>\n                        <td id=\"T_23a09_row3_col4\" class=\"data row3 col4\" >4836330.00</td>\n                        <td id=\"T_23a09_row3_col5\" class=\"data row3 col5\" >0.019906</td>\n            </tr>\n            <tr>\n                                <td id=\"T_23a09_row4_col0\" class=\"data row4 col0\" >2022-05-31</td>\n                        <td id=\"T_23a09_row4_col1\" class=\"data row4 col1\" >300490.SZ</td>\n                        <td id=\"T_23a09_row4_col2\" class=\"data row4 col2\" >华自科技</td>\n                        <td id=\"T_23a09_row4_col3\" class=\"data row4 col3\" >390200</td>\n                        <td id=\"T_23a09_row4_col4\" class=\"data row4 col4\" >4698008.00</td>\n                        <td id=\"T_23a09_row4_col5\" class=\"data row4 col5\" >0.019337</td>\n            </tr>\n            <tr>\n                                <td id=\"T_23a09_row5_col0\" class=\"data row5 col0\" >2022-05-31</td>\n                        <td id=\"T_23a09_row5_col1\" class=\"data row5 col1\" >300489.SZ</td>\n                        <td id=\"T_23a09_row5_col2\" class=\"data row5 col2\" >光智科技</td>\n                        <td id=\"T_23a09_row5_col3\" class=\"data row5 col3\" >284500</td>\n                        <td id=\"T_23a09_row5_col4\" class=\"data row5 col4\" >4591830.00</td>\n                        <td id=\"T_23a09_row5_col5\" class=\"data row5 col5\" >0.018900</td>\n            </tr>\n            <tr>\n                                <td id=\"T_23a09_row6_col0\" class=\"data row6 col0\" >2022-05-31</td>\n                        <td id=\"T_23a09_row6_col1\" class=\"data row6 col1\" >300449.SZ</td>\n                        <td id=\"T_23a09_row6_col2\" class=\"data row6 col2\" >汉邦高科</td>\n                        <td id=\"T_23a09_row6_col3\" class=\"data row6 col3\" >1114700</td>\n                        <td id=\"T_23a09_row6_col4\" class=\"data row6 col4\" >5406295.00</td>\n                        <td id=\"T_23a09_row6_col5\" class=\"data row6 col5\" >0.022252</td>\n            </tr>\n            <tr>\n                                <td id=\"T_23a09_row7_col0\" class=\"data row7 col0\" >2022-05-31</td>\n                        <td id=\"T_23a09_row7_col1\" class=\"data row7 col1\" >300410.SZ</td>\n                        <td id=\"T_23a09_row7_col2\" class=\"data row7 col2\" >正业科技</td>\n                        <td id=\"T_23a09_row7_col3\" class=\"data row7 col3\" >656900</td>\n                        <td id=\"T_23a09_row7_col4\" class=\"data row7 col4\" >5051561.00</td>\n                        <td id=\"T_23a09_row7_col5\" class=\"data row7 col5\" >0.020792</td>\n            </tr>\n            <tr>\n                                <td id=\"T_23a09_row8_col0\" class=\"data row8 col0\" >2022-05-31</td>\n                        <td id=\"T_23a09_row8_col1\" class=\"data row8 col1\" >300405.SZ</td>\n                        <td id=\"T_23a09_row8_col2\" class=\"data row8 col2\" >科隆股份</td>\n                        <td id=\"T_23a09_row8_col3\" class=\"data row8 col3\" >684100</td>\n                        <td id=\"T_23a09_row8_col4\" class=\"data row8 col4\" >3707822.00</td>\n                        <td id=\"T_23a09_row8_col5\" class=\"data row8 col5\" >0.015261</td>\n            </tr>\n            <tr>\n                                <td id=\"T_23a09_row9_col0\" class=\"data row9 col0\" >2022-05-31</td>\n                        <td id=\"T_23a09_row9_col1\" class=\"data row9 col1\" >300386.SZ</td>\n                        <td id=\"T_23a09_row9_col2\" class=\"data row9 col2\" >飞天诚信</td>\n                        <td id=\"T_23a09_row9_col3\" class=\"data row9 col3\" >423800</td>\n                        <td id=\"T_23a09_row9_col4\" class=\"data row9 col4\" >4428710.00</td>\n                        <td id=\"T_23a09_row9_col5\" class=\"data row9 col5\" >0.018228</td>\n            </tr>\n            <tr>\n                                <td id=\"T_23a09_row10_col0\" class=\"data row10 col0\" >2022-05-31</td>\n                        <td id=\"T_23a09_row10_col1\" class=\"data row10 col1\" >300307.SZ</td>\n                        <td id=\"T_23a09_row10_col2\" class=\"data row10 col2\" >慈星股份</td>\n                        <td id=\"T_23a09_row10_col3\" class=\"data row10 col3\" >1066100</td>\n                        <td id=\"T_23a09_row10_col4\" class=\"data row10 col4\" >5159924.00</td>\n                        <td id=\"T_23a09_row10_col5\" class=\"data row10 col5\" >0.021238</td>\n            </tr>\n            <tr>\n                                <td id=\"T_23a09_row11_col0\" class=\"data row11 col0\" >2022-05-31</td>\n                        <td id=\"T_23a09_row11_col1\" class=\"data row11 col1\" >300304.SZ</td>\n                        <td id=\"T_23a09_row11_col2\" class=\"data row11 col2\" >云意电气</td>\n                        <td id=\"T_23a09_row11_col3\" class=\"data row11 col3\" >1284600</td>\n                        <td id=\"T_23a09_row11_col4\" class=\"data row11 col4\" >6166080.00</td>\n                        <td id=\"T_23a09_row11_col5\" class=\"data row11 col5\" >0.025379</td>\n            </tr>\n            <tr>\n                                <td id=\"T_23a09_row12_col0\" class=\"data row12 col0\" >2022-05-31</td>\n                        <td id=\"T_23a09_row12_col1\" class=\"data row12 col1\" >300132.SZ</td>\n                        <td id=\"T_23a09_row12_col2\" class=\"data row12 col2\" >青松股份</td>\n                        <td id=\"T_23a09_row12_col3\" class=\"data row12 col3\" >826600</td>\n                        <td id=\"T_23a09_row12_col4\" class=\"data row12 col4\" >4967866.00</td>\n                        <td id=\"T_23a09_row12_col5\" class=\"data row12 col5\" >0.020447</td>\n            </tr>\n            <tr>\n                                <td id=\"T_23a09_row13_col0\" class=\"data row13 col0\" >2022-05-31</td>\n                        <td id=\"T_23a09_row13_col1\" class=\"data row13 col1\" >300611.SZ</td>\n                        <td id=\"T_23a09_row13_col2\" class=\"data row13 col2\" >美力科技</td>\n                        <td id=\"T_23a09_row13_col3\" class=\"data row13 col3\" >516400</td>\n                        <td id=\"T_23a09_row13_col4\" class=\"data row13 col4\" >4766372.00</td>\n                        <td id=\"T_23a09_row13_col5\" class=\"data row13 col5\" >0.019618</td>\n            </tr>\n            <tr>\n                                <td id=\"T_23a09_row14_col0\" class=\"data row14 col0\" >2022-05-31</td>\n                        <td id=\"T_23a09_row14_col1\" class=\"data row14 col1\" >300097.SZ</td>\n                        <td id=\"T_23a09_row14_col2\" class=\"data row14 col2\" >智云股份</td>\n                        <td id=\"T_23a09_row14_col3\" class=\"data row14 col3\" >854100</td>\n                        <td id=\"T_23a09_row14_col4\" class=\"data row14 col4\" >4475484.00</td>\n                        <td id=\"T_23a09_row14_col5\" class=\"data row14 col5\" >0.018421</td>\n            </tr>\n            <tr>\n                                <td id=\"T_23a09_row15_col0\" class=\"data row15 col0\" >2022-05-31</td>\n                        <td id=\"T_23a09_row15_col1\" class=\"data row15 col1\" >300079.SZ</td>\n                        <td id=\"T_23a09_row15_col2\" class=\"data row15 col2\" >数码视讯</td>\n                        <td id=\"T_23a09_row15_col3\" class=\"data row15 col3\" >883900</td>\n                        <td id=\"T_23a09_row15_col4\" class=\"data row15 col4\" >4410661.00</td>\n                        <td id=\"T_23a09_row15_col5\" class=\"data row15 col5\" >0.018154</td>\n            </tr>\n            <tr>\n                                <td id=\"T_23a09_row16_col0\" class=\"data row16 col0\" >2022-05-31</td>\n                        <td id=\"T_23a09_row16_col1\" class=\"data row16 col1\" >300040.SZ</td>\n                        <td id=\"T_23a09_row16_col2\" class=\"data row16 col2\" >九洲集团</td>\n                        <td id=\"T_23a09_row16_col3\" class=\"data row16 col3\" >589300</td>\n                        <td id=\"T_23a09_row16_col4\" class=\"data row16 col4\" >4072063.00</td>\n                        <td id=\"T_23a09_row16_col5\" class=\"data row16 col5\" >0.016760</td>\n            </tr>\n            <tr>\n                                <td id=\"T_23a09_row17_col0\" class=\"data row17 col0\" >2022-05-31</td>\n                        <td id=\"T_23a09_row17_col1\" class=\"data row17 col1\" >002553.SZ</td>\n                        <td id=\"T_23a09_row17_col2\" class=\"data row17 col2\" >南方精工</td>\n                        <td id=\"T_23a09_row17_col3\" class=\"data row17 col3\" >736000</td>\n                        <td id=\"T_23a09_row17_col4\" class=\"data row17 col4\" >6484160.00</td>\n                        <td id=\"T_23a09_row17_col5\" class=\"data row17 col5\" >0.026688</td>\n            </tr>\n            <tr>\n                                <td id=\"T_23a09_row18_col0\" class=\"data row18 col0\" >2022-05-31</td>\n                        <td id=\"T_23a09_row18_col1\" class=\"data row18 col1\" >002341.SZ</td>\n                        <td id=\"T_23a09_row18_col2\" class=\"data row18 col2\" >新纶新材</td>\n                        <td id=\"T_23a09_row18_col3\" class=\"data row18 col3\" >1363100</td>\n                        <td id=\"T_23a09_row18_col4\" class=\"data row18 col4\" >5425138.00</td>\n                        <td id=\"T_23a09_row18_col5\" class=\"data row18 col5\" >0.022329</td>\n            </tr>\n            <tr>\n                                <td id=\"T_23a09_row19_col0\" class=\"data row19 col0\" >2022-05-31</td>\n                        <td id=\"T_23a09_row19_col1\" class=\"data row19 col1\" >002213.SZ</td>\n                        <td id=\"T_23a09_row19_col2\" class=\"data row19 col2\" >大为股份</td>\n                        <td id=\"T_23a09_row19_col3\" class=\"data row19 col3\" >414500</td>\n                        <td id=\"T_23a09_row19_col4\" class=\"data row19 col4\" >5525285.00</td>\n                        <td id=\"T_23a09_row19_col5\" class=\"data row19 col5\" >0.022742</td>\n            </tr>\n    </tbody></table>",
          "text/plain": "<pandas.io.formats.style.Styler at 0x7f39d065cdf0>"
         },
         "metadata": {},
         "output_type": "display_data"
        }
       ]
      }
     },
     "4dd7968452f044abb7de26abea44f56a": {
      "model_module": "@jupyter-widgets/controls",
      "model_module_version": "1.5.0",
      "model_name": "HTMLModel",
      "state": {
       "layout": "IPY_MODEL_5511fb1fd5094ceb92a36e81e2f2e456",
       "style": "IPY_MODEL_4554eb2fdd4d4253b6f483a7313ff699",
       "value": "<span style='font-size:30px;color:red'> <b>30.01%</b> </span>"
      }
     },
     "4e759f3834134127b7d3bd101919f406": {
      "model_module": "@jupyter-widgets/controls",
      "model_module_version": "1.5.0",
      "model_name": "VBoxModel",
      "state": {
       "_dom_classes": [
        "widget-interact"
       ],
       "children": [
        "IPY_MODEL_85911592392446669bfbbcfcea179cd6"
       ],
       "layout": "IPY_MODEL_608fd5c17c1d452b87b42dc5e7ad59fd"
      }
     },
     "4e920cd62d01413c9af5ebb3d4a4ccfe": {
      "model_module": "@jupyter-widgets/controls",
      "model_module_version": "1.5.0",
      "model_name": "ButtonStyleModel",
      "state": {}
     },
     "4fc9c48e19de4196a74ce65222c4549d": {
      "model_module": "@jupyter-widgets/base",
      "model_module_version": "1.2.0",
      "model_name": "LayoutModel",
      "state": {
       "grid_area": "widget001"
      }
     },
     "500cdd41f227438a8c634d58d3bc4fd8": {
      "model_module": "@jupyter-widgets/base",
      "model_module_version": "1.2.0",
      "model_name": "LayoutModel",
      "state": {}
     },
     "50886a2095504b38a1a5e9000c95c03b": {
      "model_module": "@jupyter-widgets/controls",
      "model_module_version": "1.5.0",
      "model_name": "GridBoxModel",
      "state": {
       "children": [
        "IPY_MODEL_7397f5bc19ee4d4d8c0eed09002c6fb7",
        "IPY_MODEL_0d07c77f3c6540f3b4db01b7cc69e179",
        "IPY_MODEL_14dec2f5537344f69216f1546c59187a",
        "IPY_MODEL_591cd1b0d80847c3953c85181ad779f5"
       ],
       "layout": "IPY_MODEL_b98bc37dc4dc4aaba99f6df9cfc5513a"
      }
     },
     "50d4a11c3af3439dbaa14025de3162ea": {
      "model_module": "@jupyter-widgets/base",
      "model_module_version": "1.2.0",
      "model_name": "LayoutModel",
      "state": {}
     },
     "51f312d4ed634b2989a87fe107eb2f8c": {
      "model_module": "@jupyter-widgets/controls",
      "model_module_version": "1.5.0",
      "model_name": "VBoxModel",
      "state": {
       "_dom_classes": [
        "widget-interact"
       ],
       "children": [
        "IPY_MODEL_7c74e1a359364d0e81604ad2a63590e3"
       ],
       "layout": "IPY_MODEL_8722fdcc019049a58dda35c91fbd64ac"
      }
     },
     "5232f9d2fd3b4f249ccb3847fc074a24": {
      "model_module": "@jupyter-widgets/base",
      "model_module_version": "1.2.0",
      "model_name": "LayoutModel",
      "state": {
       "grid_area": "widget001"
      }
     },
     "52c498dd113c40a8aaf4f43c55270047": {
      "model_module": "@jupyter-widgets/controls",
      "model_module_version": "1.5.0",
      "model_name": "DescriptionStyleModel",
      "state": {
       "description_width": ""
      }
     },
     "52cd3d532dba425d8c7612ceefd66671": {
      "model_module": "@jupyter-widgets/base",
      "model_module_version": "1.2.0",
      "model_name": "LayoutModel",
      "state": {
       "grid_area": "widget001"
      }
     },
     "530d1bd751c94a36af40b0f4b2fd5c1d": {
      "model_module": "@jupyter-widgets/controls",
      "model_module_version": "1.5.0",
      "model_name": "DescriptionStyleModel",
      "state": {
       "description_width": ""
      }
     },
     "541ec0835ca644ef9f46ee57061b1295": {
      "model_module": "@jupyter-widgets/controls",
      "model_module_version": "1.5.0",
      "model_name": "BoundedIntTextModel",
      "state": {
       "layout": "IPY_MODEL_64f6eb0553dc4438b33d90c5d7381a37",
       "max": 112,
       "min": 1,
       "style": "IPY_MODEL_113bd7dfcf2e4891808864be80372f64",
       "value": 1
      }
     },
     "54369c6c75a7405e8fd1e243c5cca49e": {
      "model_module": "@jupyter-widgets/controls",
      "model_module_version": "1.5.0",
      "model_name": "GridBoxModel",
      "state": {
       "children": [
        "IPY_MODEL_5e9ebc4611ab4b87a0f0c598e8133e2a",
        "IPY_MODEL_2674d1e481b140969a595032735d57d5",
        "IPY_MODEL_6d1dc91811954cc0914ecda86b29199a",
        "IPY_MODEL_099cbcdf03664c20a1f1677aea12a8f1",
        "IPY_MODEL_63cf63185e1041ac837776eb45a7aae0",
        "IPY_MODEL_d522593086f54cc6aa7f0ae734ee6c44",
        "IPY_MODEL_e4a84abd1cc547e88c46e15cefb12834",
        "IPY_MODEL_bf6282a6d66d4148998812bbf0259ac9",
        "IPY_MODEL_a89d07ce3cf7460e8640c902673c0cfe",
        "IPY_MODEL_9174427223d746caaf2d5e072a4d90a0"
       ],
       "layout": "IPY_MODEL_e14f575922cf4b00b833a24c2085e8e4"
      }
     },
     "5438fe657fd94e0aad398a0411a01eb8": {
      "model_module": "@jupyter-widgets/base",
      "model_module_version": "1.2.0",
      "model_name": "LayoutModel",
      "state": {
       "grid_area": "widget002"
      }
     },
     "5511fb1fd5094ceb92a36e81e2f2e456": {
      "model_module": "@jupyter-widgets/base",
      "model_module_version": "1.2.0",
      "model_name": "LayoutModel",
      "state": {
       "grid_area": "widget003"
      }
     },
     "5592373f0ac84688adca1f0dbe177d9d": {
      "model_module": "@jupyter-widgets/controls",
      "model_module_version": "1.5.0",
      "model_name": "DescriptionStyleModel",
      "state": {
       "description_width": ""
      }
     },
     "55c06050999d4734b3671eb5287f7c25": {
      "model_module": "@jupyter-widgets/controls",
      "model_module_version": "1.5.0",
      "model_name": "ButtonModel",
      "state": {
       "icon": "angle-right",
       "layout": "IPY_MODEL_41b309f9586f4dd1b0b1727431ed1b90",
       "style": "IPY_MODEL_902ce4263d31467bbd0ac4ada77fe2a2",
       "tooltip": "下一页"
      }
     },
     "569b1a6bd94e489aa24ac0c0aa594fef": {
      "model_module": "@jupyter-widgets/base",
      "model_module_version": "1.2.0",
      "model_name": "LayoutModel",
      "state": {
       "grid_area": "widget008"
      }
     },
     "579ac4d9aeca4344bc5353b3aa463718": {
      "model_module": "@jupyter-widgets/base",
      "model_module_version": "1.2.0",
      "model_name": "LayoutModel",
      "state": {
       "grid_area": "widget001"
      }
     },
     "5846859574f746b7af76b7a5f189d18e": {
      "model_module": "@jupyter-widgets/controls",
      "model_module_version": "1.5.0",
      "model_name": "GridBoxModel",
      "state": {
       "children": [
        "IPY_MODEL_b5db0bead9d64cde8c646b66cd6ae8e5",
        "IPY_MODEL_9d11e7c25e2a40028823f976a083b075",
        "IPY_MODEL_deab198f7fed40408540e1a6f0a61949",
        "IPY_MODEL_d88bc0a9e935471c8d67dc1c4e8869b5",
        "IPY_MODEL_cd77d3f74cf1465f8366eed93d0e6512",
        "IPY_MODEL_ade053c1e00c41e289b2fdf6af620593",
        "IPY_MODEL_245dea2e64c24b33a80e3efd87ddc3c7"
       ],
       "layout": "IPY_MODEL_9624b1ecb6bd46689cadb5b9bbdfd824"
      }
     },
     "585c6fff972a4748acd68923f3085f2a": {
      "model_module": "@jupyter-widgets/controls",
      "model_module_version": "1.5.0",
      "model_name": "HTMLModel",
      "state": {
       "layout": "IPY_MODEL_01d79a2c6a064ead8af44df444f7b4f8",
       "style": "IPY_MODEL_6678e53805334dacaf32c24c077ca089",
       "value": "初始资金&nbsp;&nbsp;&nbsp;&nbsp;&nbsp;&nbsp;<b>200000000</b>"
      }
     },
     "587672384e954050b01d5c16287156d1": {
      "model_module": "@jupyter-widgets/controls",
      "model_module_version": "1.5.0",
      "model_name": "ButtonStyleModel",
      "state": {}
     },
     "589cb37879a44e06ab064ac0b6e55f35": {
      "model_module": "@jupyter-widgets/controls",
      "model_module_version": "1.5.0",
      "model_name": "DescriptionStyleModel",
      "state": {
       "description_width": ""
      }
     },
     "58ff5844414f410eb7ffbfc63b0e5a2c": {
      "model_module": "@jupyter-widgets/base",
      "model_module_version": "1.2.0",
      "model_name": "LayoutModel",
      "state": {
       "align_items": "center",
       "grid_area": "widget006",
       "grid_template_areas": "\"widget001 widget002 . widget003\"\n\"widget004 widget004 widget004 widget004\"\n\"widget005 widget005 widget005 widget005\"",
       "grid_template_columns": "100px 130px auto 80px",
       "grid_template_rows": "60px auto 40px"
      }
     },
     "591cd1b0d80847c3953c85181ad779f5": {
      "model_module": "@jupyter-widgets/controls",
      "model_module_version": "1.5.0",
      "model_name": "GridBoxModel",
      "state": {
       "children": [
        "IPY_MODEL_48b0476401a84934835c0d8de34fc155",
        "IPY_MODEL_b9c798d12c9344c7af93ba7902d441e2",
        "IPY_MODEL_73820b1430ac4dd5ba24ec9bf1382b15",
        "IPY_MODEL_6f9c3a868a254001813b9e888c7e26a9"
       ],
       "layout": "IPY_MODEL_cde37825a1724f21bf2a98900ce01947"
      }
     },
     "5ae40cfe4ce1400fb0c64e7c141b22ba": {
      "model_module": "@jupyter-widgets/base",
      "model_module_version": "1.2.0",
      "model_name": "LayoutModel",
      "state": {
       "grid_area": "widget004"
      }
     },
     "5b3c5a09b4fb4398a29a26b2ea0372a9": {
      "model_module": "@jupyter-widgets/base",
      "model_module_version": "1.2.0",
      "model_name": "LayoutModel",
      "state": {
       "grid_area": "widget004"
      }
     },
     "5c604ab5e4d44a38a405196e2980dac0": {
      "model_module": "@jupyter-widgets/controls",
      "model_module_version": "1.5.0",
      "model_name": "DescriptionStyleModel",
      "state": {
       "description_width": ""
      }
     },
     "5d2a8906221241d58b57004d343a2710": {
      "model_module": "@jupyter-widgets/base",
      "model_module_version": "1.2.0",
      "model_name": "LayoutModel",
      "state": {
       "grid_area": "widget003",
       "width": "60px"
      }
     },
     "5dba6f37ce6f4b099b053ff65e482ecf": {
      "model_module": "@jupyter-widgets/controls",
      "model_module_version": "1.5.0",
      "model_name": "HTMLModel",
      "state": {
       "layout": "IPY_MODEL_bf1c0ba5fdd64fb295b634a078d2aab4",
       "style": "IPY_MODEL_388a762e736f48899579aa43c1f01741",
       "value": "夏普比率&nbsp;&nbsp;&nbsp;&nbsp;&nbsp;&nbsp;&nbsp;<b>0.58</b>"
      }
     },
     "5e9c42c3d5964016b8ea282c731ad852": {
      "model_module": "@jupyter-widgets/controls",
      "model_module_version": "1.5.0",
      "model_name": "GridBoxModel",
      "state": {
       "children": [
        "IPY_MODEL_c92137c4f25e41dca1a7a086e2323288",
        "IPY_MODEL_17d9597c978740929cc568fa06219bd5"
       ],
       "layout": "IPY_MODEL_d31e9cc1834b4322a52b7694ffa2bea0"
      }
     },
     "5e9ebc4611ab4b87a0f0c598e8133e2a": {
      "model_module": "@jupyter-widgets/controls",
      "model_module_version": "1.5.0",
      "model_name": "HTMLModel",
      "state": {
       "layout": "IPY_MODEL_c23bc7262c7e4637a86db75f45bade41",
       "style": "IPY_MODEL_19709ced4a6a4298953707519f76a266",
       "value": "<span style='font-size:30px;color:red'> <b>24.13%</b> </span>"
      }
     },
     "5feba6872079460faed68f146e7b76d8": {
      "model_module": "@jupyter-widgets/base",
      "model_module_version": "1.2.0",
      "model_name": "LayoutModel",
      "state": {
       "grid_area": "widget002"
      }
     },
     "601d6f6e9a574d8e9b31d1079fa45e6e": {
      "model_module": "@jupyter-widgets/base",
      "model_module_version": "1.2.0",
      "model_name": "LayoutModel",
      "state": {
       "grid_area": "widget009"
      }
     },
     "608fd5c17c1d452b87b42dc5e7ad59fd": {
      "model_module": "@jupyter-widgets/base",
      "model_module_version": "1.2.0",
      "model_name": "LayoutModel",
      "state": {
       "grid_area": "widget002"
      }
     },
     "613147b661c8443eb19e6b433e750cb1": {
      "model_module": "@jupyter-widgets/base",
      "model_module_version": "1.2.0",
      "model_name": "LayoutModel",
      "state": {
       "grid_area": "widget001"
      }
     },
     "61dc47a1cbf94a89935afa6d69bbaebe": {
      "model_module": "@jupyter-widgets/base",
      "model_module_version": "1.2.0",
      "model_name": "LayoutModel",
      "state": {
       "grid_area": "widget001"
      }
     },
     "62520aa2396840b0a2865bf8102f1854": {
      "model_module": "@jupyter-widgets/base",
      "model_module_version": "1.2.0",
      "model_name": "LayoutModel",
      "state": {
       "grid_area": "widget002"
      }
     },
     "625e204344fe4cc29cb925cc965320d2": {
      "model_module": "@jupyter-widgets/base",
      "model_module_version": "1.2.0",
      "model_name": "LayoutModel",
      "state": {
       "grid_area": "widget003"
      }
     },
     "627bdd2778674ebba5683d1fe3888f7d": {
      "model_module": "@jupyter-widgets/controls",
      "model_module_version": "1.5.0",
      "model_name": "GridBoxModel",
      "state": {
       "children": [
        "IPY_MODEL_6df0886881d34a9ea34e8a45e999df73",
        "IPY_MODEL_d9d9853f18ea4bf28ac82bffc4deb1c0",
        "IPY_MODEL_fdce3e20b0fd49899b61dcba359dd27c",
        "IPY_MODEL_8f739285346040f3843890482a3f6a91"
       ],
       "layout": "IPY_MODEL_2e8570eaff794452870da2cb1a35fada"
      }
     },
     "62d6719ace294a1c88ece678b141910b": {
      "model_module": "@jupyter-widgets/controls",
      "model_module_version": "1.5.0",
      "model_name": "DescriptionStyleModel",
      "state": {
       "description_width": ""
      }
     },
     "63252eaea7ce4ce2be827f02bc9929f3": {
      "model_module": "@jupyter-widgets/controls",
      "model_module_version": "1.5.0",
      "model_name": "VBoxModel",
      "state": {
       "_dom_classes": [
        "widget-interact"
       ],
       "children": [
        "IPY_MODEL_00584b066f3b47c4856201ab0d2c118b"
       ],
       "layout": "IPY_MODEL_62520aa2396840b0a2865bf8102f1854"
      }
     },
     "63cf63185e1041ac837776eb45a7aae0": {
      "model_module": "@jupyter-widgets/controls",
      "model_module_version": "1.5.0",
      "model_name": "HTMLModel",
      "state": {
       "layout": "IPY_MODEL_a39d5871a687451882ce44ef5a7231a6",
       "style": "IPY_MODEL_530d1bd751c94a36af40b0f4b2fd5c1d",
       "value": "今日收益<span style='color:red'> &nbsp;&nbsp;&nbsp;&nbsp;&nbsp;&nbsp;<b>1.14%</b> </span>"
      }
     },
     "63e19155333843b1ab80e0be8bbe2dcf": {
      "model_module": "@jupyter-widgets/base",
      "model_module_version": "1.2.0",
      "model_name": "LayoutModel",
      "state": {
       "grid_area": "widget001"
      }
     },
     "63e7a13ad66e4740a4941845cfb309db": {
      "model_module": "@jupyter-widgets/controls",
      "model_module_version": "1.5.0",
      "model_name": "GridBoxModel",
      "state": {
       "children": [
        "IPY_MODEL_8a4e9a911cc94931aef35b201e011ea3",
        "IPY_MODEL_d3b1915d11604b5fa076378e0dc7046f",
        "IPY_MODEL_39353f0119b643559cb57663439d5d54",
        "IPY_MODEL_eb137ac63ad6426dbb766f5678e549dd"
       ],
       "layout": "IPY_MODEL_cfdbd2c1d3d54a6884da648c7f457ee7"
      }
     },
     "64559370e7f04f40b512acc785d3f455": {
      "model_module": "@jupyter-widgets/controls",
      "model_module_version": "1.5.0",
      "model_name": "DescriptionStyleModel",
      "state": {
       "description_width": ""
      }
     },
     "64e6d144a15f4ae18ee96d61cb5aa108": {
      "model_module": "@jupyter-widgets/base",
      "model_module_version": "1.2.0",
      "model_name": "LayoutModel",
      "state": {
       "align_items": "center",
       "grid_area": "widget001",
       "grid_template_areas": "\"widget001\"\n\"widget002\"",
       "grid_template_columns": "auto",
       "grid_template_rows": "60px auto"
      }
     },
     "64e9dccbc8c34bcd8cb95d620818152e": {
      "model_module": "@jupyter-widgets/controls",
      "model_module_version": "1.5.0",
      "model_name": "ButtonModel",
      "state": {
       "icon": "angle-right",
       "layout": "IPY_MODEL_ada19dffaeac4c5594e502cfbff1a5ce",
       "style": "IPY_MODEL_e64d116c7f7541918df0c8acf381a6f8",
       "tooltip": "下一页"
      }
     },
     "64f6eb0553dc4438b33d90c5d7381a37": {
      "model_module": "@jupyter-widgets/base",
      "model_module_version": "1.2.0",
      "model_name": "LayoutModel",
      "state": {
       "grid_area": "widget003",
       "width": "60px"
      }
     },
     "6530e190225c49d283e5a11afdd720cf": {
      "model_module": "@jupyter-widgets/base",
      "model_module_version": "1.2.0",
      "model_name": "LayoutModel",
      "state": {
       "grid_area": "widget003"
      }
     },
     "65c7f382aa9e46079b93b90108d49777": {
      "model_module": "@jupyter-widgets/controls",
      "model_module_version": "1.5.0",
      "model_name": "DescriptionStyleModel",
      "state": {
       "description_width": ""
      }
     },
     "6678e53805334dacaf32c24c077ca089": {
      "model_module": "@jupyter-widgets/controls",
      "model_module_version": "1.5.0",
      "model_name": "DescriptionStyleModel",
      "state": {
       "description_width": ""
      }
     },
     "668057e3e8f14302ac9a678529e43afc": {
      "model_module": "@jupyter-widgets/controls",
      "model_module_version": "1.5.0",
      "model_name": "DescriptionStyleModel",
      "state": {
       "description_width": ""
      }
     },
     "6698a2e56ea3419a8e6890aa3afb2383": {
      "model_module": "@jupyter-widgets/controls",
      "model_module_version": "1.5.0",
      "model_name": "DescriptionStyleModel",
      "state": {
       "description_width": ""
      }
     },
     "66ad827554304841a7729d1ffbe7556d": {
      "model_module": "@jupyter-widgets/base",
      "model_module_version": "1.2.0",
      "model_name": "LayoutModel",
      "state": {
       "align_items": "center",
       "grid_area": "widget004",
       "grid_template_areas": "\"widget001\"\n\"widget002\"",
       "grid_template_columns": "auto",
       "grid_template_rows": "60px auto"
      }
     },
     "67200f942bd74323a201a179297805cd": {
      "model_module": "@jupyter-widgets/controls",
      "model_module_version": "1.5.0",
      "model_name": "DescriptionStyleModel",
      "state": {
       "description_width": ""
      }
     },
     "675ee7a229cc4dd8896a0b6cec252f87": {
      "model_module": "@jupyter-widgets/base",
      "model_module_version": "1.2.0",
      "model_name": "LayoutModel",
      "state": {
       "align_items": "center",
       "grid_area": "widget002",
       "grid_template_areas": "\"widget001 widget003 widget005 widget008\"\n\"widget001 widget003 widget006 widget009\"\n\"widget002 widget004 widget007 widget010\"",
       "grid_template_columns": "auto auto auto auto",
       "grid_template_rows": "auto auto auto",
       "justify_items": "center"
      }
     },
     "6b58248eb1cc4664b86e9e18f34e5464": {
      "model_module": "@jupyter-widgets/controls",
      "model_module_version": "1.5.0",
      "model_name": "HTMLModel",
      "state": {
       "layout": "IPY_MODEL_1b3017d21f3b4ce8bebe8138942da816",
       "style": "IPY_MODEL_f29c4262930d4a2a98b8b6bce09dafc9",
       "value": "/112页"
      }
     },
     "6b9bbda0d32b450387e3ef1ed6239852": {
      "model_module": "@jupyter-widgets/base",
      "model_module_version": "1.2.0",
      "model_name": "LayoutModel",
      "state": {
       "grid_area": "widget003",
       "width": "60px"
      }
     },
     "6c2aa92f1f50495a8ebca84670c4070d": {
      "model_module": "@jupyter-widgets/controls",
      "model_module_version": "1.5.0",
      "model_name": "GridBoxModel",
      "state": {
       "children": [
        "IPY_MODEL_49b5bf3122ea4454b557212d84b2c399",
        "IPY_MODEL_1c9c2cf413cc44bfbc7c4808909647e1"
       ],
       "layout": "IPY_MODEL_c0a2be761dc24c3a886aefee89e68399"
      }
     },
     "6d1dc91811954cc0914ecda86b29199a": {
      "model_module": "@jupyter-widgets/controls",
      "model_module_version": "1.5.0",
      "model_name": "HTMLModel",
      "state": {
       "layout": "IPY_MODEL_3a8ad9e3c8394a09be4f38d108927b03",
       "style": "IPY_MODEL_92826cba9987492385a2ed08c755b86f",
       "value": "<span style='font-size:30px;color:red'> <b>30.01%</b> </span>"
      }
     },
     "6d3f03921bc74b6d841417db8fbd6243": {
      "model_module": "@jupyter-widgets/controls",
      "model_module_version": "1.5.0",
      "model_name": "BoundedIntTextModel",
      "state": {
       "layout": "IPY_MODEL_1af57ea9733c467180b552c14fa168e7",
       "max": 112,
       "min": 1,
       "style": "IPY_MODEL_0d8c6e31b4324e428a64f11fa2314cda",
       "value": 1
      }
     },
     "6df0886881d34a9ea34e8a45e999df73": {
      "model_module": "@jupyter-widgets/controls",
      "model_module_version": "1.5.0",
      "model_name": "HTMLModel",
      "state": {
       "layout": "IPY_MODEL_ecca199b453347cd953021b06d08f798",
       "style": "IPY_MODEL_0146181f11794c88ae4bb0a8c222e1ce",
       "value": "<span style='font-size:20px;'> <b>计划交易</b> </span>"
      }
     },
     "6e541dcb1ca9486ea2473b1f331c89d7": {
      "model_module": "@jupyter-widgets/base",
      "model_module_version": "1.2.0",
      "model_name": "LayoutModel",
      "state": {
       "grid_area": "widget004"
      }
     },
     "6e957acebcb4405c939fda2ad2a4885d": {
      "model_module": "@jupyter-widgets/controls",
      "model_module_version": "1.5.0",
      "model_name": "DescriptionStyleModel",
      "state": {
       "description_width": ""
      }
     },
     "6ed1a43c7f8842618e221207115ae37b": {
      "model_module": "@jupyter-widgets/base",
      "model_module_version": "1.2.0",
      "model_name": "LayoutModel",
      "state": {
       "grid_area": "widget002",
       "width": "30px"
      }
     },
     "6f68e2a5c02b49c98866821c7cf64f70": {
      "model_module": "@jupyter-widgets/controls",
      "model_module_version": "1.5.0",
      "model_name": "BoundedIntTextModel",
      "state": {
       "layout": "IPY_MODEL_5d2a8906221241d58b57004d343a2710",
       "max": 1,
       "min": 1,
       "style": "IPY_MODEL_c36d3925cdca45c39a0b118820c18518",
       "value": 1
      }
     },
     "6f9c3a868a254001813b9e888c7e26a9": {
      "model_module": "@jupyter-widgets/controls",
      "model_module_version": "1.5.0",
      "model_name": "ButtonModel",
      "state": {
       "icon": "angle-right",
       "layout": "IPY_MODEL_fe877aaf6f7e4d81b1d86f547b121e0b",
       "style": "IPY_MODEL_332163696e0c42e5bfd09970b7fbbbd1",
       "tooltip": "下一页"
      }
     },
     "6f9cb8da79d74e6c940c0021292afa52": {
      "model_module": "@jupyter-widgets/base",
      "model_module_version": "1.2.0",
      "model_name": "LayoutModel",
      "state": {
       "grid_area": "widget002",
       "width": "30px"
      }
     },
     "7071f127bada4f38a5ea4e584eb625bf": {
      "model_module": "@jupyter-widgets/controls",
      "model_module_version": "1.5.0",
      "model_name": "DescriptionStyleModel",
      "state": {
       "description_width": ""
      }
     },
     "71844bae467c4337801a59c0b4532d08": {
      "model_module": "@jupyter-widgets/controls",
      "model_module_version": "1.5.0",
      "model_name": "DescriptionStyleModel",
      "state": {
       "description_width": ""
      }
     },
     "71e930a97e134a479360fb5d69612490": {
      "model_module": "@jupyter-widgets/base",
      "model_module_version": "1.2.0",
      "model_name": "LayoutModel",
      "state": {
       "grid_area": "widget002"
      }
     },
     "72167a2d5c734dee88bfe68221944da6": {
      "model_module": "@jupyter-widgets/controls",
      "model_module_version": "1.5.0",
      "model_name": "GridBoxModel",
      "state": {
       "children": [
        "IPY_MODEL_ec5af206865d4e94a2b91d176c9c917d",
        "IPY_MODEL_c3eb13a26c8844d3bb12142949e04f64"
       ],
       "layout": "IPY_MODEL_35817b31654b4c8db95efdabd68dc062"
      }
     },
     "730eec0c33844775becefd5188cac88c": {
      "model_module": "@jupyter-widgets/controls",
      "model_module_version": "1.5.0",
      "model_name": "ButtonModel",
      "state": {
       "icon": "angle-right",
       "layout": "IPY_MODEL_da5dfbe88ddd4f68b0d031d49b86f6ce",
       "style": "IPY_MODEL_e8882a16785e44d9a8f04fd062fc42bf",
       "tooltip": "下一页"
      }
     },
     "73820b1430ac4dd5ba24ec9bf1382b15": {
      "model_module": "@jupyter-widgets/controls",
      "model_module_version": "1.5.0",
      "model_name": "BoundedIntTextModel",
      "state": {
       "layout": "IPY_MODEL_d5b964270da44d3caa2a74fb9fcca920",
       "max": 1,
       "min": 1,
       "style": "IPY_MODEL_65c7f382aa9e46079b93b90108d49777",
       "value": 1
      }
     },
     "738835c366d1469d823357e785f2805d": {
      "model_module": "@jupyter-widgets/base",
      "model_module_version": "1.2.0",
      "model_name": "LayoutModel",
      "state": {}
     },
     "7397f5bc19ee4d4d8c0eed09002c6fb7": {
      "model_module": "@jupyter-widgets/controls",
      "model_module_version": "1.5.0",
      "model_name": "HTMLModel",
      "state": {
       "layout": "IPY_MODEL_c1c2013434594981bb2eb4e8b50914e0",
       "style": "IPY_MODEL_1a7f3d33c9df430a876bd0416e35c61e",
       "value": "<span style='font-size:20px;'> <b>计划交易</b> </span>"
      }
     },
     "73a99712d61a4466bffec984fde51dd0": {
      "model_module": "@jupyter-widgets/controls",
      "model_module_version": "1.5.0",
      "model_name": "DescriptionStyleModel",
      "state": {
       "description_width": ""
      }
     },
     "73e770c9c90b490c880e6d655e336c61": {
      "model_module": "@jupyter-widgets/base",
      "model_module_version": "1.2.0",
      "model_name": "LayoutModel",
      "state": {
       "grid_area": "widget008"
      }
     },
     "73ec6621519e49a7a82d12d2180c4e26": {
      "model_module": "@jupyter-widgets/base",
      "model_module_version": "1.2.0",
      "model_name": "LayoutModel",
      "state": {
       "grid_area": "widget005",
       "grid_template_areas": "\". widget002 widget003 widget001 widget004\"",
       "grid_template_columns": "auto 40px 70px 60px 40px",
       "grid_template_rows": "40px"
      }
     },
     "73f107d702d84e12ace2d1bbed39702f": {
      "model_module": "@jupyter-widgets/base",
      "model_module_version": "1.2.0",
      "model_name": "LayoutModel",
      "state": {}
     },
     "74d300e4acad46a9a99d963d6eba70c1": {
      "model_module": "@jupyter-widgets/base",
      "model_module_version": "1.2.0",
      "model_name": "LayoutModel",
      "state": {
       "grid_area": "widget002"
      }
     },
     "74dc322172354e2dac967c7fa6a06775": {
      "model_module": "@jupyter-widgets/base",
      "model_module_version": "1.2.0",
      "model_name": "LayoutModel",
      "state": {
       "grid_area": "widget004"
      }
     },
     "7506a29f14b84174a1823f21683186b6": {
      "model_module": "@jupyter-widgets/controls",
      "model_module_version": "1.5.0",
      "model_name": "ButtonModel",
      "state": {
       "icon": "angle-left",
       "layout": "IPY_MODEL_006efd2bc8d84914b5908d795b23c698",
       "style": "IPY_MODEL_19a6be7858fa4de9a1e24afb3a08df8e",
       "tooltip": "上一页"
      }
     },
     "7517e651d79541c8aff91adef5630447": {
      "model_module": "@jupyter-widgets/controls",
      "model_module_version": "1.5.0",
      "model_name": "HTMLModel",
      "state": {
       "layout": "IPY_MODEL_059c1877c8e54c63a90f83d398f66d13",
       "style": "IPY_MODEL_2c0704cf04674028b75e7c1be68cbdd0",
       "value": "<span style='font-size:20px;'> <b>持仓详情</b> </span>"
      }
     },
     "7560e9166f974dce968cd1d0e99c54db": {
      "model_module": "@jupyter-widgets/controls",
      "model_module_version": "1.5.0",
      "model_name": "ButtonModel",
      "state": {
       "icon": "angle-right",
       "layout": "IPY_MODEL_365ee50733c94272b297d3fd089754a6",
       "style": "IPY_MODEL_0f6f3d2f5cf448a697276d45d70660c1",
       "tooltip": "下一页"
      }
     },
     "76a3ae39a0e94ab9b57eb4074e600f1d": {
      "model_module": "@jupyter-widgets/base",
      "model_module_version": "1.2.0",
      "model_name": "LayoutModel",
      "state": {
       "grid_area": "widget005",
       "grid_template_areas": "\". widget002 widget003 widget001 widget004\"",
       "grid_template_columns": "auto 40px 70px 60px 40px",
       "grid_template_rows": "40px"
      }
     },
     "76abb64245174992bed808159a507c70": {
      "model_module": "@jupyter-widgets/base",
      "model_module_version": "1.2.0",
      "model_name": "LayoutModel",
      "state": {
       "align_items": "center",
       "grid_area": "widget004",
       "grid_template_areas": "\"widget001\"\n\"widget002\"",
       "grid_template_columns": "auto",
       "grid_template_rows": "60px auto"
      }
     },
     "76c17a5679a04960920f6ad79aaa28b2": {
      "model_module": "@jupyter-widgets/controls",
      "model_module_version": "1.5.0",
      "model_name": "ButtonModel",
      "state": {
       "description": "下载",
       "icon": "download",
       "layout": "IPY_MODEL_c879a01aecc04bf7b1293a70b2187260",
       "style": "IPY_MODEL_c36ecf6c84eb404dadf25a692f7f5de2",
       "tooltip": "下载交易详情表格"
      }
     },
     "77e1587e436443c59a36a3a71b142e3d": {
      "model_module": "@jupyter-widgets/controls",
      "model_module_version": "1.5.0",
      "model_name": "HTMLModel",
      "state": {
       "layout": "IPY_MODEL_2e873ead31ac47d785494108dbd2f7cb",
       "style": "IPY_MODEL_5592373f0ac84688adca1f0dbe177d9d",
       "value": "初始资金&nbsp;&nbsp;&nbsp;&nbsp;&nbsp;&nbsp;<b>200000000</b>"
      }
     },
     "796ff8c01e544f7bbdaee3e05bb5f5b2": {
      "model_module": "@jupyter-widgets/controls",
      "model_module_version": "1.5.0",
      "model_name": "GridBoxModel",
      "state": {
       "children": [
        "IPY_MODEL_faaa92239034427f9ff698130aba1a5f",
        "IPY_MODEL_bd69f171e0a043baa525366b7c97f033",
        "IPY_MODEL_a712dd373bd54fa2a59199bf444dfe6c",
        "IPY_MODEL_874c5b84642b40c98436dd58d2fb0e60",
        "IPY_MODEL_9ee73a96c7574085b2c29008a8540a3f",
        "IPY_MODEL_fe78397460cb4db0a7ef6e3cc5351971",
        "IPY_MODEL_585c6fff972a4748acd68923f3085f2a",
        "IPY_MODEL_452d089a760243f68c0aebeb90668ae3",
        "IPY_MODEL_e2754ec1951c4a49adc0c3038f289c14",
        "IPY_MODEL_aa22dc4fa310408ba97092b1d457fa4f"
       ],
       "layout": "IPY_MODEL_675ee7a229cc4dd8896a0b6cec252f87"
      }
     },
     "7a892e630017417ba7ea8a324a53bb68": {
      "model_module": "@jupyter-widgets/controls",
      "model_module_version": "1.5.0",
      "model_name": "HTMLModel",
      "state": {
       "layout": "IPY_MODEL_d0c05a697d9a43248af98f4121ef556c",
       "style": "IPY_MODEL_3d2e60c5c0014b06a659252f3ad206b0",
       "value": "今日收益<span style='color:red'> &nbsp;&nbsp;&nbsp;&nbsp;&nbsp;&nbsp;<b>1.14%</b> </span>"
      }
     },
     "7a949b98d8db48b2b22b578437057982": {
      "model_module": "@jupyter-widgets/base",
      "model_module_version": "1.2.0",
      "model_name": "LayoutModel",
      "state": {
       "align_items": "center",
       "grid_area": "widget004",
       "grid_template_areas": "\"widget001\"\n\"widget002\"",
       "grid_template_columns": "auto",
       "grid_template_rows": "60px auto"
      }
     },
     "7ada25cfb32c4226a0909c6e8f9b2e3c": {
      "model_module": "@jupyter-widgets/controls",
      "model_module_version": "1.5.0",
      "model_name": "HTMLModel",
      "state": {
       "layout": "IPY_MODEL_e41713c1342c4ae89685db710ccfbb64",
       "style": "IPY_MODEL_668057e3e8f14302ac9a678529e43afc",
       "value": "<span style='font-size:20px;'> <b>计划交易</b> </span>"
      }
     },
     "7b698d4c146b4440998817c10b4a8114": {
      "model_module": "@jupyter-widgets/controls",
      "model_module_version": "1.5.0",
      "model_name": "GridBoxModel",
      "state": {
       "children": [
        "IPY_MODEL_0028a06c6ab547c0a1b73ac51d8333b4",
        "IPY_MODEL_90fb042bebb140f097b45cc297e0ce83"
       ],
       "layout": "IPY_MODEL_76abb64245174992bed808159a507c70"
      }
     },
     "7b6b7b4ff9034c308a3e978e0fee92b4": {
      "model_module": "@jupyter-widgets/output",
      "model_module_version": "1.0.0",
      "model_name": "OutputModel",
      "state": {
       "layout": "IPY_MODEL_500cdd41f227438a8c634d58d3bc4fd8"
      }
     },
     "7bf8e0c7579a423db7231ff47d454334": {
      "model_module": "@jupyter-widgets/base",
      "model_module_version": "1.2.0",
      "model_name": "LayoutModel",
      "state": {
       "grid_area": "widget002",
       "width": "30px"
      }
     },
     "7c358ea241754a2cb0e2c7def51a97fe": {
      "model_module": "@jupyter-widgets/controls",
      "model_module_version": "1.5.0",
      "model_name": "HTMLModel",
      "state": {
       "layout": "IPY_MODEL_bea9e289ebee47179df33da230e8930a",
       "style": "IPY_MODEL_410ac68b143e4e34b24c929f27e1eed7",
       "value": "<span style='font-size:20px;'> <b>持仓详情</b> </span>"
      }
     },
     "7c74e1a359364d0e81604ad2a63590e3": {
      "model_module": "@jupyter-widgets/output",
      "model_module_version": "1.0.0",
      "model_name": "OutputModel",
      "state": {
       "layout": "IPY_MODEL_84af47392b634af29ec3a3f0ec6374fe"
      }
     },
     "7e0c21b70e02426aa05ed1b81b186a15": {
      "model_module": "@jupyter-widgets/controls",
      "model_module_version": "1.5.0",
      "model_name": "GridBoxModel",
      "state": {
       "children": [
        "IPY_MODEL_c74888145bd64409b9e5b6865e10229e",
        "IPY_MODEL_307413c4f6d145b3bd8694a2d1f6654b"
       ],
       "layout": "IPY_MODEL_4a2b7b0a462e4014a878b2b8d32cfe88"
      }
     },
     "7e7a3133864443bc992a48a5737e3b93": {
      "model_module": "@jupyter-widgets/controls",
      "model_module_version": "1.5.0",
      "model_name": "ButtonStyleModel",
      "state": {}
     },
     "7f20e843180040b6896df60244f8adcf": {
      "model_module": "@jupyter-widgets/controls",
      "model_module_version": "1.5.0",
      "model_name": "ButtonStyleModel",
      "state": {}
     },
     "7f2792ff6dc54fa6936707035147712e": {
      "model_module": "@jupyter-widgets/base",
      "model_module_version": "1.2.0",
      "model_name": "LayoutModel",
      "state": {
       "grid_area": "widget004",
       "width": "30px"
      }
     },
     "7f83d5d6d64f4741b0e3ba19103ae91a": {
      "model_module": "@jupyter-widgets/controls",
      "model_module_version": "1.5.0",
      "model_name": "DescriptionStyleModel",
      "state": {
       "description_width": ""
      }
     },
     "800c90db2db747d1a4ca8b38c14444b6": {
      "model_module": "@jupyter-widgets/base",
      "model_module_version": "1.2.0",
      "model_name": "LayoutModel",
      "state": {
       "grid_area": "widget002",
       "width": "125px"
      }
     },
     "80af722617ff49e2990611e86406fb49": {
      "model_module": "@jupyter-widgets/controls",
      "model_module_version": "1.5.0",
      "model_name": "DescriptionStyleModel",
      "state": {
       "description_width": ""
      }
     },
     "80b5ad1e032947ba9b023cd039fbad5e": {
      "model_module": "@jupyter-widgets/base",
      "model_module_version": "1.2.0",
      "model_name": "LayoutModel",
      "state": {
       "grid_area": "widget002",
       "width": "125px"
      }
     },
     "81c40e5a738948348ed2ce03fc55ae0e": {
      "model_module": "@jupyter-widgets/base",
      "model_module_version": "1.2.0",
      "model_name": "LayoutModel",
      "state": {}
     },
     "820f328942e04878a328076f94c6a438": {
      "model_module": "@jupyter-widgets/controls",
      "model_module_version": "1.5.0",
      "model_name": "ButtonStyleModel",
      "state": {}
     },
     "831070dfa3ed420ab1f35efbfd960b1c": {
      "model_module": "@jupyter-widgets/controls",
      "model_module_version": "1.5.0",
      "model_name": "DescriptionStyleModel",
      "state": {
       "description_width": ""
      }
     },
     "83d3bc1fad3d4d059133c6354fcc6d8a": {
      "model_module": "@jupyter-widgets/controls",
      "model_module_version": "1.5.0",
      "model_name": "DescriptionStyleModel",
      "state": {
       "description_width": ""
      }
     },
     "84af47392b634af29ec3a3f0ec6374fe": {
      "model_module": "@jupyter-widgets/base",
      "model_module_version": "1.2.0",
      "model_name": "LayoutModel",
      "state": {}
     },
     "84b9c2d71c2a4de490b4e09d324ba2fb": {
      "model_module": "@jupyter-widgets/base",
      "model_module_version": "1.2.0",
      "model_name": "LayoutModel",
      "state": {
       "grid_area": "widget002",
       "width": "125px"
      }
     },
     "858b04b9dcea4a3b948ee5a5a1465f3b": {
      "model_module": "@jupyter-widgets/base",
      "model_module_version": "1.2.0",
      "model_name": "LayoutModel",
      "state": {
       "grid_area": "widget004"
      }
     },
     "85911592392446669bfbbcfcea179cd6": {
      "model_module": "@jupyter-widgets/output",
      "model_module_version": "1.0.0",
      "model_name": "OutputModel",
      "state": {
       "layout": "IPY_MODEL_9d400503791048f5a31fde6126108109",
       "outputs": [
        {
         "data": {
          "text/html": "<style  type=\"text/css\" >\n#T_7b6e5_row0_col0,#T_7b6e5_row0_col3,#T_7b6e5_row0_col4,#T_7b6e5_row0_col5,#T_7b6e5_row1_col0,#T_7b6e5_row1_col3,#T_7b6e5_row1_col4,#T_7b6e5_row1_col5{\n            width:  500px;\n        }#T_7b6e5_row0_col1,#T_7b6e5_row0_col2,#T_7b6e5_row0_col6,#T_7b6e5_row0_col7,#T_7b6e5_row0_col8,#T_7b6e5_row0_col9,#T_7b6e5_row0_col11,#T_7b6e5_row1_col6,#T_7b6e5_row1_col7,#T_7b6e5_row1_col8{\n            color:  red;\n            width:  500px;\n        }#T_7b6e5_row0_col10,#T_7b6e5_row1_col1,#T_7b6e5_row1_col2,#T_7b6e5_row1_col9,#T_7b6e5_row1_col10,#T_7b6e5_row1_col11{\n            color:  green;\n            width:  500px;\n        }</style><table id=\"T_7b6e5_\" ><thead>    <tr>        <th class=\"col_heading level0 col0\" >策略</th>        <th class=\"col_heading level0 col1\" >累计收益率</th>        <th class=\"col_heading level0 col2\" >年化收益率</th>        <th class=\"col_heading level0 col3\" >最大回撤</th>        <th class=\"col_heading level0 col4\" >胜率</th>        <th class=\"col_heading level0 col5\" >夏普比率</th>        <th class=\"col_heading level0 col6\" >今日收益率</th>        <th class=\"col_heading level0 col7\" >近一周收益率</th>        <th class=\"col_heading level0 col8\" >近一月收益率</th>        <th class=\"col_heading level0 col9\" >近三月收益率</th>        <th class=\"col_heading level0 col10\" >近半年收益率</th>        <th class=\"col_heading level0 col11\" >近一年收益率</th>    </tr></thead><tbody>\n                <tr>\n                                <td id=\"T_7b6e5_row0_col0\" class=\"data row0 col0\" >本策略</td>\n                        <td id=\"T_7b6e5_row0_col1\" class=\"data row0 col1\" >24.13%</td>\n                        <td id=\"T_7b6e5_row0_col2\" class=\"data row0 col2\" >17.50%</td>\n                        <td id=\"T_7b6e5_row0_col3\" class=\"data row0 col3\" >29.72%</td>\n                        <td id=\"T_7b6e5_row0_col4\" class=\"data row0 col4\" >54.33%</td>\n                        <td id=\"T_7b6e5_row0_col5\" class=\"data row0 col5\" >0.58</td>\n                        <td id=\"T_7b6e5_row0_col6\" class=\"data row0 col6\" >1.14%</td>\n                        <td id=\"T_7b6e5_row0_col7\" class=\"data row0 col7\" >4.88%</td>\n                        <td id=\"T_7b6e5_row0_col8\" class=\"data row0 col8\" >24.20%</td>\n                        <td id=\"T_7b6e5_row0_col9\" class=\"data row0 col9\" >0.53%</td>\n                        <td id=\"T_7b6e5_row0_col10\" class=\"data row0 col10\" >-4.22%</td>\n                        <td id=\"T_7b6e5_row0_col11\" class=\"data row0 col11\" >22.71%</td>\n            </tr>\n            <tr>\n                                <td id=\"T_7b6e5_row1_col0\" class=\"data row1 col0\" >000905.SH</td>\n                        <td id=\"T_7b6e5_row1_col1\" class=\"data row1 col1\" >-5.89%</td>\n                        <td id=\"T_7b6e5_row1_col2\" class=\"data row1 col2\" >-4.43%</td>\n                        <td id=\"T_7b6e5_row1_col3\" class=\"data row1 col3\" >31.57%</td>\n                        <td id=\"T_7b6e5_row1_col4\" class=\"data row1 col4\" >-</td>\n                        <td id=\"T_7b6e5_row1_col5\" class=\"data row1 col5\" >-0.38</td>\n                        <td id=\"T_7b6e5_row1_col6\" class=\"data row1 col6\" >1.40%</td>\n                        <td id=\"T_7b6e5_row1_col7\" class=\"data row1 col7\" >4.80%</td>\n                        <td id=\"T_7b6e5_row1_col8\" class=\"data row1 col8\" >14.41%</td>\n                        <td id=\"T_7b6e5_row1_col9\" class=\"data row1 col9\" >-10.37%</td>\n                        <td id=\"T_7b6e5_row1_col10\" class=\"data row1 col10\" >-15.87%</td>\n                        <td id=\"T_7b6e5_row1_col11\" class=\"data row1 col11\" >-6.69%</td>\n            </tr>\n    </tbody></table>",
          "text/plain": "<pandas.io.formats.style.Styler at 0x7f39d4f7d7c0>"
         },
         "metadata": {},
         "output_type": "display_data"
        }
       ]
      }
     },
     "859dd49c25984fe9b5fa2a603bd21245": {
      "model_module": "@jupyter-widgets/output",
      "model_module_version": "1.0.0",
      "model_name": "OutputModel",
      "state": {
       "layout": "IPY_MODEL_74dc322172354e2dac967c7fa6a06775"
      }
     },
     "8630dc8f8e7f4e70a44aa2febe7dd104": {
      "model_module": "@jupyter-widgets/base",
      "model_module_version": "1.2.0",
      "model_name": "LayoutModel",
      "state": {
       "align_items": "center",
       "grid_area": "widget006",
       "grid_template_areas": "\"widget001 widget002 . widget003\"\n\"widget004 widget004 widget004 widget004\"\n\"widget005 widget005 widget005 widget005\"",
       "grid_template_columns": "100px 130px auto 80px",
       "grid_template_rows": "60px auto 40px"
      }
     },
     "86d1594433624fc3a2a5f0441d25414a": {
      "model_module": "@jupyter-widgets/controls",
      "model_module_version": "1.5.0",
      "model_name": "DescriptionStyleModel",
      "state": {
       "description_width": ""
      }
     },
     "8722fdcc019049a58dda35c91fbd64ac": {
      "model_module": "@jupyter-widgets/base",
      "model_module_version": "1.2.0",
      "model_name": "LayoutModel",
      "state": {
       "grid_area": "widget002"
      }
     },
     "874c5b84642b40c98436dd58d2fb0e60": {
      "model_module": "@jupyter-widgets/controls",
      "model_module_version": "1.5.0",
      "model_name": "HTMLModel",
      "state": {
       "layout": "IPY_MODEL_5b3c5a09b4fb4398a29a26b2ea0372a9",
       "style": "IPY_MODEL_a9cf9c669c714a4db0404c528996f199",
       "value": "超额累计收益"
      }
     },
     "885d5796e98247cab2eb1552b7229df5": {
      "model_module": "@jupyter-widgets/base",
      "model_module_version": "1.2.0",
      "model_name": "LayoutModel",
      "state": {
       "grid_area": "widget008"
      }
     },
     "899f7270953e422d97b2765724a100ea": {
      "model_module": "@jupyter-widgets/base",
      "model_module_version": "1.2.0",
      "model_name": "LayoutModel",
      "state": {
       "grid_area": "widget006"
      }
     },
     "8a4e9a911cc94931aef35b201e011ea3": {
      "model_module": "@jupyter-widgets/controls",
      "model_module_version": "1.5.0",
      "model_name": "HTMLModel",
      "state": {
       "layout": "IPY_MODEL_1d8520ffb0364300835626105a6c92b3",
       "style": "IPY_MODEL_c1b41f664ec147b8be3c1b3cccfc0014",
       "value": "/836页"
      }
     },
     "8a65961729af4f94a00e05d1ec7c35b0": {
      "model_module": "@jupyter-widgets/base",
      "model_module_version": "1.2.0",
      "model_name": "LayoutModel",
      "state": {
       "grid_area": "widget001"
      }
     },
     "8a9edc5db1dd4374a66ae9152078c5b2": {
      "model_module": "@jupyter-widgets/base",
      "model_module_version": "1.2.0",
      "model_name": "LayoutModel",
      "state": {
       "grid_area": "widget003",
       "width": "70px"
      }
     },
     "8ad453306dd54309b8b25ac93983be77": {
      "model_module": "@jupyter-widgets/base",
      "model_module_version": "1.2.0",
      "model_name": "LayoutModel",
      "state": {
       "align_items": "center",
       "grid_area": "widget006",
       "grid_template_areas": "\"widget001 widget002 . widget003\"\n\"widget004 widget004 widget004 widget004\"\n\"widget005 widget005 widget005 widget005\"",
       "grid_template_columns": "100px 130px auto 80px",
       "grid_template_rows": "60px auto 40px"
      }
     },
     "8b995fda307743df862dc1a378b92fd3": {
      "model_module": "@jupyter-widgets/base",
      "model_module_version": "1.2.0",
      "model_name": "LayoutModel",
      "state": {
       "grid_area": "widget003",
       "width": "60px"
      }
     },
     "8dec07b15dd14c4fa331c279db31d3fc": {
      "model_module": "@jupyter-widgets/controls",
      "model_module_version": "1.5.0",
      "model_name": "DescriptionStyleModel",
      "state": {
       "description_width": ""
      }
     },
     "8e8a26d16c4c4a129faa6e457c8bbca7": {
      "model_module": "@jupyter-widgets/base",
      "model_module_version": "1.2.0",
      "model_name": "LayoutModel",
      "state": {
       "grid_area": "widget001"
      }
     },
     "8f00e5b16ed942d5b1ad84374f13a1ba": {
      "model_module": "@jupyter-widgets/base",
      "model_module_version": "1.2.0",
      "model_name": "LayoutModel",
      "state": {
       "grid_area": "widget003"
      }
     },
     "8f265c6754b949d4ae388bad667742ab": {
      "model_module": "@jupyter-widgets/controls",
      "model_module_version": "1.5.0",
      "model_name": "DescriptionStyleModel",
      "state": {
       "description_width": ""
      }
     },
     "8f4877a3eef2413e9d93c18b0b79ba4b": {
      "model_module": "@jupyter-widgets/base",
      "model_module_version": "1.2.0",
      "model_name": "LayoutModel",
      "state": {}
     },
     "8f669b6b3f6e459f8ee38012ab46ce82": {
      "model_module": "@jupyter-widgets/controls",
      "model_module_version": "1.5.0",
      "model_name": "DescriptionStyleModel",
      "state": {
       "description_width": ""
      }
     },
     "8f739285346040f3843890482a3f6a91": {
      "model_module": "@jupyter-widgets/controls",
      "model_module_version": "1.5.0",
      "model_name": "GridBoxModel",
      "state": {
       "children": [
        "IPY_MODEL_adc55c4c1f10419dbf803ec3fcc1ebc0",
        "IPY_MODEL_d3e7f659686547a98a455586050e51b8",
        "IPY_MODEL_6f68e2a5c02b49c98866821c7cf64f70",
        "IPY_MODEL_c10ee0b63d55496cafc75a712a95ca82"
       ],
       "layout": "IPY_MODEL_a9b9bbb81bd6460a8ffe8c9d334446cf"
      }
     },
     "8f8616935dba46af815e212fd72c5f07": {
      "model_module": "@jupyter-widgets/controls",
      "model_module_version": "1.5.0",
      "model_name": "HTMLModel",
      "state": {
       "layout": "IPY_MODEL_2f9b85b85f0445bf98f260253446d432",
       "style": "IPY_MODEL_bf453c7b47554a3fa69605fb4b4f5126",
       "value": "<span style='font-size:20px;'> <b>持仓详情</b> </span>"
      }
     },
     "8fe3fe1b51e342a4a403ce18536634a7": {
      "model_module": "@jupyter-widgets/base",
      "model_module_version": "1.2.0",
      "model_name": "LayoutModel",
      "state": {
       "grid_area": "widget010"
      }
     },
     "902ce4263d31467bbd0ac4ada77fe2a2": {
      "model_module": "@jupyter-widgets/controls",
      "model_module_version": "1.5.0",
      "model_name": "ButtonStyleModel",
      "state": {}
     },
     "904dadea589e48f08aec842b9196821a": {
      "model_module": "@jupyter-widgets/controls",
      "model_module_version": "1.5.0",
      "model_name": "DatePickerModel",
      "state": {
       "disabled": false,
       "layout": "IPY_MODEL_800c90db2db747d1a4ca8b38c14444b6",
       "style": "IPY_MODEL_80af722617ff49e2990611e86406fb49"
      }
     },
     "9055278b235448d7838441af960fecc2": {
      "model_module": "@jupyter-widgets/base",
      "model_module_version": "1.2.0",
      "model_name": "LayoutModel",
      "state": {
       "grid_area": "widget004"
      }
     },
     "90fb042bebb140f097b45cc297e0ce83": {
      "model_module": "@jupyter-widgets/controls",
      "model_module_version": "1.5.0",
      "model_name": "VBoxModel",
      "state": {
       "_dom_classes": [
        "widget-interact"
       ],
       "children": [
        "IPY_MODEL_439cbfd1979f4f3289ed42467a99d16a"
       ],
       "layout": "IPY_MODEL_5438fe657fd94e0aad398a0411a01eb8"
      }
     },
     "910b34c29ff348a988379081d788b181": {
      "model_module": "@jupyter-widgets/controls",
      "model_module_version": "1.5.0",
      "model_name": "HTMLModel",
      "state": {
       "layout": "IPY_MODEL_579ac4d9aeca4344bc5353b3aa463718",
       "style": "IPY_MODEL_831070dfa3ed420ab1f35efbfd960b1c",
       "value": "<span style='font-size:20px;'> <b>风格偏好</b> </span>"
      }
     },
     "9174427223d746caaf2d5e072a4d90a0": {
      "model_module": "@jupyter-widgets/controls",
      "model_module_version": "1.5.0",
      "model_name": "HTMLModel",
      "state": {
       "layout": "IPY_MODEL_8fe3fe1b51e342a4a403ce18536634a7",
       "style": "IPY_MODEL_4ae3711a4436489e8cae125d0bb3efdc",
       "value": "开始时间&nbsp;&nbsp;&nbsp;&nbsp;&nbsp;&nbsp;<b>20210108</b>"
      }
     },
     "92826cba9987492385a2ed08c755b86f": {
      "model_module": "@jupyter-widgets/controls",
      "model_module_version": "1.5.0",
      "model_name": "DescriptionStyleModel",
      "state": {
       "description_width": ""
      }
     },
     "92e39a3f1b08451f82501c858b223a80": {
      "model_module": "@jupyter-widgets/controls",
      "model_module_version": "1.5.0",
      "model_name": "DescriptionStyleModel",
      "state": {
       "description_width": ""
      }
     },
     "93e81714d7a4412e95016f325c1ece8b": {
      "model_module": "@jupyter-widgets/controls",
      "model_module_version": "1.5.0",
      "model_name": "DescriptionStyleModel",
      "state": {
       "description_width": ""
      }
     },
     "943a0f8478004b888042cd1a9f4a01f6": {
      "model_module": "@jupyter-widgets/output",
      "model_module_version": "1.0.0",
      "model_name": "OutputModel",
      "state": {
       "layout": "IPY_MODEL_5ae40cfe4ce1400fb0c64e7c141b22ba"
      }
     },
     "949173233ac64ea191697706ca9f2f66": {
      "model_module": "@jupyter-widgets/base",
      "model_module_version": "1.2.0",
      "model_name": "LayoutModel",
      "state": {}
     },
     "9576aa372429475f83f403502e689d45": {
      "model_module": "@jupyter-widgets/controls",
      "model_module_version": "1.5.0",
      "model_name": "GridBoxModel",
      "state": {
       "children": [
        "IPY_MODEL_277eaf74c1794c8abdd94c42b214d8c2",
        "IPY_MODEL_c4ddaaa4186942cf88a5ebd90cff71a9",
        "IPY_MODEL_1bbde893c69c4637b660dab3d9ffea6b",
        "IPY_MODEL_c6e0f7b725514a3687cf802c194f8194"
       ],
       "layout": "IPY_MODEL_b3acec78d64e4f128a143584d4e517cc"
      }
     },
     "9624b1ecb6bd46689cadb5b9bbdfd824": {
      "model_module": "@jupyter-widgets/base",
      "model_module_version": "1.2.0",
      "model_name": "LayoutModel",
      "state": {
       "align_items": "center",
       "grid_template_areas": "\"widget001\"\n\"widget002\"\n\"widget003\"\n\"widget004\"\n\"widget005\"\n\"widget006\"\n\"widget007\"",
       "grid_template_columns": "auto",
       "grid_template_rows": "auto"
      }
     },
     "96bcf0ad371e4bc19bdc8f95a60f3039": {
      "model_module": "@jupyter-widgets/base",
      "model_module_version": "1.2.0",
      "model_name": "LayoutModel",
      "state": {
       "grid_area": "widget002",
       "width": "70px"
      }
     },
     "98d09de98ecb450194f1feb348839553": {
      "model_module": "@jupyter-widgets/controls",
      "model_module_version": "1.5.0",
      "model_name": "HTMLModel",
      "state": {
       "layout": "IPY_MODEL_8a65961729af4f94a00e05d1ec7c35b0",
       "style": "IPY_MODEL_df0ce0ecf340487ba376c049883f420a",
       "value": "<span style='font-size:20px;'> <b>策略名称</b> </span>"
      }
     },
     "98f261034f2949d5b4b254991d35ad62": {
      "model_module": "@jupyter-widgets/controls",
      "model_module_version": "1.5.0",
      "model_name": "DescriptionStyleModel",
      "state": {
       "description_width": ""
      }
     },
     "994857860e26473faa1da8be97651e48": {
      "model_module": "@jupyter-widgets/base",
      "model_module_version": "1.2.0",
      "model_name": "LayoutModel",
      "state": {
       "align_items": "center",
       "grid_area": "widget005",
       "grid_template_areas": "\"widget001 . . widget002\"\n\"widget003 widget003 widget003 widget003\"\n\"widget004 widget004 widget004 widget004\"",
       "grid_template_columns": "100px 130px auto 80px",
       "grid_template_rows": "60px auto 40px"
      }
     },
     "9953bad0d26a44efb4edf659dc159722": {
      "model_module": "@jupyter-widgets/controls",
      "model_module_version": "1.5.0",
      "model_name": "DescriptionStyleModel",
      "state": {
       "description_width": ""
      }
     },
     "9a2662463bd140f0b99b45dff0db7e38": {
      "model_module": "@jupyter-widgets/base",
      "model_module_version": "1.2.0",
      "model_name": "LayoutModel",
      "state": {
       "grid_area": "widget001"
      }
     },
     "9aba13f1f01746ee8a201707feb4849c": {
      "model_module": "@jupyter-widgets/controls",
      "model_module_version": "1.5.0",
      "model_name": "ButtonStyleModel",
      "state": {}
     },
     "9ade50087e034733836860f3a4c9465a": {
      "model_module": "@jupyter-widgets/base",
      "model_module_version": "1.2.0",
      "model_name": "LayoutModel",
      "state": {
       "grid_area": "widget001"
      }
     },
     "9d11e7c25e2a40028823f976a083b075": {
      "model_module": "@jupyter-widgets/controls",
      "model_module_version": "1.5.0",
      "model_name": "GridBoxModel",
      "state": {
       "children": [
        "IPY_MODEL_0279cb70f0394405a938b4da037b1ae0",
        "IPY_MODEL_dcdf823df48d46d69bdd3aa3a52a6de4"
       ],
       "layout": "IPY_MODEL_d260c94c884546e48e2b64523ecdf39e"
      }
     },
     "9d203d448af14aa29f6532090bbee9b9": {
      "model_module": "@jupyter-widgets/base",
      "model_module_version": "1.2.0",
      "model_name": "LayoutModel",
      "state": {
       "grid_area": "widget001"
      }
     },
     "9d400503791048f5a31fde6126108109": {
      "model_module": "@jupyter-widgets/base",
      "model_module_version": "1.2.0",
      "model_name": "LayoutModel",
      "state": {}
     },
     "9e1bb55b0e13452c8a0411031d49457b": {
      "model_module": "@jupyter-widgets/base",
      "model_module_version": "1.2.0",
      "model_name": "LayoutModel",
      "state": {
       "grid_area": "widget004",
       "width": "30px"
      }
     },
     "9ee73a96c7574085b2c29008a8540a3f": {
      "model_module": "@jupyter-widgets/controls",
      "model_module_version": "1.5.0",
      "model_name": "HTMLModel",
      "state": {
       "layout": "IPY_MODEL_e3009d4c8d754a81b27780d514c6faa7",
       "style": "IPY_MODEL_f1b1c3658eef42d7b67fdc0027db3697",
       "value": "今日收益<span style='color:red'> &nbsp;&nbsp;&nbsp;&nbsp;&nbsp;&nbsp;<b>1.14%</b> </span>"
      }
     },
     "9f6cbbe79d7243c19bef518479e4a55f": {
      "model_module": "@jupyter-widgets/base",
      "model_module_version": "1.2.0",
      "model_name": "LayoutModel",
      "state": {}
     },
     "9fd9aac22ff34dc3b9463b3d0da7864e": {
      "model_module": "@jupyter-widgets/base",
      "model_module_version": "1.2.0",
      "model_name": "LayoutModel",
      "state": {
       "grid_area": "widget002",
       "width": "70px"
      }
     },
     "a02a8b3da6f4402d9c20195b1c621860": {
      "model_module": "@jupyter-widgets/base",
      "model_module_version": "1.2.0",
      "model_name": "LayoutModel",
      "state": {
       "grid_area": "widget001"
      }
     },
     "a0ed14ae84cb4942adf852cf49ae9394": {
      "model_module": "@jupyter-widgets/controls",
      "model_module_version": "1.5.0",
      "model_name": "ButtonStyleModel",
      "state": {}
     },
     "a159982d02864a2d8cb0dea0fdcd43f0": {
      "model_module": "@jupyter-widgets/controls",
      "model_module_version": "1.5.0",
      "model_name": "ButtonModel",
      "state": {
       "icon": "angle-left",
       "layout": "IPY_MODEL_fa5a2e52467a4473911beae25dd8435b",
       "style": "IPY_MODEL_02501cbd4f3e4f35b66bae6630248afc",
       "tooltip": "上一页"
      }
     },
     "a2e6ec74011941358a60ca00fb0f0d16": {
      "model_module": "@jupyter-widgets/base",
      "model_module_version": "1.2.0",
      "model_name": "LayoutModel",
      "state": {
       "grid_area": "widget002"
      }
     },
     "a30fc491a4f04f5ba14e34ec580812cb": {
      "model_module": "@jupyter-widgets/controls",
      "model_module_version": "1.5.0",
      "model_name": "DatePickerModel",
      "state": {
       "disabled": false,
       "layout": "IPY_MODEL_aeb5cb70aaf94d578ba3b102de1bf79c",
       "style": "IPY_MODEL_b409c5394303445bbd926f28b0ee013b"
      }
     },
     "a33482a2de4f4a67afe50b63ce95ebfe": {
      "model_module": "@jupyter-widgets/controls",
      "model_module_version": "1.5.0",
      "model_name": "ButtonModel",
      "state": {
       "icon": "angle-left",
       "layout": "IPY_MODEL_6ed1a43c7f8842618e221207115ae37b",
       "style": "IPY_MODEL_fbd5f1ce8b954c48bda9d0509dc174dd",
       "tooltip": "上一页"
      }
     },
     "a335733bd235438683f4fe2e5135c9d1": {
      "model_module": "@jupyter-widgets/controls",
      "model_module_version": "1.5.0",
      "model_name": "ButtonModel",
      "state": {
       "description": "下载",
       "icon": "download",
       "layout": "IPY_MODEL_ad3331dbbc454121b61b2a1cd02be068",
       "style": "IPY_MODEL_12922bf971e04e43b569d9ddaf9c1630",
       "tooltip": "下载交易详情表格"
      }
     },
     "a33d24e6fe454474bae7d8ec24774bee": {
      "model_module": "@jupyter-widgets/base",
      "model_module_version": "1.2.0",
      "model_name": "LayoutModel",
      "state": {
       "grid_area": "widget002",
       "width": "125px"
      }
     },
     "a39d5871a687451882ce44ef5a7231a6": {
      "model_module": "@jupyter-widgets/base",
      "model_module_version": "1.2.0",
      "model_name": "LayoutModel",
      "state": {
       "grid_area": "widget005"
      }
     },
     "a451d6a691814aa7a2a5263587b953ab": {
      "model_module": "@jupyter-widgets/controls",
      "model_module_version": "1.5.0",
      "model_name": "ButtonModel",
      "state": {
       "icon": "angle-right",
       "layout": "IPY_MODEL_d2a1929e47644990b4793685d1ba4eb2",
       "style": "IPY_MODEL_7f20e843180040b6896df60244f8adcf",
       "tooltip": "下一页"
      }
     },
     "a4afec8da09f48d8afbeb8b4566675fd": {
      "model_module": "@jupyter-widgets/base",
      "model_module_version": "1.2.0",
      "model_name": "LayoutModel",
      "state": {
       "grid_area": "widget004"
      }
     },
     "a51e064a33bc4f60ac9427892211ca2f": {
      "model_module": "@jupyter-widgets/controls",
      "model_module_version": "1.5.0",
      "model_name": "HTMLModel",
      "state": {
       "layout": "IPY_MODEL_f6a791767fd44955aa84c4f948cba0b7",
       "style": "IPY_MODEL_40b6b48ba99643758c0d0eb992392b9b",
       "value": "超额累计收益"
      }
     },
     "a55c30bed2eb41869a27ede6493d45bc": {
      "model_module": "@jupyter-widgets/controls",
      "model_module_version": "1.5.0",
      "model_name": "GridBoxModel",
      "state": {
       "children": [
        "IPY_MODEL_c87aca6260e4434ba7383aa0faed9cf9",
        "IPY_MODEL_72167a2d5c734dee88bfe68221944da6",
        "IPY_MODEL_cad2a0d311c9475ca4fa4f684856ed4b",
        "IPY_MODEL_23e4f2b9a47b43709bac873444e4e010",
        "IPY_MODEL_50886a2095504b38a1a5e9000c95c03b",
        "IPY_MODEL_aa6c60f13d24468798cf29cf4938ed4c",
        "IPY_MODEL_488ee9b2492742d6a9b8f22088f93b64"
       ],
       "layout": "IPY_MODEL_1a0eadb0f7c9490a899df8cbafc420f6"
      }
     },
     "a5a4baffe9f3477f836786ba1c5782af": {
      "model_module": "@jupyter-widgets/base",
      "model_module_version": "1.2.0",
      "model_name": "LayoutModel",
      "state": {
       "align_items": "center",
       "grid_area": "widget002",
       "grid_template_areas": "\"widget001 widget003 widget005 widget008\"\n\"widget001 widget003 widget006 widget009\"\n\"widget002 widget004 widget007 widget010\"",
       "grid_template_columns": "auto auto auto auto",
       "grid_template_rows": "auto auto auto",
       "justify_items": "center"
      }
     },
     "a67c69e83686427293e46dd816e5532a": {
      "model_module": "@jupyter-widgets/controls",
      "model_module_version": "1.5.0",
      "model_name": "DescriptionStyleModel",
      "state": {
       "description_width": ""
      }
     },
     "a6b117a5936244b889e965ed83ef64b6": {
      "model_module": "@jupyter-widgets/output",
      "model_module_version": "1.0.0",
      "model_name": "OutputModel",
      "state": {
       "layout": "IPY_MODEL_9055278b235448d7838441af960fecc2"
      }
     },
     "a712dd373bd54fa2a59199bf444dfe6c": {
      "model_module": "@jupyter-widgets/controls",
      "model_module_version": "1.5.0",
      "model_name": "HTMLModel",
      "state": {
       "layout": "IPY_MODEL_625e204344fe4cc29cb925cc965320d2",
       "style": "IPY_MODEL_67200f942bd74323a201a179297805cd",
       "value": "<span style='font-size:30px;color:red'> <b>30.01%</b> </span>"
      }
     },
     "a7817556caff43b6ac3137f33b9f24b4": {
      "model_module": "@jupyter-widgets/controls",
      "model_module_version": "1.5.0",
      "model_name": "DescriptionStyleModel",
      "state": {
       "description_width": ""
      }
     },
     "a798c3b83c654e68889f93b1cf9c0bdf": {
      "model_module": "@jupyter-widgets/controls",
      "model_module_version": "1.5.0",
      "model_name": "HTMLModel",
      "state": {
       "layout": "IPY_MODEL_0b242e1bccf442178372f74cc262ee0c",
       "style": "IPY_MODEL_83d3bc1fad3d4d059133c6354fcc6d8a",
       "value": "<span style='font-size:20px;'> <b>策略名称</b> </span>"
      }
     },
     "a7a7dab19781452996df1179535255e8": {
      "model_module": "@jupyter-widgets/base",
      "model_module_version": "1.2.0",
      "model_name": "LayoutModel",
      "state": {
       "grid_area": "widget003",
       "width": "60px"
      }
     },
     "a89d07ce3cf7460e8640c902673c0cfe": {
      "model_module": "@jupyter-widgets/controls",
      "model_module_version": "1.5.0",
      "model_name": "HTMLModel",
      "state": {
       "layout": "IPY_MODEL_31c86714144f4995a9d59f1accd69626",
       "style": "IPY_MODEL_f95c0460d7ad43778722db2a415acb34",
       "value": "夏普比率&nbsp;&nbsp;&nbsp;&nbsp;&nbsp;&nbsp;&nbsp;<b>0.58</b>"
      }
     },
     "a96659e744b44544831e5d2dd8a6c1c3": {
      "model_module": "@jupyter-widgets/base",
      "model_module_version": "1.2.0",
      "model_name": "LayoutModel",
      "state": {
       "grid_area": "widget002",
       "width": "125px"
      }
     },
     "a9b9bbb81bd6460a8ffe8c9d334446cf": {
      "model_module": "@jupyter-widgets/base",
      "model_module_version": "1.2.0",
      "model_name": "LayoutModel",
      "state": {
       "grid_area": "widget004",
       "grid_template_areas": "\". widget002 widget003 widget001 widget004\"",
       "grid_template_columns": "auto 40px 70px 60px 40px",
       "grid_template_rows": "40px"
      }
     },
     "a9cf9c669c714a4db0404c528996f199": {
      "model_module": "@jupyter-widgets/controls",
      "model_module_version": "1.5.0",
      "model_name": "DescriptionStyleModel",
      "state": {
       "description_width": ""
      }
     },
     "aa22dc4fa310408ba97092b1d457fa4f": {
      "model_module": "@jupyter-widgets/controls",
      "model_module_version": "1.5.0",
      "model_name": "HTMLModel",
      "state": {
       "layout": "IPY_MODEL_2bfc4906621540979f8461406b7a6e64",
       "style": "IPY_MODEL_0eb4e526f92b4d76ae28164738f9d391",
       "value": "开始时间&nbsp;&nbsp;&nbsp;&nbsp;&nbsp;&nbsp;<b>20210108</b>"
      }
     },
     "aa3e75a0c838484a9dca303a6db1bcaa": {
      "model_module": "@jupyter-widgets/controls",
      "model_module_version": "1.5.0",
      "model_name": "ButtonStyleModel",
      "state": {}
     },
     "aa6c60f13d24468798cf29cf4938ed4c": {
      "model_module": "@jupyter-widgets/controls",
      "model_module_version": "1.5.0",
      "model_name": "GridBoxModel",
      "state": {
       "children": [
        "IPY_MODEL_dbadcd7ba54144629121246249eae8d9",
        "IPY_MODEL_2708a4cf50df4e97b1d4ebe70cf38ff9",
        "IPY_MODEL_0710bca1c452425eb680231ae5f69ffe",
        "IPY_MODEL_859dd49c25984fe9b5fa2a603bd21245",
        "IPY_MODEL_3501c77696e444b9b3039a33dfcf584d"
       ],
       "layout": "IPY_MODEL_58ff5844414f410eb7ffbfc63b0e5a2c"
      }
     },
     "ab5e4e5cb5f248278fb0c18f26a841d7": {
      "model_module": "@jupyter-widgets/controls",
      "model_module_version": "1.5.0",
      "model_name": "ButtonModel",
      "state": {
       "description": "下载",
       "icon": "download",
       "layout": "IPY_MODEL_9fd9aac22ff34dc3b9463b3d0da7864e",
       "style": "IPY_MODEL_e43cbb966fd64768b4500b1bd4aefa85",
       "tooltip": "下载计划交易表格"
      }
     },
     "ac53a2c78bf14c13a9ae04f31048a238": {
      "model_module": "@jupyter-widgets/base",
      "model_module_version": "1.2.0",
      "model_name": "LayoutModel",
      "state": {
       "grid_area": "widget003",
       "width": "70px"
      }
     },
     "acfa97e369ff462994f5d0128b6fbb39": {
      "model_module": "@jupyter-widgets/controls",
      "model_module_version": "1.5.0",
      "model_name": "ButtonModel",
      "state": {
       "icon": "angle-left",
       "layout": "IPY_MODEL_d2a61bd8491a4121b6135ce810c5c83b",
       "style": "IPY_MODEL_9aba13f1f01746ee8a201707feb4849c",
       "tooltip": "上一页"
      }
     },
     "ad06658810d442a89247a7ab9ebc4377": {
      "model_module": "@jupyter-widgets/controls",
      "model_module_version": "1.5.0",
      "model_name": "GridBoxModel",
      "state": {
       "children": [
        "IPY_MODEL_f1a1885d397942e8883cdc3d64a2f31b",
        "IPY_MODEL_acfa97e369ff462994f5d0128b6fbb39",
        "IPY_MODEL_02f20b26717042ff93bf897767c067b8",
        "IPY_MODEL_55c06050999d4734b3671eb5287f7c25"
       ],
       "layout": "IPY_MODEL_dda94dbe61bb4e5aa2d7c06b2a1ffe64"
      }
     },
     "ad315243426c488e9301708f9dd86624": {
      "model_module": "@jupyter-widgets/base",
      "model_module_version": "1.2.0",
      "model_name": "LayoutModel",
      "state": {
       "grid_area": "widget005",
       "grid_template_areas": "\". widget002 widget003 widget001 widget004\"",
       "grid_template_columns": "auto 40px 70px 60px 40px",
       "grid_template_rows": "40px"
      }
     },
     "ad3331dbbc454121b61b2a1cd02be068": {
      "model_module": "@jupyter-widgets/base",
      "model_module_version": "1.2.0",
      "model_name": "LayoutModel",
      "state": {
       "grid_area": "widget003",
       "width": "70px"
      }
     },
     "ad99685bb7c44746b09945a0b5d73ca9": {
      "model_module": "@jupyter-widgets/base",
      "model_module_version": "1.2.0",
      "model_name": "LayoutModel",
      "state": {
       "grid_area": "widget005",
       "grid_template_areas": "\". widget002 widget003 widget001 widget004\"",
       "grid_template_columns": "auto 40px 70px 60px 40px",
       "grid_template_rows": "40px"
      }
     },
     "ada19dffaeac4c5594e502cfbff1a5ce": {
      "model_module": "@jupyter-widgets/base",
      "model_module_version": "1.2.0",
      "model_name": "LayoutModel",
      "state": {
       "grid_area": "widget004",
       "width": "30px"
      }
     },
     "adc55c4c1f10419dbf803ec3fcc1ebc0": {
      "model_module": "@jupyter-widgets/controls",
      "model_module_version": "1.5.0",
      "model_name": "HTMLModel",
      "state": {
       "layout": "IPY_MODEL_afdb016012554919958711763e450694",
       "style": "IPY_MODEL_7071f127bada4f38a5ea4e584eb625bf",
       "value": "/1页"
      }
     },
     "ade053c1e00c41e289b2fdf6af620593": {
      "model_module": "@jupyter-widgets/controls",
      "model_module_version": "1.5.0",
      "model_name": "GridBoxModel",
      "state": {
       "children": [
        "IPY_MODEL_8f8616935dba46af815e212fd72c5f07",
        "IPY_MODEL_07ed80692c354be49bd1e8d3f3b55abd",
        "IPY_MODEL_d6900789fe47476f83754e9471e4a53e",
        "IPY_MODEL_e265ca830630447481409e8a50c5a924",
        "IPY_MODEL_e187f539e3214e02858b981e64646ebf"
       ],
       "layout": "IPY_MODEL_8630dc8f8e7f4e70a44aa2febe7dd104"
      }
     },
     "ae92c1eeb4234aee931485138ef01fe9": {
      "model_module": "@jupyter-widgets/controls",
      "model_module_version": "1.5.0",
      "model_name": "ButtonStyleModel",
      "state": {}
     },
     "aeb5cb70aaf94d578ba3b102de1bf79c": {
      "model_module": "@jupyter-widgets/base",
      "model_module_version": "1.2.0",
      "model_name": "LayoutModel",
      "state": {
       "grid_area": "widget002",
       "width": "125px"
      }
     },
     "af62d4a9488b47f98dc3b2dd344d8d8b": {
      "model_module": "@jupyter-widgets/output",
      "model_module_version": "1.0.0",
      "model_name": "OutputModel",
      "state": {
       "layout": "IPY_MODEL_8f00e5b16ed942d5b1ad84374f13a1ba"
      }
     },
     "afdb016012554919958711763e450694": {
      "model_module": "@jupyter-widgets/base",
      "model_module_version": "1.2.0",
      "model_name": "LayoutModel",
      "state": {
       "grid_area": "widget001"
      }
     },
     "b022bcee0f444d99859f64fcd998edce": {
      "model_module": "@jupyter-widgets/controls",
      "model_module_version": "1.5.0",
      "model_name": "DescriptionStyleModel",
      "state": {
       "description_width": ""
      }
     },
     "b053e5da00844a9da1b1da02e1e2f8d5": {
      "model_module": "@jupyter-widgets/controls",
      "model_module_version": "1.5.0",
      "model_name": "HTMLModel",
      "state": {
       "layout": "IPY_MODEL_9a2662463bd140f0b99b45dff0db7e38",
       "style": "IPY_MODEL_7f83d5d6d64f4741b0e3ba19103ae91a",
       "value": "<span style='font-size:30px;color:red'> <b>24.13%</b> </span>"
      }
     },
     "b134f0f3dd6b469f8fcd43cb941c9cda": {
      "model_module": "@jupyter-widgets/base",
      "model_module_version": "1.2.0",
      "model_name": "LayoutModel",
      "state": {
       "grid_area": "widget002",
       "width": "125px"
      }
     },
     "b1f5953e56f640468e207beb81578169": {
      "model_module": "@jupyter-widgets/controls",
      "model_module_version": "1.5.0",
      "model_name": "ButtonModel",
      "state": {
       "description": "下载",
       "icon": "download",
       "layout": "IPY_MODEL_dcb7ddeb9e5b4632bd327a193ccc0a09",
       "style": "IPY_MODEL_587672384e954050b01d5c16287156d1",
       "tooltip": "下载计划交易表格"
      }
     },
     "b30ed34f6f4f43e2b38994d95209a66c": {
      "model_module": "@jupyter-widgets/controls",
      "model_module_version": "1.5.0",
      "model_name": "DescriptionStyleModel",
      "state": {
       "description_width": ""
      }
     },
     "b3136d8efa8f4665a23bdb364760f261": {
      "model_module": "@jupyter-widgets/controls",
      "model_module_version": "1.5.0",
      "model_name": "HTMLModel",
      "state": {
       "layout": "IPY_MODEL_dd2d77342f9f49ebabb0aa5fb4b98b31",
       "style": "IPY_MODEL_03213a920fd24b3599c7651271a3ce8f",
       "value": "年化收益<span style='color:red'> &nbsp;&nbsp;&nbsp;&nbsp;&nbsp;&nbsp;<b>17.50%</b> </span>"
      }
     },
     "b35c80f7f0194e10bf2bb31b7798ea93": {
      "model_module": "@jupyter-widgets/base",
      "model_module_version": "1.2.0",
      "model_name": "LayoutModel",
      "state": {
       "align_items": "center",
       "grid_area": "widget003",
       "grid_template_areas": "\"widget001\"\n\"widget002\"",
       "grid_template_columns": "auto",
       "grid_template_rows": "60px auto"
      }
     },
     "b363ab0181b44a849067c447b22bf7d1": {
      "model_module": "@jupyter-widgets/controls",
      "model_module_version": "1.5.0",
      "model_name": "DescriptionStyleModel",
      "state": {
       "description_width": ""
      }
     },
     "b36a7502c91f474c87c9c063b4129a07": {
      "model_module": "@jupyter-widgets/controls",
      "model_module_version": "1.5.0",
      "model_name": "DatePickerModel",
      "state": {
       "disabled": false,
       "layout": "IPY_MODEL_84b9c2d71c2a4de490b4e09d324ba2fb",
       "style": "IPY_MODEL_f43edf3457c9481e8926c94ef648a54b"
      }
     },
     "b384f4f47b0a423383e541ebc815bf86": {
      "model_module": "@jupyter-widgets/base",
      "model_module_version": "1.2.0",
      "model_name": "LayoutModel",
      "state": {
       "grid_area": "widget004",
       "width": "30px"
      }
     },
     "b3acec78d64e4f128a143584d4e517cc": {
      "model_module": "@jupyter-widgets/base",
      "model_module_version": "1.2.0",
      "model_name": "LayoutModel",
      "state": {
       "grid_area": "widget005",
       "grid_template_areas": "\". widget002 widget003 widget001 widget004\"",
       "grid_template_columns": "auto 40px 70px 60px 40px",
       "grid_template_rows": "40px"
      }
     },
     "b3f64b193ff24a79928f60d9907b9c45": {
      "model_module": "@jupyter-widgets/controls",
      "model_module_version": "1.5.0",
      "model_name": "BoundedIntTextModel",
      "state": {
       "layout": "IPY_MODEL_dd029ffec16b42f5b9a51d4b00db8c80",
       "max": 1,
       "min": 1,
       "style": "IPY_MODEL_b30ed34f6f4f43e2b38994d95209a66c",
       "value": 1
      }
     },
     "b3f7ff9776e94b0eb0c628e5f241c131": {
      "model_module": "@jupyter-widgets/base",
      "model_module_version": "1.2.0",
      "model_name": "LayoutModel",
      "state": {
       "align_items": "center",
       "grid_area": "widget003",
       "grid_template_areas": "\"widget001\"\n\"widget002\"",
       "grid_template_columns": "auto",
       "grid_template_rows": "60px auto"
      }
     },
     "b409c5394303445bbd926f28b0ee013b": {
      "model_module": "@jupyter-widgets/controls",
      "model_module_version": "1.5.0",
      "model_name": "DescriptionStyleModel",
      "state": {
       "description_width": ""
      }
     },
     "b4c7e2e6b9a9417aacfde7a498c2ce30": {
      "model_module": "@jupyter-widgets/controls",
      "model_module_version": "1.5.0",
      "model_name": "GridBoxModel",
      "state": {
       "children": [
        "IPY_MODEL_bf952126704f4f31884e049d05882617",
        "IPY_MODEL_42a99eb486bd4fecadccfc03798fa244",
        "IPY_MODEL_b6f93c77b2d14d5c92936d497c23ddfa",
        "IPY_MODEL_10595c70738b473ea78f3fd6ba540413",
        "IPY_MODEL_0e6e0c1b742e4d96a18dbd7b37e13e15"
       ],
       "layout": "IPY_MODEL_133c110fa8294e07b57451999a3b1560"
      }
     },
     "b52ac9b9884e45879ab8c57c4591696f": {
      "model_module": "@jupyter-widgets/controls",
      "model_module_version": "1.5.0",
      "model_name": "HTMLModel",
      "state": {
       "layout": "IPY_MODEL_0bfe45b3a87e43c5ace0cafb605d578e",
       "style": "IPY_MODEL_33cc4e9a6db84ba092c253a2f3fa35ff",
       "value": "<span style='font-size:30px;color:red'> <b>30.01%</b> </span>"
      }
     },
     "b5db0bead9d64cde8c646b66cd6ae8e5": {
      "model_module": "@jupyter-widgets/controls",
      "model_module_version": "1.5.0",
      "model_name": "GridBoxModel",
      "state": {
       "children": [
        "IPY_MODEL_a798c3b83c654e68889f93b1cf9c0bdf",
        "IPY_MODEL_f7d2fa3efabf4f5c963ccdf97dce16d7"
       ],
       "layout": "IPY_MODEL_64e6d144a15f4ae18ee96d61cb5aa108"
      }
     },
     "b6318b5502ab48f89de2a713d7222069": {
      "model_module": "@jupyter-widgets/controls",
      "model_module_version": "1.5.0",
      "model_name": "DescriptionStyleModel",
      "state": {
       "description_width": ""
      }
     },
     "b641326dd148433994ef625332bd60c0": {
      "model_module": "@jupyter-widgets/output",
      "model_module_version": "1.0.0",
      "model_name": "OutputModel",
      "state": {
       "layout": "IPY_MODEL_1533104e7b70482e8a209dc798387473"
      }
     },
     "b6f93c77b2d14d5c92936d497c23ddfa": {
      "model_module": "@jupyter-widgets/controls",
      "model_module_version": "1.5.0",
      "model_name": "ButtonModel",
      "state": {
       "description": "下载",
       "icon": "download",
       "layout": "IPY_MODEL_bb778adedcdc4a3eaba6386af877c9cd",
       "style": "IPY_MODEL_ec107b568c3c41bdab27e34a4f1048b0",
       "tooltip": "下载交易详情表格"
      }
     },
     "b77bbfab539f4c9c9d3a2ce5447d00e7": {
      "model_module": "@jupyter-widgets/controls",
      "model_module_version": "1.5.0",
      "model_name": "GridBoxModel",
      "state": {
       "children": [
        "IPY_MODEL_118550f812c2443b91cb6e868b80ac9a",
        "IPY_MODEL_bcd514903598427693d903bbfe80171f"
       ],
       "layout": "IPY_MODEL_1ed8a3dc34a44d92bdd517edba9c9c51"
      }
     },
     "b82e0788b2784335a1c15e72bc14bbdd": {
      "model_module": "@jupyter-widgets/controls",
      "model_module_version": "1.5.0",
      "model_name": "ButtonStyleModel",
      "state": {}
     },
     "b89e987477c04e88a71a3d238e0dee12": {
      "model_module": "@jupyter-widgets/base",
      "model_module_version": "1.2.0",
      "model_name": "LayoutModel",
      "state": {
       "align_items": "center",
       "grid_area": "widget006",
       "grid_template_areas": "\"widget001 widget002 . widget003\"\n\"widget004 widget004 widget004 widget004\"\n\"widget005 widget005 widget005 widget005\"",
       "grid_template_columns": "100px 130px auto 80px",
       "grid_template_rows": "60px auto 40px"
      }
     },
     "b8f58f9709534ad3b4a0d46f1f42f589": {
      "model_module": "@jupyter-widgets/base",
      "model_module_version": "1.2.0",
      "model_name": "LayoutModel",
      "state": {
       "grid_area": "widget003",
       "width": "70px"
      }
     },
     "b98bc37dc4dc4aaba99f6df9cfc5513a": {
      "model_module": "@jupyter-widgets/base",
      "model_module_version": "1.2.0",
      "model_name": "LayoutModel",
      "state": {
       "align_items": "center",
       "grid_area": "widget005",
       "grid_template_areas": "\"widget001 . . widget002\"\n\"widget003 widget003 widget003 widget003\"\n\"widget004 widget004 widget004 widget004\"",
       "grid_template_columns": "100px 130px auto 80px",
       "grid_template_rows": "60px auto 40px"
      }
     },
     "b9c798d12c9344c7af93ba7902d441e2": {
      "model_module": "@jupyter-widgets/controls",
      "model_module_version": "1.5.0",
      "model_name": "ButtonModel",
      "state": {
       "icon": "angle-left",
       "layout": "IPY_MODEL_6f9cb8da79d74e6c940c0021292afa52",
       "style": "IPY_MODEL_15e3e00df0a54e62b98d17d31656bc15",
       "tooltip": "上一页"
      }
     },
     "ba9735dd3c4e4a5591ac0241c5326f8d": {
      "model_module": "@jupyter-widgets/controls",
      "model_module_version": "1.5.0",
      "model_name": "BoundedIntTextModel",
      "state": {
       "layout": "IPY_MODEL_32da3fdd91fd451ba42c79be1fe5fb42",
       "max": 112,
       "min": 1,
       "style": "IPY_MODEL_df7f52da08e7439090c78925a14db6fc",
       "value": 1
      }
     },
     "bac47f5e3d0843ceb40dfcee4c145719": {
      "model_module": "@jupyter-widgets/controls",
      "model_module_version": "1.5.0",
      "model_name": "ButtonModel",
      "state": {
       "icon": "angle-left",
       "layout": "IPY_MODEL_fa627a3e477a4e62849e9d0318b6bb58",
       "style": "IPY_MODEL_10a50aa5fb354794a39e3aa33cefe3c6",
       "tooltip": "上一页"
      }
     },
     "bb3e6c09792d4a3cb9dedaa301c9ced3": {
      "model_module": "@jupyter-widgets/base",
      "model_module_version": "1.2.0",
      "model_name": "LayoutModel",
      "state": {
       "grid_area": "widget004"
      }
     },
     "bb778adedcdc4a3eaba6386af877c9cd": {
      "model_module": "@jupyter-widgets/base",
      "model_module_version": "1.2.0",
      "model_name": "LayoutModel",
      "state": {
       "grid_area": "widget003",
       "width": "70px"
      }
     },
     "bba8593f94b44a2ea555dc9760f48b97": {
      "model_module": "@jupyter-widgets/controls",
      "model_module_version": "1.5.0",
      "model_name": "DescriptionStyleModel",
      "state": {
       "description_width": ""
      }
     },
     "bcd514903598427693d903bbfe80171f": {
      "model_module": "@jupyter-widgets/controls",
      "model_module_version": "1.5.0",
      "model_name": "VBoxModel",
      "state": {
       "_dom_classes": [
        "widget-interact"
       ],
       "children": [
        "IPY_MODEL_7b6b7b4ff9034c308a3e978e0fee92b4"
       ],
       "layout": "IPY_MODEL_15d0f4f0007a4d7aa7221d00badb5206"
      }
     },
     "bd69f171e0a043baa525366b7c97f033": {
      "model_module": "@jupyter-widgets/controls",
      "model_module_version": "1.5.0",
      "model_name": "HTMLModel",
      "state": {
       "layout": "IPY_MODEL_74d300e4acad46a9a99d963d6eba70c1",
       "style": "IPY_MODEL_6e957acebcb4405c939fda2ad2a4885d",
       "value": "累计收益"
      }
     },
     "bdc1110576a848cbabc6347c4fac4993": {
      "model_module": "@jupyter-widgets/controls",
      "model_module_version": "1.5.0",
      "model_name": "HTMLModel",
      "state": {
       "layout": "IPY_MODEL_61dc47a1cbf94a89935afa6d69bbaebe",
       "style": "IPY_MODEL_354d0c414f074947a7886faf7ff323af",
       "value": "<span style='font-size:20px;'> <b>计划交易</b> </span>"
      }
     },
     "bea9e289ebee47179df33da230e8930a": {
      "model_module": "@jupyter-widgets/base",
      "model_module_version": "1.2.0",
      "model_name": "LayoutModel",
      "state": {
       "grid_area": "widget001"
      }
     },
     "bf1c0ba5fdd64fb295b634a078d2aab4": {
      "model_module": "@jupyter-widgets/base",
      "model_module_version": "1.2.0",
      "model_name": "LayoutModel",
      "state": {
       "grid_area": "widget009"
      }
     },
     "bf453c7b47554a3fa69605fb4b4f5126": {
      "model_module": "@jupyter-widgets/controls",
      "model_module_version": "1.5.0",
      "model_name": "DescriptionStyleModel",
      "state": {
       "description_width": ""
      }
     },
     "bf6282a6d66d4148998812bbf0259ac9": {
      "model_module": "@jupyter-widgets/controls",
      "model_module_version": "1.5.0",
      "model_name": "HTMLModel",
      "state": {
       "layout": "IPY_MODEL_885d5796e98247cab2eb1552b7229df5",
       "style": "IPY_MODEL_403c3ec80fb34ba187678458eda0d26f",
       "value": "年化收益<span style='color:red'> &nbsp;&nbsp;&nbsp;&nbsp;&nbsp;&nbsp;<b>17.50%</b> </span>"
      }
     },
     "bf952126704f4f31884e049d05882617": {
      "model_module": "@jupyter-widgets/controls",
      "model_module_version": "1.5.0",
      "model_name": "HTMLModel",
      "state": {
       "layout": "IPY_MODEL_2283a91ae9ea4ef3b870e431a2f9e0fd",
       "style": "IPY_MODEL_1858c0a4d60f402dbde00855a0fe3bd5",
       "value": "<span style='font-size:20px;'> <b>交易详情</b> </span>"
      }
     },
     "bfa22da3030e4106b75f8ff57b9284bc": {
      "model_module": "@jupyter-widgets/base",
      "model_module_version": "1.2.0",
      "model_name": "LayoutModel",
      "state": {
       "grid_area": "widget004",
       "width": "30px"
      }
     },
     "c072e7a5bfe547ec89be16966799c26b": {
      "model_module": "@jupyter-widgets/controls",
      "model_module_version": "1.5.0",
      "model_name": "ButtonModel",
      "state": {
       "icon": "angle-left",
       "layout": "IPY_MODEL_7bf8e0c7579a423db7231ff47d454334",
       "style": "IPY_MODEL_ae92c1eeb4234aee931485138ef01fe9",
       "tooltip": "上一页"
      }
     },
     "c0a2be761dc24c3a886aefee89e68399": {
      "model_module": "@jupyter-widgets/base",
      "model_module_version": "1.2.0",
      "model_name": "LayoutModel",
      "state": {
       "align_items": "center",
       "grid_area": "widget002",
       "grid_template_areas": "\"widget001\"\n\"widget002\"",
       "grid_template_columns": "auto",
       "grid_template_rows": "60px auto"
      }
     },
     "c10ee0b63d55496cafc75a712a95ca82": {
      "model_module": "@jupyter-widgets/controls",
      "model_module_version": "1.5.0",
      "model_name": "ButtonModel",
      "state": {
       "icon": "angle-right",
       "layout": "IPY_MODEL_3f6ed27d640a475a96632bc7012391a6",
       "style": "IPY_MODEL_dc7dd089a6044b1782949b8fd578f9b7",
       "tooltip": "下一页"
      }
     },
     "c1b41f664ec147b8be3c1b3cccfc0014": {
      "model_module": "@jupyter-widgets/controls",
      "model_module_version": "1.5.0",
      "model_name": "DescriptionStyleModel",
      "state": {
       "description_width": ""
      }
     },
     "c1c2013434594981bb2eb4e8b50914e0": {
      "model_module": "@jupyter-widgets/base",
      "model_module_version": "1.2.0",
      "model_name": "LayoutModel",
      "state": {
       "grid_area": "widget001"
      }
     },
     "c23bc7262c7e4637a86db75f45bade41": {
      "model_module": "@jupyter-widgets/base",
      "model_module_version": "1.2.0",
      "model_name": "LayoutModel",
      "state": {
       "grid_area": "widget001"
      }
     },
     "c36d3925cdca45c39a0b118820c18518": {
      "model_module": "@jupyter-widgets/controls",
      "model_module_version": "1.5.0",
      "model_name": "DescriptionStyleModel",
      "state": {
       "description_width": ""
      }
     },
     "c36ecf6c84eb404dadf25a692f7f5de2": {
      "model_module": "@jupyter-widgets/controls",
      "model_module_version": "1.5.0",
      "model_name": "ButtonStyleModel",
      "state": {}
     },
     "c3768a609e5545169a6dd77b39ec3d05": {
      "model_module": "@jupyter-widgets/controls",
      "model_module_version": "1.5.0",
      "model_name": "HTMLModel",
      "state": {
       "layout": "IPY_MODEL_71e930a97e134a479360fb5d69612490",
       "style": "IPY_MODEL_5c604ab5e4d44a38a405196e2980dac0",
       "value": "累计收益"
      }
     },
     "c3eb13a26c8844d3bb12142949e04f64": {
      "model_module": "@jupyter-widgets/controls",
      "model_module_version": "1.5.0",
      "model_name": "VBoxModel",
      "state": {
       "_dom_classes": [
        "widget-interact"
       ],
       "children": [
        "IPY_MODEL_25f401fc84854c6e96134952bae7ce9e"
       ],
       "layout": "IPY_MODEL_c87b8ba042f64ec098020ccffae5a594"
      }
     },
     "c3ec2fa924704a5abe7f9eb7f169785a": {
      "model_module": "@jupyter-widgets/controls",
      "model_module_version": "1.5.0",
      "model_name": "ButtonStyleModel",
      "state": {}
     },
     "c4ddaaa4186942cf88a5ebd90cff71a9": {
      "model_module": "@jupyter-widgets/controls",
      "model_module_version": "1.5.0",
      "model_name": "ButtonModel",
      "state": {
       "icon": "angle-left",
       "layout": "IPY_MODEL_1989617067b04248bfad7a95f95827ca",
       "style": "IPY_MODEL_0e87e68357c14c0987e322b2b9743412",
       "tooltip": "上一页"
      }
     },
     "c4f2367d4c204c87bddd5a16928f31e8": {
      "model_module": "@jupyter-widgets/base",
      "model_module_version": "1.2.0",
      "model_name": "LayoutModel",
      "state": {
       "grid_area": "widget002",
       "width": "30px"
      }
     },
     "c551be72b8e447778c5cd00b85125b01": {
      "model_module": "@jupyter-widgets/controls",
      "model_module_version": "1.5.0",
      "model_name": "DatePickerModel",
      "state": {
       "disabled": false,
       "layout": "IPY_MODEL_b134f0f3dd6b469f8fcd43cb941c9cda",
       "style": "IPY_MODEL_459313c562f04e878aad9ac3116e136d"
      }
     },
     "c6e0f7b725514a3687cf802c194f8194": {
      "model_module": "@jupyter-widgets/controls",
      "model_module_version": "1.5.0",
      "model_name": "ButtonModel",
      "state": {
       "icon": "angle-right",
       "layout": "IPY_MODEL_2c9f8720d76f42e781d1e7b4ad553359",
       "style": "IPY_MODEL_fdc5f3c40d2241b29335826197c67d1d",
       "tooltip": "下一页"
      }
     },
     "c74888145bd64409b9e5b6865e10229e": {
      "model_module": "@jupyter-widgets/controls",
      "model_module_version": "1.5.0",
      "model_name": "HTMLModel",
      "state": {
       "layout": "IPY_MODEL_0f4aeab2b1584e68b8196d95372d87a5",
       "style": "IPY_MODEL_52c498dd113c40a8aaf4f43c55270047",
       "value": "<span style='font-size:20px;'> <b>风格偏好</b> </span>"
      }
     },
     "c879a01aecc04bf7b1293a70b2187260": {
      "model_module": "@jupyter-widgets/base",
      "model_module_version": "1.2.0",
      "model_name": "LayoutModel",
      "state": {
       "grid_area": "widget003",
       "width": "70px"
      }
     },
     "c87aca6260e4434ba7383aa0faed9cf9": {
      "model_module": "@jupyter-widgets/controls",
      "model_module_version": "1.5.0",
      "model_name": "GridBoxModel",
      "state": {
       "children": [
        "IPY_MODEL_e85b3b660eb74985ae51f4c6883b1552",
        "IPY_MODEL_796ff8c01e544f7bbdaee3e05bb5f5b2"
       ],
       "layout": "IPY_MODEL_c92cfe5b517a43cc9abb0f129b27a970"
      }
     },
     "c87b8ba042f64ec098020ccffae5a594": {
      "model_module": "@jupyter-widgets/base",
      "model_module_version": "1.2.0",
      "model_name": "LayoutModel",
      "state": {
       "grid_area": "widget002"
      }
     },
     "c904a1e7a8fa415cb14862cca6fc4839": {
      "model_module": "@jupyter-widgets/controls",
      "model_module_version": "1.5.0",
      "model_name": "ButtonStyleModel",
      "state": {}
     },
     "c908e6635a8a4d029c0df192b248631b": {
      "model_module": "@jupyter-widgets/controls",
      "model_module_version": "1.5.0",
      "model_name": "HTMLModel",
      "state": {
       "layout": "IPY_MODEL_20465aa10ce743079fe8d78664de3e56",
       "style": "IPY_MODEL_1926a55b5d10461ead5a5a69cedbf990",
       "value": "今日收益<span style='color:red'> &nbsp;&nbsp;&nbsp;&nbsp;&nbsp;&nbsp;<b>1.14%</b> </span>"
      }
     },
     "c92137c4f25e41dca1a7a086e2323288": {
      "model_module": "@jupyter-widgets/controls",
      "model_module_version": "1.5.0",
      "model_name": "HTMLModel",
      "state": {
       "layout": "IPY_MODEL_9d203d448af14aa29f6532090bbee9b9",
       "style": "IPY_MODEL_bba8593f94b44a2ea555dc9760f48b97",
       "value": "<span style='font-size:20px;'> <b>策略名称</b> </span>"
      }
     },
     "c92cfe5b517a43cc9abb0f129b27a970": {
      "model_module": "@jupyter-widgets/base",
      "model_module_version": "1.2.0",
      "model_name": "LayoutModel",
      "state": {
       "align_items": "center",
       "grid_area": "widget001",
       "grid_template_areas": "\"widget001\"\n\"widget002\"",
       "grid_template_columns": "auto",
       "grid_template_rows": "60px auto"
      }
     },
     "ca7b16ffc8ac452c95f63083072c73e2": {
      "model_module": "@jupyter-widgets/base",
      "model_module_version": "1.2.0",
      "model_name": "LayoutModel",
      "state": {
       "grid_area": "widget007"
      }
     },
     "ca9332407e724218acd58b48a66e2e26": {
      "model_module": "@jupyter-widgets/base",
      "model_module_version": "1.2.0",
      "model_name": "LayoutModel",
      "state": {
       "grid_area": "widget001"
      }
     },
     "cad2a0d311c9475ca4fa4f684856ed4b": {
      "model_module": "@jupyter-widgets/controls",
      "model_module_version": "1.5.0",
      "model_name": "GridBoxModel",
      "state": {
       "children": [
        "IPY_MODEL_024a078cd7e241c58caa60a1cfe8e3c2",
        "IPY_MODEL_63252eaea7ce4ce2be827f02bc9929f3"
       ],
       "layout": "IPY_MODEL_b3f7ff9776e94b0eb0c628e5f241c131"
      }
     },
     "cbda509b490949579174c58fdb6dad73": {
      "model_module": "@jupyter-widgets/controls",
      "model_module_version": "1.5.0",
      "model_name": "ButtonStyleModel",
      "state": {}
     },
     "cc30342757ff4a74916de9c10c8219d4": {
      "model_module": "@jupyter-widgets/controls",
      "model_module_version": "1.5.0",
      "model_name": "HTMLModel",
      "state": {
       "layout": "IPY_MODEL_569b1a6bd94e489aa24ac0c0aa594fef",
       "style": "IPY_MODEL_71844bae467c4337801a59c0b4532d08",
       "value": "年化收益<span style='color:red'> &nbsp;&nbsp;&nbsp;&nbsp;&nbsp;&nbsp;<b>17.50%</b> </span>"
      }
     },
     "cceb17dca2264f55842982c3120ed7fc": {
      "model_module": "@jupyter-widgets/controls",
      "model_module_version": "1.5.0",
      "model_name": "ButtonStyleModel",
      "state": {}
     },
     "cd1d45e76b1f49368526e9801f4299c7": {
      "model_module": "@jupyter-widgets/controls",
      "model_module_version": "1.5.0",
      "model_name": "GridBoxModel",
      "state": {
       "children": [
        "IPY_MODEL_5e9c42c3d5964016b8ea282c731ad852",
        "IPY_MODEL_b77bbfab539f4c9c9d3a2ce5447d00e7",
        "IPY_MODEL_2747adfeef6844eabeec02e48a099d6b",
        "IPY_MODEL_7b698d4c146b4440998817c10b4a8114",
        "IPY_MODEL_4a5f488512c54217b9cdfd9e54cd2beb",
        "IPY_MODEL_21149383ead2461195b37f6c4e65bccd",
        "IPY_MODEL_f47815c24bea451fbff589e6857a8478"
       ],
       "layout": "IPY_MODEL_029b538615c44ec1a903065ce9dcdbff"
      }
     },
     "cd77d3f74cf1465f8366eed93d0e6512": {
      "model_module": "@jupyter-widgets/controls",
      "model_module_version": "1.5.0",
      "model_name": "GridBoxModel",
      "state": {
       "children": [
        "IPY_MODEL_bdc1110576a848cbabc6347c4fac4993",
        "IPY_MODEL_b1f5953e56f640468e207beb81578169",
        "IPY_MODEL_2ea622a3099f4c338b0f1803bed373df",
        "IPY_MODEL_09e600fd703e4dc99828ba92f645b0a7"
       ],
       "layout": "IPY_MODEL_994857860e26473faa1da8be97651e48"
      }
     },
     "cde37825a1724f21bf2a98900ce01947": {
      "model_module": "@jupyter-widgets/base",
      "model_module_version": "1.2.0",
      "model_name": "LayoutModel",
      "state": {
       "grid_area": "widget004",
       "grid_template_areas": "\". widget002 widget003 widget001 widget004\"",
       "grid_template_columns": "auto 40px 70px 60px 40px",
       "grid_template_rows": "40px"
      }
     },
     "ced96b3b359f4cc3b59e7e39b8da9c50": {
      "model_module": "@jupyter-widgets/controls",
      "model_module_version": "1.5.0",
      "model_name": "ButtonStyleModel",
      "state": {}
     },
     "cf0311cab28c4848b800083bbffdfb1b": {
      "model_module": "@jupyter-widgets/base",
      "model_module_version": "1.2.0",
      "model_name": "LayoutModel",
      "state": {
       "align_items": "center",
       "grid_template_areas": "\"widget001\"\n\"widget002\"\n\"widget003\"\n\"widget004\"\n\"widget005\"\n\"widget006\"\n\"widget007\"",
       "grid_template_columns": "auto",
       "grid_template_rows": "auto"
      }
     },
     "cf09730125cc4274909eff5b110ed1fe": {
      "model_module": "@jupyter-widgets/controls",
      "model_module_version": "1.5.0",
      "model_name": "DescriptionStyleModel",
      "state": {
       "description_width": ""
      }
     },
     "cf6e7a08902345a2a7d5beb46f94d21b": {
      "model_module": "@jupyter-widgets/controls",
      "model_module_version": "1.5.0",
      "model_name": "DescriptionStyleModel",
      "state": {
       "description_width": ""
      }
     },
     "cfbbcc151c77453180b1a0fd4d276507": {
      "model_module": "@jupyter-widgets/controls",
      "model_module_version": "1.5.0",
      "model_name": "HTMLModel",
      "state": {
       "layout": "IPY_MODEL_f55fb34bd8f049a0b12ee412bcaec7dc",
       "style": "IPY_MODEL_8dec07b15dd14c4fa331c279db31d3fc",
       "value": "<span style='font-size:20px;'> <b>风格偏好</b> </span>"
      }
     },
     "cfdbd2c1d3d54a6884da648c7f457ee7": {
      "model_module": "@jupyter-widgets/base",
      "model_module_version": "1.2.0",
      "model_name": "LayoutModel",
      "state": {
       "grid_area": "widget005",
       "grid_template_areas": "\". widget002 widget003 widget001 widget004\"",
       "grid_template_columns": "auto 40px 70px 60px 40px",
       "grid_template_rows": "40px"
      }
     },
     "d0c05a697d9a43248af98f4121ef556c": {
      "model_module": "@jupyter-widgets/base",
      "model_module_version": "1.2.0",
      "model_name": "LayoutModel",
      "state": {
       "grid_area": "widget005"
      }
     },
     "d0c85ac3af3446b88908c7ad7ec1a27b": {
      "model_module": "@jupyter-widgets/base",
      "model_module_version": "1.2.0",
      "model_name": "LayoutModel",
      "state": {
       "grid_area": "widget001"
      }
     },
     "d13756d38ccf40e3b026a2dba5e0774d": {
      "model_module": "@jupyter-widgets/controls",
      "model_module_version": "1.5.0",
      "model_name": "DescriptionStyleModel",
      "state": {
       "description_width": ""
      }
     },
     "d1496ca4fa7e4470abc0bf04a8d2f369": {
      "model_module": "@jupyter-widgets/base",
      "model_module_version": "1.2.0",
      "model_name": "LayoutModel",
      "state": {
       "align_items": "center",
       "grid_area": "widget002",
       "grid_template_areas": "\"widget001 widget003 widget005 widget008\"\n\"widget001 widget003 widget006 widget009\"\n\"widget002 widget004 widget007 widget010\"",
       "grid_template_columns": "auto auto auto auto",
       "grid_template_rows": "auto auto auto",
       "justify_items": "center"
      }
     },
     "d15a21d9b9384cf5b4656ea6041b6ea4": {
      "model_module": "@jupyter-widgets/controls",
      "model_module_version": "1.5.0",
      "model_name": "HTMLModel",
      "state": {
       "layout": "IPY_MODEL_e003e7c5e360419db19f5a5ef59c5c3c",
       "style": "IPY_MODEL_a7817556caff43b6ac3137f33b9f24b4",
       "value": "/836页"
      }
     },
     "d2250ee5362f4f2882a76e5c44affeb4": {
      "model_module": "@jupyter-widgets/controls",
      "model_module_version": "1.5.0",
      "model_name": "DescriptionStyleModel",
      "state": {
       "description_width": ""
      }
     },
     "d260c94c884546e48e2b64523ecdf39e": {
      "model_module": "@jupyter-widgets/base",
      "model_module_version": "1.2.0",
      "model_name": "LayoutModel",
      "state": {
       "align_items": "center",
       "grid_area": "widget002",
       "grid_template_areas": "\"widget001\"\n\"widget002\"",
       "grid_template_columns": "auto",
       "grid_template_rows": "60px auto"
      }
     },
     "d2a1929e47644990b4793685d1ba4eb2": {
      "model_module": "@jupyter-widgets/base",
      "model_module_version": "1.2.0",
      "model_name": "LayoutModel",
      "state": {
       "grid_area": "widget004",
       "width": "30px"
      }
     },
     "d2a61bd8491a4121b6135ce810c5c83b": {
      "model_module": "@jupyter-widgets/base",
      "model_module_version": "1.2.0",
      "model_name": "LayoutModel",
      "state": {
       "grid_area": "widget002",
       "width": "30px"
      }
     },
     "d31e9cc1834b4322a52b7694ffa2bea0": {
      "model_module": "@jupyter-widgets/base",
      "model_module_version": "1.2.0",
      "model_name": "LayoutModel",
      "state": {
       "align_items": "center",
       "grid_area": "widget001",
       "grid_template_areas": "\"widget001\"\n\"widget002\"",
       "grid_template_columns": "auto",
       "grid_template_rows": "60px auto"
      }
     },
     "d3b1915d11604b5fa076378e0dc7046f": {
      "model_module": "@jupyter-widgets/controls",
      "model_module_version": "1.5.0",
      "model_name": "ButtonModel",
      "state": {
       "icon": "angle-left",
       "layout": "IPY_MODEL_377f0d654bbd49e288c2d034e684f63e",
       "style": "IPY_MODEL_7e7a3133864443bc992a48a5737e3b93",
       "tooltip": "上一页"
      }
     },
     "d3e7f659686547a98a455586050e51b8": {
      "model_module": "@jupyter-widgets/controls",
      "model_module_version": "1.5.0",
      "model_name": "ButtonModel",
      "state": {
       "icon": "angle-left",
       "layout": "IPY_MODEL_3d60a21c98824e1587c7cd79fa55971e",
       "style": "IPY_MODEL_a0ed14ae84cb4942adf852cf49ae9394",
       "tooltip": "上一页"
      }
     },
     "d471d5317f5843eb8b7b303f6f247e4f": {
      "model_module": "@jupyter-widgets/controls",
      "model_module_version": "1.5.0",
      "model_name": "DescriptionStyleModel",
      "state": {
       "description_width": ""
      }
     },
     "d522593086f54cc6aa7f0ae734ee6c44": {
      "model_module": "@jupyter-widgets/controls",
      "model_module_version": "1.5.0",
      "model_name": "HTMLModel",
      "state": {
       "layout": "IPY_MODEL_899f7270953e422d97b2765724a100ea",
       "style": "IPY_MODEL_2d08738919da4d9982a0988575fbfe73",
       "value": "最大回撤&nbsp;&nbsp;&nbsp;&nbsp;&nbsp;&nbsp;&nbsp;<b>6.64%</b>"
      }
     },
     "d5b964270da44d3caa2a74fb9fcca920": {
      "model_module": "@jupyter-widgets/base",
      "model_module_version": "1.2.0",
      "model_name": "LayoutModel",
      "state": {
       "grid_area": "widget003",
       "width": "60px"
      }
     },
     "d6900789fe47476f83754e9471e4a53e": {
      "model_module": "@jupyter-widgets/controls",
      "model_module_version": "1.5.0",
      "model_name": "ButtonModel",
      "state": {
       "description": "下载",
       "icon": "download",
       "layout": "IPY_MODEL_b8f58f9709534ad3b4a0d46f1f42f589",
       "style": "IPY_MODEL_b82e0788b2784335a1c15e72bc14bbdd",
       "tooltip": "下载持仓详情表格"
      }
     },
     "d69a689c2e164c3db0eafd9917a5f63d": {
      "model_module": "@jupyter-widgets/output",
      "model_module_version": "1.0.0",
      "model_name": "OutputModel",
      "state": {
       "layout": "IPY_MODEL_73f107d702d84e12ace2d1bbed39702f",
       "outputs": [
        {
         "data": {
          "text/html": "<style  type=\"text/css\" >\n#T_777fa_row0_col0,#T_777fa_row1_col0,#T_777fa_row2_col0{\n            background-color:  #b40426;\n            color:  #f1f1f1;\n            width:  500px;\n        }#T_777fa_row0_col1{\n            background-color:  #bbd1f8;\n            color:  #000000;\n            width:  500px;\n        }#T_777fa_row0_col2{\n            background-color:  #abc8fd;\n            color:  #000000;\n            width:  500px;\n        }#T_777fa_row0_col3{\n            background-color:  #dddcdc;\n            color:  #000000;\n            width:  500px;\n        }#T_777fa_row0_col4{\n            background-color:  #9fbfff;\n            color:  #000000;\n            width:  500px;\n        }#T_777fa_row0_col5{\n            background-color:  #dfdbd9;\n            color:  #000000;\n            width:  500px;\n        }#T_777fa_row0_col6{\n            background-color:  #f5c0a7;\n            color:  #000000;\n            width:  500px;\n        }#T_777fa_row0_col7{\n            background-color:  #b3cdfb;\n            color:  #000000;\n            width:  500px;\n        }#T_777fa_row0_col8,#T_777fa_row1_col9,#T_777fa_row2_col8{\n            background-color:  #3b4cc0;\n            color:  #f1f1f1;\n            width:  500px;\n        }#T_777fa_row0_col9{\n            background-color:  #5673e0;\n            color:  #000000;\n            width:  500px;\n        }#T_777fa_row1_col1{\n            background-color:  #aac7fd;\n            color:  #000000;\n            width:  500px;\n        }#T_777fa_row1_col2,#T_777fa_row1_col4{\n            background-color:  #a6c4fe;\n            color:  #000000;\n            width:  500px;\n        }#T_777fa_row1_col3{\n            background-color:  #e6d7cf;\n            color:  #000000;\n            width:  500px;\n        }#T_777fa_row1_col5{\n            background-color:  #ecd3c5;\n            color:  #000000;\n            width:  500px;\n        }#T_777fa_row1_col6{\n            background-color:  #e46e56;\n            color:  #000000;\n            width:  500px;\n        }#T_777fa_row1_col7{\n            background-color:  #aec9fc;\n            color:  #000000;\n            width:  500px;\n        }#T_777fa_row1_col8{\n            background-color:  #81a4fb;\n            color:  #000000;\n            width:  500px;\n        }#T_777fa_row2_col1{\n            background-color:  #f4c5ad;\n            color:  #000000;\n            width:  500px;\n        }#T_777fa_row2_col2{\n            background-color:  #e8d6cc;\n            color:  #000000;\n            width:  500px;\n        }#T_777fa_row2_col3{\n            background-color:  #f1ccb8;\n            color:  #000000;\n            width:  500px;\n        }#T_777fa_row2_col4,#T_777fa_row2_col6,#T_777fa_row2_col9{\n            background-color:  #d8dce2;\n            color:  #000000;\n            width:  500px;\n        }#T_777fa_row2_col5,#T_777fa_row2_col7{\n            background-color:  #edd1c2;\n            color:  #000000;\n            width:  500px;\n        }</style><table id=\"T_777fa_\" ><thead>    <tr>        <th class=\"blank level0\" ></th>        <th class=\"col_heading level0 col0\" >beta</th>        <th class=\"col_heading level0 col1\" >btop</th>        <th class=\"col_heading level0 col2\" >earnyild</th>        <th class=\"col_heading level0 col3\" >growth</th>        <th class=\"col_heading level0 col4\" >leverage</th>        <th class=\"col_heading level0 col5\" >liquidty</th>        <th class=\"col_heading level0 col6\" >momentum</th>        <th class=\"col_heading level0 col7\" >resvol</th>        <th class=\"col_heading level0 col8\" >size</th>        <th class=\"col_heading level0 col9\" >sizenl</th>    </tr></thead><tbody>\n                <tr>\n                        <th id=\"T_777fa_level0_row0\" class=\"row_heading level0 row0\" >mean</th>\n                        <td id=\"T_777fa_row0_col0\" class=\"data row0 col0\" >0.35</td>\n                        <td id=\"T_777fa_row0_col1\" class=\"data row0 col1\" >-0.18</td>\n                        <td id=\"T_777fa_row0_col2\" class=\"data row0 col2\" >-0.22</td>\n                        <td id=\"T_777fa_row0_col3\" class=\"data row0 col3\" >-0.08</td>\n                        <td id=\"T_777fa_row0_col4\" class=\"data row0 col4\" >-0.25</td>\n                        <td id=\"T_777fa_row0_col5\" class=\"data row0 col5\" >-0.07</td>\n                        <td id=\"T_777fa_row0_col6\" class=\"data row0 col6\" >0.04</td>\n                        <td id=\"T_777fa_row0_col7\" class=\"data row0 col7\" >-0.20</td>\n                        <td id=\"T_777fa_row0_col8\" class=\"data row0 col8\" >-0.51</td>\n                        <td id=\"T_777fa_row0_col9\" class=\"data row0 col9\" >-0.43</td>\n            </tr>\n            <tr>\n                        <th id=\"T_777fa_level0_row1\" class=\"row_heading level0 row1\" >2021</th>\n                        <td id=\"T_777fa_row1_col0\" class=\"data row1 col0\" >0.29</td>\n                        <td id=\"T_777fa_row1_col1\" class=\"data row1 col1\" >-0.23</td>\n                        <td id=\"T_777fa_row1_col2\" class=\"data row1 col2\" >-0.24</td>\n                        <td id=\"T_777fa_row1_col3\" class=\"data row1 col3\" >-0.07</td>\n                        <td id=\"T_777fa_row1_col4\" class=\"data row1 col4\" >-0.24</td>\n                        <td id=\"T_777fa_row1_col5\" class=\"data row1 col5\" >-0.05</td>\n                        <td id=\"T_777fa_row1_col6\" class=\"data row1 col6\" >0.17</td>\n                        <td id=\"T_777fa_row1_col7\" class=\"data row1 col7\" >-0.22</td>\n                        <td id=\"T_777fa_row1_col8\" class=\"data row1 col8\" >-0.32</td>\n                        <td id=\"T_777fa_row1_col9\" class=\"data row1 col9\" >-0.49</td>\n            </tr>\n            <tr>\n                        <th id=\"T_777fa_level0_row2\" class=\"row_heading level0 row2\" >2022</th>\n                        <td id=\"T_777fa_row2_col0\" class=\"data row2 col0\" >0.50</td>\n                        <td id=\"T_777fa_row2_col1\" class=\"data row2 col1\" >-0.06</td>\n                        <td id=\"T_777fa_row2_col2\" class=\"data row2 col2\" >-0.18</td>\n                        <td id=\"T_777fa_row2_col3\" class=\"data row2 col3\" >-0.10</td>\n                        <td id=\"T_777fa_row2_col4\" class=\"data row2 col4\" >-0.27</td>\n                        <td id=\"T_777fa_row2_col5\" class=\"data row2 col5\" >-0.14</td>\n                        <td id=\"T_777fa_row2_col6\" class=\"data row2 col6\" >-0.27</td>\n                        <td id=\"T_777fa_row2_col7\" class=\"data row2 col7\" >-0.14</td>\n                        <td id=\"T_777fa_row2_col8\" class=\"data row2 col8\" >-0.99</td>\n                        <td id=\"T_777fa_row2_col9\" class=\"data row2 col9\" >-0.27</td>\n            </tr>\n    </tbody></table>",
          "text/plain": "<pandas.io.formats.style.Styler at 0x7f39d06192b0>"
         },
         "metadata": {},
         "output_type": "display_data"
        }
       ]
      }
     },
     "d6c1fa1c851a428da72417cee798bb9f": {
      "model_module": "@jupyter-widgets/controls",
      "model_module_version": "1.5.0",
      "model_name": "DescriptionStyleModel",
      "state": {
       "description_width": ""
      }
     },
     "d786f55e149e43e49047a6c8c3df733e": {
      "model_module": "@jupyter-widgets/base",
      "model_module_version": "1.2.0",
      "model_name": "LayoutModel",
      "state": {
       "align_items": "center",
       "grid_area": "widget007",
       "grid_template_areas": "\"widget001 widget002 . widget003\"\n\"widget004 widget004 widget004 widget004\"\n\"widget005 widget005 widget005 widget005\"",
       "grid_template_columns": "100px 130px auto 80px",
       "grid_template_rows": "60px auto 40px"
      }
     },
     "d7a3077e82dc41a58aedc41e9d2cee3e": {
      "model_module": "@jupyter-widgets/output",
      "model_module_version": "1.0.0",
      "model_name": "OutputModel",
      "state": {
       "layout": "IPY_MODEL_81c40e5a738948348ed2ce03fc55ae0e",
       "outputs": [
        {
         "data": {
          "text/html": "<style  type=\"text/css\" >\n#T_880a6_row0_col0,#T_880a6_row0_col3,#T_880a6_row0_col4,#T_880a6_row0_col5,#T_880a6_row1_col0,#T_880a6_row1_col3,#T_880a6_row1_col4,#T_880a6_row1_col5{\n            width:  500px;\n        }#T_880a6_row0_col1,#T_880a6_row0_col2,#T_880a6_row0_col6,#T_880a6_row0_col7,#T_880a6_row0_col8,#T_880a6_row0_col9,#T_880a6_row0_col11,#T_880a6_row1_col6,#T_880a6_row1_col7,#T_880a6_row1_col8{\n            color:  red;\n            width:  500px;\n        }#T_880a6_row0_col10,#T_880a6_row1_col1,#T_880a6_row1_col2,#T_880a6_row1_col9,#T_880a6_row1_col10,#T_880a6_row1_col11{\n            color:  green;\n            width:  500px;\n        }</style><table id=\"T_880a6_\" ><thead>    <tr>        <th class=\"col_heading level0 col0\" >策略</th>        <th class=\"col_heading level0 col1\" >累计收益率</th>        <th class=\"col_heading level0 col2\" >年化收益率</th>        <th class=\"col_heading level0 col3\" >最大回撤</th>        <th class=\"col_heading level0 col4\" >胜率</th>        <th class=\"col_heading level0 col5\" >夏普比率</th>        <th class=\"col_heading level0 col6\" >今日收益率</th>        <th class=\"col_heading level0 col7\" >近一周收益率</th>        <th class=\"col_heading level0 col8\" >近一月收益率</th>        <th class=\"col_heading level0 col9\" >近三月收益率</th>        <th class=\"col_heading level0 col10\" >近半年收益率</th>        <th class=\"col_heading level0 col11\" >近一年收益率</th>    </tr></thead><tbody>\n                <tr>\n                                <td id=\"T_880a6_row0_col0\" class=\"data row0 col0\" >本策略</td>\n                        <td id=\"T_880a6_row0_col1\" class=\"data row0 col1\" >24.13%</td>\n                        <td id=\"T_880a6_row0_col2\" class=\"data row0 col2\" >17.50%</td>\n                        <td id=\"T_880a6_row0_col3\" class=\"data row0 col3\" >29.72%</td>\n                        <td id=\"T_880a6_row0_col4\" class=\"data row0 col4\" >54.33%</td>\n                        <td id=\"T_880a6_row0_col5\" class=\"data row0 col5\" >0.58</td>\n                        <td id=\"T_880a6_row0_col6\" class=\"data row0 col6\" >1.14%</td>\n                        <td id=\"T_880a6_row0_col7\" class=\"data row0 col7\" >4.88%</td>\n                        <td id=\"T_880a6_row0_col8\" class=\"data row0 col8\" >24.20%</td>\n                        <td id=\"T_880a6_row0_col9\" class=\"data row0 col9\" >0.53%</td>\n                        <td id=\"T_880a6_row0_col10\" class=\"data row0 col10\" >-4.22%</td>\n                        <td id=\"T_880a6_row0_col11\" class=\"data row0 col11\" >22.71%</td>\n            </tr>\n            <tr>\n                                <td id=\"T_880a6_row1_col0\" class=\"data row1 col0\" >000905.SH</td>\n                        <td id=\"T_880a6_row1_col1\" class=\"data row1 col1\" >-5.89%</td>\n                        <td id=\"T_880a6_row1_col2\" class=\"data row1 col2\" >-4.43%</td>\n                        <td id=\"T_880a6_row1_col3\" class=\"data row1 col3\" >31.57%</td>\n                        <td id=\"T_880a6_row1_col4\" class=\"data row1 col4\" >-</td>\n                        <td id=\"T_880a6_row1_col5\" class=\"data row1 col5\" >-0.38</td>\n                        <td id=\"T_880a6_row1_col6\" class=\"data row1 col6\" >1.40%</td>\n                        <td id=\"T_880a6_row1_col7\" class=\"data row1 col7\" >4.80%</td>\n                        <td id=\"T_880a6_row1_col8\" class=\"data row1 col8\" >14.41%</td>\n                        <td id=\"T_880a6_row1_col9\" class=\"data row1 col9\" >-10.37%</td>\n                        <td id=\"T_880a6_row1_col10\" class=\"data row1 col10\" >-15.87%</td>\n                        <td id=\"T_880a6_row1_col11\" class=\"data row1 col11\" >-6.69%</td>\n            </tr>\n    </tbody></table>",
          "text/plain": "<pandas.io.formats.style.Styler at 0x7f39d06194f0>"
         },
         "metadata": {},
         "output_type": "display_data"
        }
       ]
      }
     },
     "d7c63dfa8eb0442c89158ff4beb249d9": {
      "model_module": "@jupyter-widgets/controls",
      "model_module_version": "1.5.0",
      "model_name": "HTMLModel",
      "state": {
       "layout": "IPY_MODEL_ca9332407e724218acd58b48a66e2e26",
       "style": "IPY_MODEL_39870365d5524e2f9d24dc871913e4df",
       "value": "<span style='font-size:20px;'> <b>交易详情</b> </span>"
      }
     },
     "d81b7f242d3c4c2ebb976b2bee95c360": {
      "model_module": "@jupyter-widgets/base",
      "model_module_version": "1.2.0",
      "model_name": "LayoutModel",
      "state": {
       "grid_area": "widget003",
       "width": "70px"
      }
     },
     "d88bc0a9e935471c8d67dc1c4e8869b5": {
      "model_module": "@jupyter-widgets/controls",
      "model_module_version": "1.5.0",
      "model_name": "GridBoxModel",
      "state": {
       "children": [
        "IPY_MODEL_910b34c29ff348a988379081d788b181",
        "IPY_MODEL_3bd3852880804e2b848cccbe62836a11"
       ],
       "layout": "IPY_MODEL_66ad827554304841a7729d1ffbe7556d"
      }
     },
     "d8b10d23d27d4806b24535512d54b258": {
      "model_module": "@jupyter-widgets/base",
      "model_module_version": "1.2.0",
      "model_name": "LayoutModel",
      "state": {
       "grid_area": "widget003"
      }
     },
     "d97de80a6aab4e68882d7090c7481bcd": {
      "model_module": "@jupyter-widgets/controls",
      "model_module_version": "1.5.0",
      "model_name": "DescriptionStyleModel",
      "state": {
       "description_width": ""
      }
     },
     "d9d9853f18ea4bf28ac82bffc4deb1c0": {
      "model_module": "@jupyter-widgets/controls",
      "model_module_version": "1.5.0",
      "model_name": "ButtonModel",
      "state": {
       "description": "下载",
       "icon": "download",
       "layout": "IPY_MODEL_01fa9a25f5764c8e9d9217d81a76cf6e",
       "style": "IPY_MODEL_4e920cd62d01413c9af5ebb3d4a4ccfe",
       "tooltip": "下载计划交易表格"
      }
     },
     "d9e3504e0dac4e2a928b83f7a92fc7c0": {
      "model_module": "@jupyter-widgets/controls",
      "model_module_version": "1.5.0",
      "model_name": "GridBoxModel",
      "state": {
       "children": [
        "IPY_MODEL_4c691f213e87488b8f81ad4df2f0e2e5",
        "IPY_MODEL_0b4806df679c41f09cb726c589c85256"
       ],
       "layout": "IPY_MODEL_b35c80f7f0194e10bf2bb31b7798ea93"
      }
     },
     "da5dfbe88ddd4f68b0d031d49b86f6ce": {
      "model_module": "@jupyter-widgets/base",
      "model_module_version": "1.2.0",
      "model_name": "LayoutModel",
      "state": {
       "grid_area": "widget004",
       "width": "30px"
      }
     },
     "daeb10cd8d1c4dec9720817649c0adb8": {
      "model_module": "@jupyter-widgets/controls",
      "model_module_version": "1.5.0",
      "model_name": "ButtonModel",
      "state": {
       "icon": "angle-right",
       "layout": "IPY_MODEL_bfa22da3030e4106b75f8ff57b9284bc",
       "style": "IPY_MODEL_cbda509b490949579174c58fdb6dad73",
       "tooltip": "下一页"
      }
     },
     "dbadcd7ba54144629121246249eae8d9": {
      "model_module": "@jupyter-widgets/controls",
      "model_module_version": "1.5.0",
      "model_name": "HTMLModel",
      "state": {
       "layout": "IPY_MODEL_63e19155333843b1ab80e0be8bbe2dcf",
       "style": "IPY_MODEL_589cb37879a44e06ab064ac0b6e55f35",
       "value": "<span style='font-size:20px;'> <b>持仓详情</b> </span>"
      }
     },
     "dc7dd089a6044b1782949b8fd578f9b7": {
      "model_module": "@jupyter-widgets/controls",
      "model_module_version": "1.5.0",
      "model_name": "ButtonStyleModel",
      "state": {}
     },
     "dcb7ddeb9e5b4632bd327a193ccc0a09": {
      "model_module": "@jupyter-widgets/base",
      "model_module_version": "1.2.0",
      "model_name": "LayoutModel",
      "state": {
       "grid_area": "widget002",
       "width": "70px"
      }
     },
     "dcdf823df48d46d69bdd3aa3a52a6de4": {
      "model_module": "@jupyter-widgets/controls",
      "model_module_version": "1.5.0",
      "model_name": "VBoxModel",
      "state": {
       "_dom_classes": [
        "widget-interact"
       ],
       "children": [
        "IPY_MODEL_41b5ccbc50b44e3ea2a67056f397fc5d"
       ],
       "layout": "IPY_MODEL_5feba6872079460faed68f146e7b76d8"
      }
     },
     "dd029ffec16b42f5b9a51d4b00db8c80": {
      "model_module": "@jupyter-widgets/base",
      "model_module_version": "1.2.0",
      "model_name": "LayoutModel",
      "state": {
       "grid_area": "widget003",
       "width": "60px"
      }
     },
     "dd2d77342f9f49ebabb0aa5fb4b98b31": {
      "model_module": "@jupyter-widgets/base",
      "model_module_version": "1.2.0",
      "model_name": "LayoutModel",
      "state": {
       "grid_area": "widget008"
      }
     },
     "dd46ebbddab6459b8c871f72329aeb88": {
      "model_module": "@jupyter-widgets/controls",
      "model_module_version": "1.5.0",
      "model_name": "ButtonStyleModel",
      "state": {}
     },
     "dda94dbe61bb4e5aa2d7c06b2a1ffe64": {
      "model_module": "@jupyter-widgets/base",
      "model_module_version": "1.2.0",
      "model_name": "LayoutModel",
      "state": {
       "grid_area": "widget005",
       "grid_template_areas": "\". widget002 widget003 widget001 widget004\"",
       "grid_template_columns": "auto 40px 70px 60px 40px",
       "grid_template_rows": "40px"
      }
     },
     "deab198f7fed40408540e1a6f0a61949": {
      "model_module": "@jupyter-widgets/controls",
      "model_module_version": "1.5.0",
      "model_name": "GridBoxModel",
      "state": {
       "children": [
        "IPY_MODEL_ec5d93bff6bc4fa5b1d3149c86a8aac4",
        "IPY_MODEL_4e759f3834134127b7d3bd101919f406"
       ],
       "layout": "IPY_MODEL_0d40481ffdb64f6097b6e9d2d7c5dc78"
      }
     },
     "df0ce0ecf340487ba376c049883f420a": {
      "model_module": "@jupyter-widgets/controls",
      "model_module_version": "1.5.0",
      "model_name": "DescriptionStyleModel",
      "state": {
       "description_width": ""
      }
     },
     "df7f52da08e7439090c78925a14db6fc": {
      "model_module": "@jupyter-widgets/controls",
      "model_module_version": "1.5.0",
      "model_name": "DescriptionStyleModel",
      "state": {
       "description_width": ""
      }
     },
     "e003e7c5e360419db19f5a5ef59c5c3c": {
      "model_module": "@jupyter-widgets/base",
      "model_module_version": "1.2.0",
      "model_name": "LayoutModel",
      "state": {
       "grid_area": "widget001"
      }
     },
     "e14f575922cf4b00b833a24c2085e8e4": {
      "model_module": "@jupyter-widgets/base",
      "model_module_version": "1.2.0",
      "model_name": "LayoutModel",
      "state": {
       "align_items": "center",
       "grid_area": "widget002",
       "grid_template_areas": "\"widget001 widget003 widget005 widget008\"\n\"widget001 widget003 widget006 widget009\"\n\"widget002 widget004 widget007 widget010\"",
       "grid_template_columns": "auto auto auto auto",
       "grid_template_rows": "auto auto auto",
       "justify_items": "center"
      }
     },
     "e187f539e3214e02858b981e64646ebf": {
      "model_module": "@jupyter-widgets/controls",
      "model_module_version": "1.5.0",
      "model_name": "GridBoxModel",
      "state": {
       "children": [
        "IPY_MODEL_d15a21d9b9384cf5b4656ea6041b6ea4",
        "IPY_MODEL_7506a29f14b84174a1823f21683186b6",
        "IPY_MODEL_0c16169c6950450887de49828330d05c",
        "IPY_MODEL_7560e9166f974dce968cd1d0e99c54db"
       ],
       "layout": "IPY_MODEL_76a3ae39a0e94ab9b57eb4074e600f1d"
      }
     },
     "e1e1ba446c1c46e2869cf413824dec25": {
      "model_module": "@jupyter-widgets/base",
      "model_module_version": "1.2.0",
      "model_name": "LayoutModel",
      "state": {
       "grid_area": "widget009"
      }
     },
     "e265ca830630447481409e8a50c5a924": {
      "model_module": "@jupyter-widgets/output",
      "model_module_version": "1.0.0",
      "model_name": "OutputModel",
      "state": {
       "layout": "IPY_MODEL_bb3e6c09792d4a3cb9dedaa301c9ced3",
       "outputs": [
        {
         "data": {
          "text/html": "<style  type=\"text/css\" >\n#T_5c429_row0_col0,#T_5c429_row0_col1,#T_5c429_row0_col2,#T_5c429_row0_col3,#T_5c429_row0_col4,#T_5c429_row0_col5,#T_5c429_row1_col0,#T_5c429_row1_col1,#T_5c429_row1_col2,#T_5c429_row1_col3,#T_5c429_row1_col4,#T_5c429_row1_col5,#T_5c429_row2_col0,#T_5c429_row2_col1,#T_5c429_row2_col2,#T_5c429_row2_col3,#T_5c429_row2_col4,#T_5c429_row2_col5,#T_5c429_row3_col0,#T_5c429_row3_col1,#T_5c429_row3_col2,#T_5c429_row3_col3,#T_5c429_row3_col4,#T_5c429_row3_col5,#T_5c429_row4_col0,#T_5c429_row4_col1,#T_5c429_row4_col2,#T_5c429_row4_col3,#T_5c429_row4_col4,#T_5c429_row4_col5,#T_5c429_row5_col0,#T_5c429_row5_col1,#T_5c429_row5_col2,#T_5c429_row5_col3,#T_5c429_row5_col4,#T_5c429_row5_col5,#T_5c429_row6_col0,#T_5c429_row6_col1,#T_5c429_row6_col2,#T_5c429_row6_col3,#T_5c429_row6_col4,#T_5c429_row6_col5,#T_5c429_row7_col0,#T_5c429_row7_col1,#T_5c429_row7_col2,#T_5c429_row7_col3,#T_5c429_row7_col4,#T_5c429_row7_col5,#T_5c429_row8_col0,#T_5c429_row8_col1,#T_5c429_row8_col2,#T_5c429_row8_col3,#T_5c429_row8_col4,#T_5c429_row8_col5,#T_5c429_row9_col0,#T_5c429_row9_col1,#T_5c429_row9_col2,#T_5c429_row9_col3,#T_5c429_row9_col4,#T_5c429_row9_col5,#T_5c429_row10_col0,#T_5c429_row10_col1,#T_5c429_row10_col2,#T_5c429_row10_col3,#T_5c429_row10_col4,#T_5c429_row10_col5,#T_5c429_row11_col0,#T_5c429_row11_col1,#T_5c429_row11_col2,#T_5c429_row11_col3,#T_5c429_row11_col4,#T_5c429_row11_col5,#T_5c429_row12_col0,#T_5c429_row12_col1,#T_5c429_row12_col2,#T_5c429_row12_col3,#T_5c429_row12_col4,#T_5c429_row12_col5,#T_5c429_row13_col0,#T_5c429_row13_col1,#T_5c429_row13_col2,#T_5c429_row13_col3,#T_5c429_row13_col4,#T_5c429_row13_col5,#T_5c429_row14_col0,#T_5c429_row14_col1,#T_5c429_row14_col2,#T_5c429_row14_col3,#T_5c429_row14_col4,#T_5c429_row14_col5,#T_5c429_row15_col0,#T_5c429_row15_col1,#T_5c429_row15_col2,#T_5c429_row15_col3,#T_5c429_row15_col4,#T_5c429_row15_col5,#T_5c429_row16_col0,#T_5c429_row16_col1,#T_5c429_row16_col2,#T_5c429_row16_col3,#T_5c429_row16_col4,#T_5c429_row16_col5,#T_5c429_row17_col0,#T_5c429_row17_col1,#T_5c429_row17_col2,#T_5c429_row17_col3,#T_5c429_row17_col4,#T_5c429_row17_col5,#T_5c429_row18_col0,#T_5c429_row18_col1,#T_5c429_row18_col2,#T_5c429_row18_col3,#T_5c429_row18_col4,#T_5c429_row18_col5,#T_5c429_row19_col0,#T_5c429_row19_col1,#T_5c429_row19_col2,#T_5c429_row19_col3,#T_5c429_row19_col4,#T_5c429_row19_col5{\n            width:  500px;\n        }</style><table id=\"T_5c429_\" ><thead>    <tr>        <th class=\"col_heading level0 col0\" >日期时间</th>        <th class=\"col_heading level0 col1\" >股票代码</th>        <th class=\"col_heading level0 col2\" >股票名称</th>        <th class=\"col_heading level0 col3\" >持仓数量</th>        <th class=\"col_heading level0 col4\" >资金仓位</th>        <th class=\"col_heading level0 col5\" >持仓权重</th>    </tr></thead><tbody>\n                <tr>\n                                <td id=\"T_5c429_row0_col0\" class=\"data row0 col0\" >2022-05-31</td>\n                        <td id=\"T_5c429_row0_col1\" class=\"data row0 col1\" >688613.SH</td>\n                        <td id=\"T_5c429_row0_col2\" class=\"data row0 col2\" >奥精医疗</td>\n                        <td id=\"T_5c429_row0_col3\" class=\"data row0 col3\" >207800</td>\n                        <td id=\"T_5c429_row0_col4\" class=\"data row0 col4\" >5689564.00</td>\n                        <td id=\"T_5c429_row0_col5\" class=\"data row0 col5\" >0.023418</td>\n            </tr>\n            <tr>\n                                <td id=\"T_5c429_row1_col0\" class=\"data row1 col0\" >2022-05-31</td>\n                        <td id=\"T_5c429_row1_col1\" class=\"data row1 col1\" >300141.SZ</td>\n                        <td id=\"T_5c429_row1_col2\" class=\"data row1 col2\" >和顺电气</td>\n                        <td id=\"T_5c429_row1_col3\" class=\"data row1 col3\" >521100</td>\n                        <td id=\"T_5c429_row1_col4\" class=\"data row1 col4\" >4502304.00</td>\n                        <td id=\"T_5c429_row1_col5\" class=\"data row1 col5\" >0.018531</td>\n            </tr>\n            <tr>\n                                <td id=\"T_5c429_row2_col0\" class=\"data row2 col0\" >2022-05-31</td>\n                        <td id=\"T_5c429_row2_col1\" class=\"data row2 col1\" >300538.SZ</td>\n                        <td id=\"T_5c429_row2_col2\" class=\"data row2 col2\" >同益股份</td>\n                        <td id=\"T_5c429_row2_col3\" class=\"data row2 col3\" >391600</td>\n                        <td id=\"T_5c429_row2_col4\" class=\"data row2 col4\" >4801016.00</td>\n                        <td id=\"T_5c429_row2_col5\" class=\"data row2 col5\" >0.019761</td>\n            </tr>\n            <tr>\n                                <td id=\"T_5c429_row3_col0\" class=\"data row3 col0\" >2022-05-31</td>\n                        <td id=\"T_5c429_row3_col1\" class=\"data row3 col1\" >300510.SZ</td>\n                        <td id=\"T_5c429_row3_col2\" class=\"data row3 col2\" >金冠股份</td>\n                        <td id=\"T_5c429_row3_col3\" class=\"data row3 col3\" >1111800</td>\n                        <td id=\"T_5c429_row3_col4\" class=\"data row3 col4\" >4836330.00</td>\n                        <td id=\"T_5c429_row3_col5\" class=\"data row3 col5\" >0.019906</td>\n            </tr>\n            <tr>\n                                <td id=\"T_5c429_row4_col0\" class=\"data row4 col0\" >2022-05-31</td>\n                        <td id=\"T_5c429_row4_col1\" class=\"data row4 col1\" >300490.SZ</td>\n                        <td id=\"T_5c429_row4_col2\" class=\"data row4 col2\" >华自科技</td>\n                        <td id=\"T_5c429_row4_col3\" class=\"data row4 col3\" >390200</td>\n                        <td id=\"T_5c429_row4_col4\" class=\"data row4 col4\" >4698008.00</td>\n                        <td id=\"T_5c429_row4_col5\" class=\"data row4 col5\" >0.019337</td>\n            </tr>\n            <tr>\n                                <td id=\"T_5c429_row5_col0\" class=\"data row5 col0\" >2022-05-31</td>\n                        <td id=\"T_5c429_row5_col1\" class=\"data row5 col1\" >300489.SZ</td>\n                        <td id=\"T_5c429_row5_col2\" class=\"data row5 col2\" >光智科技</td>\n                        <td id=\"T_5c429_row5_col3\" class=\"data row5 col3\" >284500</td>\n                        <td id=\"T_5c429_row5_col4\" class=\"data row5 col4\" >4591830.00</td>\n                        <td id=\"T_5c429_row5_col5\" class=\"data row5 col5\" >0.018900</td>\n            </tr>\n            <tr>\n                                <td id=\"T_5c429_row6_col0\" class=\"data row6 col0\" >2022-05-31</td>\n                        <td id=\"T_5c429_row6_col1\" class=\"data row6 col1\" >300449.SZ</td>\n                        <td id=\"T_5c429_row6_col2\" class=\"data row6 col2\" >汉邦高科</td>\n                        <td id=\"T_5c429_row6_col3\" class=\"data row6 col3\" >1114700</td>\n                        <td id=\"T_5c429_row6_col4\" class=\"data row6 col4\" >5406295.00</td>\n                        <td id=\"T_5c429_row6_col5\" class=\"data row6 col5\" >0.022252</td>\n            </tr>\n            <tr>\n                                <td id=\"T_5c429_row7_col0\" class=\"data row7 col0\" >2022-05-31</td>\n                        <td id=\"T_5c429_row7_col1\" class=\"data row7 col1\" >300410.SZ</td>\n                        <td id=\"T_5c429_row7_col2\" class=\"data row7 col2\" >正业科技</td>\n                        <td id=\"T_5c429_row7_col3\" class=\"data row7 col3\" >656900</td>\n                        <td id=\"T_5c429_row7_col4\" class=\"data row7 col4\" >5051561.00</td>\n                        <td id=\"T_5c429_row7_col5\" class=\"data row7 col5\" >0.020792</td>\n            </tr>\n            <tr>\n                                <td id=\"T_5c429_row8_col0\" class=\"data row8 col0\" >2022-05-31</td>\n                        <td id=\"T_5c429_row8_col1\" class=\"data row8 col1\" >300405.SZ</td>\n                        <td id=\"T_5c429_row8_col2\" class=\"data row8 col2\" >科隆股份</td>\n                        <td id=\"T_5c429_row8_col3\" class=\"data row8 col3\" >684100</td>\n                        <td id=\"T_5c429_row8_col4\" class=\"data row8 col4\" >3707822.00</td>\n                        <td id=\"T_5c429_row8_col5\" class=\"data row8 col5\" >0.015261</td>\n            </tr>\n            <tr>\n                                <td id=\"T_5c429_row9_col0\" class=\"data row9 col0\" >2022-05-31</td>\n                        <td id=\"T_5c429_row9_col1\" class=\"data row9 col1\" >300386.SZ</td>\n                        <td id=\"T_5c429_row9_col2\" class=\"data row9 col2\" >飞天诚信</td>\n                        <td id=\"T_5c429_row9_col3\" class=\"data row9 col3\" >423800</td>\n                        <td id=\"T_5c429_row9_col4\" class=\"data row9 col4\" >4428710.00</td>\n                        <td id=\"T_5c429_row9_col5\" class=\"data row9 col5\" >0.018228</td>\n            </tr>\n            <tr>\n                                <td id=\"T_5c429_row10_col0\" class=\"data row10 col0\" >2022-05-31</td>\n                        <td id=\"T_5c429_row10_col1\" class=\"data row10 col1\" >300307.SZ</td>\n                        <td id=\"T_5c429_row10_col2\" class=\"data row10 col2\" >慈星股份</td>\n                        <td id=\"T_5c429_row10_col3\" class=\"data row10 col3\" >1066100</td>\n                        <td id=\"T_5c429_row10_col4\" class=\"data row10 col4\" >5159924.00</td>\n                        <td id=\"T_5c429_row10_col5\" class=\"data row10 col5\" >0.021238</td>\n            </tr>\n            <tr>\n                                <td id=\"T_5c429_row11_col0\" class=\"data row11 col0\" >2022-05-31</td>\n                        <td id=\"T_5c429_row11_col1\" class=\"data row11 col1\" >300304.SZ</td>\n                        <td id=\"T_5c429_row11_col2\" class=\"data row11 col2\" >云意电气</td>\n                        <td id=\"T_5c429_row11_col3\" class=\"data row11 col3\" >1284600</td>\n                        <td id=\"T_5c429_row11_col4\" class=\"data row11 col4\" >6166080.00</td>\n                        <td id=\"T_5c429_row11_col5\" class=\"data row11 col5\" >0.025379</td>\n            </tr>\n            <tr>\n                                <td id=\"T_5c429_row12_col0\" class=\"data row12 col0\" >2022-05-31</td>\n                        <td id=\"T_5c429_row12_col1\" class=\"data row12 col1\" >300132.SZ</td>\n                        <td id=\"T_5c429_row12_col2\" class=\"data row12 col2\" >青松股份</td>\n                        <td id=\"T_5c429_row12_col3\" class=\"data row12 col3\" >826600</td>\n                        <td id=\"T_5c429_row12_col4\" class=\"data row12 col4\" >4967866.00</td>\n                        <td id=\"T_5c429_row12_col5\" class=\"data row12 col5\" >0.020447</td>\n            </tr>\n            <tr>\n                                <td id=\"T_5c429_row13_col0\" class=\"data row13 col0\" >2022-05-31</td>\n                        <td id=\"T_5c429_row13_col1\" class=\"data row13 col1\" >300611.SZ</td>\n                        <td id=\"T_5c429_row13_col2\" class=\"data row13 col2\" >美力科技</td>\n                        <td id=\"T_5c429_row13_col3\" class=\"data row13 col3\" >516400</td>\n                        <td id=\"T_5c429_row13_col4\" class=\"data row13 col4\" >4766372.00</td>\n                        <td id=\"T_5c429_row13_col5\" class=\"data row13 col5\" >0.019618</td>\n            </tr>\n            <tr>\n                                <td id=\"T_5c429_row14_col0\" class=\"data row14 col0\" >2022-05-31</td>\n                        <td id=\"T_5c429_row14_col1\" class=\"data row14 col1\" >300097.SZ</td>\n                        <td id=\"T_5c429_row14_col2\" class=\"data row14 col2\" >智云股份</td>\n                        <td id=\"T_5c429_row14_col3\" class=\"data row14 col3\" >854100</td>\n                        <td id=\"T_5c429_row14_col4\" class=\"data row14 col4\" >4475484.00</td>\n                        <td id=\"T_5c429_row14_col5\" class=\"data row14 col5\" >0.018421</td>\n            </tr>\n            <tr>\n                                <td id=\"T_5c429_row15_col0\" class=\"data row15 col0\" >2022-05-31</td>\n                        <td id=\"T_5c429_row15_col1\" class=\"data row15 col1\" >300079.SZ</td>\n                        <td id=\"T_5c429_row15_col2\" class=\"data row15 col2\" >数码视讯</td>\n                        <td id=\"T_5c429_row15_col3\" class=\"data row15 col3\" >883900</td>\n                        <td id=\"T_5c429_row15_col4\" class=\"data row15 col4\" >4410661.00</td>\n                        <td id=\"T_5c429_row15_col5\" class=\"data row15 col5\" >0.018154</td>\n            </tr>\n            <tr>\n                                <td id=\"T_5c429_row16_col0\" class=\"data row16 col0\" >2022-05-31</td>\n                        <td id=\"T_5c429_row16_col1\" class=\"data row16 col1\" >300040.SZ</td>\n                        <td id=\"T_5c429_row16_col2\" class=\"data row16 col2\" >九洲集团</td>\n                        <td id=\"T_5c429_row16_col3\" class=\"data row16 col3\" >589300</td>\n                        <td id=\"T_5c429_row16_col4\" class=\"data row16 col4\" >4072063.00</td>\n                        <td id=\"T_5c429_row16_col5\" class=\"data row16 col5\" >0.016760</td>\n            </tr>\n            <tr>\n                                <td id=\"T_5c429_row17_col0\" class=\"data row17 col0\" >2022-05-31</td>\n                        <td id=\"T_5c429_row17_col1\" class=\"data row17 col1\" >002553.SZ</td>\n                        <td id=\"T_5c429_row17_col2\" class=\"data row17 col2\" >南方精工</td>\n                        <td id=\"T_5c429_row17_col3\" class=\"data row17 col3\" >736000</td>\n                        <td id=\"T_5c429_row17_col4\" class=\"data row17 col4\" >6484160.00</td>\n                        <td id=\"T_5c429_row17_col5\" class=\"data row17 col5\" >0.026688</td>\n            </tr>\n            <tr>\n                                <td id=\"T_5c429_row18_col0\" class=\"data row18 col0\" >2022-05-31</td>\n                        <td id=\"T_5c429_row18_col1\" class=\"data row18 col1\" >002341.SZ</td>\n                        <td id=\"T_5c429_row18_col2\" class=\"data row18 col2\" >新纶新材</td>\n                        <td id=\"T_5c429_row18_col3\" class=\"data row18 col3\" >1363100</td>\n                        <td id=\"T_5c429_row18_col4\" class=\"data row18 col4\" >5425138.00</td>\n                        <td id=\"T_5c429_row18_col5\" class=\"data row18 col5\" >0.022329</td>\n            </tr>\n            <tr>\n                                <td id=\"T_5c429_row19_col0\" class=\"data row19 col0\" >2022-05-31</td>\n                        <td id=\"T_5c429_row19_col1\" class=\"data row19 col1\" >002213.SZ</td>\n                        <td id=\"T_5c429_row19_col2\" class=\"data row19 col2\" >大为股份</td>\n                        <td id=\"T_5c429_row19_col3\" class=\"data row19 col3\" >414500</td>\n                        <td id=\"T_5c429_row19_col4\" class=\"data row19 col4\" >5525285.00</td>\n                        <td id=\"T_5c429_row19_col5\" class=\"data row19 col5\" >0.022742</td>\n            </tr>\n    </tbody></table>",
          "text/plain": "<pandas.io.formats.style.Styler at 0x7f39d4ef9bb0>"
         },
         "metadata": {},
         "output_type": "display_data"
        }
       ]
      }
     },
     "e2754ec1951c4a49adc0c3038f289c14": {
      "model_module": "@jupyter-widgets/controls",
      "model_module_version": "1.5.0",
      "model_name": "HTMLModel",
      "state": {
       "layout": "IPY_MODEL_601d6f6e9a574d8e9b31d1079fa45e6e",
       "style": "IPY_MODEL_0c2e807250ea455db93d570ead34eb5e",
       "value": "夏普比率&nbsp;&nbsp;&nbsp;&nbsp;&nbsp;&nbsp;&nbsp;<b>0.58</b>"
      }
     },
     "e3009d4c8d754a81b27780d514c6faa7": {
      "model_module": "@jupyter-widgets/base",
      "model_module_version": "1.2.0",
      "model_name": "LayoutModel",
      "state": {
       "grid_area": "widget005"
      }
     },
     "e3638e37092748e18a9e488521d66597": {
      "model_module": "@jupyter-widgets/controls",
      "model_module_version": "1.5.0",
      "model_name": "DescriptionStyleModel",
      "state": {
       "description_width": ""
      }
     },
     "e39dea5c969840df88631df1e35285b7": {
      "model_module": "@jupyter-widgets/base",
      "model_module_version": "1.2.0",
      "model_name": "LayoutModel",
      "state": {
       "align_items": "center",
       "grid_area": "widget005",
       "grid_template_areas": "\"widget001 . . widget002\"\n\"widget003 widget003 widget003 widget003\"\n\"widget004 widget004 widget004 widget004\"",
       "grid_template_columns": "100px 130px auto 80px",
       "grid_template_rows": "60px auto 40px"
      }
     },
     "e41713c1342c4ae89685db710ccfbb64": {
      "model_module": "@jupyter-widgets/base",
      "model_module_version": "1.2.0",
      "model_name": "LayoutModel",
      "state": {
       "grid_area": "widget001"
      }
     },
     "e43cbb966fd64768b4500b1bd4aefa85": {
      "model_module": "@jupyter-widgets/controls",
      "model_module_version": "1.5.0",
      "model_name": "ButtonStyleModel",
      "state": {}
     },
     "e46ca4e59a06467088b8b8a891705f7d": {
      "model_module": "@jupyter-widgets/base",
      "model_module_version": "1.2.0",
      "model_name": "LayoutModel",
      "state": {
       "grid_area": "widget003",
       "width": "60px"
      }
     },
     "e4a84abd1cc547e88c46e15cefb12834": {
      "model_module": "@jupyter-widgets/controls",
      "model_module_version": "1.5.0",
      "model_name": "HTMLModel",
      "state": {
       "layout": "IPY_MODEL_e5ca687917014116adb9a30ecbe4c285",
       "style": "IPY_MODEL_b363ab0181b44a849067c447b22bf7d1",
       "value": "初始资金&nbsp;&nbsp;&nbsp;&nbsp;&nbsp;&nbsp;<b>200000000</b>"
      }
     },
     "e4ca3810aa0949f190f3316b99abf53c": {
      "model_module": "@jupyter-widgets/base",
      "model_module_version": "1.2.0",
      "model_name": "LayoutModel",
      "state": {
       "grid_area": "widget001"
      }
     },
     "e513766b3c34430fafda701eaae4fc22": {
      "model_module": "@jupyter-widgets/base",
      "model_module_version": "1.2.0",
      "model_name": "LayoutModel",
      "state": {
       "grid_area": "widget004",
       "grid_template_areas": "\". widget002 widget003 widget001 widget004\"",
       "grid_template_columns": "auto 40px 70px 60px 40px",
       "grid_template_rows": "40px"
      }
     },
     "e5ca687917014116adb9a30ecbe4c285": {
      "model_module": "@jupyter-widgets/base",
      "model_module_version": "1.2.0",
      "model_name": "LayoutModel",
      "state": {
       "grid_area": "widget007"
      }
     },
     "e64d116c7f7541918df0c8acf381a6f8": {
      "model_module": "@jupyter-widgets/controls",
      "model_module_version": "1.5.0",
      "model_name": "ButtonStyleModel",
      "state": {}
     },
     "e7f0bb0522d944ff8ba9b05cd6a3bb54": {
      "model_module": "@jupyter-widgets/controls",
      "model_module_version": "1.5.0",
      "model_name": "VBoxModel",
      "state": {
       "_dom_classes": [
        "widget-interact"
       ],
       "children": [
        "IPY_MODEL_b641326dd148433994ef625332bd60c0"
       ],
       "layout": "IPY_MODEL_a2e6ec74011941358a60ca00fb0f0d16"
      }
     },
     "e8115d70e00842cd8a753d795f3a0891": {
      "model_module": "@jupyter-widgets/controls",
      "model_module_version": "1.5.0",
      "model_name": "DescriptionStyleModel",
      "state": {
       "description_width": ""
      }
     },
     "e85b3b660eb74985ae51f4c6883b1552": {
      "model_module": "@jupyter-widgets/controls",
      "model_module_version": "1.5.0",
      "model_name": "HTMLModel",
      "state": {
       "layout": "IPY_MODEL_1e7a5bade00e4f609d05bdcf405fc6c9",
       "style": "IPY_MODEL_d471d5317f5843eb8b7b303f6f247e4f",
       "value": "<span style='font-size:20px;'> <b>策略名称</b> </span>"
      }
     },
     "e8882a16785e44d9a8f04fd062fc42bf": {
      "model_module": "@jupyter-widgets/controls",
      "model_module_version": "1.5.0",
      "model_name": "ButtonStyleModel",
      "state": {}
     },
     "e8d126ddc37847e2983f80670f5704b8": {
      "model_module": "@jupyter-widgets/base",
      "model_module_version": "1.2.0",
      "model_name": "LayoutModel",
      "state": {
       "grid_area": "widget010"
      }
     },
     "e9d3dcdaf9af4bc39232a2581cb64edb": {
      "model_module": "@jupyter-widgets/controls",
      "model_module_version": "1.5.0",
      "model_name": "GridBoxModel",
      "state": {
       "children": [
        "IPY_MODEL_f2a86b34513b470e92f85953cf61d07c",
        "IPY_MODEL_6c2aa92f1f50495a8ebca84670c4070d",
        "IPY_MODEL_d9e3504e0dac4e2a928b83f7a92fc7c0",
        "IPY_MODEL_7e0c21b70e02426aa05ed1b81b186a15",
        "IPY_MODEL_627bdd2778674ebba5683d1fe3888f7d",
        "IPY_MODEL_2a79ebb06daf43e2b0894f0d46048e5a",
        "IPY_MODEL_b4c7e2e6b9a9417aacfde7a498c2ce30"
       ],
       "layout": "IPY_MODEL_cf0311cab28c4848b800083bbffdfb1b"
      }
     },
     "ea782440f35345829b279e8fc9cd85d0": {
      "model_module": "@jupyter-widgets/controls",
      "model_module_version": "1.5.0",
      "model_name": "DescriptionStyleModel",
      "state": {
       "description_width": ""
      }
     },
     "eaf37433249c4dbe8e49dbf533254759": {
      "model_module": "@jupyter-widgets/controls",
      "model_module_version": "1.5.0",
      "model_name": "GridBoxModel",
      "state": {
       "children": [
        "IPY_MODEL_3f75098f3b6f4866bc971cbb5db70bc4",
        "IPY_MODEL_a159982d02864a2d8cb0dea0fdcd43f0",
        "IPY_MODEL_34eb4635af484e958e687496aeb3f2cb",
        "IPY_MODEL_730eec0c33844775becefd5188cac88c"
       ],
       "layout": "IPY_MODEL_e513766b3c34430fafda701eaae4fc22"
      }
     },
     "eafd09f569b9453ab787202f8cf20470": {
      "model_module": "@jupyter-widgets/base",
      "model_module_version": "1.2.0",
      "model_name": "LayoutModel",
      "state": {
       "grid_area": "widget002"
      }
     },
     "eb137ac63ad6426dbb766f5678e549dd": {
      "model_module": "@jupyter-widgets/controls",
      "model_module_version": "1.5.0",
      "model_name": "ButtonModel",
      "state": {
       "icon": "angle-right",
       "layout": "IPY_MODEL_9e1bb55b0e13452c8a0411031d49457b",
       "style": "IPY_MODEL_820f328942e04878a328076f94c6a438",
       "tooltip": "下一页"
      }
     },
     "ec107b568c3c41bdab27e34a4f1048b0": {
      "model_module": "@jupyter-widgets/controls",
      "model_module_version": "1.5.0",
      "model_name": "ButtonStyleModel",
      "state": {}
     },
     "ec38aff1c2cd4d2f80c43085f4afef2a": {
      "model_module": "@jupyter-widgets/controls",
      "model_module_version": "1.5.0",
      "model_name": "HTMLModel",
      "state": {
       "layout": "IPY_MODEL_3dcf0d4062f14ae1bffc29481bff40d5",
       "style": "IPY_MODEL_d13756d38ccf40e3b026a2dba5e0774d",
       "value": "/1页"
      }
     },
     "ec5af206865d4e94a2b91d176c9c917d": {
      "model_module": "@jupyter-widgets/controls",
      "model_module_version": "1.5.0",
      "model_name": "HTMLModel",
      "state": {
       "layout": "IPY_MODEL_3fd9f536307f4da7b6b477bc938dda68",
       "style": "IPY_MODEL_ee7d5358be484986b00629b1631fd5bc",
       "value": "<span style='font-size:20px;'> <b>收益率走势</b> </span>"
      }
     },
     "ec5d93bff6bc4fa5b1d3149c86a8aac4": {
      "model_module": "@jupyter-widgets/controls",
      "model_module_version": "1.5.0",
      "model_name": "HTMLModel",
      "state": {
       "layout": "IPY_MODEL_52cd3d532dba425d8c7612ceefd66671",
       "style": "IPY_MODEL_49632b5cd03746288b67177c40f93110",
       "value": "<span style='font-size:20px;'> <b>收益统计</b> </span>"
      }
     },
     "ecca199b453347cd953021b06d08f798": {
      "model_module": "@jupyter-widgets/base",
      "model_module_version": "1.2.0",
      "model_name": "LayoutModel",
      "state": {
       "grid_area": "widget001"
      }
     },
     "ed3e2e08298e41c7a175c9a2159d99a0": {
      "model_module": "@jupyter-widgets/base",
      "model_module_version": "1.2.0",
      "model_name": "LayoutModel",
      "state": {
       "grid_area": "widget002"
      }
     },
     "ed50a1d2bd1f413f811c686741b07b6e": {
      "model_module": "@jupyter-widgets/controls",
      "model_module_version": "1.5.0",
      "model_name": "DescriptionStyleModel",
      "state": {
       "description_width": ""
      }
     },
     "ee7d5358be484986b00629b1631fd5bc": {
      "model_module": "@jupyter-widgets/controls",
      "model_module_version": "1.5.0",
      "model_name": "DescriptionStyleModel",
      "state": {
       "description_width": ""
      }
     },
     "f14701572e25447e89a6b4d39e414d6f": {
      "model_module": "@jupyter-widgets/controls",
      "model_module_version": "1.5.0",
      "model_name": "HTMLModel",
      "state": {
       "layout": "IPY_MODEL_434433cc3e244c44a615cfb2c90804c5",
       "style": "IPY_MODEL_e8115d70e00842cd8a753d795f3a0891",
       "value": "最大回撤&nbsp;&nbsp;&nbsp;&nbsp;&nbsp;&nbsp;&nbsp;<b>6.64%</b>"
      }
     },
     "f1a1885d397942e8883cdc3d64a2f31b": {
      "model_module": "@jupyter-widgets/controls",
      "model_module_version": "1.5.0",
      "model_name": "HTMLModel",
      "state": {
       "layout": "IPY_MODEL_f5c8468ada6945aa83f843523ef56297",
       "style": "IPY_MODEL_26036838602b427eb2ea347d8150123b",
       "value": "/112页"
      }
     },
     "f1b1c3658eef42d7b67fdc0027db3697": {
      "model_module": "@jupyter-widgets/controls",
      "model_module_version": "1.5.0",
      "model_name": "DescriptionStyleModel",
      "state": {
       "description_width": ""
      }
     },
     "f1ce4d37a9964ccdacb53f65f360b35b": {
      "model_module": "@jupyter-widgets/controls",
      "model_module_version": "1.5.0",
      "model_name": "GridBoxModel",
      "state": {
       "children": [
        "IPY_MODEL_6b58248eb1cc4664b86e9e18f34e5464",
        "IPY_MODEL_fb847a4ec6f24f8b81a94225958134d1",
        "IPY_MODEL_6d3f03921bc74b6d841417db8fbd6243",
        "IPY_MODEL_64e9dccbc8c34bcd8cb95d620818152e"
       ],
       "layout": "IPY_MODEL_ad315243426c488e9301708f9dd86624"
      }
     },
     "f21eda7ae7dc4db7b6f3fd444ec83d6a": {
      "model_module": "@jupyter-widgets/base",
      "model_module_version": "1.2.0",
      "model_name": "LayoutModel",
      "state": {
       "align_items": "center",
       "grid_area": "widget003",
       "grid_template_areas": "\"widget001\"\n\"widget002\"",
       "grid_template_columns": "auto",
       "grid_template_rows": "60px auto"
      }
     },
     "f29c4262930d4a2a98b8b6bce09dafc9": {
      "model_module": "@jupyter-widgets/controls",
      "model_module_version": "1.5.0",
      "model_name": "DescriptionStyleModel",
      "state": {
       "description_width": ""
      }
     },
     "f2a86b34513b470e92f85953cf61d07c": {
      "model_module": "@jupyter-widgets/controls",
      "model_module_version": "1.5.0",
      "model_name": "GridBoxModel",
      "state": {
       "children": [
        "IPY_MODEL_98d09de98ecb450194f1feb348839553",
        "IPY_MODEL_54369c6c75a7405e8fd1e243c5cca49e"
       ],
       "layout": "IPY_MODEL_4b1a513dba124a32b20886d6690000bb"
      }
     },
     "f43edf3457c9481e8926c94ef648a54b": {
      "model_module": "@jupyter-widgets/controls",
      "model_module_version": "1.5.0",
      "model_name": "DescriptionStyleModel",
      "state": {
       "description_width": ""
      }
     },
     "f47815c24bea451fbff589e6857a8478": {
      "model_module": "@jupyter-widgets/controls",
      "model_module_version": "1.5.0",
      "model_name": "GridBoxModel",
      "state": {
       "children": [
        "IPY_MODEL_04df4e94139d467aa23ae7babae820ac",
        "IPY_MODEL_b36a7502c91f474c87c9c063b4129a07",
        "IPY_MODEL_a335733bd235438683f4fe2e5135c9d1",
        "IPY_MODEL_a6b117a5936244b889e965ed83ef64b6",
        "IPY_MODEL_0b2472cf03d4463da84f6e8f569a8efd"
       ],
       "layout": "IPY_MODEL_21050f163ffd426eb1aa711452899e1a"
      }
     },
     "f51e016afb5b4035b334bfd7c8ab1d7b": {
      "model_module": "@jupyter-widgets/base",
      "model_module_version": "1.2.0",
      "model_name": "LayoutModel",
      "state": {
       "grid_area": "widget001"
      }
     },
     "f55fb34bd8f049a0b12ee412bcaec7dc": {
      "model_module": "@jupyter-widgets/base",
      "model_module_version": "1.2.0",
      "model_name": "LayoutModel",
      "state": {
       "grid_area": "widget001"
      }
     },
     "f5c8468ada6945aa83f843523ef56297": {
      "model_module": "@jupyter-widgets/base",
      "model_module_version": "1.2.0",
      "model_name": "LayoutModel",
      "state": {
       "grid_area": "widget001"
      }
     },
     "f6a791767fd44955aa84c4f948cba0b7": {
      "model_module": "@jupyter-widgets/base",
      "model_module_version": "1.2.0",
      "model_name": "LayoutModel",
      "state": {
       "grid_area": "widget004"
      }
     },
     "f751c4914c19402e99b91865888db338": {
      "model_module": "@jupyter-widgets/controls",
      "model_module_version": "1.5.0",
      "model_name": "HTMLModel",
      "state": {
       "layout": "IPY_MODEL_243ae208ebc3408aa964162167b77f6d",
       "style": "IPY_MODEL_cf09730125cc4274909eff5b110ed1fe",
       "value": "开始时间&nbsp;&nbsp;&nbsp;&nbsp;&nbsp;&nbsp;<b>20210108</b>"
      }
     },
     "f755b9fe0a6d4f188302e8da64ebfe33": {
      "model_module": "@jupyter-widgets/controls",
      "model_module_version": "1.5.0",
      "model_name": "ButtonModel",
      "state": {
       "description": "下载",
       "icon": "download",
       "layout": "IPY_MODEL_ac53a2c78bf14c13a9ae04f31048a238",
       "style": "IPY_MODEL_cceb17dca2264f55842982c3120ed7fc",
       "tooltip": "下载交易详情表格"
      }
     },
     "f7d2fa3efabf4f5c963ccdf97dce16d7": {
      "model_module": "@jupyter-widgets/controls",
      "model_module_version": "1.5.0",
      "model_name": "GridBoxModel",
      "state": {
       "children": [
        "IPY_MODEL_1e77d990e9d04a5da41dd4eb0bd96a39",
        "IPY_MODEL_c3768a609e5545169a6dd77b39ec3d05",
        "IPY_MODEL_4dd7968452f044abb7de26abea44f56a",
        "IPY_MODEL_a51e064a33bc4f60ac9427892211ca2f",
        "IPY_MODEL_c908e6635a8a4d029c0df192b248631b",
        "IPY_MODEL_18acf081caa848b89ca4cacfe3268f55",
        "IPY_MODEL_2b32b3196fda49a9b1d6ce5eae2e5731",
        "IPY_MODEL_b3136d8efa8f4665a23bdb364760f261",
        "IPY_MODEL_5dba6f37ce6f4b099b053ff65e482ecf",
        "IPY_MODEL_f751c4914c19402e99b91865888db338"
       ],
       "layout": "IPY_MODEL_d1496ca4fa7e4470abc0bf04a8d2f369"
      }
     },
     "f943a4ad6560462d99a48fc0e0b6c967": {
      "model_module": "@jupyter-widgets/base",
      "model_module_version": "1.2.0",
      "model_name": "LayoutModel",
      "state": {
       "grid_area": "widget004"
      }
     },
     "f959802fa3b34107a94d2f97f439f992": {
      "model_module": "@jupyter-widgets/base",
      "model_module_version": "1.2.0",
      "model_name": "LayoutModel",
      "state": {
       "grid_area": "widget003",
       "width": "60px"
      }
     },
     "f95c0460d7ad43778722db2a415acb34": {
      "model_module": "@jupyter-widgets/controls",
      "model_module_version": "1.5.0",
      "model_name": "DescriptionStyleModel",
      "state": {
       "description_width": ""
      }
     },
     "fa5a2e52467a4473911beae25dd8435b": {
      "model_module": "@jupyter-widgets/base",
      "model_module_version": "1.2.0",
      "model_name": "LayoutModel",
      "state": {
       "grid_area": "widget002",
       "width": "30px"
      }
     },
     "fa627a3e477a4e62849e9d0318b6bb58": {
      "model_module": "@jupyter-widgets/base",
      "model_module_version": "1.2.0",
      "model_name": "LayoutModel",
      "state": {
       "grid_area": "widget002",
       "width": "30px"
      }
     },
     "faaa92239034427f9ff698130aba1a5f": {
      "model_module": "@jupyter-widgets/controls",
      "model_module_version": "1.5.0",
      "model_name": "HTMLModel",
      "state": {
       "layout": "IPY_MODEL_fe9881eab0e74d39bb5d2c95d8a06efa",
       "style": "IPY_MODEL_64559370e7f04f40b512acc785d3f455",
       "value": "<span style='font-size:30px;color:red'> <b>24.13%</b> </span>"
      }
     },
     "fb847a4ec6f24f8b81a94225958134d1": {
      "model_module": "@jupyter-widgets/controls",
      "model_module_version": "1.5.0",
      "model_name": "ButtonModel",
      "state": {
       "icon": "angle-left",
       "layout": "IPY_MODEL_32f94ef8c4e14353a7408b133730a9aa",
       "style": "IPY_MODEL_dd46ebbddab6459b8c871f72329aeb88",
       "tooltip": "上一页"
      }
     },
     "fbd5f1ce8b954c48bda9d0509dc174dd": {
      "model_module": "@jupyter-widgets/controls",
      "model_module_version": "1.5.0",
      "model_name": "ButtonStyleModel",
      "state": {}
     },
     "fc37f47e31d64183b04eb541b8d7d6c3": {
      "model_module": "@jupyter-widgets/base",
      "model_module_version": "1.2.0",
      "model_name": "LayoutModel",
      "state": {
       "grid_area": "widget004"
      }
     },
     "fdc5f3c40d2241b29335826197c67d1d": {
      "model_module": "@jupyter-widgets/controls",
      "model_module_version": "1.5.0",
      "model_name": "ButtonStyleModel",
      "state": {}
     },
     "fdce3e20b0fd49899b61dcba359dd27c": {
      "model_module": "@jupyter-widgets/output",
      "model_module_version": "1.0.0",
      "model_name": "OutputModel",
      "state": {
       "layout": "IPY_MODEL_30d449d356cc47a08770c555e3cc5477",
       "outputs": [
        {
         "data": {
          "text/html": "<style  type=\"text/css\" >\n#T_d4e13_row0_col0,#T_d4e13_row0_col1,#T_d4e13_row0_col2,#T_d4e13_row0_col4,#T_d4e13_row0_col5,#T_d4e13_row0_col6,#T_d4e13_row0_col7,#T_d4e13_row1_col0,#T_d4e13_row1_col1,#T_d4e13_row1_col2,#T_d4e13_row1_col4,#T_d4e13_row1_col5,#T_d4e13_row1_col6,#T_d4e13_row1_col7,#T_d4e13_row2_col0,#T_d4e13_row2_col1,#T_d4e13_row2_col2,#T_d4e13_row2_col4,#T_d4e13_row2_col5,#T_d4e13_row2_col6,#T_d4e13_row2_col7,#T_d4e13_row3_col0,#T_d4e13_row3_col1,#T_d4e13_row3_col2,#T_d4e13_row3_col4,#T_d4e13_row3_col5,#T_d4e13_row3_col6,#T_d4e13_row3_col7,#T_d4e13_row4_col0,#T_d4e13_row4_col1,#T_d4e13_row4_col2,#T_d4e13_row4_col4,#T_d4e13_row4_col5,#T_d4e13_row4_col6,#T_d4e13_row4_col7,#T_d4e13_row5_col0,#T_d4e13_row5_col1,#T_d4e13_row5_col2,#T_d4e13_row5_col4,#T_d4e13_row5_col5,#T_d4e13_row5_col6,#T_d4e13_row5_col7,#T_d4e13_row6_col0,#T_d4e13_row6_col1,#T_d4e13_row6_col2,#T_d4e13_row6_col4,#T_d4e13_row6_col5,#T_d4e13_row6_col6,#T_d4e13_row6_col7,#T_d4e13_row7_col0,#T_d4e13_row7_col1,#T_d4e13_row7_col2,#T_d4e13_row7_col4,#T_d4e13_row7_col5,#T_d4e13_row7_col6,#T_d4e13_row7_col7,#T_d4e13_row8_col0,#T_d4e13_row8_col1,#T_d4e13_row8_col2,#T_d4e13_row8_col4,#T_d4e13_row8_col5,#T_d4e13_row8_col6,#T_d4e13_row8_col7,#T_d4e13_row9_col0,#T_d4e13_row9_col1,#T_d4e13_row9_col2,#T_d4e13_row9_col4,#T_d4e13_row9_col5,#T_d4e13_row9_col6,#T_d4e13_row9_col7,#T_d4e13_row10_col0,#T_d4e13_row10_col1,#T_d4e13_row10_col2,#T_d4e13_row10_col4,#T_d4e13_row10_col5,#T_d4e13_row10_col6,#T_d4e13_row10_col7,#T_d4e13_row11_col0,#T_d4e13_row11_col1,#T_d4e13_row11_col2,#T_d4e13_row11_col4,#T_d4e13_row11_col5,#T_d4e13_row11_col6,#T_d4e13_row11_col7,#T_d4e13_row12_col0,#T_d4e13_row12_col1,#T_d4e13_row12_col2,#T_d4e13_row12_col4,#T_d4e13_row12_col5,#T_d4e13_row12_col6,#T_d4e13_row12_col7,#T_d4e13_row13_col0,#T_d4e13_row13_col1,#T_d4e13_row13_col2,#T_d4e13_row13_col4,#T_d4e13_row13_col5,#T_d4e13_row13_col6,#T_d4e13_row13_col7,#T_d4e13_row14_col0,#T_d4e13_row14_col1,#T_d4e13_row14_col2,#T_d4e13_row14_col4,#T_d4e13_row14_col5,#T_d4e13_row14_col6,#T_d4e13_row14_col7,#T_d4e13_row15_col0,#T_d4e13_row15_col1,#T_d4e13_row15_col2,#T_d4e13_row15_col4,#T_d4e13_row15_col5,#T_d4e13_row15_col6,#T_d4e13_row15_col7,#T_d4e13_row16_col0,#T_d4e13_row16_col1,#T_d4e13_row16_col2,#T_d4e13_row16_col4,#T_d4e13_row16_col5,#T_d4e13_row16_col6,#T_d4e13_row16_col7,#T_d4e13_row17_col0,#T_d4e13_row17_col1,#T_d4e13_row17_col2,#T_d4e13_row17_col4,#T_d4e13_row17_col5,#T_d4e13_row17_col6,#T_d4e13_row17_col7,#T_d4e13_row18_col0,#T_d4e13_row18_col1,#T_d4e13_row18_col2,#T_d4e13_row18_col4,#T_d4e13_row18_col5,#T_d4e13_row18_col6,#T_d4e13_row18_col7,#T_d4e13_row19_col0,#T_d4e13_row19_col1,#T_d4e13_row19_col2,#T_d4e13_row19_col4,#T_d4e13_row19_col5,#T_d4e13_row19_col6,#T_d4e13_row19_col7{\n            width:  500px;\n        }#T_d4e13_row0_col3,#T_d4e13_row1_col3,#T_d4e13_row2_col3,#T_d4e13_row3_col3,#T_d4e13_row4_col3,#T_d4e13_row5_col3,#T_d4e13_row6_col3,#T_d4e13_row7_col3,#T_d4e13_row8_col3,#T_d4e13_row9_col3,#T_d4e13_row10_col3,#T_d4e13_row11_col3,#T_d4e13_row12_col3,#T_d4e13_row13_col3,#T_d4e13_row14_col3,#T_d4e13_row15_col3,#T_d4e13_row16_col3,#T_d4e13_row17_col3,#T_d4e13_row18_col3,#T_d4e13_row19_col3{\n            color:  ;\n            width:  500px;\n        }</style><table id=\"T_d4e13_\" ><thead>    <tr>        <th class=\"col_heading level0 col0\" >日期时间</th>        <th class=\"col_heading level0 col1\" >股票代码</th>        <th class=\"col_heading level0 col2\" >股票名称</th>        <th class=\"col_heading level0 col3\" >操作</th>        <th class=\"col_heading level0 col4\" >委托数量</th>        <th class=\"col_heading level0 col5\" >价格</th>        <th class=\"col_heading level0 col6\" >计划权重</th>        <th class=\"col_heading level0 col7\" >上一日权重</th>    </tr></thead><tbody>\n                <tr>\n                                <td id=\"T_d4e13_row0_col0\" class=\"data row0 col0\" >-</td>\n                        <td id=\"T_d4e13_row0_col1\" class=\"data row0 col1\" >-</td>\n                        <td id=\"T_d4e13_row0_col2\" class=\"data row0 col2\" >-</td>\n                        <td id=\"T_d4e13_row0_col3\" class=\"data row0 col3\" >-</td>\n                        <td id=\"T_d4e13_row0_col4\" class=\"data row0 col4\" >-</td>\n                        <td id=\"T_d4e13_row0_col5\" class=\"data row0 col5\" >-</td>\n                        <td id=\"T_d4e13_row0_col6\" class=\"data row0 col6\" >-</td>\n                        <td id=\"T_d4e13_row0_col7\" class=\"data row0 col7\" >-</td>\n            </tr>\n            <tr>\n                                <td id=\"T_d4e13_row1_col0\" class=\"data row1 col0\" >-</td>\n                        <td id=\"T_d4e13_row1_col1\" class=\"data row1 col1\" >-</td>\n                        <td id=\"T_d4e13_row1_col2\" class=\"data row1 col2\" >-</td>\n                        <td id=\"T_d4e13_row1_col3\" class=\"data row1 col3\" >-</td>\n                        <td id=\"T_d4e13_row1_col4\" class=\"data row1 col4\" >-</td>\n                        <td id=\"T_d4e13_row1_col5\" class=\"data row1 col5\" >-</td>\n                        <td id=\"T_d4e13_row1_col6\" class=\"data row1 col6\" >-</td>\n                        <td id=\"T_d4e13_row1_col7\" class=\"data row1 col7\" >-</td>\n            </tr>\n            <tr>\n                                <td id=\"T_d4e13_row2_col0\" class=\"data row2 col0\" >-</td>\n                        <td id=\"T_d4e13_row2_col1\" class=\"data row2 col1\" >-</td>\n                        <td id=\"T_d4e13_row2_col2\" class=\"data row2 col2\" >-</td>\n                        <td id=\"T_d4e13_row2_col3\" class=\"data row2 col3\" >-</td>\n                        <td id=\"T_d4e13_row2_col4\" class=\"data row2 col4\" >-</td>\n                        <td id=\"T_d4e13_row2_col5\" class=\"data row2 col5\" >-</td>\n                        <td id=\"T_d4e13_row2_col6\" class=\"data row2 col6\" >-</td>\n                        <td id=\"T_d4e13_row2_col7\" class=\"data row2 col7\" >-</td>\n            </tr>\n            <tr>\n                                <td id=\"T_d4e13_row3_col0\" class=\"data row3 col0\" >-</td>\n                        <td id=\"T_d4e13_row3_col1\" class=\"data row3 col1\" >-</td>\n                        <td id=\"T_d4e13_row3_col2\" class=\"data row3 col2\" >-</td>\n                        <td id=\"T_d4e13_row3_col3\" class=\"data row3 col3\" >-</td>\n                        <td id=\"T_d4e13_row3_col4\" class=\"data row3 col4\" >-</td>\n                        <td id=\"T_d4e13_row3_col5\" class=\"data row3 col5\" >-</td>\n                        <td id=\"T_d4e13_row3_col6\" class=\"data row3 col6\" >-</td>\n                        <td id=\"T_d4e13_row3_col7\" class=\"data row3 col7\" >-</td>\n            </tr>\n            <tr>\n                                <td id=\"T_d4e13_row4_col0\" class=\"data row4 col0\" >-</td>\n                        <td id=\"T_d4e13_row4_col1\" class=\"data row4 col1\" >-</td>\n                        <td id=\"T_d4e13_row4_col2\" class=\"data row4 col2\" >-</td>\n                        <td id=\"T_d4e13_row4_col3\" class=\"data row4 col3\" >-</td>\n                        <td id=\"T_d4e13_row4_col4\" class=\"data row4 col4\" >-</td>\n                        <td id=\"T_d4e13_row4_col5\" class=\"data row4 col5\" >-</td>\n                        <td id=\"T_d4e13_row4_col6\" class=\"data row4 col6\" >-</td>\n                        <td id=\"T_d4e13_row4_col7\" class=\"data row4 col7\" >-</td>\n            </tr>\n            <tr>\n                                <td id=\"T_d4e13_row5_col0\" class=\"data row5 col0\" >-</td>\n                        <td id=\"T_d4e13_row5_col1\" class=\"data row5 col1\" >-</td>\n                        <td id=\"T_d4e13_row5_col2\" class=\"data row5 col2\" >-</td>\n                        <td id=\"T_d4e13_row5_col3\" class=\"data row5 col3\" >-</td>\n                        <td id=\"T_d4e13_row5_col4\" class=\"data row5 col4\" >-</td>\n                        <td id=\"T_d4e13_row5_col5\" class=\"data row5 col5\" >-</td>\n                        <td id=\"T_d4e13_row5_col6\" class=\"data row5 col6\" >-</td>\n                        <td id=\"T_d4e13_row5_col7\" class=\"data row5 col7\" >-</td>\n            </tr>\n            <tr>\n                                <td id=\"T_d4e13_row6_col0\" class=\"data row6 col0\" >-</td>\n                        <td id=\"T_d4e13_row6_col1\" class=\"data row6 col1\" >-</td>\n                        <td id=\"T_d4e13_row6_col2\" class=\"data row6 col2\" >-</td>\n                        <td id=\"T_d4e13_row6_col3\" class=\"data row6 col3\" >-</td>\n                        <td id=\"T_d4e13_row6_col4\" class=\"data row6 col4\" >-</td>\n                        <td id=\"T_d4e13_row6_col5\" class=\"data row6 col5\" >-</td>\n                        <td id=\"T_d4e13_row6_col6\" class=\"data row6 col6\" >-</td>\n                        <td id=\"T_d4e13_row6_col7\" class=\"data row6 col7\" >-</td>\n            </tr>\n            <tr>\n                                <td id=\"T_d4e13_row7_col0\" class=\"data row7 col0\" >-</td>\n                        <td id=\"T_d4e13_row7_col1\" class=\"data row7 col1\" >-</td>\n                        <td id=\"T_d4e13_row7_col2\" class=\"data row7 col2\" >-</td>\n                        <td id=\"T_d4e13_row7_col3\" class=\"data row7 col3\" >-</td>\n                        <td id=\"T_d4e13_row7_col4\" class=\"data row7 col4\" >-</td>\n                        <td id=\"T_d4e13_row7_col5\" class=\"data row7 col5\" >-</td>\n                        <td id=\"T_d4e13_row7_col6\" class=\"data row7 col6\" >-</td>\n                        <td id=\"T_d4e13_row7_col7\" class=\"data row7 col7\" >-</td>\n            </tr>\n            <tr>\n                                <td id=\"T_d4e13_row8_col0\" class=\"data row8 col0\" >-</td>\n                        <td id=\"T_d4e13_row8_col1\" class=\"data row8 col1\" >-</td>\n                        <td id=\"T_d4e13_row8_col2\" class=\"data row8 col2\" >-</td>\n                        <td id=\"T_d4e13_row8_col3\" class=\"data row8 col3\" >-</td>\n                        <td id=\"T_d4e13_row8_col4\" class=\"data row8 col4\" >-</td>\n                        <td id=\"T_d4e13_row8_col5\" class=\"data row8 col5\" >-</td>\n                        <td id=\"T_d4e13_row8_col6\" class=\"data row8 col6\" >-</td>\n                        <td id=\"T_d4e13_row8_col7\" class=\"data row8 col7\" >-</td>\n            </tr>\n            <tr>\n                                <td id=\"T_d4e13_row9_col0\" class=\"data row9 col0\" >-</td>\n                        <td id=\"T_d4e13_row9_col1\" class=\"data row9 col1\" >-</td>\n                        <td id=\"T_d4e13_row9_col2\" class=\"data row9 col2\" >-</td>\n                        <td id=\"T_d4e13_row9_col3\" class=\"data row9 col3\" >-</td>\n                        <td id=\"T_d4e13_row9_col4\" class=\"data row9 col4\" >-</td>\n                        <td id=\"T_d4e13_row9_col5\" class=\"data row9 col5\" >-</td>\n                        <td id=\"T_d4e13_row9_col6\" class=\"data row9 col6\" >-</td>\n                        <td id=\"T_d4e13_row9_col7\" class=\"data row9 col7\" >-</td>\n            </tr>\n            <tr>\n                                <td id=\"T_d4e13_row10_col0\" class=\"data row10 col0\" >-</td>\n                        <td id=\"T_d4e13_row10_col1\" class=\"data row10 col1\" >-</td>\n                        <td id=\"T_d4e13_row10_col2\" class=\"data row10 col2\" >-</td>\n                        <td id=\"T_d4e13_row10_col3\" class=\"data row10 col3\" >-</td>\n                        <td id=\"T_d4e13_row10_col4\" class=\"data row10 col4\" >-</td>\n                        <td id=\"T_d4e13_row10_col5\" class=\"data row10 col5\" >-</td>\n                        <td id=\"T_d4e13_row10_col6\" class=\"data row10 col6\" >-</td>\n                        <td id=\"T_d4e13_row10_col7\" class=\"data row10 col7\" >-</td>\n            </tr>\n            <tr>\n                                <td id=\"T_d4e13_row11_col0\" class=\"data row11 col0\" >-</td>\n                        <td id=\"T_d4e13_row11_col1\" class=\"data row11 col1\" >-</td>\n                        <td id=\"T_d4e13_row11_col2\" class=\"data row11 col2\" >-</td>\n                        <td id=\"T_d4e13_row11_col3\" class=\"data row11 col3\" >-</td>\n                        <td id=\"T_d4e13_row11_col4\" class=\"data row11 col4\" >-</td>\n                        <td id=\"T_d4e13_row11_col5\" class=\"data row11 col5\" >-</td>\n                        <td id=\"T_d4e13_row11_col6\" class=\"data row11 col6\" >-</td>\n                        <td id=\"T_d4e13_row11_col7\" class=\"data row11 col7\" >-</td>\n            </tr>\n            <tr>\n                                <td id=\"T_d4e13_row12_col0\" class=\"data row12 col0\" >-</td>\n                        <td id=\"T_d4e13_row12_col1\" class=\"data row12 col1\" >-</td>\n                        <td id=\"T_d4e13_row12_col2\" class=\"data row12 col2\" >-</td>\n                        <td id=\"T_d4e13_row12_col3\" class=\"data row12 col3\" >-</td>\n                        <td id=\"T_d4e13_row12_col4\" class=\"data row12 col4\" >-</td>\n                        <td id=\"T_d4e13_row12_col5\" class=\"data row12 col5\" >-</td>\n                        <td id=\"T_d4e13_row12_col6\" class=\"data row12 col6\" >-</td>\n                        <td id=\"T_d4e13_row12_col7\" class=\"data row12 col7\" >-</td>\n            </tr>\n            <tr>\n                                <td id=\"T_d4e13_row13_col0\" class=\"data row13 col0\" >-</td>\n                        <td id=\"T_d4e13_row13_col1\" class=\"data row13 col1\" >-</td>\n                        <td id=\"T_d4e13_row13_col2\" class=\"data row13 col2\" >-</td>\n                        <td id=\"T_d4e13_row13_col3\" class=\"data row13 col3\" >-</td>\n                        <td id=\"T_d4e13_row13_col4\" class=\"data row13 col4\" >-</td>\n                        <td id=\"T_d4e13_row13_col5\" class=\"data row13 col5\" >-</td>\n                        <td id=\"T_d4e13_row13_col6\" class=\"data row13 col6\" >-</td>\n                        <td id=\"T_d4e13_row13_col7\" class=\"data row13 col7\" >-</td>\n            </tr>\n            <tr>\n                                <td id=\"T_d4e13_row14_col0\" class=\"data row14 col0\" >-</td>\n                        <td id=\"T_d4e13_row14_col1\" class=\"data row14 col1\" >-</td>\n                        <td id=\"T_d4e13_row14_col2\" class=\"data row14 col2\" >-</td>\n                        <td id=\"T_d4e13_row14_col3\" class=\"data row14 col3\" >-</td>\n                        <td id=\"T_d4e13_row14_col4\" class=\"data row14 col4\" >-</td>\n                        <td id=\"T_d4e13_row14_col5\" class=\"data row14 col5\" >-</td>\n                        <td id=\"T_d4e13_row14_col6\" class=\"data row14 col6\" >-</td>\n                        <td id=\"T_d4e13_row14_col7\" class=\"data row14 col7\" >-</td>\n            </tr>\n            <tr>\n                                <td id=\"T_d4e13_row15_col0\" class=\"data row15 col0\" >-</td>\n                        <td id=\"T_d4e13_row15_col1\" class=\"data row15 col1\" >-</td>\n                        <td id=\"T_d4e13_row15_col2\" class=\"data row15 col2\" >-</td>\n                        <td id=\"T_d4e13_row15_col3\" class=\"data row15 col3\" >-</td>\n                        <td id=\"T_d4e13_row15_col4\" class=\"data row15 col4\" >-</td>\n                        <td id=\"T_d4e13_row15_col5\" class=\"data row15 col5\" >-</td>\n                        <td id=\"T_d4e13_row15_col6\" class=\"data row15 col6\" >-</td>\n                        <td id=\"T_d4e13_row15_col7\" class=\"data row15 col7\" >-</td>\n            </tr>\n            <tr>\n                                <td id=\"T_d4e13_row16_col0\" class=\"data row16 col0\" >-</td>\n                        <td id=\"T_d4e13_row16_col1\" class=\"data row16 col1\" >-</td>\n                        <td id=\"T_d4e13_row16_col2\" class=\"data row16 col2\" >-</td>\n                        <td id=\"T_d4e13_row16_col3\" class=\"data row16 col3\" >-</td>\n                        <td id=\"T_d4e13_row16_col4\" class=\"data row16 col4\" >-</td>\n                        <td id=\"T_d4e13_row16_col5\" class=\"data row16 col5\" >-</td>\n                        <td id=\"T_d4e13_row16_col6\" class=\"data row16 col6\" >-</td>\n                        <td id=\"T_d4e13_row16_col7\" class=\"data row16 col7\" >-</td>\n            </tr>\n            <tr>\n                                <td id=\"T_d4e13_row17_col0\" class=\"data row17 col0\" >-</td>\n                        <td id=\"T_d4e13_row17_col1\" class=\"data row17 col1\" >-</td>\n                        <td id=\"T_d4e13_row17_col2\" class=\"data row17 col2\" >-</td>\n                        <td id=\"T_d4e13_row17_col3\" class=\"data row17 col3\" >-</td>\n                        <td id=\"T_d4e13_row17_col4\" class=\"data row17 col4\" >-</td>\n                        <td id=\"T_d4e13_row17_col5\" class=\"data row17 col5\" >-</td>\n                        <td id=\"T_d4e13_row17_col6\" class=\"data row17 col6\" >-</td>\n                        <td id=\"T_d4e13_row17_col7\" class=\"data row17 col7\" >-</td>\n            </tr>\n            <tr>\n                                <td id=\"T_d4e13_row18_col0\" class=\"data row18 col0\" >-</td>\n                        <td id=\"T_d4e13_row18_col1\" class=\"data row18 col1\" >-</td>\n                        <td id=\"T_d4e13_row18_col2\" class=\"data row18 col2\" >-</td>\n                        <td id=\"T_d4e13_row18_col3\" class=\"data row18 col3\" >-</td>\n                        <td id=\"T_d4e13_row18_col4\" class=\"data row18 col4\" >-</td>\n                        <td id=\"T_d4e13_row18_col5\" class=\"data row18 col5\" >-</td>\n                        <td id=\"T_d4e13_row18_col6\" class=\"data row18 col6\" >-</td>\n                        <td id=\"T_d4e13_row18_col7\" class=\"data row18 col7\" >-</td>\n            </tr>\n            <tr>\n                                <td id=\"T_d4e13_row19_col0\" class=\"data row19 col0\" >-</td>\n                        <td id=\"T_d4e13_row19_col1\" class=\"data row19 col1\" >-</td>\n                        <td id=\"T_d4e13_row19_col2\" class=\"data row19 col2\" >-</td>\n                        <td id=\"T_d4e13_row19_col3\" class=\"data row19 col3\" >-</td>\n                        <td id=\"T_d4e13_row19_col4\" class=\"data row19 col4\" >-</td>\n                        <td id=\"T_d4e13_row19_col5\" class=\"data row19 col5\" >-</td>\n                        <td id=\"T_d4e13_row19_col6\" class=\"data row19 col6\" >-</td>\n                        <td id=\"T_d4e13_row19_col7\" class=\"data row19 col7\" >-</td>\n            </tr>\n    </tbody></table>",
          "text/plain": "<pandas.io.formats.style.Styler at 0x7f39d062ef40>"
         },
         "metadata": {},
         "output_type": "display_data"
        }
       ]
      }
     },
     "fde93b21818c459a88a401e23f5b7326": {
      "model_module": "@jupyter-widgets/base",
      "model_module_version": "1.2.0",
      "model_name": "LayoutModel",
      "state": {
       "grid_area": "widget006"
      }
     },
     "fe78397460cb4db0a7ef6e3cc5351971": {
      "model_module": "@jupyter-widgets/controls",
      "model_module_version": "1.5.0",
      "model_name": "HTMLModel",
      "state": {
       "layout": "IPY_MODEL_fde93b21818c459a88a401e23f5b7326",
       "style": "IPY_MODEL_d97de80a6aab4e68882d7090c7481bcd",
       "value": "最大回撤&nbsp;&nbsp;&nbsp;&nbsp;&nbsp;&nbsp;&nbsp;<b>6.64%</b>"
      }
     },
     "fe7e7b86ca4d492cabb5b08a96a3a71b": {
      "model_module": "@jupyter-widgets/controls",
      "model_module_version": "1.5.0",
      "model_name": "HTMLModel",
      "state": {
       "layout": "IPY_MODEL_fc37f47e31d64183b04eb541b8d7d6c3",
       "style": "IPY_MODEL_3c85daaf5bec4f6382f1da9e22953857",
       "value": "超额累计收益"
      }
     },
     "fe877aaf6f7e4d81b1d86f547b121e0b": {
      "model_module": "@jupyter-widgets/base",
      "model_module_version": "1.2.0",
      "model_name": "LayoutModel",
      "state": {
       "grid_area": "widget004",
       "width": "30px"
      }
     },
     "fe9881eab0e74d39bb5d2c95d8a06efa": {
      "model_module": "@jupyter-widgets/base",
      "model_module_version": "1.2.0",
      "model_name": "LayoutModel",
      "state": {
       "grid_area": "widget001"
      }
     },
     "fecc0ffb08924037b3ce9fe0c9ddeda5": {
      "model_module": "@jupyter-widgets/controls",
      "model_module_version": "1.5.0",
      "model_name": "DescriptionStyleModel",
      "state": {
       "description_width": ""
      }
     },
     "ffdc18c078c44b169e9be7a3e956c442": {
      "model_module": "@jupyter-widgets/controls",
      "model_module_version": "1.5.0",
      "model_name": "HTMLModel",
      "state": {
       "layout": "IPY_MODEL_9ade50087e034733836860f3a4c9465a",
       "style": "IPY_MODEL_4a90e2624e8848dab9787ec88ffa7feb",
       "value": "<span style='font-size:20px;'> <b>交易详情</b> </span>"
      }
     }
    },
    "version_major": 2,
    "version_minor": 0
   }
  }
 },
 "nbformat": 4,
 "nbformat_minor": 4
}
