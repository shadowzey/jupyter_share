{
 "cells": [
  {
   "cell_type": "code",
   "execution_count": 2,
   "id": "f8fe1ae2",
   "metadata": {},
   "outputs": [
    {
     "name": "stdout",
     "output_type": "stream",
     "text": [
      "122\n"
     ]
    }
   ],
   "source": [
    "print(122)"
   ]
  },
  {
   "cell_type": "code",
   "execution_count": 7,
   "id": "a80d7917",
   "metadata": {},
   "outputs": [
    {
     "data": {
      "application/vnd.jupyter.widget-view+json": {
       "model_id": "b052e282ccad46cfa88b51cd1c9b80f7",
       "version_major": 2,
       "version_minor": 0
      },
      "text/plain": [
       "interactive(children=(IntSlider(value=5, description='x', max=15, min=-5), Output()), _dom_classes=('widget-in…"
      ]
     },
     "metadata": {},
     "output_type": "display_data"
    }
   ],
   "source": [
    "from ipywidgets import interact\n",
    "\n",
    "def my_function(x):\n",
    "    print(x*x)\n",
    "    \n",
    "interact(my_function, x=5);"
   ]
  },
  {
   "cell_type": "code",
   "execution_count": null,
   "id": "08865e01",
   "metadata": {},
   "outputs": [],
   "source": []
  }
 ],
 "metadata": {
  "kernelspec": {
   "display_name": "Python 3 (ipykernel)",
   "language": "python",
   "name": "python3"
  },
  "language_info": {
   "codemirror_mode": {
    "name": "ipython",
    "version": 3
   },
   "file_extension": ".py",
   "mimetype": "text/x-python",
   "name": "python",
   "nbconvert_exporter": "python",
   "pygments_lexer": "ipython3",
   "version": "3.10.4"
  },
  "widgets": {
   "application/vnd.jupyter.widget-state+json": {
    "state": {
     "0b0347973e134a5c81bc62abeb046205": {
      "model_module": "@jupyter-widgets/base",
      "model_module_version": "1.2.0",
      "model_name": "LayoutModel",
      "state": {}
     },
     "0dd391094e33479aa61bb89d8eea055c": {
      "model_module": "@jupyter-widgets/output",
      "model_module_version": "1.0.0",
      "model_name": "OutputModel",
      "state": {
       "layout": "IPY_MODEL_130ebed1c84c41af950e7c2f35d90b38",
       "outputs": [
        {
         "name": "stdout",
         "output_type": "stream",
         "text": "64\n"
        }
       ]
      }
     },
     "130ebed1c84c41af950e7c2f35d90b38": {
      "model_module": "@jupyter-widgets/base",
      "model_module_version": "1.2.0",
      "model_name": "LayoutModel",
      "state": {}
     },
     "146c2cf28cd6416cb9dadb29a184ab80": {
      "model_module": "@jupyter-widgets/output",
      "model_module_version": "1.0.0",
      "model_name": "OutputModel",
      "state": {
       "layout": "IPY_MODEL_25b4ef9f2dbf48b39c2af8287c77a90f",
       "outputs": [
        {
         "name": "stdout",
         "output_type": "stream",
         "text": "25\n"
        }
       ]
      }
     },
     "195f2e70c2174aa6b0fefcf0fdfcd539": {
      "model_module": "@jupyter-widgets/controls",
      "model_module_version": "1.5.0",
      "model_name": "IntSliderModel",
      "state": {
       "description": "x",
       "layout": "IPY_MODEL_976afc646f964d0ebee47d05f321da7b",
       "max": 15,
       "min": -5,
       "style": "IPY_MODEL_4535227026e043488a4fb41cc1324074",
       "value": -1
      }
     },
     "19d0c9c0ac5f48928306daf0222b3d35": {
      "model_module": "@jupyter-widgets/controls",
      "model_module_version": "1.5.0",
      "model_name": "VBoxModel",
      "state": {
       "_dom_classes": [
        "widget-interact"
       ],
       "children": [
        "IPY_MODEL_4b4e90cd362c4a15b7e642ca1690c894",
        "IPY_MODEL_f8cc57166ae14ddbbfec5ce8b2e8a08c"
       ],
       "layout": "IPY_MODEL_8c9e0b303f6642a1b7d017019a746818"
      }
     },
     "1f7dea6eac0845ecb470ddaf08e4a2c3": {
      "model_module": "@jupyter-widgets/controls",
      "model_module_version": "1.5.0",
      "model_name": "SliderStyleModel",
      "state": {
       "description_width": ""
      }
     },
     "25b4ef9f2dbf48b39c2af8287c77a90f": {
      "model_module": "@jupyter-widgets/base",
      "model_module_version": "1.2.0",
      "model_name": "LayoutModel",
      "state": {}
     },
     "2f410f1508604593907612935f365ac3": {
      "model_module": "@jupyter-widgets/controls",
      "model_module_version": "1.5.0",
      "model_name": "SliderStyleModel",
      "state": {
       "description_width": ""
      }
     },
     "3866480b702a498da379436fbaa5bff0": {
      "model_module": "@jupyter-widgets/base",
      "model_module_version": "1.2.0",
      "model_name": "LayoutModel",
      "state": {}
     },
     "40f5d8bbe06149c496440eb8fc4cc213": {
      "model_module": "@jupyter-widgets/controls",
      "model_module_version": "1.5.0",
      "model_name": "SliderStyleModel",
      "state": {
       "description_width": ""
      }
     },
     "4535227026e043488a4fb41cc1324074": {
      "model_module": "@jupyter-widgets/controls",
      "model_module_version": "1.5.0",
      "model_name": "SliderStyleModel",
      "state": {
       "description_width": ""
      }
     },
     "47bf1e93d26f47e1bb36e48b594e5eda": {
      "model_module": "@jupyter-widgets/base",
      "model_module_version": "1.2.0",
      "model_name": "LayoutModel",
      "state": {}
     },
     "4b4e90cd362c4a15b7e642ca1690c894": {
      "model_module": "@jupyter-widgets/controls",
      "model_module_version": "1.5.0",
      "model_name": "IntSliderModel",
      "state": {
       "description": "x",
       "layout": "IPY_MODEL_a357f4951dba482491278ae468f3bbe5",
       "max": 15,
       "min": -5,
       "style": "IPY_MODEL_c1755f9f68094018869923f38995a809",
       "value": 9
      }
     },
     "72eb2be0a4ae40cebf1e977838f6e8f7": {
      "model_module": "@jupyter-widgets/controls",
      "model_module_version": "1.5.0",
      "model_name": "IntSliderModel",
      "state": {
       "description": "x",
       "layout": "IPY_MODEL_907f0806dd6041c6baa3272d4babb5ec",
       "max": 15,
       "min": -5,
       "style": "IPY_MODEL_40f5d8bbe06149c496440eb8fc4cc213",
       "value": 8
      }
     },
     "8c9e0b303f6642a1b7d017019a746818": {
      "model_module": "@jupyter-widgets/base",
      "model_module_version": "1.2.0",
      "model_name": "LayoutModel",
      "state": {}
     },
     "8ca4a7a2ac654fd9aa3117ec45554778": {
      "model_module": "@jupyter-widgets/controls",
      "model_module_version": "1.5.0",
      "model_name": "VBoxModel",
      "state": {
       "_dom_classes": [
        "widget-interact"
       ],
       "children": [
        "IPY_MODEL_195f2e70c2174aa6b0fefcf0fdfcd539",
        "IPY_MODEL_d6acd015f9484fd7915b5a0b44a00a2a"
       ],
       "layout": "IPY_MODEL_0b0347973e134a5c81bc62abeb046205"
      }
     },
     "907f0806dd6041c6baa3272d4babb5ec": {
      "model_module": "@jupyter-widgets/base",
      "model_module_version": "1.2.0",
      "model_name": "LayoutModel",
      "state": {}
     },
     "95e41a60232a49a2a3156fb005898294": {
      "model_module": "@jupyter-widgets/base",
      "model_module_version": "1.2.0",
      "model_name": "LayoutModel",
      "state": {}
     },
     "976afc646f964d0ebee47d05f321da7b": {
      "model_module": "@jupyter-widgets/base",
      "model_module_version": "1.2.0",
      "model_name": "LayoutModel",
      "state": {}
     },
     "9f4215a6f7e949fcb78bbd44c0abe0c3": {
      "model_module": "@jupyter-widgets/base",
      "model_module_version": "1.2.0",
      "model_name": "LayoutModel",
      "state": {}
     },
     "a1aaeb6578424143b54e61e31975960e": {
      "model_module": "@jupyter-widgets/output",
      "model_module_version": "1.0.0",
      "model_name": "OutputModel",
      "state": {
       "layout": "IPY_MODEL_3866480b702a498da379436fbaa5bff0",
       "outputs": [
        {
         "name": "stdout",
         "output_type": "stream",
         "text": "49\n"
        }
       ]
      }
     },
     "a357f4951dba482491278ae468f3bbe5": {
      "model_module": "@jupyter-widgets/base",
      "model_module_version": "1.2.0",
      "model_name": "LayoutModel",
      "state": {}
     },
     "b052e282ccad46cfa88b51cd1c9b80f7": {
      "model_module": "@jupyter-widgets/controls",
      "model_module_version": "1.5.0",
      "model_name": "VBoxModel",
      "state": {
       "_dom_classes": [
        "widget-interact"
       ],
       "children": [
        "IPY_MODEL_c018798a2bff4457a89abeca8816d46a",
        "IPY_MODEL_a1aaeb6578424143b54e61e31975960e"
       ],
       "layout": "IPY_MODEL_b6069ea2203444deb32850291a360df8"
      }
     },
     "b41a7202ba764b4baff41e99ab23cb32": {
      "model_module": "@jupyter-widgets/controls",
      "model_module_version": "1.5.0",
      "model_name": "IntSliderModel",
      "state": {
       "description": "x",
       "layout": "IPY_MODEL_95e41a60232a49a2a3156fb005898294",
       "max": 15,
       "min": -5,
       "style": "IPY_MODEL_1f7dea6eac0845ecb470ddaf08e4a2c3",
       "value": 5
      }
     },
     "b6069ea2203444deb32850291a360df8": {
      "model_module": "@jupyter-widgets/base",
      "model_module_version": "1.2.0",
      "model_name": "LayoutModel",
      "state": {}
     },
     "b66601d25d214d1990e94c8900c96fd0": {
      "model_module": "@jupyter-widgets/controls",
      "model_module_version": "1.5.0",
      "model_name": "VBoxModel",
      "state": {
       "_dom_classes": [
        "widget-interact"
       ],
       "children": [
        "IPY_MODEL_b41a7202ba764b4baff41e99ab23cb32",
        "IPY_MODEL_146c2cf28cd6416cb9dadb29a184ab80"
       ],
       "layout": "IPY_MODEL_de0249eb772d4770aa0adb861aabd678"
      }
     },
     "c018798a2bff4457a89abeca8816d46a": {
      "model_module": "@jupyter-widgets/controls",
      "model_module_version": "1.5.0",
      "model_name": "IntSliderModel",
      "state": {
       "description": "x",
       "layout": "IPY_MODEL_9f4215a6f7e949fcb78bbd44c0abe0c3",
       "max": 15,
       "min": -5,
       "style": "IPY_MODEL_2f410f1508604593907612935f365ac3",
       "value": 7
      }
     },
     "c1755f9f68094018869923f38995a809": {
      "model_module": "@jupyter-widgets/controls",
      "model_module_version": "1.5.0",
      "model_name": "SliderStyleModel",
      "state": {
       "description_width": ""
      }
     },
     "d6acd015f9484fd7915b5a0b44a00a2a": {
      "model_module": "@jupyter-widgets/output",
      "model_module_version": "1.0.0",
      "model_name": "OutputModel",
      "state": {
       "layout": "IPY_MODEL_47bf1e93d26f47e1bb36e48b594e5eda",
       "outputs": [
        {
         "name": "stdout",
         "output_type": "stream",
         "text": "1\n"
        }
       ]
      }
     },
     "de0249eb772d4770aa0adb861aabd678": {
      "model_module": "@jupyter-widgets/base",
      "model_module_version": "1.2.0",
      "model_name": "LayoutModel",
      "state": {}
     },
     "e00f488b20f245698876e8a87bd861a1": {
      "model_module": "@jupyter-widgets/controls",
      "model_module_version": "1.5.0",
      "model_name": "VBoxModel",
      "state": {
       "_dom_classes": [
        "widget-interact"
       ],
       "children": [
        "IPY_MODEL_72eb2be0a4ae40cebf1e977838f6e8f7",
        "IPY_MODEL_0dd391094e33479aa61bb89d8eea055c"
       ],
       "layout": "IPY_MODEL_e40b4cd86cae43ad8a9ad89f7105c886"
      }
     },
     "e40b4cd86cae43ad8a9ad89f7105c886": {
      "model_module": "@jupyter-widgets/base",
      "model_module_version": "1.2.0",
      "model_name": "LayoutModel",
      "state": {}
     },
     "f8cc57166ae14ddbbfec5ce8b2e8a08c": {
      "model_module": "@jupyter-widgets/output",
      "model_module_version": "1.0.0",
      "model_name": "OutputModel",
      "state": {
       "layout": "IPY_MODEL_fcac0f51dd1943c6b5fcf15e8aa7a61c",
       "outputs": [
        {
         "name": "stdout",
         "output_type": "stream",
         "text": "81\n"
        }
       ]
      }
     },
     "fcac0f51dd1943c6b5fcf15e8aa7a61c": {
      "model_module": "@jupyter-widgets/base",
      "model_module_version": "1.2.0",
      "model_name": "LayoutModel",
      "state": {}
     }
    },
    "version_major": 2,
    "version_minor": 0
   }
  }
 },
 "nbformat": 4,
 "nbformat_minor": 5
}
